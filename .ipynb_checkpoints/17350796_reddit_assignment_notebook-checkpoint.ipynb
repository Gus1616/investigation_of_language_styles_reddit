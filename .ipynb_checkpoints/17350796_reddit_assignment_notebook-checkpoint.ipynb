{
 "cells": [
  {
   "cell_type": "markdown",
   "id": "226f5ae7",
   "metadata": {},
   "source": [
    "<center><h2>COMP40020: Human Language Technologies\n",
    "Assignment 1 </h2></center>\n"
   ]
  },
  {
   "cell_type": "markdown",
   "id": "6b3866bd",
   "metadata": {},
   "source": [
    "#### imports"
   ]
  },
  {
   "cell_type": "code",
   "execution_count": 45,
   "id": "1d68193c",
   "metadata": {},
   "outputs": [],
   "source": [
    "import nltk\n",
    "import matplotlib\n",
    "import re\n",
    "\n",
    "from nltk.tokenize import word_tokenize\n",
    "from nltk.tag import pos_tag\n",
    "from nltk.chunk import ne_chunk\n",
    "import matplotlib.pyplot as plt\n",
    "import seaborn as sns\n",
    "from IPython import display\n",
    "import math\n",
    "from pprint import pprint\n",
    "import pandas as pd\n",
    "import numpy as np\n",
    "import praw\n",
    "from praw.models import MoreComments\n",
    "from nltk.sentiment.vader import SentimentIntensityAnalyzer as SIA\n",
    "from nltk.corpus import stopwords\n",
    "from nltk.tokenize import word_tokenize, RegexpTokenizer\n",
    "\n"
   ]
  },
  {
   "cell_type": "markdown",
   "id": "4d4d5420",
   "metadata": {},
   "source": [
    "### references:\n",
    "-  https://www.learndatasci.com/tutorials/sentiment-analysis-reddit-headlines-pythons-nltk/"
   ]
  },
  {
   "cell_type": "code",
   "execution_count": 2,
   "id": "00e68ed3",
   "metadata": {},
   "outputs": [],
   "source": [
    "# pip install praw"
   ]
  },
  {
   "cell_type": "code",
   "execution_count": 3,
   "id": "2fdbdc40",
   "metadata": {},
   "outputs": [],
   "source": [
    "ci = \"HLTassignment1999\" #your client id\n",
    "cs = \"p2LFKOI2h6gyQ_Y3A9ilM-hprJGMiA\" #your client secret\n",
    "ua = \"busterorwha\" #your user agent name\n",
    "sub = \"ireland\" #the name of the subreddit (not including the 'r/')"
   ]
  },
  {
   "cell_type": "code",
   "execution_count": 4,
   "id": "adc429b0",
   "metadata": {},
   "outputs": [],
   "source": [
    "# reddit = praw.Reddit(\n",
    "#     client_id=ci,\n",
    "#     client_secret=cs,\n",
    "#     user_agent=ua\n",
    "# )\n",
    "reddit = praw.Reddit(client_id='fQeiW15Vp7PWost_U0QkaA',\n",
    "                     client_secret='p2LFKOI2h6gyQ_Y3A9ilM-hprJGMiA',\n",
    "                     user_agent='busterorwha')\n",
    "# with open(sub+\".txt\", \"w\") as f:\n",
    "    \n",
    "#     #on the following line you can change top to any of the previously mentioned ways of sorting \n",
    "#     #and the limit to however many posts you would like to extract (here we extract just 10).\n",
    "#     for post in reddit.subreddit(sub).top(limit=10): \n",
    "        \n",
    "#         #this line collects the post titles\n",
    "#         f.write(post.title+\"\\n\")\n",
    "        \n",
    "#         #this line collects the post content\n",
    "#         f.write(post.selftext+\"\\n\")\n",
    "        \n",
    "#         #this section collects the comments\n",
    "#         for comment in post.comments:\n",
    "#             if isinstance(comment, MoreComments):\n",
    "#                 continue\n",
    "#             f.write(comment.body+\"\\n\")\n",
    "\n",
    "headlines = set()\n",
    "headlines_newZealand = set()\n"
   ]
  },
  {
   "cell_type": "code",
   "execution_count": 5,
   "id": "0d805681",
   "metadata": {},
   "outputs": [
    {
     "name": "stdout",
     "output_type": "stream",
     "text": [
      "965\n"
     ]
    }
   ],
   "source": [
    "for submission in reddit.subreddit('ireland').new(limit=966):\n",
    "    headlines.add(submission.title)\n",
    "    display.clear_output()\n",
    "    print(len(headlines))"
   ]
  },
  {
   "cell_type": "code",
   "execution_count": 6,
   "id": "d6641008",
   "metadata": {},
   "outputs": [
    {
     "name": "stdout",
     "output_type": "stream",
     "text": [
      "966\n"
     ]
    }
   ],
   "source": [
    "for submission in reddit.subreddit('newzealand').new(limit=966):\n",
    "    headlines_newZealand.add(submission.title)\n",
    "    display.clear_output()\n",
    "    print(len(headlines_newZealand))"
   ]
  },
  {
   "cell_type": "markdown",
   "id": "c38b9f62",
   "metadata": {},
   "source": [
    "### r/ireland"
   ]
  },
  {
   "cell_type": "code",
   "execution_count": 7,
   "id": "218a60da",
   "metadata": {},
   "outputs": [
    {
     "name": "stdout",
     "output_type": "stream",
     "text": [
      "[{'compound': 0.3182,\n",
      "  'headline': 'Petrol and diesel prices to increase by 2c per litre from today [National Oil '\n",
      "              'Reserves Agency (NORA) levy has been reinstated]',\n",
      "  'neg': 0.0,\n",
      "  'neu': 0.897,\n",
      "  'pos': 0.103},\n",
      " {'compound': 0.0, 'headline': 'Which of ye was it lads?', 'neg': 0.0, 'neu': 1.0, 'pos': 0.0},\n",
      " {'compound': 0.0,\n",
      "  'headline': 'Ireland Thinks/Sunday Indo Dáil Éireann poll, 3 March 2023: SF: 29% (-2), FG: 21% '\n",
      "              '(-1), FG 19% (+1), SD: 9% (+5), GP: 4% (n/c), PBP/S: 2% (-1), LAB: 3% (-1), AON: 3% '\n",
      "              '(-1)',\n",
      "  'neg': 0.0,\n",
      "  'neu': 1.0,\n",
      "  'pos': 0.0}]\n"
     ]
    }
   ],
   "source": [
    "sia = SIA()\n",
    "results = []\n",
    "\n",
    "for line in headlines:\n",
    "    pol_score = sia.polarity_scores(line)\n",
    "    pol_score['headline'] = line\n",
    "    results.append(pol_score)\n",
    "\n",
    "pprint(results[:3], width=100)"
   ]
  },
  {
   "cell_type": "markdown",
   "id": "6e31bc85",
   "metadata": {},
   "source": [
    "### r/newzealand"
   ]
  },
  {
   "cell_type": "code",
   "execution_count": 8,
   "id": "f720a8f1",
   "metadata": {},
   "outputs": [
    {
     "name": "stdout",
     "output_type": "stream",
     "text": [
      "[{'compound': 0.0, 'headline': 'Australian Passport times', 'neg': 0.0, 'neu': 1.0, 'pos': 0.0},\n",
      " {'compound': -0.1298,\n",
      "  'headline': \"Auckland Mayor Wayne Brown's diary almost empty day of the flood\",\n",
      "  'neg': 0.131,\n",
      "  'neu': 0.869,\n",
      "  'pos': 0.0},\n",
      " {'compound': 0.0,\n",
      "  'headline': 'Does anyone know what kind of spider this is?',\n",
      "  'neg': 0.0,\n",
      "  'neu': 1.0,\n",
      "  'pos': 0.0}]\n"
     ]
    }
   ],
   "source": [
    "sia = SIA()\n",
    "results_nz = []\n",
    "\n",
    "for line in headlines_newZealand:\n",
    "    pol_score = sia.polarity_scores(line)\n",
    "    pol_score['headline'] = line\n",
    "    results_nz.append(pol_score)\n",
    "\n",
    "pprint(results_nz[:3], width=100)"
   ]
  },
  {
   "cell_type": "markdown",
   "id": "a2ddeb6d",
   "metadata": {},
   "source": [
    "### dataframe r/ireland"
   ]
  },
  {
   "cell_type": "code",
   "execution_count": 9,
   "id": "6120112e",
   "metadata": {},
   "outputs": [
    {
     "data": {
      "text/html": [
       "<div>\n",
       "<style scoped>\n",
       "    .dataframe tbody tr th:only-of-type {\n",
       "        vertical-align: middle;\n",
       "    }\n",
       "\n",
       "    .dataframe tbody tr th {\n",
       "        vertical-align: top;\n",
       "    }\n",
       "\n",
       "    .dataframe thead th {\n",
       "        text-align: right;\n",
       "    }\n",
       "</style>\n",
       "<table border=\"1\" class=\"dataframe\">\n",
       "  <thead>\n",
       "    <tr style=\"text-align: right;\">\n",
       "      <th></th>\n",
       "      <th>neg</th>\n",
       "      <th>neu</th>\n",
       "      <th>pos</th>\n",
       "      <th>compound</th>\n",
       "      <th>headline</th>\n",
       "    </tr>\n",
       "  </thead>\n",
       "  <tbody>\n",
       "    <tr>\n",
       "      <th>0</th>\n",
       "      <td>0.0</td>\n",
       "      <td>0.897</td>\n",
       "      <td>0.103</td>\n",
       "      <td>0.3182</td>\n",
       "      <td>Petrol and diesel prices to increase by 2c per...</td>\n",
       "    </tr>\n",
       "    <tr>\n",
       "      <th>1</th>\n",
       "      <td>0.0</td>\n",
       "      <td>1.000</td>\n",
       "      <td>0.000</td>\n",
       "      <td>0.0000</td>\n",
       "      <td>Which of ye was it lads?</td>\n",
       "    </tr>\n",
       "    <tr>\n",
       "      <th>2</th>\n",
       "      <td>0.0</td>\n",
       "      <td>1.000</td>\n",
       "      <td>0.000</td>\n",
       "      <td>0.0000</td>\n",
       "      <td>Ireland Thinks/Sunday Indo Dáil Éireann poll, ...</td>\n",
       "    </tr>\n",
       "    <tr>\n",
       "      <th>3</th>\n",
       "      <td>0.0</td>\n",
       "      <td>1.000</td>\n",
       "      <td>0.000</td>\n",
       "      <td>0.0000</td>\n",
       "      <td>Any tips for a cycling on backroads?</td>\n",
       "    </tr>\n",
       "    <tr>\n",
       "      <th>4</th>\n",
       "      <td>0.0</td>\n",
       "      <td>1.000</td>\n",
       "      <td>0.000</td>\n",
       "      <td>0.0000</td>\n",
       "      <td>Muslim Sisters of Eire on Twitter [People from...</td>\n",
       "    </tr>\n",
       "  </tbody>\n",
       "</table>\n",
       "</div>"
      ],
      "text/plain": [
       "   neg    neu    pos  compound  \\\n",
       "0  0.0  0.897  0.103    0.3182   \n",
       "1  0.0  1.000  0.000    0.0000   \n",
       "2  0.0  1.000  0.000    0.0000   \n",
       "3  0.0  1.000  0.000    0.0000   \n",
       "4  0.0  1.000  0.000    0.0000   \n",
       "\n",
       "                                            headline  \n",
       "0  Petrol and diesel prices to increase by 2c per...  \n",
       "1                           Which of ye was it lads?  \n",
       "2  Ireland Thinks/Sunday Indo Dáil Éireann poll, ...  \n",
       "3               Any tips for a cycling on backroads?  \n",
       "4  Muslim Sisters of Eire on Twitter [People from...  "
      ]
     },
     "execution_count": 9,
     "metadata": {},
     "output_type": "execute_result"
    }
   ],
   "source": [
    "df = pd.DataFrame.from_records(results)\n",
    "df.head()"
   ]
  },
  {
   "cell_type": "markdown",
   "id": "88466a40",
   "metadata": {},
   "source": [
    "### defining positive and negative label"
   ]
  },
  {
   "cell_type": "code",
   "execution_count": 10,
   "id": "ef2757ed",
   "metadata": {},
   "outputs": [
    {
     "data": {
      "text/html": [
       "<div>\n",
       "<style scoped>\n",
       "    .dataframe tbody tr th:only-of-type {\n",
       "        vertical-align: middle;\n",
       "    }\n",
       "\n",
       "    .dataframe tbody tr th {\n",
       "        vertical-align: top;\n",
       "    }\n",
       "\n",
       "    .dataframe thead th {\n",
       "        text-align: right;\n",
       "    }\n",
       "</style>\n",
       "<table border=\"1\" class=\"dataframe\">\n",
       "  <thead>\n",
       "    <tr style=\"text-align: right;\">\n",
       "      <th></th>\n",
       "      <th>neg</th>\n",
       "      <th>neu</th>\n",
       "      <th>pos</th>\n",
       "      <th>compound</th>\n",
       "      <th>headline</th>\n",
       "      <th>label</th>\n",
       "    </tr>\n",
       "  </thead>\n",
       "  <tbody>\n",
       "    <tr>\n",
       "      <th>0</th>\n",
       "      <td>0.0</td>\n",
       "      <td>0.897</td>\n",
       "      <td>0.103</td>\n",
       "      <td>0.3182</td>\n",
       "      <td>Petrol and diesel prices to increase by 2c per...</td>\n",
       "      <td>1</td>\n",
       "    </tr>\n",
       "    <tr>\n",
       "      <th>1</th>\n",
       "      <td>0.0</td>\n",
       "      <td>1.000</td>\n",
       "      <td>0.000</td>\n",
       "      <td>0.0000</td>\n",
       "      <td>Which of ye was it lads?</td>\n",
       "      <td>0</td>\n",
       "    </tr>\n",
       "    <tr>\n",
       "      <th>2</th>\n",
       "      <td>0.0</td>\n",
       "      <td>1.000</td>\n",
       "      <td>0.000</td>\n",
       "      <td>0.0000</td>\n",
       "      <td>Ireland Thinks/Sunday Indo Dáil Éireann poll, ...</td>\n",
       "      <td>0</td>\n",
       "    </tr>\n",
       "    <tr>\n",
       "      <th>3</th>\n",
       "      <td>0.0</td>\n",
       "      <td>1.000</td>\n",
       "      <td>0.000</td>\n",
       "      <td>0.0000</td>\n",
       "      <td>Any tips for a cycling on backroads?</td>\n",
       "      <td>0</td>\n",
       "    </tr>\n",
       "    <tr>\n",
       "      <th>4</th>\n",
       "      <td>0.0</td>\n",
       "      <td>1.000</td>\n",
       "      <td>0.000</td>\n",
       "      <td>0.0000</td>\n",
       "      <td>Muslim Sisters of Eire on Twitter [People from...</td>\n",
       "      <td>0</td>\n",
       "    </tr>\n",
       "  </tbody>\n",
       "</table>\n",
       "</div>"
      ],
      "text/plain": [
       "   neg    neu    pos  compound  \\\n",
       "0  0.0  0.897  0.103    0.3182   \n",
       "1  0.0  1.000  0.000    0.0000   \n",
       "2  0.0  1.000  0.000    0.0000   \n",
       "3  0.0  1.000  0.000    0.0000   \n",
       "4  0.0  1.000  0.000    0.0000   \n",
       "\n",
       "                                            headline  label  \n",
       "0  Petrol and diesel prices to increase by 2c per...      1  \n",
       "1                           Which of ye was it lads?      0  \n",
       "2  Ireland Thinks/Sunday Indo Dáil Éireann poll, ...      0  \n",
       "3               Any tips for a cycling on backroads?      0  \n",
       "4  Muslim Sisters of Eire on Twitter [People from...      0  "
      ]
     },
     "execution_count": 10,
     "metadata": {},
     "output_type": "execute_result"
    }
   ],
   "source": [
    "df['label'] = 0\n",
    "df.loc[df['compound'] > 0.2, 'label'] = 1\n",
    "df.loc[df['compound'] < -0.2, 'label'] = -1\n",
    "df.head()"
   ]
  },
  {
   "cell_type": "markdown",
   "id": "5ca8827c",
   "metadata": {},
   "source": [
    "### dataframe r/newzealand"
   ]
  },
  {
   "cell_type": "code",
   "execution_count": 11,
   "id": "c55fcbee",
   "metadata": {},
   "outputs": [
    {
     "data": {
      "text/html": [
       "<div>\n",
       "<style scoped>\n",
       "    .dataframe tbody tr th:only-of-type {\n",
       "        vertical-align: middle;\n",
       "    }\n",
       "\n",
       "    .dataframe tbody tr th {\n",
       "        vertical-align: top;\n",
       "    }\n",
       "\n",
       "    .dataframe thead th {\n",
       "        text-align: right;\n",
       "    }\n",
       "</style>\n",
       "<table border=\"1\" class=\"dataframe\">\n",
       "  <thead>\n",
       "    <tr style=\"text-align: right;\">\n",
       "      <th></th>\n",
       "      <th>neg</th>\n",
       "      <th>neu</th>\n",
       "      <th>pos</th>\n",
       "      <th>compound</th>\n",
       "      <th>headline</th>\n",
       "    </tr>\n",
       "  </thead>\n",
       "  <tbody>\n",
       "    <tr>\n",
       "      <th>0</th>\n",
       "      <td>0.000</td>\n",
       "      <td>1.000</td>\n",
       "      <td>0.000</td>\n",
       "      <td>0.0000</td>\n",
       "      <td>Australian Passport times</td>\n",
       "    </tr>\n",
       "    <tr>\n",
       "      <th>1</th>\n",
       "      <td>0.131</td>\n",
       "      <td>0.869</td>\n",
       "      <td>0.000</td>\n",
       "      <td>-0.1298</td>\n",
       "      <td>Auckland Mayor Wayne Brown's diary almost empt...</td>\n",
       "    </tr>\n",
       "    <tr>\n",
       "      <th>2</th>\n",
       "      <td>0.000</td>\n",
       "      <td>1.000</td>\n",
       "      <td>0.000</td>\n",
       "      <td>0.0000</td>\n",
       "      <td>Does anyone know what kind of spider this is?</td>\n",
       "    </tr>\n",
       "    <tr>\n",
       "      <th>3</th>\n",
       "      <td>0.000</td>\n",
       "      <td>0.841</td>\n",
       "      <td>0.159</td>\n",
       "      <td>0.1779</td>\n",
       "      <td>Growing momentum for ‘David and Goliath’ offic...</td>\n",
       "    </tr>\n",
       "    <tr>\n",
       "      <th>4</th>\n",
       "      <td>0.000</td>\n",
       "      <td>0.536</td>\n",
       "      <td>0.464</td>\n",
       "      <td>0.3818</td>\n",
       "      <td>Real wage growth 1990-2022</td>\n",
       "    </tr>\n",
       "  </tbody>\n",
       "</table>\n",
       "</div>"
      ],
      "text/plain": [
       "     neg    neu    pos  compound  \\\n",
       "0  0.000  1.000  0.000    0.0000   \n",
       "1  0.131  0.869  0.000   -0.1298   \n",
       "2  0.000  1.000  0.000    0.0000   \n",
       "3  0.000  0.841  0.159    0.1779   \n",
       "4  0.000  0.536  0.464    0.3818   \n",
       "\n",
       "                                            headline  \n",
       "0                          Australian Passport times  \n",
       "1  Auckland Mayor Wayne Brown's diary almost empt...  \n",
       "2      Does anyone know what kind of spider this is?  \n",
       "3  Growing momentum for ‘David and Goliath’ offic...  \n",
       "4                         Real wage growth 1990-2022  "
      ]
     },
     "execution_count": 11,
     "metadata": {},
     "output_type": "execute_result"
    }
   ],
   "source": [
    "df_nz = pd.DataFrame.from_records(results_nz)\n",
    "df_nz.head()"
   ]
  },
  {
   "cell_type": "markdown",
   "id": "acf8e904",
   "metadata": {},
   "source": [
    "### defining positive and negative label"
   ]
  },
  {
   "cell_type": "code",
   "execution_count": 12,
   "id": "86a2bd8c",
   "metadata": {},
   "outputs": [
    {
     "data": {
      "text/html": [
       "<div>\n",
       "<style scoped>\n",
       "    .dataframe tbody tr th:only-of-type {\n",
       "        vertical-align: middle;\n",
       "    }\n",
       "\n",
       "    .dataframe tbody tr th {\n",
       "        vertical-align: top;\n",
       "    }\n",
       "\n",
       "    .dataframe thead th {\n",
       "        text-align: right;\n",
       "    }\n",
       "</style>\n",
       "<table border=\"1\" class=\"dataframe\">\n",
       "  <thead>\n",
       "    <tr style=\"text-align: right;\">\n",
       "      <th></th>\n",
       "      <th>neg</th>\n",
       "      <th>neu</th>\n",
       "      <th>pos</th>\n",
       "      <th>compound</th>\n",
       "      <th>headline</th>\n",
       "      <th>label</th>\n",
       "    </tr>\n",
       "  </thead>\n",
       "  <tbody>\n",
       "    <tr>\n",
       "      <th>0</th>\n",
       "      <td>0.000</td>\n",
       "      <td>1.000</td>\n",
       "      <td>0.000</td>\n",
       "      <td>0.0000</td>\n",
       "      <td>Australian Passport times</td>\n",
       "      <td>0</td>\n",
       "    </tr>\n",
       "    <tr>\n",
       "      <th>1</th>\n",
       "      <td>0.131</td>\n",
       "      <td>0.869</td>\n",
       "      <td>0.000</td>\n",
       "      <td>-0.1298</td>\n",
       "      <td>Auckland Mayor Wayne Brown's diary almost empt...</td>\n",
       "      <td>0</td>\n",
       "    </tr>\n",
       "    <tr>\n",
       "      <th>2</th>\n",
       "      <td>0.000</td>\n",
       "      <td>1.000</td>\n",
       "      <td>0.000</td>\n",
       "      <td>0.0000</td>\n",
       "      <td>Does anyone know what kind of spider this is?</td>\n",
       "      <td>0</td>\n",
       "    </tr>\n",
       "    <tr>\n",
       "      <th>3</th>\n",
       "      <td>0.000</td>\n",
       "      <td>0.841</td>\n",
       "      <td>0.159</td>\n",
       "      <td>0.1779</td>\n",
       "      <td>Growing momentum for ‘David and Goliath’ offic...</td>\n",
       "      <td>0</td>\n",
       "    </tr>\n",
       "    <tr>\n",
       "      <th>4</th>\n",
       "      <td>0.000</td>\n",
       "      <td>0.536</td>\n",
       "      <td>0.464</td>\n",
       "      <td>0.3818</td>\n",
       "      <td>Real wage growth 1990-2022</td>\n",
       "      <td>1</td>\n",
       "    </tr>\n",
       "  </tbody>\n",
       "</table>\n",
       "</div>"
      ],
      "text/plain": [
       "     neg    neu    pos  compound  \\\n",
       "0  0.000  1.000  0.000    0.0000   \n",
       "1  0.131  0.869  0.000   -0.1298   \n",
       "2  0.000  1.000  0.000    0.0000   \n",
       "3  0.000  0.841  0.159    0.1779   \n",
       "4  0.000  0.536  0.464    0.3818   \n",
       "\n",
       "                                            headline  label  \n",
       "0                          Australian Passport times      0  \n",
       "1  Auckland Mayor Wayne Brown's diary almost empt...      0  \n",
       "2      Does anyone know what kind of spider this is?      0  \n",
       "3  Growing momentum for ‘David and Goliath’ offic...      0  \n",
       "4                         Real wage growth 1990-2022      1  "
      ]
     },
     "execution_count": 12,
     "metadata": {},
     "output_type": "execute_result"
    }
   ],
   "source": [
    "df_nz['label'] = 0\n",
    "df_nz.loc[df_nz['compound'] > 0.2, 'label'] = 1\n",
    "df_nz.loc[df_nz['compound'] < -0.2, 'label'] = -1\n",
    "df_nz.head()"
   ]
  },
  {
   "cell_type": "markdown",
   "id": "88814561",
   "metadata": {},
   "source": [
    "### example of positive and neg headlines r/ireland"
   ]
  },
  {
   "cell_type": "code",
   "execution_count": 13,
   "id": "4293f0d6",
   "metadata": {},
   "outputs": [
    {
     "name": "stdout",
     "output_type": "stream",
     "text": [
      "Positive headlines:\n",
      "\n",
      "['Petrol and diesel prices to increase by 2c per litre from today [National Oil Reserves Agency (NORA) levy has been reinstated]',\n",
      " 'Tesla owners in Ireland: is it a good buy?',\n",
      " 'NCT free test review raises ‘serious questions’, Road Safety Authority told',\n",
      " \"I'm looking to buy a 'live edge' treated wood block to mount a sink on, have found one on Etsy (see below) but would like an Irish one!\",\n",
      " 'Do guys in Ireland enjoy lip filler?']\n",
      "\n",
      "Negative headlines:\n",
      "\n",
      "['Around 2,000 badgers illegally killed every year in NI',\n",
      " 'Domestic economy entered technical recession at end of last year',\n",
      " 'Anyone here travelled to Brazil recently and if so did u need to show negative PCR in Brazilian airport?',\n",
      " 'UPATE--I got Tired of being fat & Ugly. Today I managed a Full Murph for the first time.',\n",
      " 'Ireland vulnerable to Russian espionage with many spy agents ‘likely’ to be across the country already']\n"
     ]
    }
   ],
   "source": [
    "print(\"Positive headlines:\\n\")\n",
    "pprint(list(df[df['label'] == 1].headline)[:5], width=200)\n",
    "\n",
    "print(\"\\nNegative headlines:\\n\")\n",
    "pprint(list(df[df['label'] == -1].headline)[:5], width=200)"
   ]
  },
  {
   "cell_type": "markdown",
   "id": "af762e75",
   "metadata": {},
   "source": [
    "### example of positive and neg headlines r/newzealand"
   ]
  },
  {
   "cell_type": "code",
   "execution_count": 14,
   "id": "eb43691c",
   "metadata": {},
   "outputs": [
    {
     "name": "stdout",
     "output_type": "stream",
     "text": [
      "Positive headlines:\n",
      "\n",
      "['Real wage growth 1990-2022',\n",
      " 'Participation award of the week goes to!',\n",
      " 'The amount of New Zealanders who support Russia is concerning',\n",
      " 'New Zealand needs to set up racing tracks for the public free of charge',\n",
      " 'HdPA Security Guards']\n",
      "\n",
      "Negative headlines:\n",
      "\n",
      "[\"NZ's Nightmare Scenario In Ukraine War\",\n",
      " \"Defence Minister Andrew Little says military 'under pressure' as Pacific becomes contested\",\n",
      " 'does the certificate of particulars show if your drivers license is suspended?',\n",
      " 'Rachel Smalley: Campbell’s comments don’t impact the lives of patients. Pharmac’s failings do.',\n",
      " 'Does workplace ostracism & cliquey-ness exist in corporate/white collar New Zealand, and have you experienced it as a shy/socially anxious person?']\n"
     ]
    }
   ],
   "source": [
    "print(\"Positive headlines:\\n\")\n",
    "pprint(list(df_nz[df_nz['label'] == 1].headline)[:5], width=200)\n",
    "\n",
    "print(\"\\nNegative headlines:\\n\")\n",
    "pprint(list(df_nz[df_nz['label'] == -1].headline)[:5], width=200)"
   ]
  },
  {
   "cell_type": "markdown",
   "id": "42d78b01",
   "metadata": {},
   "source": [
    "### looking at value counts r/ireland"
   ]
  },
  {
   "cell_type": "code",
   "execution_count": 15,
   "id": "958285c0",
   "metadata": {},
   "outputs": [
    {
     "name": "stdout",
     "output_type": "stream",
     "text": [
      " 0    524\n",
      " 1    235\n",
      "-1    206\n",
      "Name: label, dtype: int64\n",
      " 0    54.300518\n",
      " 1    24.352332\n",
      "-1    21.347150\n",
      "Name: label, dtype: float64\n"
     ]
    }
   ],
   "source": [
    "print(df.label.value_counts())\n",
    "print(df.label.value_counts(normalize=True) * 100)\n"
   ]
  },
  {
   "cell_type": "markdown",
   "id": "fe63ec7c",
   "metadata": {},
   "source": [
    "### looking at value counts r/newzealand"
   ]
  },
  {
   "cell_type": "code",
   "execution_count": 16,
   "id": "ab44f323",
   "metadata": {},
   "outputs": [
    {
     "name": "stdout",
     "output_type": "stream",
     "text": [
      " 0    565\n",
      "-1    214\n",
      " 1    187\n",
      "Name: label, dtype: int64\n",
      " 0    58.488613\n",
      "-1    22.153209\n",
      " 1    19.358178\n",
      "Name: label, dtype: float64\n"
     ]
    }
   ],
   "source": [
    "print(df_nz.label.value_counts())\n",
    "print(df_nz.label.value_counts(normalize=True) * 100)"
   ]
  },
  {
   "cell_type": "markdown",
   "id": "62a058ad",
   "metadata": {},
   "source": [
    "### graph comparing results "
   ]
  },
  {
   "cell_type": "markdown",
   "id": "a55c83e6",
   "metadata": {},
   "source": [
    "code adapted from: https://stackoverflow.com/questions/10369681/how-to-plot-bar-graphs-with-same-x-coordinates-side-by-side-dodged "
   ]
  },
  {
   "cell_type": "code",
   "execution_count": 32,
   "id": "ae3b77fe",
   "metadata": {},
   "outputs": [
    {
     "data": {
      "image/png": "[encoded data removed]",
      "text/plain": [
       "<Figure size 720x360 with 1 Axes>"
      ]
     },
     "metadata": {
      "needs_background": "light"
     },
     "output_type": "display_data"
    }
   ],
   "source": [
    "\n",
    "N = 3\n",
    "\n",
    "blue_bar = (counts_ireland)\n",
    "orange_bar = (counts_nz)\n",
    "\n",
    "# Position of bars on x-axis\n",
    "ind = np.arange(N)\n",
    "# Figure size\n",
    "plt.figure(figsize=(10,5))\n",
    "\n",
    "# Width of a bar \n",
    "width = 0.3       \n",
    "\n",
    "# Plotting\n",
    "plt.bar(ind, blue_bar , width, label='Ireland')\n",
    "plt.bar(ind + width, orange_bar, width, label='newzealand')\n",
    "\n",
    "plt.ylabel('Percentage')\n",
    "plt.title('Comparing r/ireland and r/newzealand')\n",
    "\n",
    "plt.xticks(ind + width / 2, ('Neutral', 'Negative', 'Positve'))\n",
    "\n",
    "# Finding the best position for legends and putting it\n",
    "plt.legend(loc='best')\n",
    "plt.show()"
   ]
  },
  {
   "cell_type": "markdown",
   "id": "2bd3d29f",
   "metadata": {},
   "source": [
    "### Newzealand"
   ]
  },
  {
   "cell_type": "code",
   "execution_count": 34,
   "id": "18c64da1",
   "metadata": {},
   "outputs": [],
   "source": [
    "# fig, ax = plt.subplots(figsize=(8, 8))\n",
    "\n",
    "# counts_nz = df_nz.label.value_counts(normalize=True) * 100\n",
    "\n",
    "# sns.barplot(x=counts_nz.index, y=counts_nz, ax=ax)\n",
    "\n",
    "# ax.set_xticklabels(['Negative', 'Neutral', 'Positive'])\n",
    "# ax.set_ylabel(\"Percentage\")\n",
    "\n",
    "# plt.show()"
   ]
  },
  {
   "cell_type": "code",
   "execution_count": null,
   "id": "0a34c67b",
   "metadata": {},
   "outputs": [],
   "source": [
    "# fig, ax = plt.subplots(figsize=(8, 8))\n",
    "\n",
    "# counts_ireland = df.label.value_counts(normalize=True) * 100\n",
    "\n",
    "# sns.barplot(x=counts_ireland.index, y=counts_ireland, ax=ax)\n",
    "\n",
    "# ax.set_xticklabels(['Negative', 'Neutral', 'Positive'])\n",
    "# ax.set_ylabel(\"Percentage\")\n",
    "\n",
    "# plt.show()"
   ]
  },
  {
   "cell_type": "markdown",
   "id": "c096aa19",
   "metadata": {},
   "source": [
    "### Looking at headlines in more detail:"
   ]
  },
  {
   "cell_type": "code",
   "execution_count": 47,
   "id": "ec7c635c",
   "metadata": {},
   "outputs": [],
   "source": [
    "# tokenizer that only looks at works, removes punctuation\n",
    "tokenizer = RegexpTokenizer(r'\\w+')\n",
    "stop_words = stopwords.words('english')\n",
    "\n",
    "def process_text(headlines):\n",
    "    tokens = []\n",
    "    for line in headlines:\n",
    "        toks = tokenizer.tokenize(line)\n",
    "#         removing stop words\n",
    "        toks = [t.lower() for t in toks if t.lower() not in stop_words]\n",
    "        tokens.extend(toks)\n",
    "    \n",
    "    return tokens"
   ]
  },
  {
   "cell_type": "markdown",
   "id": "17973f24",
   "metadata": {},
   "source": [
    "### r/newzealand \"positive\" headlines"
   ]
  },
  {
   "cell_type": "code",
   "execution_count": 48,
   "id": "6539d356",
   "metadata": {},
   "outputs": [
    {
     "data": {
      "text/plain": [
       "[('best', 19),\n",
       " ('nz', 19),\n",
       " ('new', 18),\n",
       " ('help', 15),\n",
       " ('anyone', 12),\n",
       " ('good', 11),\n",
       " ('zealand', 10),\n",
       " ('looking', 8),\n",
       " ('people', 7),\n",
       " ('increase', 7),\n",
       " ('week', 6),\n",
       " ('auckland', 6),\n",
       " ('free', 5),\n",
       " ('kiwi', 5),\n",
       " ('cyclone', 5),\n",
       " ('like', 5),\n",
       " ('please', 5),\n",
       " ('pay', 5),\n",
       " ('get', 5),\n",
       " ('top', 5)]"
      ]
     },
     "execution_count": 48,
     "metadata": {},
     "output_type": "execute_result"
    }
   ],
   "source": [
    "pos_lines_nz = list(df_nz[df_nz.label == 1].headline)\n",
    "\n",
    "pos_tokens_nz = process_text(pos_lines_nz)\n",
    "pos_freq_nz = nltk.FreqDist(pos_tokens_nz)\n",
    "\n",
    "pos_freq_nz.most_common(20)"
   ]
  },
  {
   "cell_type": "code",
   "execution_count": 53,
   "id": "64767104",
   "metadata": {},
   "outputs": [
    {
     "data": {
      "image/png": "[encoded data removed]",
      "text/plain": [
       "<Figure size 432x288 with 1 Axes>"
      ]
     },
     "metadata": {
      "needs_background": "light"
     },
     "output_type": "display_data"
    },
    {
     "data": {
      "text/plain": [
       "<AxesSubplot:xlabel='Samples', ylabel='Counts'>"
      ]
     },
     "execution_count": 53,
     "metadata": {},
     "output_type": "execute_result"
    }
   ],
   "source": [
    "pos_freq_nz.plot(10)"
   ]
  },
  {
   "cell_type": "markdown",
   "id": "b921903f",
   "metadata": {},
   "source": [
    "### r/ireland - \"positive\" headlines "
   ]
  },
  {
   "cell_type": "code",
   "execution_count": 51,
   "id": "c86ce4fb",
   "metadata": {},
   "outputs": [
    {
     "data": {
      "text/plain": [
       "[('ireland', 32),\n",
       " ('irish', 21),\n",
       " ('like', 20),\n",
       " ('dublin', 16),\n",
       " ('anyone', 15),\n",
       " ('would', 14),\n",
       " ('best', 14),\n",
       " ('good', 12),\n",
       " ('free', 11),\n",
       " ('one', 10),\n",
       " ('looking', 9),\n",
       " ('house', 9),\n",
       " ('help', 9),\n",
       " ('2', 9),\n",
       " ('see', 8),\n",
       " ('new', 8),\n",
       " ('place', 8),\n",
       " ('people', 8),\n",
       " ('lads', 8),\n",
       " ('time', 7)]"
      ]
     },
     "execution_count": 51,
     "metadata": {},
     "output_type": "execute_result"
    }
   ],
   "source": [
    "pos_lines_ireland = list(df[df.label == 1].headline)\n",
    "\n",
    "pos_tokens_ireland = process_text(pos_lines_ireland)\n",
    "pos_freq_ireland = nltk.FreqDist(pos_tokens_ireland)\n",
    "\n",
    "pos_freq_ireland.most_common(20)"
   ]
  },
  {
   "cell_type": "code",
   "execution_count": 52,
   "id": "1f65a8db",
   "metadata": {},
   "outputs": [
    {
     "data": {
      "image/png": "[encoded data removed]",
      "text/plain": [
       "<Figure size 432x288 with 1 Axes>"
      ]
     },
     "metadata": {
      "needs_background": "light"
     },
     "output_type": "display_data"
    },
    {
     "data": {
      "text/plain": [
       "<AxesSubplot:xlabel='Samples', ylabel='Counts'>"
      ]
     },
     "execution_count": 52,
     "metadata": {},
     "output_type": "execute_result"
    }
   ],
   "source": [
    "pos_freq_ireland.plot(10)"
   ]
  },
  {
   "cell_type": "markdown",
   "id": "a961c757",
   "metadata": {},
   "source": [
    "### r/newzealand \"negative\" headlines"
   ]
  },
  {
   "cell_type": "code",
   "execution_count": 56,
   "id": "06da508c",
   "metadata": {},
   "outputs": [
    {
     "data": {
      "text/plain": [
       "[('nz', 21),\n",
       " ('new', 15),\n",
       " ('auckland', 15),\n",
       " ('cyclone', 14),\n",
       " ('police', 10),\n",
       " ('wrong', 9),\n",
       " ('murder', 8),\n",
       " ('gabrielle', 8),\n",
       " ('change', 8),\n",
       " ('zealand', 7),\n",
       " ('climate', 7),\n",
       " ('slash', 7),\n",
       " ('says', 6),\n",
       " ('campbell', 6),\n",
       " ('complaint', 6),\n",
       " ('forestry', 6),\n",
       " ('minister', 5),\n",
       " ('pharmac', 5),\n",
       " ('health', 5),\n",
       " ('work', 5)]"
      ]
     },
     "execution_count": 56,
     "metadata": {},
     "output_type": "execute_result"
    }
   ],
   "source": [
    "neg_lines_nz = list(df_nz[df_nz.label == -1].headline)\n",
    "\n",
    "neg_tokens_nz = process_text(neg_lines_nz)\n",
    "neg_freq_nz = nltk.FreqDist(neg_tokens_nz)\n",
    "\n",
    "neg_freq_nz.most_common(20)"
   ]
  },
  {
   "cell_type": "code",
   "execution_count": 60,
   "id": "cc28749b",
   "metadata": {},
   "outputs": [
    {
     "data": {
      "image/png": "[encoded data removed]",
      "text/plain": [
       "<Figure size 432x288 with 1 Axes>"
      ]
     },
     "metadata": {
      "needs_background": "light"
     },
     "output_type": "display_data"
    },
    {
     "data": {
      "text/plain": [
       "<AxesSubplot:xlabel='Samples', ylabel='Counts'>"
      ]
     },
     "execution_count": 60,
     "metadata": {},
     "output_type": "execute_result"
    }
   ],
   "source": [
    "neg_freq_nz.plot(10)"
   ]
  },
  {
   "cell_type": "markdown",
   "id": "73ff2fd4",
   "metadata": {},
   "source": [
    "### r/ireland - \"negative\" headlines "
   ]
  },
  {
   "cell_type": "code",
   "execution_count": 57,
   "id": "77a7277e",
   "metadata": {},
   "outputs": [
    {
     "data": {
      "text/plain": [
       "[('irish', 18),\n",
       " ('ireland', 16),\n",
       " ('ban', 12),\n",
       " ('people', 11),\n",
       " ('dublin', 10),\n",
       " ('year', 9),\n",
       " ('eviction', 9),\n",
       " ('000', 7),\n",
       " ('car', 7),\n",
       " ('man', 7),\n",
       " ('go', 7),\n",
       " ('2', 6),\n",
       " ('end', 6),\n",
       " ('first', 6),\n",
       " ('murder', 6),\n",
       " ('would', 6),\n",
       " ('court', 6),\n",
       " ('u', 5),\n",
       " ('airport', 5),\n",
       " ('got', 5)]"
      ]
     },
     "execution_count": 57,
     "metadata": {},
     "output_type": "execute_result"
    }
   ],
   "source": [
    "neg_lines_ireland = list(df[df.label == -1].headline)\n",
    "\n",
    "neg_tokens_ireland = process_text(neg_lines_ireland)\n",
    "neg_freq_ireland = nltk.FreqDist(neg_tokens_ireland)\n",
    "\n",
    "neg_freq_ireland.most_common(20)"
   ]
  },
  {
   "cell_type": "code",
   "execution_count": 58,
   "id": "3f4ca398",
   "metadata": {},
   "outputs": [
    {
     "data": {
      "image/png": "[encoded data removed]",
      "text/plain": [
       "<Figure size 432x288 with 1 Axes>"
      ]
     },
     "metadata": {
      "needs_background": "light"
     },
     "output_type": "display_data"
    },
    {
     "data": {
      "text/plain": [
       "<AxesSubplot:xlabel='Samples', ylabel='Counts'>"
      ]
     },
     "execution_count": 58,
     "metadata": {},
     "output_type": "execute_result"
    }
   ],
   "source": [
    "neg_freq_ireland.plot(10)"
   ]
  },
  {
   "cell_type": "code",
   "execution_count": null,
   "id": "026b3bc5",
   "metadata": {},
   "outputs": [],
   "source": []
  }
 ],
 "metadata": {
  "kernelspec": {
   "display_name": "Python 3 (ipykernel)",
   "language": "python",
   "name": "python3"
  },
  "language_info": {
   "codemirror_mode": {
    "name": "ipython",
    "version": 3
   },
   "file_extension": ".py",
   "mimetype": "text/x-python",
   "name": "python",
   "nbconvert_exporter": "python",
   "pygments_lexer": "ipython3",
   "version": "3.8.12"
  }
 },
 "nbformat": 4,
 "nbformat_minor": 5
}
