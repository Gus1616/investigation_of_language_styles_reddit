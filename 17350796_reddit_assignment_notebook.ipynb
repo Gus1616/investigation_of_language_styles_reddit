{
 "cells": [
  {
   "cell_type": "markdown",
   "id": "226f5ae7",
   "metadata": {},
   "source": [
    "<center><h2>COMP40020: Human Language Technologies\n",
    "Assignment 1 </h2></center>\n"
   ]
  },
  {
   "cell_type": "markdown",
   "id": "6b3866bd",
   "metadata": {},
   "source": [
    "#### imports"
   ]
  },
  {
   "cell_type": "code",
   "execution_count": 1,
   "id": "1d68193c",
   "metadata": {},
   "outputs": [],
   "source": [
    "import nltk\n",
    "import re\n",
    "from nltk.tokenize import word_tokenize\n",
    "from nltk.tag import pos_tag\n",
    "from nltk.chunk import ne_chunk\n",
    "import matplotlib.pyplot as plt\n",
    "import seaborn as sns\n",
    "import emoji\n",
    "from IPython import display\n",
    "import math\n",
    "from pprint import pprint\n",
    "import pandas as pd\n",
    "import numpy as np\n",
    "import praw\n",
    "from praw.models import MoreComments\n",
    "from nltk.sentiment.vader import SentimentIntensityAnalyzer as SIA\n",
    "from nltk.corpus import stopwords\n",
    "from nltk.tokenize import word_tokenize, RegexpTokenizer\n",
    "\n"
   ]
  },
  {
   "cell_type": "markdown",
   "id": "b555e31a",
   "metadata": {},
   "source": [
    "### references:\n",
    "- Code was adapted from the following resources as well as code from the labs:\n",
    "-  https://www.learndatasci.com/tutorials/sentiment-analysis-reddit-headlines-pythons-nltk/\n",
    "- https://medium.com/@kiddojazz/reddit-sentiment-analysis-f8a1a790124a\n",
    "- https://towardsdatascience.com/automate-sentiment-analysis-process-for-reddit-post-textblob-and-vader-8a79c269522f"
   ]
  },
  {
   "cell_type": "code",
   "execution_count": 7,
   "id": "2fdbdc40",
   "metadata": {},
   "outputs": [],
   "source": [
    "ci = \"fQeiW15Vp7PWost_U0QkaA\" #your client id\n",
    "cs = \"p2LFKOI2h6gyQ_Y3A9ilM-hprJGMiA\" #your client secret\n",
    "ua = \"busterorwha\" #your user agent name\n"
   ]
  },
  {
   "cell_type": "code",
   "execution_count": 6,
   "id": "adc429b0",
   "metadata": {},
   "outputs": [],
   "source": [
    "\n",
    "reddit = praw.Reddit(client_id=ci,\n",
    "                     client_secret=cs,\n",
    "                     user_agent=ua)\n",
    "\n",
    "\n"
   ]
  },
  {
   "cell_type": "markdown",
   "id": "4947a425",
   "metadata": {},
   "source": [
    "### sets to hold headlines"
   ]
  },
  {
   "cell_type": "code",
   "execution_count": 4,
   "id": "d6828b89",
   "metadata": {},
   "outputs": [],
   "source": [
    "headlines = set()\n",
    "headlines_newZealand = set()"
   ]
  },
  {
   "cell_type": "markdown",
   "id": "ae19b8b0",
   "metadata": {},
   "source": [
    "### Looking at 900 new post titles "
   ]
  },
  {
   "cell_type": "code",
   "execution_count": 5,
   "id": "0d805681",
   "metadata": {},
   "outputs": [
    {
     "name": "stdout",
     "output_type": "stream",
     "text": [
      "965\n"
     ]
    }
   ],
   "source": [
    "# r/ireland\n",
    "for submission in reddit.subreddit('ireland').new(limit=900):\n",
    "    headlines.add(submission.title)\n",
    "    display.clear_output()\n",
    "    print(len(headlines))"
   ]
  },
  {
   "cell_type": "code",
   "execution_count": 6,
   "id": "09180777",
   "metadata": {},
   "outputs": [
    {
     "name": "stdout",
     "output_type": "stream",
     "text": [
      "966\n"
     ]
    }
   ],
   "source": [
    "# r/newzealand\n",
    "for submission in reddit.subreddit('newzealand').new(limit=900):\n",
    "    headlines_newZealand.add(submission.title)\n",
    "    display.clear_output()\n",
    "    print(len(headlines_newZealand))"
   ]
  },
  {
   "cell_type": "markdown",
   "id": "ab1f216c",
   "metadata": {},
   "source": [
    "### r/ireland"
   ]
  },
  {
   "cell_type": "code",
   "execution_count": 14,
   "id": "07fefc1a",
   "metadata": {},
   "outputs": [],
   "source": [
    "# function for sentiment analysis \n",
    "def sia_function(headlines):\n",
    "\n",
    "    sia = SIA()\n",
    "    results = []\n",
    "\n",
    "    for line in headlines:\n",
    "        pol_score = sia.polarity_scores(line)\n",
    "        pol_score['headline'] = line\n",
    "        results.append(pol_score)\n",
    "        \n",
    "    return results\n",
    "\n",
    "    "
   ]
  },
  {
   "cell_type": "code",
   "execution_count": 7,
   "id": "218a60da",
   "metadata": {},
   "outputs": [
    {
     "name": "stdout",
     "output_type": "stream",
     "text": [
      "[{'compound': 0.3182,\n",
      "  'headline': 'Petrol and diesel prices to increase by 2c per litre from today [National Oil '\n",
      "              'Reserves Agency (NORA) levy has been reinstated]',\n",
      "  'neg': 0.0,\n",
      "  'neu': 0.897,\n",
      "  'pos': 0.103},\n",
      " {'compound': 0.0, 'headline': 'Which of ye was it lads?', 'neg': 0.0, 'neu': 1.0, 'pos': 0.0},\n",
      " {'compound': 0.0,\n",
      "  'headline': 'Ireland Thinks/Sunday Indo Dáil Éireann poll, 3 March 2023: SF: 29% (-2), FG: 21% '\n",
      "              '(-1), FG 19% (+1), SD: 9% (+5), GP: 4% (n/c), PBP/S: 2% (-1), LAB: 3% (-1), AON: 3% '\n",
      "              '(-1)',\n",
      "  'neg': 0.0,\n",
      "  'neu': 1.0,\n",
      "  'pos': 0.0}]\n"
     ]
    }
   ],
   "source": [
    "# sentiment intensity analyser \n",
    "\n",
    "sia = SIA()\n",
    "results = []\n",
    "\n",
    "for line in headlines:\n",
    "    pol_score = sia.polarity_scores(line)\n",
    "    pol_score['headline'] = line\n",
    "    results.append(pol_score)\n",
    "\n",
    "pprint(results[:3], width=100)"
   ]
  },
  {
   "cell_type": "markdown",
   "id": "ac6e3bc3",
   "metadata": {},
   "source": [
    "### r/newzealand"
   ]
  },
  {
   "cell_type": "code",
   "execution_count": 8,
   "id": "29cf3551",
   "metadata": {},
   "outputs": [
    {
     "name": "stdout",
     "output_type": "stream",
     "text": [
      "[{'compound': 0.0, 'headline': 'Australian Passport times', 'neg': 0.0, 'neu': 1.0, 'pos': 0.0},\n",
      " {'compound': -0.1298,\n",
      "  'headline': \"Auckland Mayor Wayne Brown's diary almost empty day of the flood\",\n",
      "  'neg': 0.131,\n",
      "  'neu': 0.869,\n",
      "  'pos': 0.0},\n",
      " {'compound': 0.0,\n",
      "  'headline': 'Does anyone know what kind of spider this is?',\n",
      "  'neg': 0.0,\n",
      "  'neu': 1.0,\n",
      "  'pos': 0.0}]\n"
     ]
    }
   ],
   "source": [
    "results_nz = sia_function(headlines_newZealand)\n",
    "pprint(results_nz[:3], width=100)"
   ]
  },
  {
   "cell_type": "markdown",
   "id": "ce98fdfb",
   "metadata": {},
   "source": [
    "### dataframe r/ireland"
   ]
  },
  {
   "cell_type": "code",
   "execution_count": 9,
   "id": "49b9fde3",
   "metadata": {},
   "outputs": [
    {
     "data": {
      "text/html": [
       "<div>\n",
       "<style scoped>\n",
       "    .dataframe tbody tr th:only-of-type {\n",
       "        vertical-align: middle;\n",
       "    }\n",
       "\n",
       "    .dataframe tbody tr th {\n",
       "        vertical-align: top;\n",
       "    }\n",
       "\n",
       "    .dataframe thead th {\n",
       "        text-align: right;\n",
       "    }\n",
       "</style>\n",
       "<table border=\"1\" class=\"dataframe\">\n",
       "  <thead>\n",
       "    <tr style=\"text-align: right;\">\n",
       "      <th></th>\n",
       "      <th>neg</th>\n",
       "      <th>neu</th>\n",
       "      <th>pos</th>\n",
       "      <th>compound</th>\n",
       "      <th>headline</th>\n",
       "    </tr>\n",
       "  </thead>\n",
       "  <tbody>\n",
       "    <tr>\n",
       "      <th>0</th>\n",
       "      <td>0.0</td>\n",
       "      <td>0.897</td>\n",
       "      <td>0.103</td>\n",
       "      <td>0.3182</td>\n",
       "      <td>Petrol and diesel prices to increase by 2c per...</td>\n",
       "    </tr>\n",
       "    <tr>\n",
       "      <th>1</th>\n",
       "      <td>0.0</td>\n",
       "      <td>1.000</td>\n",
       "      <td>0.000</td>\n",
       "      <td>0.0000</td>\n",
       "      <td>Which of ye was it lads?</td>\n",
       "    </tr>\n",
       "    <tr>\n",
       "      <th>2</th>\n",
       "      <td>0.0</td>\n",
       "      <td>1.000</td>\n",
       "      <td>0.000</td>\n",
       "      <td>0.0000</td>\n",
       "      <td>Ireland Thinks/Sunday Indo Dáil Éireann poll, ...</td>\n",
       "    </tr>\n",
       "    <tr>\n",
       "      <th>3</th>\n",
       "      <td>0.0</td>\n",
       "      <td>1.000</td>\n",
       "      <td>0.000</td>\n",
       "      <td>0.0000</td>\n",
       "      <td>Any tips for a cycling on backroads?</td>\n",
       "    </tr>\n",
       "    <tr>\n",
       "      <th>4</th>\n",
       "      <td>0.0</td>\n",
       "      <td>1.000</td>\n",
       "      <td>0.000</td>\n",
       "      <td>0.0000</td>\n",
       "      <td>Muslim Sisters of Eire on Twitter [People from...</td>\n",
       "    </tr>\n",
       "  </tbody>\n",
       "</table>\n",
       "</div>"
      ],
      "text/plain": [
       "   neg    neu    pos  compound  \\\n",
       "0  0.0  0.897  0.103    0.3182   \n",
       "1  0.0  1.000  0.000    0.0000   \n",
       "2  0.0  1.000  0.000    0.0000   \n",
       "3  0.0  1.000  0.000    0.0000   \n",
       "4  0.0  1.000  0.000    0.0000   \n",
       "\n",
       "                                            headline  \n",
       "0  Petrol and diesel prices to increase by 2c per...  \n",
       "1                           Which of ye was it lads?  \n",
       "2  Ireland Thinks/Sunday Indo Dáil Éireann poll, ...  \n",
       "3               Any tips for a cycling on backroads?  \n",
       "4  Muslim Sisters of Eire on Twitter [People from...  "
      ]
     },
     "execution_count": 9,
     "metadata": {},
     "output_type": "execute_result"
    }
   ],
   "source": [
    "df = pd.DataFrame.from_records(results)\n",
    "df.head()"
   ]
  },
  {
   "cell_type": "markdown",
   "id": "35ac390b",
   "metadata": {},
   "source": [
    "### defining positive and negative label"
   ]
  },
  {
   "cell_type": "code",
   "execution_count": 72,
   "id": "f893302b",
   "metadata": {},
   "outputs": [],
   "source": [
    "def define_positive(df):\n",
    "    df['label'] = 0\n",
    "    df.loc[df['compound'] > 0.2, 'label'] = 1\n",
    "    df.loc[df['compound'] < -0.2, 'label'] = -1\n",
    "    return df\n",
    "    "
   ]
  },
  {
   "cell_type": "code",
   "execution_count": 10,
   "id": "e2660e66",
   "metadata": {},
   "outputs": [
    {
     "data": {
      "text/html": [
       "<div>\n",
       "<style scoped>\n",
       "    .dataframe tbody tr th:only-of-type {\n",
       "        vertical-align: middle;\n",
       "    }\n",
       "\n",
       "    .dataframe tbody tr th {\n",
       "        vertical-align: top;\n",
       "    }\n",
       "\n",
       "    .dataframe thead th {\n",
       "        text-align: right;\n",
       "    }\n",
       "</style>\n",
       "<table border=\"1\" class=\"dataframe\">\n",
       "  <thead>\n",
       "    <tr style=\"text-align: right;\">\n",
       "      <th></th>\n",
       "      <th>neg</th>\n",
       "      <th>neu</th>\n",
       "      <th>pos</th>\n",
       "      <th>compound</th>\n",
       "      <th>headline</th>\n",
       "      <th>label</th>\n",
       "    </tr>\n",
       "  </thead>\n",
       "  <tbody>\n",
       "    <tr>\n",
       "      <th>0</th>\n",
       "      <td>0.0</td>\n",
       "      <td>0.897</td>\n",
       "      <td>0.103</td>\n",
       "      <td>0.3182</td>\n",
       "      <td>Petrol and diesel prices to increase by 2c per...</td>\n",
       "      <td>1</td>\n",
       "    </tr>\n",
       "    <tr>\n",
       "      <th>1</th>\n",
       "      <td>0.0</td>\n",
       "      <td>1.000</td>\n",
       "      <td>0.000</td>\n",
       "      <td>0.0000</td>\n",
       "      <td>Which of ye was it lads?</td>\n",
       "      <td>0</td>\n",
       "    </tr>\n",
       "    <tr>\n",
       "      <th>2</th>\n",
       "      <td>0.0</td>\n",
       "      <td>1.000</td>\n",
       "      <td>0.000</td>\n",
       "      <td>0.0000</td>\n",
       "      <td>Ireland Thinks/Sunday Indo Dáil Éireann poll, ...</td>\n",
       "      <td>0</td>\n",
       "    </tr>\n",
       "    <tr>\n",
       "      <th>3</th>\n",
       "      <td>0.0</td>\n",
       "      <td>1.000</td>\n",
       "      <td>0.000</td>\n",
       "      <td>0.0000</td>\n",
       "      <td>Any tips for a cycling on backroads?</td>\n",
       "      <td>0</td>\n",
       "    </tr>\n",
       "    <tr>\n",
       "      <th>4</th>\n",
       "      <td>0.0</td>\n",
       "      <td>1.000</td>\n",
       "      <td>0.000</td>\n",
       "      <td>0.0000</td>\n",
       "      <td>Muslim Sisters of Eire on Twitter [People from...</td>\n",
       "      <td>0</td>\n",
       "    </tr>\n",
       "  </tbody>\n",
       "</table>\n",
       "</div>"
      ],
      "text/plain": [
       "   neg    neu    pos  compound  \\\n",
       "0  0.0  0.897  0.103    0.3182   \n",
       "1  0.0  1.000  0.000    0.0000   \n",
       "2  0.0  1.000  0.000    0.0000   \n",
       "3  0.0  1.000  0.000    0.0000   \n",
       "4  0.0  1.000  0.000    0.0000   \n",
       "\n",
       "                                            headline  label  \n",
       "0  Petrol and diesel prices to increase by 2c per...      1  \n",
       "1                           Which of ye was it lads?      0  \n",
       "2  Ireland Thinks/Sunday Indo Dáil Éireann poll, ...      0  \n",
       "3               Any tips for a cycling on backroads?      0  \n",
       "4  Muslim Sisters of Eire on Twitter [People from...      0  "
      ]
     },
     "execution_count": 10,
     "metadata": {},
     "output_type": "execute_result"
    }
   ],
   "source": [
    "df['label'] = 0\n",
    "df.loc[df['compound'] > 0.2, 'label'] = 1\n",
    "df.loc[df['compound'] < -0.2, 'label'] = -1\n",
    "df.head()"
   ]
  },
  {
   "cell_type": "markdown",
   "id": "ca45cc10",
   "metadata": {},
   "source": [
    "### dataframe r/newzealand"
   ]
  },
  {
   "cell_type": "code",
   "execution_count": 11,
   "id": "8f997a0d",
   "metadata": {},
   "outputs": [
    {
     "data": {
      "text/html": [
       "<div>\n",
       "<style scoped>\n",
       "    .dataframe tbody tr th:only-of-type {\n",
       "        vertical-align: middle;\n",
       "    }\n",
       "\n",
       "    .dataframe tbody tr th {\n",
       "        vertical-align: top;\n",
       "    }\n",
       "\n",
       "    .dataframe thead th {\n",
       "        text-align: right;\n",
       "    }\n",
       "</style>\n",
       "<table border=\"1\" class=\"dataframe\">\n",
       "  <thead>\n",
       "    <tr style=\"text-align: right;\">\n",
       "      <th></th>\n",
       "      <th>neg</th>\n",
       "      <th>neu</th>\n",
       "      <th>pos</th>\n",
       "      <th>compound</th>\n",
       "      <th>headline</th>\n",
       "    </tr>\n",
       "  </thead>\n",
       "  <tbody>\n",
       "    <tr>\n",
       "      <th>0</th>\n",
       "      <td>0.000</td>\n",
       "      <td>1.000</td>\n",
       "      <td>0.000</td>\n",
       "      <td>0.0000</td>\n",
       "      <td>Australian Passport times</td>\n",
       "    </tr>\n",
       "    <tr>\n",
       "      <th>1</th>\n",
       "      <td>0.131</td>\n",
       "      <td>0.869</td>\n",
       "      <td>0.000</td>\n",
       "      <td>-0.1298</td>\n",
       "      <td>Auckland Mayor Wayne Brown's diary almost empt...</td>\n",
       "    </tr>\n",
       "    <tr>\n",
       "      <th>2</th>\n",
       "      <td>0.000</td>\n",
       "      <td>1.000</td>\n",
       "      <td>0.000</td>\n",
       "      <td>0.0000</td>\n",
       "      <td>Does anyone know what kind of spider this is?</td>\n",
       "    </tr>\n",
       "    <tr>\n",
       "      <th>3</th>\n",
       "      <td>0.000</td>\n",
       "      <td>0.841</td>\n",
       "      <td>0.159</td>\n",
       "      <td>0.1779</td>\n",
       "      <td>Growing momentum for ‘David and Goliath’ offic...</td>\n",
       "    </tr>\n",
       "    <tr>\n",
       "      <th>4</th>\n",
       "      <td>0.000</td>\n",
       "      <td>0.536</td>\n",
       "      <td>0.464</td>\n",
       "      <td>0.3818</td>\n",
       "      <td>Real wage growth 1990-2022</td>\n",
       "    </tr>\n",
       "  </tbody>\n",
       "</table>\n",
       "</div>"
      ],
      "text/plain": [
       "     neg    neu    pos  compound  \\\n",
       "0  0.000  1.000  0.000    0.0000   \n",
       "1  0.131  0.869  0.000   -0.1298   \n",
       "2  0.000  1.000  0.000    0.0000   \n",
       "3  0.000  0.841  0.159    0.1779   \n",
       "4  0.000  0.536  0.464    0.3818   \n",
       "\n",
       "                                            headline  \n",
       "0                          Australian Passport times  \n",
       "1  Auckland Mayor Wayne Brown's diary almost empt...  \n",
       "2      Does anyone know what kind of spider this is?  \n",
       "3  Growing momentum for ‘David and Goliath’ offic...  \n",
       "4                         Real wage growth 1990-2022  "
      ]
     },
     "execution_count": 11,
     "metadata": {},
     "output_type": "execute_result"
    }
   ],
   "source": [
    "df_nz = pd.DataFrame.from_records(results_nz)\n",
    "df_nz.head()"
   ]
  },
  {
   "cell_type": "markdown",
   "id": "8d98f9c7",
   "metadata": {},
   "source": [
    "### defining positive and negative label"
   ]
  },
  {
   "cell_type": "code",
   "execution_count": 12,
   "id": "5519d9fc",
   "metadata": {},
   "outputs": [
    {
     "data": {
      "text/html": [
       "<div>\n",
       "<style scoped>\n",
       "    .dataframe tbody tr th:only-of-type {\n",
       "        vertical-align: middle;\n",
       "    }\n",
       "\n",
       "    .dataframe tbody tr th {\n",
       "        vertical-align: top;\n",
       "    }\n",
       "\n",
       "    .dataframe thead th {\n",
       "        text-align: right;\n",
       "    }\n",
       "</style>\n",
       "<table border=\"1\" class=\"dataframe\">\n",
       "  <thead>\n",
       "    <tr style=\"text-align: right;\">\n",
       "      <th></th>\n",
       "      <th>neg</th>\n",
       "      <th>neu</th>\n",
       "      <th>pos</th>\n",
       "      <th>compound</th>\n",
       "      <th>headline</th>\n",
       "      <th>label</th>\n",
       "    </tr>\n",
       "  </thead>\n",
       "  <tbody>\n",
       "    <tr>\n",
       "      <th>0</th>\n",
       "      <td>0.000</td>\n",
       "      <td>1.000</td>\n",
       "      <td>0.000</td>\n",
       "      <td>0.0000</td>\n",
       "      <td>Australian Passport times</td>\n",
       "      <td>0</td>\n",
       "    </tr>\n",
       "    <tr>\n",
       "      <th>1</th>\n",
       "      <td>0.131</td>\n",
       "      <td>0.869</td>\n",
       "      <td>0.000</td>\n",
       "      <td>-0.1298</td>\n",
       "      <td>Auckland Mayor Wayne Brown's diary almost empt...</td>\n",
       "      <td>0</td>\n",
       "    </tr>\n",
       "    <tr>\n",
       "      <th>2</th>\n",
       "      <td>0.000</td>\n",
       "      <td>1.000</td>\n",
       "      <td>0.000</td>\n",
       "      <td>0.0000</td>\n",
       "      <td>Does anyone know what kind of spider this is?</td>\n",
       "      <td>0</td>\n",
       "    </tr>\n",
       "    <tr>\n",
       "      <th>3</th>\n",
       "      <td>0.000</td>\n",
       "      <td>0.841</td>\n",
       "      <td>0.159</td>\n",
       "      <td>0.1779</td>\n",
       "      <td>Growing momentum for ‘David and Goliath’ offic...</td>\n",
       "      <td>0</td>\n",
       "    </tr>\n",
       "    <tr>\n",
       "      <th>4</th>\n",
       "      <td>0.000</td>\n",
       "      <td>0.536</td>\n",
       "      <td>0.464</td>\n",
       "      <td>0.3818</td>\n",
       "      <td>Real wage growth 1990-2022</td>\n",
       "      <td>1</td>\n",
       "    </tr>\n",
       "  </tbody>\n",
       "</table>\n",
       "</div>"
      ],
      "text/plain": [
       "     neg    neu    pos  compound  \\\n",
       "0  0.000  1.000  0.000    0.0000   \n",
       "1  0.131  0.869  0.000   -0.1298   \n",
       "2  0.000  1.000  0.000    0.0000   \n",
       "3  0.000  0.841  0.159    0.1779   \n",
       "4  0.000  0.536  0.464    0.3818   \n",
       "\n",
       "                                            headline  label  \n",
       "0                          Australian Passport times      0  \n",
       "1  Auckland Mayor Wayne Brown's diary almost empt...      0  \n",
       "2      Does anyone know what kind of spider this is?      0  \n",
       "3  Growing momentum for ‘David and Goliath’ offic...      0  \n",
       "4                         Real wage growth 1990-2022      1  "
      ]
     },
     "execution_count": 12,
     "metadata": {},
     "output_type": "execute_result"
    }
   ],
   "source": [
    "df_nz['label'] = 0\n",
    "df_nz.loc[df_nz['compound'] > 0.2, 'label'] = 1\n",
    "df_nz.loc[df_nz['compound'] < -0.2, 'label'] = -1\n",
    "df_nz.head()"
   ]
  },
  {
   "cell_type": "markdown",
   "id": "187cdf95",
   "metadata": {},
   "source": [
    "### example of positive and neg headlines r/ireland"
   ]
  },
  {
   "cell_type": "code",
   "execution_count": 13,
   "id": "7d31f0b2",
   "metadata": {},
   "outputs": [
    {
     "name": "stdout",
     "output_type": "stream",
     "text": [
      "Positive headlines:\n",
      "\n",
      "['Petrol and diesel prices to increase by 2c per litre from today [National Oil Reserves Agency (NORA) levy has been reinstated]',\n",
      " 'Tesla owners in Ireland: is it a good buy?',\n",
      " 'NCT free test review raises ‘serious questions’, Road Safety Authority told',\n",
      " \"I'm looking to buy a 'live edge' treated wood block to mount a sink on, have found one on Etsy (see below) but would like an Irish one!\",\n",
      " 'Do guys in Ireland enjoy lip filler?']\n",
      "\n",
      "Negative headlines:\n",
      "\n",
      "['Around 2,000 badgers illegally killed every year in NI',\n",
      " 'Domestic economy entered technical recession at end of last year',\n",
      " 'Anyone here travelled to Brazil recently and if so did u need to show negative PCR in Brazilian airport?',\n",
      " 'UPATE--I got Tired of being fat & Ugly. Today I managed a Full Murph for the first time.',\n",
      " 'Ireland vulnerable to Russian espionage with many spy agents ‘likely’ to be across the country already']\n"
     ]
    }
   ],
   "source": [
    "print(\"Positive headlines:\\n\")\n",
    "pprint(list(df[df['label'] == 1].headline)[:5], width=200)\n",
    "\n",
    "print(\"\\nNegative headlines:\\n\")\n",
    "pprint(list(df[df['label'] == -1].headline)[:5], width=200)"
   ]
  },
  {
   "cell_type": "markdown",
   "id": "754b5349",
   "metadata": {},
   "source": [
    "### example of positive and neg headlines r/newzealand"
   ]
  },
  {
   "cell_type": "code",
   "execution_count": 14,
   "id": "bd228362",
   "metadata": {},
   "outputs": [
    {
     "name": "stdout",
     "output_type": "stream",
     "text": [
      "Positive headlines:\n",
      "\n",
      "['Real wage growth 1990-2022',\n",
      " 'Participation award of the week goes to!',\n",
      " 'The amount of New Zealanders who support Russia is concerning',\n",
      " 'New Zealand needs to set up racing tracks for the public free of charge',\n",
      " 'HdPA Security Guards']\n",
      "\n",
      "Negative headlines:\n",
      "\n",
      "[\"NZ's Nightmare Scenario In Ukraine War\",\n",
      " \"Defence Minister Andrew Little says military 'under pressure' as Pacific becomes contested\",\n",
      " 'does the certificate of particulars show if your drivers license is suspended?',\n",
      " 'Rachel Smalley: Campbell’s comments don’t impact the lives of patients. Pharmac’s failings do.',\n",
      " 'Does workplace ostracism & cliquey-ness exist in corporate/white collar New Zealand, and have you experienced it as a shy/socially anxious person?']\n"
     ]
    }
   ],
   "source": [
    "print(\"Positive headlines:\\n\")\n",
    "pprint(list(df_nz[df_nz['label'] == 1].headline)[:5], width=200)\n",
    "\n",
    "print(\"\\nNegative headlines:\\n\")\n",
    "pprint(list(df_nz[df_nz['label'] == -1].headline)[:5], width=200)"
   ]
  },
  {
   "cell_type": "markdown",
   "id": "c95ca0b9",
   "metadata": {},
   "source": [
    "### looking at value counts r/ireland"
   ]
  },
  {
   "cell_type": "code",
   "execution_count": 15,
   "id": "888a8018",
   "metadata": {},
   "outputs": [
    {
     "name": "stdout",
     "output_type": "stream",
     "text": [
      " 0    524\n",
      " 1    235\n",
      "-1    206\n",
      "Name: label, dtype: int64\n",
      " 0    54.300518\n",
      " 1    24.352332\n",
      "-1    21.347150\n",
      "Name: label, dtype: float64\n"
     ]
    }
   ],
   "source": [
    "print(df.label.value_counts())\n",
    "print(df.label.value_counts(normalize=True) * 100)\n"
   ]
  },
  {
   "cell_type": "markdown",
   "id": "68d47574",
   "metadata": {},
   "source": [
    "### looking at value counts r/newzealand"
   ]
  },
  {
   "cell_type": "code",
   "execution_count": 16,
   "id": "df4176f4",
   "metadata": {},
   "outputs": [
    {
     "name": "stdout",
     "output_type": "stream",
     "text": [
      " 0    565\n",
      "-1    214\n",
      " 1    187\n",
      "Name: label, dtype: int64\n",
      " 0    58.488613\n",
      "-1    22.153209\n",
      " 1    19.358178\n",
      "Name: label, dtype: float64\n"
     ]
    }
   ],
   "source": [
    "print(df_nz.label.value_counts())\n",
    "print(df_nz.label.value_counts(normalize=True) * 100)"
   ]
  },
  {
   "cell_type": "markdown",
   "id": "7c5b157a",
   "metadata": {},
   "source": [
    "### graph comparing results "
   ]
  },
  {
   "cell_type": "markdown",
   "id": "35b73f43",
   "metadata": {},
   "source": [
    "code adapted from: https://stackoverflow.com/questions/10369681/how-to-plot-bar-graphs-with-same-x-coordinates-side-by-side-dodged "
   ]
  },
  {
   "cell_type": "code",
   "execution_count": 32,
   "id": "b5ae66d5",
   "metadata": {},
   "outputs": [
    {
     "data": {
      "image/png": "[encoded data removed]",
      "text/plain": [
       "<Figure size 720x360 with 1 Axes>"
      ]
     },
     "metadata": {
      "needs_background": "light"
     },
     "output_type": "display_data"
    }
   ],
   "source": [
    "\n",
    "N = 3\n",
    "\n",
    "blue_bar = (counts_ireland)\n",
    "orange_bar = (counts_nz)\n",
    "\n",
    "# Position of bars on x-axis\n",
    "ind = np.arange(N)\n",
    "# Figure size\n",
    "plt.figure(figsize=(10,5))\n",
    "\n",
    "# Width of a bar \n",
    "width = 0.3       \n",
    "\n",
    "# Plotting\n",
    "plt.bar(ind, blue_bar , width, label='Ireland')\n",
    "plt.bar(ind + width, orange_bar, width, label='newzealand')\n",
    "\n",
    "plt.ylabel('Percentage')\n",
    "plt.title('Comparing r/ireland and r/newzealand')\n",
    "\n",
    "plt.xticks(ind + width / 2, ('Neutral', 'Negative', 'Positve'))\n",
    "\n",
    "# Finding the best position for legends and putting it\n",
    "plt.legend(loc='best')\n",
    "plt.show()"
   ]
  },
  {
   "cell_type": "markdown",
   "id": "4e94b34f",
   "metadata": {},
   "source": [
    "### Newzealand"
   ]
  },
  {
   "cell_type": "code",
   "execution_count": 34,
   "id": "55c5b7bd",
   "metadata": {},
   "outputs": [],
   "source": [
    "# fig, ax = plt.subplots(figsize=(8, 8))\n",
    "\n",
    "# counts_nz = df_nz.label.value_counts(normalize=True) * 100\n",
    "\n",
    "# sns.barplot(x=counts_nz.index, y=counts_nz, ax=ax)\n",
    "\n",
    "# ax.set_xticklabels(['Negative', 'Neutral', 'Positive'])\n",
    "# ax.set_ylabel(\"Percentage\")\n",
    "\n",
    "# plt.show()"
   ]
  },
  {
   "cell_type": "code",
   "execution_count": null,
   "id": "62aadfe0",
   "metadata": {},
   "outputs": [],
   "source": [
    "# fig, ax = plt.subplots(figsize=(8, 8))\n",
    "\n",
    "# counts_ireland = df.label.value_counts(normalize=True) * 100\n",
    "\n",
    "# sns.barplot(x=counts_ireland.index, y=counts_ireland, ax=ax)\n",
    "\n",
    "# ax.set_xticklabels(['Negative', 'Neutral', 'Positive'])\n",
    "# ax.set_ylabel(\"Percentage\")\n",
    "\n",
    "# plt.show()"
   ]
  },
  {
   "cell_type": "markdown",
   "id": "3808e395",
   "metadata": {},
   "source": [
    "### Looking at headlines in more detail:"
   ]
  },
  {
   "cell_type": "code",
   "execution_count": 46,
   "id": "f2f9b4ec",
   "metadata": {},
   "outputs": [],
   "source": [
    "# tokenizer that only looks at works, removes punctuation\n",
    "tokenizer = RegexpTokenizer(r'\\w+')\n",
    "stop_words = stopwords.words('english')\n",
    "\n",
    "def process_text(headlines):\n",
    "    tokens = []\n",
    "    for line in headlines:\n",
    "        toks = tokenizer.tokenize(line)\n",
    "#         removing stop words\n",
    "        toks = [t.lower() for t in toks if t.lower() not in stop_words]\n",
    "        tokens.extend(toks)\n",
    "    \n",
    "    return tokens"
   ]
  },
  {
   "cell_type": "markdown",
   "id": "a4b82c21",
   "metadata": {},
   "source": [
    "### r/newzealand \"positive\" headlines"
   ]
  },
  {
   "cell_type": "code",
   "execution_count": 48,
   "id": "37505077",
   "metadata": {},
   "outputs": [
    {
     "data": {
      "text/plain": [
       "[('best', 19),\n",
       " ('nz', 19),\n",
       " ('new', 18),\n",
       " ('help', 15),\n",
       " ('anyone', 12),\n",
       " ('good', 11),\n",
       " ('zealand', 10),\n",
       " ('looking', 8),\n",
       " ('people', 7),\n",
       " ('increase', 7),\n",
       " ('week', 6),\n",
       " ('auckland', 6),\n",
       " ('free', 5),\n",
       " ('kiwi', 5),\n",
       " ('cyclone', 5),\n",
       " ('like', 5),\n",
       " ('please', 5),\n",
       " ('pay', 5),\n",
       " ('get', 5),\n",
       " ('top', 5)]"
      ]
     },
     "execution_count": 48,
     "metadata": {},
     "output_type": "execute_result"
    }
   ],
   "source": [
    "pos_lines_nz = list(df_nz[df_nz.label == 1].headline)\n",
    "\n",
    "pos_tokens_nz = process_text(pos_lines_nz)\n",
    "pos_freq_nz = nltk.FreqDist(pos_tokens_nz)\n",
    "\n",
    "pos_freq_nz.most_common(20)"
   ]
  },
  {
   "cell_type": "code",
   "execution_count": 53,
   "id": "1a402bb9",
   "metadata": {},
   "outputs": [
    {
     "data": {
      "image/png": "[encoded data removed]",
      "text/plain": [
       "<Figure size 432x288 with 1 Axes>"
      ]
     },
     "metadata": {
      "needs_background": "light"
     },
     "output_type": "display_data"
    },
    {
     "data": {
      "text/plain": [
       "<AxesSubplot:xlabel='Samples', ylabel='Counts'>"
      ]
     },
     "execution_count": 53,
     "metadata": {},
     "output_type": "execute_result"
    }
   ],
   "source": [
    "pos_freq_nz.plot(10)"
   ]
  },
  {
   "cell_type": "markdown",
   "id": "becdab59",
   "metadata": {},
   "source": [
    "### r/ireland - \"positive\" headlines "
   ]
  },
  {
   "cell_type": "code",
   "execution_count": 51,
   "id": "00f1f4ed",
   "metadata": {},
   "outputs": [
    {
     "data": {
      "text/plain": [
       "[('ireland', 32),\n",
       " ('irish', 21),\n",
       " ('like', 20),\n",
       " ('dublin', 16),\n",
       " ('anyone', 15),\n",
       " ('would', 14),\n",
       " ('best', 14),\n",
       " ('good', 12),\n",
       " ('free', 11),\n",
       " ('one', 10),\n",
       " ('looking', 9),\n",
       " ('house', 9),\n",
       " ('help', 9),\n",
       " ('2', 9),\n",
       " ('see', 8),\n",
       " ('new', 8),\n",
       " ('place', 8),\n",
       " ('people', 8),\n",
       " ('lads', 8),\n",
       " ('time', 7)]"
      ]
     },
     "execution_count": 51,
     "metadata": {},
     "output_type": "execute_result"
    }
   ],
   "source": [
    "pos_lines_ireland = list(df[df.label == 1].headline)\n",
    "\n",
    "pos_tokens_ireland = process_text(pos_lines_ireland)\n",
    "pos_freq_ireland = nltk.FreqDist(pos_tokens_ireland)\n",
    "\n",
    "pos_freq_ireland.most_common(20)"
   ]
  },
  {
   "cell_type": "code",
   "execution_count": 52,
   "id": "8f074063",
   "metadata": {},
   "outputs": [
    {
     "data": {
      "image/png": "[encoded data removed]",
      "text/plain": [
       "<Figure size 432x288 with 1 Axes>"
      ]
     },
     "metadata": {
      "needs_background": "light"
     },
     "output_type": "display_data"
    },
    {
     "data": {
      "text/plain": [
       "<AxesSubplot:xlabel='Samples', ylabel='Counts'>"
      ]
     },
     "execution_count": 52,
     "metadata": {},
     "output_type": "execute_result"
    }
   ],
   "source": [
    "pos_freq_ireland.plot(10)"
   ]
  },
  {
   "cell_type": "markdown",
   "id": "016b81bc",
   "metadata": {},
   "source": [
    "### r/newzealand \"negative\" headlines"
   ]
  },
  {
   "cell_type": "code",
   "execution_count": 56,
   "id": "171f428b",
   "metadata": {},
   "outputs": [
    {
     "data": {
      "text/plain": [
       "[('nz', 21),\n",
       " ('new', 15),\n",
       " ('auckland', 15),\n",
       " ('cyclone', 14),\n",
       " ('police', 10),\n",
       " ('wrong', 9),\n",
       " ('murder', 8),\n",
       " ('gabrielle', 8),\n",
       " ('change', 8),\n",
       " ('zealand', 7),\n",
       " ('climate', 7),\n",
       " ('slash', 7),\n",
       " ('says', 6),\n",
       " ('campbell', 6),\n",
       " ('complaint', 6),\n",
       " ('forestry', 6),\n",
       " ('minister', 5),\n",
       " ('pharmac', 5),\n",
       " ('health', 5),\n",
       " ('work', 5)]"
      ]
     },
     "execution_count": 56,
     "metadata": {},
     "output_type": "execute_result"
    }
   ],
   "source": [
    "neg_lines_nz = list(df_nz[df_nz.label == -1].headline)\n",
    "\n",
    "neg_tokens_nz = process_text(neg_lines_nz)\n",
    "neg_freq_nz = nltk.FreqDist(neg_tokens_nz)\n",
    "\n",
    "neg_freq_nz.most_common(20)"
   ]
  },
  {
   "cell_type": "code",
   "execution_count": 60,
   "id": "53a419bc",
   "metadata": {},
   "outputs": [
    {
     "data": {
      "image/png": "[encoded data removed]",
      "text/plain": [
       "<Figure size 432x288 with 1 Axes>"
      ]
     },
     "metadata": {
      "needs_background": "light"
     },
     "output_type": "display_data"
    },
    {
     "data": {
      "text/plain": [
       "<AxesSubplot:xlabel='Samples', ylabel='Counts'>"
      ]
     },
     "execution_count": 60,
     "metadata": {},
     "output_type": "execute_result"
    }
   ],
   "source": [
    "neg_freq_nz.plot(10)"
   ]
  },
  {
   "cell_type": "markdown",
   "id": "455165f0",
   "metadata": {},
   "source": [
    "### r/ireland - \"negative\" headlines "
   ]
  },
  {
   "cell_type": "code",
   "execution_count": 57,
   "id": "9da814a8",
   "metadata": {},
   "outputs": [
    {
     "data": {
      "text/plain": [
       "[('irish', 18),\n",
       " ('ireland', 16),\n",
       " ('ban', 12),\n",
       " ('people', 11),\n",
       " ('dublin', 10),\n",
       " ('year', 9),\n",
       " ('eviction', 9),\n",
       " ('000', 7),\n",
       " ('car', 7),\n",
       " ('man', 7),\n",
       " ('go', 7),\n",
       " ('2', 6),\n",
       " ('end', 6),\n",
       " ('first', 6),\n",
       " ('murder', 6),\n",
       " ('would', 6),\n",
       " ('court', 6),\n",
       " ('u', 5),\n",
       " ('airport', 5),\n",
       " ('got', 5)]"
      ]
     },
     "execution_count": 57,
     "metadata": {},
     "output_type": "execute_result"
    }
   ],
   "source": [
    "neg_lines_ireland = list(df[df.label == -1].headline)\n",
    "\n",
    "neg_tokens_ireland = process_text(neg_lines_ireland)\n",
    "neg_freq_ireland = nltk.FreqDist(neg_tokens_ireland)\n",
    "\n",
    "neg_freq_ireland.most_common(20)"
   ]
  },
  {
   "cell_type": "code",
   "execution_count": 58,
   "id": "98c18054",
   "metadata": {},
   "outputs": [
    {
     "data": {
      "image/png": "[encoded data removed]",
      "text/plain": [
       "<Figure size 432x288 with 1 Axes>"
      ]
     },
     "metadata": {
      "needs_background": "light"
     },
     "output_type": "display_data"
    },
    {
     "data": {
      "text/plain": [
       "<AxesSubplot:xlabel='Samples', ylabel='Counts'>"
      ]
     },
     "execution_count": 58,
     "metadata": {},
     "output_type": "execute_result"
    }
   ],
   "source": [
    "neg_freq_ireland.plot(10)"
   ]
  },
  {
   "cell_type": "markdown",
   "id": "b8f22d9b",
   "metadata": {},
   "source": [
    "### Looking at top 900 post titles "
   ]
  },
  {
   "cell_type": "code",
   "execution_count": 64,
   "id": "6e412bcb",
   "metadata": {},
   "outputs": [],
   "source": [
    "headlines_ireland_top = set()\n",
    "headlines_newZealand_top = set()"
   ]
  },
  {
   "cell_type": "code",
   "execution_count": 65,
   "id": "7c5dcf12",
   "metadata": {},
   "outputs": [
    {
     "name": "stdout",
     "output_type": "stream",
     "text": [
      "900\n"
     ]
    }
   ],
   "source": [
    "for submission in reddit.subreddit('newzealand').top(limit=900):\n",
    "    headlines_newZealand_top.add(submission.title)\n",
    "    display.clear_output()\n",
    "    print(len(headlines_newZealand_top))"
   ]
  },
  {
   "cell_type": "code",
   "execution_count": 66,
   "id": "5b582c03",
   "metadata": {},
   "outputs": [
    {
     "name": "stdout",
     "output_type": "stream",
     "text": [
      "897\n"
     ]
    }
   ],
   "source": [
    "for submission in reddit.subreddit('ireland').top(limit=900):\n",
    "    headlines_ireland_top.add(submission.title)\n",
    "    display.clear_output()\n",
    "    print(len(headlines_ireland_top))"
   ]
  },
  {
   "cell_type": "markdown",
   "id": "e9b8a81c",
   "metadata": {},
   "source": [
    "### Sentiment intensity analysis r/ireland"
   ]
  },
  {
   "cell_type": "code",
   "execution_count": 69,
   "id": "222bbde3",
   "metadata": {},
   "outputs": [
    {
     "name": "stdout",
     "output_type": "stream",
     "text": [
      "[{'compound': 0.0,\n",
      "  'headline': 'Irish people who use American political terms such as \"Liberals\" and \"Snowflakes\" '\n",
      "              'should be referred to as East Yanks.',\n",
      "  'neg': 0.0,\n",
      "  'neu': 1.0,\n",
      "  'pos': 0.0},\n",
      " {'compound': 0.0, 'headline': 'Frankie at it again', 'neg': 0.0, 'neu': 1.0, 'pos': 0.0},\n",
      " {'compound': 0.0, 'headline': 'OOF', 'neg': 0.0, 'neu': 1.0, 'pos': 0.0}]\n"
     ]
    }
   ],
   "source": [
    "results_ireland_top =  sia_function(headlines_ireland_top)\n",
    "pprint(results_ireland_top[:3], width=100)\n"
   ]
  },
  {
   "cell_type": "markdown",
   "id": "19695aec",
   "metadata": {},
   "source": [
    "### Sentiment intensity analysis r/newzealand"
   ]
  },
  {
   "cell_type": "code",
   "execution_count": 70,
   "id": "17f2041d",
   "metadata": {},
   "outputs": [
    {
     "name": "stdout",
     "output_type": "stream",
     "text": [
      "[{'compound': -0.3818,\n",
      "  'headline': 'Epic Pukeko battle captured by Martin Sanders. So much going on here.',\n",
      "  'neg': 0.191,\n",
      "  'neu': 0.809,\n",
      "  'pos': 0.0},\n",
      " {'compound': 0.0,\n",
      "  'headline': \"Last year during lockdown I wrote and illustrated my first ever children's book. \"\n",
      "              \"This week, it was in the front window of Little Unity. (it's the 'my cat can see \"\n",
      "              \"ghosts' one!)\",\n",
      "  'neg': 0.0,\n",
      "  'neu': 1.0,\n",
      "  'pos': 0.0},\n",
      " {'compound': 0.2263,\n",
      "  'headline': 'The high speed rail network I would construct if I had more money than sense ft. a '\n",
      "              'tunnel under Cook Straight maybe?',\n",
      "  'neg': 0.0,\n",
      "  'neu': 0.905,\n",
      "  'pos': 0.095}]\n"
     ]
    }
   ],
   "source": [
    "results_newzealand_top =  sia_function(headlines_newZealand_top)\n",
    "pprint(results_newzealand_top[:3], width=100)\n"
   ]
  },
  {
   "cell_type": "code",
   "execution_count": 71,
   "id": "cee22016",
   "metadata": {},
   "outputs": [],
   "source": [
    "df_top_ireland = pd.DataFrame.from_records(results_ireland_top)\n",
    "df_top_nz = pd.DataFrame.from_records(results_newzealand_top)\n"
   ]
  },
  {
   "cell_type": "code",
   "execution_count": 73,
   "id": "fd1a39a0",
   "metadata": {},
   "outputs": [
    {
     "data": {
      "text/html": [
       "<div>\n",
       "<style scoped>\n",
       "    .dataframe tbody tr th:only-of-type {\n",
       "        vertical-align: middle;\n",
       "    }\n",
       "\n",
       "    .dataframe tbody tr th {\n",
       "        vertical-align: top;\n",
       "    }\n",
       "\n",
       "    .dataframe thead th {\n",
       "        text-align: right;\n",
       "    }\n",
       "</style>\n",
       "<table border=\"1\" class=\"dataframe\">\n",
       "  <thead>\n",
       "    <tr style=\"text-align: right;\">\n",
       "      <th></th>\n",
       "      <th>neg</th>\n",
       "      <th>neu</th>\n",
       "      <th>pos</th>\n",
       "      <th>compound</th>\n",
       "      <th>headline</th>\n",
       "      <th>label</th>\n",
       "    </tr>\n",
       "  </thead>\n",
       "  <tbody>\n",
       "    <tr>\n",
       "      <th>0</th>\n",
       "      <td>0.000</td>\n",
       "      <td>1.000</td>\n",
       "      <td>0.000</td>\n",
       "      <td>0.0000</td>\n",
       "      <td>Irish people who use American political terms ...</td>\n",
       "      <td>0</td>\n",
       "    </tr>\n",
       "    <tr>\n",
       "      <th>1</th>\n",
       "      <td>0.000</td>\n",
       "      <td>1.000</td>\n",
       "      <td>0.000</td>\n",
       "      <td>0.0000</td>\n",
       "      <td>Frankie at it again</td>\n",
       "      <td>0</td>\n",
       "    </tr>\n",
       "    <tr>\n",
       "      <th>2</th>\n",
       "      <td>0.000</td>\n",
       "      <td>1.000</td>\n",
       "      <td>0.000</td>\n",
       "      <td>0.0000</td>\n",
       "      <td>OOF</td>\n",
       "      <td>0</td>\n",
       "    </tr>\n",
       "    <tr>\n",
       "      <th>3</th>\n",
       "      <td>0.000</td>\n",
       "      <td>0.887</td>\n",
       "      <td>0.113</td>\n",
       "      <td>0.6801</td>\n",
       "      <td>This aerial shot of Achill Island in Co. Mayo ...</td>\n",
       "      <td>1</td>\n",
       "    </tr>\n",
       "    <tr>\n",
       "      <th>4</th>\n",
       "      <td>0.000</td>\n",
       "      <td>0.880</td>\n",
       "      <td>0.120</td>\n",
       "      <td>0.1280</td>\n",
       "      <td>Sandwiches in Subway 'too sugary to meet legal...</td>\n",
       "      <td>0</td>\n",
       "    </tr>\n",
       "    <tr>\n",
       "      <th>...</th>\n",
       "      <td>...</td>\n",
       "      <td>...</td>\n",
       "      <td>...</td>\n",
       "      <td>...</td>\n",
       "      <td>...</td>\n",
       "      <td>...</td>\n",
       "    </tr>\n",
       "    <tr>\n",
       "      <th>892</th>\n",
       "      <td>0.259</td>\n",
       "      <td>0.741</td>\n",
       "      <td>0.000</td>\n",
       "      <td>-0.4215</td>\n",
       "      <td>Under 35’s experiencing their second “once in ...</td>\n",
       "      <td>-1</td>\n",
       "    </tr>\n",
       "    <tr>\n",
       "      <th>893</th>\n",
       "      <td>0.000</td>\n",
       "      <td>0.545</td>\n",
       "      <td>0.455</td>\n",
       "      <td>0.3612</td>\n",
       "      <td>It be like that</td>\n",
       "      <td>1</td>\n",
       "    </tr>\n",
       "    <tr>\n",
       "      <th>894</th>\n",
       "      <td>0.000</td>\n",
       "      <td>1.000</td>\n",
       "      <td>0.000</td>\n",
       "      <td>0.0000</td>\n",
       "      <td>After hours of extensive research and data ana...</td>\n",
       "      <td>0</td>\n",
       "    </tr>\n",
       "    <tr>\n",
       "      <th>895</th>\n",
       "      <td>0.202</td>\n",
       "      <td>0.721</td>\n",
       "      <td>0.077</td>\n",
       "      <td>-0.8460</td>\n",
       "      <td>On This Day in 1922 A bomb was thrown into a g...</td>\n",
       "      <td>-1</td>\n",
       "    </tr>\n",
       "    <tr>\n",
       "      <th>896</th>\n",
       "      <td>0.202</td>\n",
       "      <td>0.526</td>\n",
       "      <td>0.272</td>\n",
       "      <td>0.2023</td>\n",
       "      <td>Wise words from Wexford Corporation on anti ma...</td>\n",
       "      <td>1</td>\n",
       "    </tr>\n",
       "  </tbody>\n",
       "</table>\n",
       "<p>897 rows × 6 columns</p>\n",
       "</div>"
      ],
      "text/plain": [
       "       neg    neu    pos  compound  \\\n",
       "0    0.000  1.000  0.000    0.0000   \n",
       "1    0.000  1.000  0.000    0.0000   \n",
       "2    0.000  1.000  0.000    0.0000   \n",
       "3    0.000  0.887  0.113    0.6801   \n",
       "4    0.000  0.880  0.120    0.1280   \n",
       "..     ...    ...    ...       ...   \n",
       "892  0.259  0.741  0.000   -0.4215   \n",
       "893  0.000  0.545  0.455    0.3612   \n",
       "894  0.000  1.000  0.000    0.0000   \n",
       "895  0.202  0.721  0.077   -0.8460   \n",
       "896  0.202  0.526  0.272    0.2023   \n",
       "\n",
       "                                              headline  label  \n",
       "0    Irish people who use American political terms ...      0  \n",
       "1                                  Frankie at it again      0  \n",
       "2                                                  OOF      0  \n",
       "3    This aerial shot of Achill Island in Co. Mayo ...      1  \n",
       "4    Sandwiches in Subway 'too sugary to meet legal...      0  \n",
       "..                                                 ...    ...  \n",
       "892  Under 35’s experiencing their second “once in ...     -1  \n",
       "893                                    It be like that      1  \n",
       "894  After hours of extensive research and data ana...      0  \n",
       "895  On This Day in 1922 A bomb was thrown into a g...     -1  \n",
       "896  Wise words from Wexford Corporation on anti ma...      1  \n",
       "\n",
       "[897 rows x 6 columns]"
      ]
     },
     "execution_count": 73,
     "metadata": {},
     "output_type": "execute_result"
    }
   ],
   "source": [
    "define_positive(df_top_ireland)"
   ]
  },
  {
   "cell_type": "code",
   "execution_count": 74,
   "id": "79d7d94e",
   "metadata": {},
   "outputs": [
    {
     "data": {
      "text/html": [
       "<div>\n",
       "<style scoped>\n",
       "    .dataframe tbody tr th:only-of-type {\n",
       "        vertical-align: middle;\n",
       "    }\n",
       "\n",
       "    .dataframe tbody tr th {\n",
       "        vertical-align: top;\n",
       "    }\n",
       "\n",
       "    .dataframe thead th {\n",
       "        text-align: right;\n",
       "    }\n",
       "</style>\n",
       "<table border=\"1\" class=\"dataframe\">\n",
       "  <thead>\n",
       "    <tr style=\"text-align: right;\">\n",
       "      <th></th>\n",
       "      <th>neg</th>\n",
       "      <th>neu</th>\n",
       "      <th>pos</th>\n",
       "      <th>compound</th>\n",
       "      <th>headline</th>\n",
       "      <th>label</th>\n",
       "    </tr>\n",
       "  </thead>\n",
       "  <tbody>\n",
       "    <tr>\n",
       "      <th>0</th>\n",
       "      <td>0.191</td>\n",
       "      <td>0.809</td>\n",
       "      <td>0.000</td>\n",
       "      <td>-0.3818</td>\n",
       "      <td>Epic Pukeko battle captured by Martin Sanders....</td>\n",
       "      <td>-1</td>\n",
       "    </tr>\n",
       "    <tr>\n",
       "      <th>1</th>\n",
       "      <td>0.000</td>\n",
       "      <td>1.000</td>\n",
       "      <td>0.000</td>\n",
       "      <td>0.0000</td>\n",
       "      <td>Last year during lockdown I wrote and illustra...</td>\n",
       "      <td>0</td>\n",
       "    </tr>\n",
       "    <tr>\n",
       "      <th>2</th>\n",
       "      <td>0.000</td>\n",
       "      <td>0.905</td>\n",
       "      <td>0.095</td>\n",
       "      <td>0.2263</td>\n",
       "      <td>The high speed rail network I would construct ...</td>\n",
       "      <td>1</td>\n",
       "    </tr>\n",
       "    <tr>\n",
       "      <th>3</th>\n",
       "      <td>0.000</td>\n",
       "      <td>0.580</td>\n",
       "      <td>0.420</td>\n",
       "      <td>0.4404</td>\n",
       "      <td>Per day bank profits 😮‍💨</td>\n",
       "      <td>1</td>\n",
       "    </tr>\n",
       "    <tr>\n",
       "      <th>4</th>\n",
       "      <td>0.000</td>\n",
       "      <td>1.000</td>\n",
       "      <td>0.000</td>\n",
       "      <td>0.0000</td>\n",
       "      <td>People of New Zealand: 6.30am Flight to Sydney...</td>\n",
       "      <td>0</td>\n",
       "    </tr>\n",
       "    <tr>\n",
       "      <th>...</th>\n",
       "      <td>...</td>\n",
       "      <td>...</td>\n",
       "      <td>...</td>\n",
       "      <td>...</td>\n",
       "      <td>...</td>\n",
       "      <td>...</td>\n",
       "    </tr>\n",
       "    <tr>\n",
       "      <th>895</th>\n",
       "      <td>0.000</td>\n",
       "      <td>0.828</td>\n",
       "      <td>0.172</td>\n",
       "      <td>0.3612</td>\n",
       "      <td>NZ Meme Pages Telling It Like It Is | We're al...</td>\n",
       "      <td>1</td>\n",
       "    </tr>\n",
       "    <tr>\n",
       "      <th>896</th>\n",
       "      <td>0.000</td>\n",
       "      <td>0.802</td>\n",
       "      <td>0.198</td>\n",
       "      <td>0.5719</td>\n",
       "      <td>Update to previous thread: I won my Consumer G...</td>\n",
       "      <td>1</td>\n",
       "    </tr>\n",
       "    <tr>\n",
       "      <th>897</th>\n",
       "      <td>0.000</td>\n",
       "      <td>0.748</td>\n",
       "      <td>0.252</td>\n",
       "      <td>0.4019</td>\n",
       "      <td>Remember to support them when this is all over</td>\n",
       "      <td>1</td>\n",
       "    </tr>\n",
       "    <tr>\n",
       "      <th>898</th>\n",
       "      <td>0.000</td>\n",
       "      <td>1.000</td>\n",
       "      <td>0.000</td>\n",
       "      <td>0.0000</td>\n",
       "      <td>Puts it into perspective of what was achieved ...</td>\n",
       "      <td>0</td>\n",
       "    </tr>\n",
       "    <tr>\n",
       "      <th>899</th>\n",
       "      <td>0.000</td>\n",
       "      <td>0.850</td>\n",
       "      <td>0.150</td>\n",
       "      <td>0.3182</td>\n",
       "      <td>The original kiwi version of the McDonald's Ma...</td>\n",
       "      <td>1</td>\n",
       "    </tr>\n",
       "  </tbody>\n",
       "</table>\n",
       "<p>900 rows × 6 columns</p>\n",
       "</div>"
      ],
      "text/plain": [
       "       neg    neu    pos  compound  \\\n",
       "0    0.191  0.809  0.000   -0.3818   \n",
       "1    0.000  1.000  0.000    0.0000   \n",
       "2    0.000  0.905  0.095    0.2263   \n",
       "3    0.000  0.580  0.420    0.4404   \n",
       "4    0.000  1.000  0.000    0.0000   \n",
       "..     ...    ...    ...       ...   \n",
       "895  0.000  0.828  0.172    0.3612   \n",
       "896  0.000  0.802  0.198    0.5719   \n",
       "897  0.000  0.748  0.252    0.4019   \n",
       "898  0.000  1.000  0.000    0.0000   \n",
       "899  0.000  0.850  0.150    0.3182   \n",
       "\n",
       "                                              headline  label  \n",
       "0    Epic Pukeko battle captured by Martin Sanders....     -1  \n",
       "1    Last year during lockdown I wrote and illustra...      0  \n",
       "2    The high speed rail network I would construct ...      1  \n",
       "3                             Per day bank profits 😮‍💨      1  \n",
       "4    People of New Zealand: 6.30am Flight to Sydney...      0  \n",
       "..                                                 ...    ...  \n",
       "895  NZ Meme Pages Telling It Like It Is | We're al...      1  \n",
       "896  Update to previous thread: I won my Consumer G...      1  \n",
       "897     Remember to support them when this is all over      1  \n",
       "898  Puts it into perspective of what was achieved ...      0  \n",
       "899  The original kiwi version of the McDonald's Ma...      1  \n",
       "\n",
       "[900 rows x 6 columns]"
      ]
     },
     "execution_count": 74,
     "metadata": {},
     "output_type": "execute_result"
    }
   ],
   "source": [
    "define_positive(df_top_nz)"
   ]
  },
  {
   "cell_type": "code",
   "execution_count": 75,
   "id": "9f0122bd",
   "metadata": {},
   "outputs": [
    {
     "name": "stdout",
     "output_type": "stream",
     "text": [
      "Positive headlines :\n",
      "\n",
      "['This aerial shot of Achill Island in Co. Mayo is one of the most outstanding photos of Ireland I’ve ever seen. Martin Maguire is the man behind the 📸. His website is www.091pix.com + IG is 091pix '\n",
      " 'if you want to have a look at his other stuff.',\n",
      " 'Sharon congrats 😊',\n",
      " \"Now I'm not sure if you celebrate this day or not but might as well. Greetings from Montenegro, we wanted to wish you a happy April 24th and of course, good health for the entire year and more to \"\n",
      " 'come!',\n",
      " \"Opinion: The gym is great, but please don't insult us by suggesting it's the answer to mental illness\",\n",
      " 'As an American I’ve never heard of an immersion heater. I think I’ve hit a milestone after living in Ireland for 2 years when I shouted up to my wife to make sure the immersion was off.']\n",
      "\n",
      "Negative headlines:\n",
      "\n",
      "['What a fucking disaster!', 'Some people lads, what be wrong with them', 'Licence to kill', 'Dublin fucked forever.', 'Ever been on the way to work and just think “Ah, fuck it.”']\n"
     ]
    }
   ],
   "source": [
    "print(\"Positive headlines r/ireland:\\n\")\n",
    "pprint(list(df_top_ireland[df_top_ireland['label'] == 1].headline)[:5], width=200)\n",
    "\n",
    "print(\"\\nNegative headlines r/ireland:\\n\")\n",
    "pprint(list(df_top_ireland[df_top_ireland['label'] == -1].headline)[:5], width=200)"
   ]
  },
  {
   "cell_type": "code",
   "execution_count": 76,
   "id": "d442d3c0",
   "metadata": {},
   "outputs": [
    {
     "name": "stdout",
     "output_type": "stream",
     "text": [
      "Positive headlines r/newzealand:\n",
      "\n",
      "['The high speed rail network I would construct if I had more money than sense ft. a tunnel under Cook Straight maybe?',\n",
      " 'Per day bank profits 😮\\u200d💨',\n",
      " 'Cool as a cucumber.',\n",
      " 'Seconds fossil prep of the lockdown: a nice tumidocarcinus crab I collected on the South Island. I prepped BOTH sides this time',\n",
      " 'Before last year I was lucky if I could run on the treadmill for 10 mins. Moving to New Zealand was the best decision of my life. Every day that I live here I’m am motivated by this country and '\n",
      " 'its people. Today I finished my first half marathon.']\n",
      "\n",
      "Negative headlines r/newzealand:\n",
      "\n",
      "['Epic Pukeko battle captured by Martin Sanders. So much going on here.',\n",
      " 'Anyone else find it sad that essential workers are minimum wage at the supermarket, risking their safety and being abused while the supermarkets are making bank?',\n",
      " 'And another crazy sunrise in Christchurch',\n",
      " 'Never felt luckier than today to live in this country',\n",
      " 'Arrests as police begin operation to end protest at Parliament']\n"
     ]
    }
   ],
   "source": [
    "print(\"Positive headlines r/newzealand:\\n\")\n",
    "pprint(list(df_top_nz[df_top_nz['label'] == 1].headline)[:5], width=200)\n",
    "\n",
    "print(\"\\nNegative headlines r/newzealand:\\n\")\n",
    "pprint(list(df_top_nz[df_top_nz['label'] == -1].headline)[:5], width=200)"
   ]
  },
  {
   "cell_type": "markdown",
   "id": "c182f196",
   "metadata": {},
   "source": [
    "### looking at value counts"
   ]
  },
  {
   "cell_type": "code",
   "execution_count": 77,
   "id": "1ef9e387",
   "metadata": {},
   "outputs": [
    {
     "name": "stdout",
     "output_type": "stream",
     "text": [
      " 0    481\n",
      " 1    266\n",
      "-1    150\n",
      "Name: label, dtype: int64\n",
      " 0    53.623188\n",
      " 1    29.654404\n",
      "-1    16.722408\n",
      "Name: label, dtype: float64\n"
     ]
    }
   ],
   "source": [
    "print(df_top_ireland.label.value_counts())\n",
    "print(df_top_ireland.label.value_counts(normalize=True) * 100)"
   ]
  },
  {
   "cell_type": "code",
   "execution_count": 78,
   "id": "5bb2684e",
   "metadata": {},
   "outputs": [
    {
     "name": "stdout",
     "output_type": "stream",
     "text": [
      " 0    461\n",
      " 1    282\n",
      "-1    157\n",
      "Name: label, dtype: int64\n",
      " 0    51.222222\n",
      " 1    31.333333\n",
      "-1    17.444444\n",
      "Name: label, dtype: float64\n"
     ]
    }
   ],
   "source": [
    "print(df_top_nz.label.value_counts())\n",
    "print(df_top_nz.label.value_counts(normalize=True) * 100)"
   ]
  },
  {
   "cell_type": "code",
   "execution_count": 80,
   "id": "1a1990e6",
   "metadata": {},
   "outputs": [],
   "source": [
    "counts_ireland_top = df_top_ireland.label.value_counts(normalize=True) * 100\n",
    "counts_nz_top = df_top_nz.label.value_counts(normalize=True) * 100\n"
   ]
  },
  {
   "cell_type": "code",
   "execution_count": 81,
   "id": "1a54663d",
   "metadata": {},
   "outputs": [
    {
     "data": {
      "image/png": "[encoded data removed]",
      "text/plain": [
       "<Figure size 720x360 with 1 Axes>"
      ]
     },
     "metadata": {
      "needs_background": "light"
     },
     "output_type": "display_data"
    }
   ],
   "source": [
    "N = 3\n",
    "\n",
    "blue_bar = (counts_ireland_top)\n",
    "orange_bar = (counts_nz_top)\n",
    "\n",
    "# Position of bars on x-axis\n",
    "ind = np.arange(N)\n",
    "# Figure size\n",
    "plt.figure(figsize=(10,5))\n",
    "\n",
    "# Width of a bar \n",
    "width = 0.3       \n",
    "\n",
    "# Plotting\n",
    "plt.bar(ind, blue_bar , width, label='Ireland')\n",
    "plt.bar(ind + width, orange_bar, width, label='newzealand')\n",
    "\n",
    "plt.ylabel('Percentage')\n",
    "plt.title('Comparing r/ireland and r/newzealand top 900 post titles')\n",
    "\n",
    "plt.xticks(ind + width / 2, ('Neutral', 'Negative', 'Positve'))\n",
    "\n",
    "# Finding the best position for legends and putting it\n",
    "plt.legend(loc='best')\n",
    "plt.show()"
   ]
  },
  {
   "cell_type": "code",
   "execution_count": 82,
   "id": "f9a922ee",
   "metadata": {},
   "outputs": [
    {
     "data": {
      "text/plain": [
       "[('ireland', 43),\n",
       " ('irish', 31),\n",
       " ('like', 23),\n",
       " ('great', 18),\n",
       " ('lads', 18),\n",
       " ('day', 12),\n",
       " ('years', 12),\n",
       " ('today', 12),\n",
       " ('one', 11),\n",
       " ('dublin', 11),\n",
       " ('happy', 9),\n",
       " ('good', 9),\n",
       " ('year', 9),\n",
       " ('true', 9),\n",
       " ('sure', 8),\n",
       " ('think', 8),\n",
       " ('time', 8),\n",
       " ('well', 7),\n",
       " ('best', 7),\n",
       " ('better', 7)]"
      ]
     },
     "execution_count": 82,
     "metadata": {},
     "output_type": "execute_result"
    }
   ],
   "source": [
    "pos_lines_ireland = list(df_top_ireland[df_top_ireland.label == 1].headline)\n",
    "\n",
    "pos_tokens_ireland = process_text(pos_lines_ireland)\n",
    "pos_freq_ireland = nltk.FreqDist(pos_tokens_ireland)\n",
    "\n",
    "pos_freq_ireland.most_common(20)"
   ]
  },
  {
   "cell_type": "code",
   "execution_count": 88,
   "id": "7b3db54f",
   "metadata": {},
   "outputs": [
    {
     "data": {
      "image/png": "[encoded data removed]",
      "text/plain": [
       "<Figure size 432x288 with 1 Axes>"
      ]
     },
     "metadata": {
      "needs_background": "light"
     },
     "output_type": "display_data"
    },
    {
     "data": {
      "text/plain": [
       "<AxesSubplot:xlabel='Samples', ylabel='Counts'>"
      ]
     },
     "execution_count": 88,
     "metadata": {},
     "output_type": "execute_result"
    }
   ],
   "source": [
    "pos_freq_ireland.plot(20)\n"
   ]
  },
  {
   "cell_type": "code",
   "execution_count": 83,
   "id": "1e6d97ac",
   "metadata": {},
   "outputs": [
    {
     "data": {
      "text/plain": [
       "[('new', 47),\n",
       " ('zealand', 36),\n",
       " ('nz', 34),\n",
       " ('like', 29),\n",
       " ('good', 18),\n",
       " ('us', 13),\n",
       " ('country', 11),\n",
       " ('today', 11),\n",
       " ('love', 11),\n",
       " ('made', 10),\n",
       " ('proud', 10),\n",
       " ('people', 9),\n",
       " ('please', 9),\n",
       " ('day', 8),\n",
       " ('time', 8),\n",
       " ('best', 8),\n",
       " ('party', 8),\n",
       " ('free', 8),\n",
       " ('thank', 8),\n",
       " ('kiwi', 8)]"
      ]
     },
     "execution_count": 83,
     "metadata": {},
     "output_type": "execute_result"
    }
   ],
   "source": [
    "pos_lines_nz = list(df_top_nz[df_top_nz.label == 1].headline)\n",
    "\n",
    "pos_tokens_nz = process_text(pos_lines_nz)\n",
    "pos_freq_nz = nltk.FreqDist(pos_tokens_nz)\n",
    "\n",
    "pos_freq_nz.most_common(20)"
   ]
  },
  {
   "cell_type": "code",
   "execution_count": 89,
   "id": "f2dfc14c",
   "metadata": {},
   "outputs": [
    {
     "data": {
      "image/png": "[encoded data removed]",
      "text/plain": [
       "<Figure size 432x288 with 1 Axes>"
      ]
     },
     "metadata": {
      "needs_background": "light"
     },
     "output_type": "display_data"
    },
    {
     "data": {
      "text/plain": [
       "<AxesSubplot:xlabel='Samples', ylabel='Counts'>"
      ]
     },
     "execution_count": 89,
     "metadata": {},
     "output_type": "execute_result"
    }
   ],
   "source": [
    "pos_freq_nz.plot(20)\n"
   ]
  },
  {
   "cell_type": "code",
   "execution_count": 84,
   "id": "0e5514c7",
   "metadata": {},
   "outputs": [
    {
     "data": {
      "text/plain": [
       "[('irish', 19),\n",
       " ('ireland', 17),\n",
       " ('years', 12),\n",
       " ('dublin', 11),\n",
       " ('today', 11),\n",
       " ('one', 10),\n",
       " ('people', 8),\n",
       " ('ago', 8),\n",
       " ('day', 8),\n",
       " ('lads', 7),\n",
       " ('american', 6),\n",
       " ('get', 6),\n",
       " ('ya', 6),\n",
       " ('think', 5),\n",
       " ('like', 5),\n",
       " ('stop', 5),\n",
       " ('shit', 5),\n",
       " ('war', 5),\n",
       " ('got', 5),\n",
       " ('new', 5)]"
      ]
     },
     "execution_count": 84,
     "metadata": {},
     "output_type": "execute_result"
    }
   ],
   "source": [
    "neg_lines_ire = list(df_top_ireland[df_top_ireland.label == -1].headline)\n",
    "\n",
    "neg_tokens_ire = process_text(neg_lines_ire)\n",
    "neg_freq_ire = nltk.FreqDist(neg_tokens_ire)\n",
    "\n",
    "neg_freq_ire.most_common(20)"
   ]
  },
  {
   "cell_type": "code",
   "execution_count": 87,
   "id": "247f1a9e",
   "metadata": {},
   "outputs": [
    {
     "data": {
      "image/png": "[encoded data removed]",
      "text/plain": [
       "<Figure size 432x288 with 1 Axes>"
      ]
     },
     "metadata": {
      "needs_background": "light"
     },
     "output_type": "display_data"
    },
    {
     "data": {
      "text/plain": [
       "<AxesSubplot:xlabel='Samples', ylabel='Counts'>"
      ]
     },
     "execution_count": 87,
     "metadata": {},
     "output_type": "execute_result"
    }
   ],
   "source": [
    "neg_freq_ire.plot(20)\n"
   ]
  },
  {
   "cell_type": "code",
   "execution_count": 85,
   "id": "53c57576",
   "metadata": {},
   "outputs": [
    {
     "data": {
      "text/plain": [
       "[('new', 34),\n",
       " ('zealand', 29),\n",
       " ('nz', 16),\n",
       " ('today', 8),\n",
       " ('fuck', 8),\n",
       " ('country', 7),\n",
       " ('police', 7),\n",
       " ('world', 7),\n",
       " ('people', 6),\n",
       " ('covid', 6),\n",
       " ('auckland', 6),\n",
       " ('shit', 6),\n",
       " ('man', 6),\n",
       " ('much', 5),\n",
       " ('like', 5),\n",
       " ('get', 5),\n",
       " ('bad', 5),\n",
       " ('want', 5),\n",
       " ('crisis', 5),\n",
       " ('take', 4)]"
      ]
     },
     "execution_count": 85,
     "metadata": {},
     "output_type": "execute_result"
    }
   ],
   "source": [
    "neg_lines_nz = list(df_top_nz[df_top_nz.label == -1].headline)\n",
    "\n",
    "neg_tokens_nz = process_text(neg_lines_nz)\n",
    "neg_freq_nz = nltk.FreqDist(neg_tokens_nz)\n",
    "\n",
    "neg_freq_nz.most_common(20)"
   ]
  },
  {
   "cell_type": "code",
   "execution_count": 90,
   "id": "9e9ec090",
   "metadata": {},
   "outputs": [
    {
     "data": {
      "image/png": "[encoded data removed]",
      "text/plain": [
       "<Figure size 432x288 with 1 Axes>"
      ]
     },
     "metadata": {
      "needs_background": "light"
     },
     "output_type": "display_data"
    },
    {
     "data": {
      "text/plain": [
       "<AxesSubplot:xlabel='Samples', ylabel='Counts'>"
      ]
     },
     "execution_count": 90,
     "metadata": {},
     "output_type": "execute_result"
    }
   ],
   "source": [
    "neg_freq_nz.plot(20)\n"
   ]
  },
  {
   "cell_type": "markdown",
   "id": "93f61f60",
   "metadata": {},
   "source": [
    "### Looking at comments "
   ]
  },
  {
   "cell_type": "code",
   "execution_count": 16,
   "id": "d9ac6276",
   "metadata": {},
   "outputs": [],
   "source": [
    "def sia_function(comments):\n",
    "\n",
    "    sia = SIA()\n",
    "    results = []\n",
    "\n",
    "    for line in comments:\n",
    "        pol_score = sia.polarity_scores(line)\n",
    "        pol_score['comment'] = line\n",
    "        results.append(pol_score)\n",
    "        \n",
    "    return results"
   ]
  },
  {
   "cell_type": "markdown",
   "id": "b8bdf8cf",
   "metadata": {},
   "source": [
    "### gathering comments from r/ireland"
   ]
  },
  {
   "cell_type": "code",
   "execution_count": 11,
   "id": "e656d27e",
   "metadata": {},
   "outputs": [
    {
     "name": "stdout",
     "output_type": "stream",
     "text": [
      "1485\n"
     ]
    }
   ],
   "source": [
    "comments_ireland = set()\n",
    "# r/ireland\n",
    "for submission in reddit.subreddit('ireland').top(limit=10):\n",
    "    for comment in submission.comments:\n",
    "            if isinstance(comment, MoreComments):\n",
    "                continue\n",
    "            comments_ireland.add(comment.body)\n",
    "            display.clear_output()\n",
    "            print(len(comments_ireland))\n",
    "\n",
    "    \n"
   ]
  },
  {
   "cell_type": "markdown",
   "id": "28c60a8a",
   "metadata": {},
   "source": [
    "### gathering comments from r/newzeland"
   ]
  },
  {
   "cell_type": "code",
   "execution_count": 23,
   "id": "6fdd56e8",
   "metadata": {},
   "outputs": [
    {
     "name": "stdout",
     "output_type": "stream",
     "text": [
      "1560\n"
     ]
    }
   ],
   "source": [
    "comments_nz = set()\n",
    "# r/ireland\n",
    "for submission in reddit.subreddit('newzealand').top(limit=10):\n",
    "    for comment in submission.comments:\n",
    "            if isinstance(comment, MoreComments):\n",
    "                continue\n",
    "            comments_nz.add(comment.body)\n",
    "            display.clear_output()\n",
    "            print(len(comments_nz))\n",
    "\n",
    "    \n"
   ]
  },
  {
   "cell_type": "markdown",
   "id": "872cf67f",
   "metadata": {},
   "source": [
    "#### sentiment intensity analysis for comments r/ireland"
   ]
  },
  {
   "cell_type": "code",
   "execution_count": 17,
   "id": "5e4b8d0d",
   "metadata": {},
   "outputs": [
    {
     "name": "stdout",
     "output_type": "stream",
     "text": [
      "[{'comment': 'Scotland and Ireland joint hosts in 2030 LETS DO IT',\n",
      "  'compound': 0.0,\n",
      "  'neg': 0.0,\n",
      "  'neu': 1.0,\n",
      "  'pos': 0.0},\n",
      " {'comment': 'We need to abolish Real Estate Investment Trusts.',\n",
      "  'compound': 0.4767,\n",
      "  'neg': 0.0,\n",
      "  'neu': 0.693,\n",
      "  'pos': 0.307},\n",
      " {'comment': \"Boris's sanctions should solve everything.....\",\n",
      "  'compound': 0.2023,\n",
      "  'neg': 0.0,\n",
      "  'neu': 0.69,\n",
      "  'pos': 0.31}]\n"
     ]
    }
   ],
   "source": [
    "comments_results_ireland = sia_function(comments_ireland)\n",
    "pprint(comments_results_ireland[:3], width=100)"
   ]
  },
  {
   "cell_type": "markdown",
   "id": "664763b2",
   "metadata": {},
   "source": [
    "#### sentiment intensity analysis for comments r/newzealand"
   ]
  },
  {
   "cell_type": "code",
   "execution_count": 25,
   "id": "4a68dfbc",
   "metadata": {},
   "outputs": [
    {
     "name": "stdout",
     "output_type": "stream",
     "text": [
      "[{'comment': 'Why the fuck dose newzeland give a shit',\n",
      "  'compound': -0.7964,\n",
      "  'neg': 0.587,\n",
      "  'neu': 0.413,\n",
      "  'pos': 0.0},\n",
      " {'comment': 'The whole system in the US is designed to prevent someone like her from getting '\n",
      "             'elected.',\n",
      "  'compound': 0.3818,\n",
      "  'neg': 0.0,\n",
      "  'neu': 0.795,\n",
      "  'pos': 0.205},\n",
      " {'comment': 'People talk about y2k like that now: that it was a lot of panic over no big deal. '\n",
      "             'But the truth is a lot of people worked very hard to make it no big deal.',\n",
      "  'compound': -0.4385,\n",
      "  'neg': 0.213,\n",
      "  'neu': 0.67,\n",
      "  'pos': 0.117}]\n"
     ]
    }
   ],
   "source": [
    "comments_results_newzealand = sia_function(comments_nz)\n",
    "pprint(comments_results_newzealand[:3], width=100)"
   ]
  },
  {
   "cell_type": "markdown",
   "id": "1466d9a1",
   "metadata": {},
   "source": [
    "### converting results to dataframes "
   ]
  },
  {
   "cell_type": "code",
   "execution_count": 18,
   "id": "a30026eb",
   "metadata": {},
   "outputs": [
    {
     "data": {
      "text/html": [
       "<div>\n",
       "<style scoped>\n",
       "    .dataframe tbody tr th:only-of-type {\n",
       "        vertical-align: middle;\n",
       "    }\n",
       "\n",
       "    .dataframe tbody tr th {\n",
       "        vertical-align: top;\n",
       "    }\n",
       "\n",
       "    .dataframe thead th {\n",
       "        text-align: right;\n",
       "    }\n",
       "</style>\n",
       "<table border=\"1\" class=\"dataframe\">\n",
       "  <thead>\n",
       "    <tr style=\"text-align: right;\">\n",
       "      <th></th>\n",
       "      <th>neg</th>\n",
       "      <th>neu</th>\n",
       "      <th>pos</th>\n",
       "      <th>compound</th>\n",
       "      <th>comment</th>\n",
       "    </tr>\n",
       "  </thead>\n",
       "  <tbody>\n",
       "    <tr>\n",
       "      <th>0</th>\n",
       "      <td>0.000</td>\n",
       "      <td>1.000</td>\n",
       "      <td>0.000</td>\n",
       "      <td>0.0000</td>\n",
       "      <td>Scotland and Ireland joint hosts in 2030 LETS ...</td>\n",
       "    </tr>\n",
       "    <tr>\n",
       "      <th>1</th>\n",
       "      <td>0.000</td>\n",
       "      <td>0.693</td>\n",
       "      <td>0.307</td>\n",
       "      <td>0.4767</td>\n",
       "      <td>We need to abolish Real Estate Investment Trusts.</td>\n",
       "    </tr>\n",
       "    <tr>\n",
       "      <th>2</th>\n",
       "      <td>0.000</td>\n",
       "      <td>0.690</td>\n",
       "      <td>0.310</td>\n",
       "      <td>0.2023</td>\n",
       "      <td>Boris's sanctions should solve everything.....</td>\n",
       "    </tr>\n",
       "    <tr>\n",
       "      <th>3</th>\n",
       "      <td>0.140</td>\n",
       "      <td>0.833</td>\n",
       "      <td>0.027</td>\n",
       "      <td>-0.9741</td>\n",
       "      <td>I had one landlord, a property company who's m...</td>\n",
       "    </tr>\n",
       "    <tr>\n",
       "      <th>4</th>\n",
       "      <td>0.115</td>\n",
       "      <td>0.718</td>\n",
       "      <td>0.167</td>\n",
       "      <td>0.3378</td>\n",
       "      <td>How can you help? You can talk about it, you c...</td>\n",
       "    </tr>\n",
       "  </tbody>\n",
       "</table>\n",
       "</div>"
      ],
      "text/plain": [
       "     neg    neu    pos  compound  \\\n",
       "0  0.000  1.000  0.000    0.0000   \n",
       "1  0.000  0.693  0.307    0.4767   \n",
       "2  0.000  0.690  0.310    0.2023   \n",
       "3  0.140  0.833  0.027   -0.9741   \n",
       "4  0.115  0.718  0.167    0.3378   \n",
       "\n",
       "                                             comment  \n",
       "0  Scotland and Ireland joint hosts in 2030 LETS ...  \n",
       "1  We need to abolish Real Estate Investment Trusts.  \n",
       "2     Boris's sanctions should solve everything.....  \n",
       "3  I had one landlord, a property company who's m...  \n",
       "4  How can you help? You can talk about it, you c...  "
      ]
     },
     "execution_count": 18,
     "metadata": {},
     "output_type": "execute_result"
    }
   ],
   "source": [
    "df_comments_ireland = pd.DataFrame.from_records(comments_results_ireland)\n",
    "df_comments_ireland.head()"
   ]
  },
  {
   "cell_type": "code",
   "execution_count": 26,
   "id": "fe306479",
   "metadata": {},
   "outputs": [
    {
     "data": {
      "text/html": [
       "<div>\n",
       "<style scoped>\n",
       "    .dataframe tbody tr th:only-of-type {\n",
       "        vertical-align: middle;\n",
       "    }\n",
       "\n",
       "    .dataframe tbody tr th {\n",
       "        vertical-align: top;\n",
       "    }\n",
       "\n",
       "    .dataframe thead th {\n",
       "        text-align: right;\n",
       "    }\n",
       "</style>\n",
       "<table border=\"1\" class=\"dataframe\">\n",
       "  <thead>\n",
       "    <tr style=\"text-align: right;\">\n",
       "      <th></th>\n",
       "      <th>neg</th>\n",
       "      <th>neu</th>\n",
       "      <th>pos</th>\n",
       "      <th>compound</th>\n",
       "      <th>comment</th>\n",
       "    </tr>\n",
       "  </thead>\n",
       "  <tbody>\n",
       "    <tr>\n",
       "      <th>0</th>\n",
       "      <td>0.587</td>\n",
       "      <td>0.413</td>\n",
       "      <td>0.000</td>\n",
       "      <td>-0.7964</td>\n",
       "      <td>Why the fuck dose newzeland give a shit</td>\n",
       "    </tr>\n",
       "    <tr>\n",
       "      <th>1</th>\n",
       "      <td>0.000</td>\n",
       "      <td>0.795</td>\n",
       "      <td>0.205</td>\n",
       "      <td>0.3818</td>\n",
       "      <td>The whole system in the US is designed to prev...</td>\n",
       "    </tr>\n",
       "    <tr>\n",
       "      <th>2</th>\n",
       "      <td>0.213</td>\n",
       "      <td>0.670</td>\n",
       "      <td>0.117</td>\n",
       "      <td>-0.4385</td>\n",
       "      <td>People talk about y2k like that now: that it w...</td>\n",
       "    </tr>\n",
       "    <tr>\n",
       "      <th>3</th>\n",
       "      <td>0.073</td>\n",
       "      <td>0.573</td>\n",
       "      <td>0.354</td>\n",
       "      <td>0.7506</td>\n",
       "      <td>If you gave me $1.9million, I would happily pa...</td>\n",
       "    </tr>\n",
       "    <tr>\n",
       "      <th>4</th>\n",
       "      <td>0.344</td>\n",
       "      <td>0.656</td>\n",
       "      <td>0.000</td>\n",
       "      <td>-0.9207</td>\n",
       "      <td>I'm just reading about this and you've already...</td>\n",
       "    </tr>\n",
       "  </tbody>\n",
       "</table>\n",
       "</div>"
      ],
      "text/plain": [
       "     neg    neu    pos  compound  \\\n",
       "0  0.587  0.413  0.000   -0.7964   \n",
       "1  0.000  0.795  0.205    0.3818   \n",
       "2  0.213  0.670  0.117   -0.4385   \n",
       "3  0.073  0.573  0.354    0.7506   \n",
       "4  0.344  0.656  0.000   -0.9207   \n",
       "\n",
       "                                             comment  \n",
       "0            Why the fuck dose newzeland give a shit  \n",
       "1  The whole system in the US is designed to prev...  \n",
       "2  People talk about y2k like that now: that it w...  \n",
       "3  If you gave me $1.9million, I would happily pa...  \n",
       "4  I'm just reading about this and you've already...  "
      ]
     },
     "execution_count": 26,
     "metadata": {},
     "output_type": "execute_result"
    }
   ],
   "source": [
    "df_comments_newzealand = pd.DataFrame.from_records(comments_results_newzealand)\n",
    "df_comments_newzealand.head()"
   ]
  },
  {
   "cell_type": "markdown",
   "id": "799b7275",
   "metadata": {},
   "source": [
    "### defining positive and negative comments based on compound score: "
   ]
  },
  {
   "cell_type": "code",
   "execution_count": 20,
   "id": "447d64f4",
   "metadata": {},
   "outputs": [
    {
     "data": {
      "text/html": [
       "<div>\n",
       "<style scoped>\n",
       "    .dataframe tbody tr th:only-of-type {\n",
       "        vertical-align: middle;\n",
       "    }\n",
       "\n",
       "    .dataframe tbody tr th {\n",
       "        vertical-align: top;\n",
       "    }\n",
       "\n",
       "    .dataframe thead th {\n",
       "        text-align: right;\n",
       "    }\n",
       "</style>\n",
       "<table border=\"1\" class=\"dataframe\">\n",
       "  <thead>\n",
       "    <tr style=\"text-align: right;\">\n",
       "      <th></th>\n",
       "      <th>neg</th>\n",
       "      <th>neu</th>\n",
       "      <th>pos</th>\n",
       "      <th>compound</th>\n",
       "      <th>comment</th>\n",
       "      <th>label</th>\n",
       "    </tr>\n",
       "  </thead>\n",
       "  <tbody>\n",
       "    <tr>\n",
       "      <th>0</th>\n",
       "      <td>0.000</td>\n",
       "      <td>1.000</td>\n",
       "      <td>0.000</td>\n",
       "      <td>0.0000</td>\n",
       "      <td>Scotland and Ireland joint hosts in 2030 LETS ...</td>\n",
       "      <td>0</td>\n",
       "    </tr>\n",
       "    <tr>\n",
       "      <th>1</th>\n",
       "      <td>0.000</td>\n",
       "      <td>0.693</td>\n",
       "      <td>0.307</td>\n",
       "      <td>0.4767</td>\n",
       "      <td>We need to abolish Real Estate Investment Trusts.</td>\n",
       "      <td>1</td>\n",
       "    </tr>\n",
       "    <tr>\n",
       "      <th>2</th>\n",
       "      <td>0.000</td>\n",
       "      <td>0.690</td>\n",
       "      <td>0.310</td>\n",
       "      <td>0.2023</td>\n",
       "      <td>Boris's sanctions should solve everything.....</td>\n",
       "      <td>1</td>\n",
       "    </tr>\n",
       "    <tr>\n",
       "      <th>3</th>\n",
       "      <td>0.140</td>\n",
       "      <td>0.833</td>\n",
       "      <td>0.027</td>\n",
       "      <td>-0.9741</td>\n",
       "      <td>I had one landlord, a property company who's m...</td>\n",
       "      <td>-1</td>\n",
       "    </tr>\n",
       "    <tr>\n",
       "      <th>4</th>\n",
       "      <td>0.115</td>\n",
       "      <td>0.718</td>\n",
       "      <td>0.167</td>\n",
       "      <td>0.3378</td>\n",
       "      <td>How can you help? You can talk about it, you c...</td>\n",
       "      <td>1</td>\n",
       "    </tr>\n",
       "  </tbody>\n",
       "</table>\n",
       "</div>"
      ],
      "text/plain": [
       "     neg    neu    pos  compound  \\\n",
       "0  0.000  1.000  0.000    0.0000   \n",
       "1  0.000  0.693  0.307    0.4767   \n",
       "2  0.000  0.690  0.310    0.2023   \n",
       "3  0.140  0.833  0.027   -0.9741   \n",
       "4  0.115  0.718  0.167    0.3378   \n",
       "\n",
       "                                             comment  label  \n",
       "0  Scotland and Ireland joint hosts in 2030 LETS ...      0  \n",
       "1  We need to abolish Real Estate Investment Trusts.      1  \n",
       "2     Boris's sanctions should solve everything.....      1  \n",
       "3  I had one landlord, a property company who's m...     -1  \n",
       "4  How can you help? You can talk about it, you c...      1  "
      ]
     },
     "execution_count": 20,
     "metadata": {},
     "output_type": "execute_result"
    }
   ],
   "source": [
    "df_comments_ireland['label'] = 0\n",
    "df_comments_ireland.loc[df_comments_ireland['compound'] > 0.2, 'label'] = 1\n",
    "df_comments_ireland.loc[df_comments_ireland['compound'] < -0.2, 'label'] = -1\n",
    "df_comments_ireland.head()"
   ]
  },
  {
   "cell_type": "code",
   "execution_count": 27,
   "id": "a348f12e",
   "metadata": {},
   "outputs": [
    {
     "data": {
      "text/html": [
       "<div>\n",
       "<style scoped>\n",
       "    .dataframe tbody tr th:only-of-type {\n",
       "        vertical-align: middle;\n",
       "    }\n",
       "\n",
       "    .dataframe tbody tr th {\n",
       "        vertical-align: top;\n",
       "    }\n",
       "\n",
       "    .dataframe thead th {\n",
       "        text-align: right;\n",
       "    }\n",
       "</style>\n",
       "<table border=\"1\" class=\"dataframe\">\n",
       "  <thead>\n",
       "    <tr style=\"text-align: right;\">\n",
       "      <th></th>\n",
       "      <th>neg</th>\n",
       "      <th>neu</th>\n",
       "      <th>pos</th>\n",
       "      <th>compound</th>\n",
       "      <th>comment</th>\n",
       "      <th>label</th>\n",
       "    </tr>\n",
       "  </thead>\n",
       "  <tbody>\n",
       "    <tr>\n",
       "      <th>0</th>\n",
       "      <td>0.587</td>\n",
       "      <td>0.413</td>\n",
       "      <td>0.000</td>\n",
       "      <td>-0.7964</td>\n",
       "      <td>Why the fuck dose newzeland give a shit</td>\n",
       "      <td>-1</td>\n",
       "    </tr>\n",
       "    <tr>\n",
       "      <th>1</th>\n",
       "      <td>0.000</td>\n",
       "      <td>0.795</td>\n",
       "      <td>0.205</td>\n",
       "      <td>0.3818</td>\n",
       "      <td>The whole system in the US is designed to prev...</td>\n",
       "      <td>1</td>\n",
       "    </tr>\n",
       "    <tr>\n",
       "      <th>2</th>\n",
       "      <td>0.213</td>\n",
       "      <td>0.670</td>\n",
       "      <td>0.117</td>\n",
       "      <td>-0.4385</td>\n",
       "      <td>People talk about y2k like that now: that it w...</td>\n",
       "      <td>-1</td>\n",
       "    </tr>\n",
       "    <tr>\n",
       "      <th>3</th>\n",
       "      <td>0.073</td>\n",
       "      <td>0.573</td>\n",
       "      <td>0.354</td>\n",
       "      <td>0.7506</td>\n",
       "      <td>If you gave me $1.9million, I would happily pa...</td>\n",
       "      <td>1</td>\n",
       "    </tr>\n",
       "    <tr>\n",
       "      <th>4</th>\n",
       "      <td>0.344</td>\n",
       "      <td>0.656</td>\n",
       "      <td>0.000</td>\n",
       "      <td>-0.9207</td>\n",
       "      <td>I'm just reading about this and you've already...</td>\n",
       "      <td>-1</td>\n",
       "    </tr>\n",
       "  </tbody>\n",
       "</table>\n",
       "</div>"
      ],
      "text/plain": [
       "     neg    neu    pos  compound  \\\n",
       "0  0.587  0.413  0.000   -0.7964   \n",
       "1  0.000  0.795  0.205    0.3818   \n",
       "2  0.213  0.670  0.117   -0.4385   \n",
       "3  0.073  0.573  0.354    0.7506   \n",
       "4  0.344  0.656  0.000   -0.9207   \n",
       "\n",
       "                                             comment  label  \n",
       "0            Why the fuck dose newzeland give a shit     -1  \n",
       "1  The whole system in the US is designed to prev...      1  \n",
       "2  People talk about y2k like that now: that it w...     -1  \n",
       "3  If you gave me $1.9million, I would happily pa...      1  \n",
       "4  I'm just reading about this and you've already...     -1  "
      ]
     },
     "execution_count": 27,
     "metadata": {},
     "output_type": "execute_result"
    }
   ],
   "source": [
    "df_comments_newzealand['label'] = 0\n",
    "df_comments_newzealand.loc[df_comments_newzealand['compound'] > 0.2, 'label'] = 1\n",
    "df_comments_newzealand.loc[df_comments_newzealand['compound'] < -0.2, 'label'] = -1\n",
    "df_comments_newzealand.head()"
   ]
  },
  {
   "cell_type": "markdown",
   "id": "ae31ba1c",
   "metadata": {},
   "source": [
    "### example of positive and negative comments  r/ireland"
   ]
  },
  {
   "cell_type": "code",
   "execution_count": 21,
   "id": "9e97f87f",
   "metadata": {},
   "outputs": [
    {
     "name": "stdout",
     "output_type": "stream",
     "text": [
      "Positive comment:\n",
      "\n",
      "['We need to abolish Real Estate Investment Trusts.',\n",
      " \"Boris's sanctions should solve everything.....\",\n",
      " 'How can you help? You can talk about it, you can learn about it. I know a lot of people think that changing background or profile pic is stupid but it creates visibility. I know it is not your '\n",
      " \"pain and not your problem but it's a war happening in Europe and we're all part of Europe.\",\n",
      " \"Awh Jesus, I've always said it, the Croatians are great bunch of fellas now so\",\n",
      " 'Are we going to let people fleeing the conflict in and be kind to them when they get here?']\n",
      "\n",
      "Negative comment:\n",
      "\n",
      "[\"I had one landlord, a property company who's manager left and stole all the utility money and everyone's in the complex's rent from them.   He also stole and destroyed all the lease documents.  \"\n",
      " \"When I moved out they tried to say they didn't have the lease so they had no way of knowing my deposit.  I had a copy.   They repeatedly refused saying it could have been doctored.  Then they hit \"\n",
      " 'me with a cleaning fee, because I had no deposit.\\n'\n",
      " '\\n'\n",
      " \"I took them to court and they said they had no deposit on record for me.  They didn't mention the fact that their guy had absconded with them.   I gathered affidavits from a ton of people in the \"\n",
      " 'complex, who all had the same damage deposit I had.   When I produced my copy of the lease, along with the affidavits,  When the judge found out they lied he got REAL pissed off and they had to '\n",
      " \"fork out a ton of money, let's just say I got double my damage deposit back, and a generous amount of money for my troubles.    The judge also told them if they tried the same thing on any other \"\n",
      " \"renters he'd swear out a warrant and put them behind bars.  I put up fliers on everyone's doors telling them of my victory and not let the bastards cheat them out of anything.\",\n",
      " 'That sucks.',\n",
      " \"How about your salary is taken into account but the fact that your second household salary basically pays the creche so you can work isn't taken into account should that salary be gone. That's \"\n",
      " \"really not justified. And I'm talking about the 3x your salary thing.\",\n",
      " 'My s/o and I have been planning our move (which is in 3 weeks!!!) since November. Absolute shit timing but we’re taking precautions and will be quarantining when we arrive. Definitely understand '\n",
      " 'shutting down travel from here though, it really doesn’t feel like there’s a pandemic going on at all. The state we live in is one of the worst atm and it’s been tough isolating ourselves so we '\n",
      " 'don’t get exposed but it’ll be worth it! I’m not sure what we’re going to do if travel is shut down, it’s certainly very worrying',\n",
      " \"I'm one of those Americans who lurks here. You NEED to ban Americans from coming in. It's a silent nightmare in the US. I have been thinking about moving overseas for a while and Ireland was at \"\n",
      " \"the top of my list, but now I don't think I'll ever be able to leave... It really is scary here.\"]\n"
     ]
    }
   ],
   "source": [
    "print(\"Positive comment:\\n\")\n",
    "pprint(list(df_comments_ireland[df_comments_ireland['label'] == 1].comment)[:5], width=200)\n",
    "\n",
    "print(\"\\nNegative comment:\\n\")\n",
    "pprint(list(df_comments_ireland[df_comments_ireland['label'] == -1].comment)[:5], width=200)"
   ]
  },
  {
   "cell_type": "markdown",
   "id": "fcbf2e64",
   "metadata": {},
   "source": [
    "### example of positive and negative comments  r/newzealand"
   ]
  },
  {
   "cell_type": "code",
   "execution_count": 28,
   "id": "03fcdcb9",
   "metadata": {},
   "outputs": [
    {
     "name": "stdout",
     "output_type": "stream",
     "text": [
      "Positive comment:\n",
      "\n",
      "['The whole system in the US is designed to prevent someone like her from getting elected.',\n",
      " 'If you gave me $1.9million, I would happily pay a measly $9k a year in wealth tax.',\n",
      " 'Chur my kiwis! Proud of us all!',\n",
      " 'Let’s be thankful he’s still around so he can spend the rest of his life behind bars. I wonder if he will be sent back to aus.',\n",
      " 'I mean... Ive been trying to move to NZ for completely separate reasons for like 5 years.... Saving just never seem to stay']\n",
      "\n",
      "Negative comment:\n",
      "\n",
      "['Why the fuck dose newzeland give a shit',\n",
      " 'People talk about y2k like that now: that it was a lot of panic over no big deal. But the truth is a lot of people worked very hard to make it no big deal.',\n",
      " \"I'm just reading about this and you've already posted all the details half an hour ago? How in the fuck are you so quick?\\n\\nAlso fuck, this sucks. :(\",\n",
      " 'Kia kaha, Aucklanders. Sending good vibes from Welly.',\n",
      " 'As an Aucklander, holy fuck. Maybe I was naive but did not see this coming']\n"
     ]
    }
   ],
   "source": [
    "print(\"Positive comment:\\n\")\n",
    "pprint(list(df_comments_newzealand[df_comments_newzealand['label'] == 1].comment)[:5], width=200)\n",
    "\n",
    "print(\"\\nNegative comment:\\n\")\n",
    "pprint(list(df_comments_newzealand[df_comments_newzealand['label'] == -1].comment)[:5], width=200)"
   ]
  },
  {
   "cell_type": "markdown",
   "id": "5a555f52",
   "metadata": {},
   "source": [
    "### looking at value counts"
   ]
  },
  {
   "cell_type": "code",
   "execution_count": 22,
   "id": "77d93ec8",
   "metadata": {},
   "outputs": [
    {
     "name": "stdout",
     "output_type": "stream",
     "text": [
      " 1    550\n",
      "-1    470\n",
      " 0    465\n",
      "Name: label, dtype: int64\n",
      " 1    37.037037\n",
      "-1    31.649832\n",
      " 0    31.313131\n",
      "Name: label, dtype: float64\n"
     ]
    }
   ],
   "source": [
    "print(df_comments_ireland.label.value_counts())\n",
    "print(df_comments_ireland.label.value_counts(normalize=True) * 100)"
   ]
  },
  {
   "cell_type": "code",
   "execution_count": 29,
   "id": "c0319d2a",
   "metadata": {},
   "outputs": [
    {
     "name": "stdout",
     "output_type": "stream",
     "text": [
      " 1    629\n",
      " 0    470\n",
      "-1    461\n",
      "Name: label, dtype: int64\n",
      " 1    40.320513\n",
      " 0    30.128205\n",
      "-1    29.551282\n",
      "Name: label, dtype: float64\n"
     ]
    }
   ],
   "source": [
    "print(df_comments_newzealand.label.value_counts())\n",
    "print(df_comments_newzealand.label.value_counts(normalize=True) * 100)"
   ]
  },
  {
   "cell_type": "markdown",
   "id": "a35ef4d3",
   "metadata": {},
   "source": [
    "### visualising value counts "
   ]
  },
  {
   "cell_type": "code",
   "execution_count": 31,
   "id": "77a70095",
   "metadata": {},
   "outputs": [
    {
     "data": {
      "image/png": "[encoded data removed]",
      "text/plain": [
       "<Figure size 720x360 with 1 Axes>"
      ]
     },
     "metadata": {
      "needs_background": "light"
     },
     "output_type": "display_data"
    }
   ],
   "source": [
    "comments_counts_nz = df_comments_newzealand.label.value_counts(normalize=True) * 100\n",
    "comments_counts_ireland =  df_comments_ireland.label.value_counts(normalize=True) * 100\n",
    "N = 3\n",
    "\n",
    "blue_bar = (comments_counts_ireland)\n",
    "orange_bar = (comments_counts_nz)\n",
    "\n",
    "# Position of bars on x-axis\n",
    "ind = np.arange(N)\n",
    "# Figure size\n",
    "plt.figure(figsize=(10,5))\n",
    "\n",
    "# Width of a bar \n",
    "width = 0.3       \n",
    "\n",
    "# Plotting\n",
    "plt.bar(ind, blue_bar , width, label='Ireland')\n",
    "plt.bar(ind + width, orange_bar, width, label='newzealand')\n",
    "\n",
    "plt.ylabel('Percentage')\n",
    "plt.title('Comparing r/ireland and r/newzealand')\n",
    "\n",
    "plt.xticks(ind + width / 2, ('Neutral', 'Negative', 'Positve'))\n",
    "\n",
    "# Finding the best position for legends and putting it\n",
    "plt.legend(loc='best')\n",
    "plt.show()"
   ]
  },
  {
   "cell_type": "code",
   "execution_count": 32,
   "id": "10702bff",
   "metadata": {},
   "outputs": [
    {
     "data": {
      "text/html": [
       "<div>\n",
       "<style scoped>\n",
       "    .dataframe tbody tr th:only-of-type {\n",
       "        vertical-align: middle;\n",
       "    }\n",
       "\n",
       "    .dataframe tbody tr th {\n",
       "        vertical-align: top;\n",
       "    }\n",
       "\n",
       "    .dataframe thead th {\n",
       "        text-align: right;\n",
       "    }\n",
       "</style>\n",
       "<table border=\"1\" class=\"dataframe\">\n",
       "  <thead>\n",
       "    <tr style=\"text-align: right;\">\n",
       "      <th></th>\n",
       "      <th>neg</th>\n",
       "      <th>neu</th>\n",
       "      <th>pos</th>\n",
       "      <th>compound</th>\n",
       "      <th>comment</th>\n",
       "      <th>label</th>\n",
       "    </tr>\n",
       "  </thead>\n",
       "  <tbody>\n",
       "    <tr>\n",
       "      <th>0</th>\n",
       "      <td>0.000</td>\n",
       "      <td>1.000</td>\n",
       "      <td>0.000</td>\n",
       "      <td>0.0000</td>\n",
       "      <td>Scotland and Ireland joint hosts in 2030 LETS ...</td>\n",
       "      <td>0</td>\n",
       "    </tr>\n",
       "    <tr>\n",
       "      <th>1</th>\n",
       "      <td>0.000</td>\n",
       "      <td>0.693</td>\n",
       "      <td>0.307</td>\n",
       "      <td>0.4767</td>\n",
       "      <td>We need to abolish Real Estate Investment Trusts.</td>\n",
       "      <td>1</td>\n",
       "    </tr>\n",
       "    <tr>\n",
       "      <th>2</th>\n",
       "      <td>0.000</td>\n",
       "      <td>0.690</td>\n",
       "      <td>0.310</td>\n",
       "      <td>0.2023</td>\n",
       "      <td>Boris's sanctions should solve everything.....</td>\n",
       "      <td>1</td>\n",
       "    </tr>\n",
       "    <tr>\n",
       "      <th>3</th>\n",
       "      <td>0.140</td>\n",
       "      <td>0.833</td>\n",
       "      <td>0.027</td>\n",
       "      <td>-0.9741</td>\n",
       "      <td>I had one landlord, a property company who's m...</td>\n",
       "      <td>-1</td>\n",
       "    </tr>\n",
       "    <tr>\n",
       "      <th>4</th>\n",
       "      <td>0.115</td>\n",
       "      <td>0.718</td>\n",
       "      <td>0.167</td>\n",
       "      <td>0.3378</td>\n",
       "      <td>How can you help? You can talk about it, you c...</td>\n",
       "      <td>1</td>\n",
       "    </tr>\n",
       "    <tr>\n",
       "      <th>5</th>\n",
       "      <td>0.000</td>\n",
       "      <td>0.773</td>\n",
       "      <td>0.227</td>\n",
       "      <td>0.6249</td>\n",
       "      <td>Awh Jesus, I've always said it, the Croatians ...</td>\n",
       "      <td>1</td>\n",
       "    </tr>\n",
       "    <tr>\n",
       "      <th>6</th>\n",
       "      <td>0.000</td>\n",
       "      <td>1.000</td>\n",
       "      <td>0.000</td>\n",
       "      <td>0.0000</td>\n",
       "      <td>If you don't know what a bell pepper is the is...</td>\n",
       "      <td>0</td>\n",
       "    </tr>\n",
       "    <tr>\n",
       "      <th>7</th>\n",
       "      <td>0.714</td>\n",
       "      <td>0.286</td>\n",
       "      <td>0.000</td>\n",
       "      <td>-0.3612</td>\n",
       "      <td>That sucks.</td>\n",
       "      <td>-1</td>\n",
       "    </tr>\n",
       "    <tr>\n",
       "      <th>8</th>\n",
       "      <td>0.000</td>\n",
       "      <td>1.000</td>\n",
       "      <td>0.000</td>\n",
       "      <td>0.0000</td>\n",
       "      <td>Where’s the Shannon in this pic tho</td>\n",
       "      <td>0</td>\n",
       "    </tr>\n",
       "    <tr>\n",
       "      <th>9</th>\n",
       "      <td>0.068</td>\n",
       "      <td>0.932</td>\n",
       "      <td>0.000</td>\n",
       "      <td>-0.5113</td>\n",
       "      <td>How about your salary is taken into account bu...</td>\n",
       "      <td>-1</td>\n",
       "    </tr>\n",
       "  </tbody>\n",
       "</table>\n",
       "</div>"
      ],
      "text/plain": [
       "     neg    neu    pos  compound  \\\n",
       "0  0.000  1.000  0.000    0.0000   \n",
       "1  0.000  0.693  0.307    0.4767   \n",
       "2  0.000  0.690  0.310    0.2023   \n",
       "3  0.140  0.833  0.027   -0.9741   \n",
       "4  0.115  0.718  0.167    0.3378   \n",
       "5  0.000  0.773  0.227    0.6249   \n",
       "6  0.000  1.000  0.000    0.0000   \n",
       "7  0.714  0.286  0.000   -0.3612   \n",
       "8  0.000  1.000  0.000    0.0000   \n",
       "9  0.068  0.932  0.000   -0.5113   \n",
       "\n",
       "                                             comment  label  \n",
       "0  Scotland and Ireland joint hosts in 2030 LETS ...      0  \n",
       "1  We need to abolish Real Estate Investment Trusts.      1  \n",
       "2     Boris's sanctions should solve everything.....      1  \n",
       "3  I had one landlord, a property company who's m...     -1  \n",
       "4  How can you help? You can talk about it, you c...      1  \n",
       "5  Awh Jesus, I've always said it, the Croatians ...      1  \n",
       "6  If you don't know what a bell pepper is the is...      0  \n",
       "7                                        That sucks.     -1  \n",
       "8                Where’s the Shannon in this pic tho      0  \n",
       "9  How about your salary is taken into account bu...     -1  "
      ]
     },
     "execution_count": 32,
     "metadata": {},
     "output_type": "execute_result"
    }
   ],
   "source": [
    "df_comments_ireland.head(10)"
   ]
  },
  {
   "cell_type": "code",
   "execution_count": 33,
   "id": "3a038cec",
   "metadata": {},
   "outputs": [
    {
     "data": {
      "text/html": [
       "<div>\n",
       "<style scoped>\n",
       "    .dataframe tbody tr th:only-of-type {\n",
       "        vertical-align: middle;\n",
       "    }\n",
       "\n",
       "    .dataframe tbody tr th {\n",
       "        vertical-align: top;\n",
       "    }\n",
       "\n",
       "    .dataframe thead th {\n",
       "        text-align: right;\n",
       "    }\n",
       "</style>\n",
       "<table border=\"1\" class=\"dataframe\">\n",
       "  <thead>\n",
       "    <tr style=\"text-align: right;\">\n",
       "      <th></th>\n",
       "      <th>neg</th>\n",
       "      <th>neu</th>\n",
       "      <th>pos</th>\n",
       "      <th>compound</th>\n",
       "      <th>label</th>\n",
       "    </tr>\n",
       "  </thead>\n",
       "  <tbody>\n",
       "    <tr>\n",
       "      <th>count</th>\n",
       "      <td>1485.000000</td>\n",
       "      <td>1485.000000</td>\n",
       "      <td>1485.000000</td>\n",
       "      <td>1485.000000</td>\n",
       "      <td>1485.000000</td>\n",
       "    </tr>\n",
       "    <tr>\n",
       "      <th>mean</th>\n",
       "      <td>0.111438</td>\n",
       "      <td>0.742212</td>\n",
       "      <td>0.142296</td>\n",
       "      <td>0.036248</td>\n",
       "      <td>0.053872</td>\n",
       "    </tr>\n",
       "    <tr>\n",
       "      <th>std</th>\n",
       "      <td>0.163258</td>\n",
       "      <td>0.219192</td>\n",
       "      <td>0.183788</td>\n",
       "      <td>0.503418</td>\n",
       "      <td>0.827301</td>\n",
       "    </tr>\n",
       "    <tr>\n",
       "      <th>min</th>\n",
       "      <td>0.000000</td>\n",
       "      <td>0.000000</td>\n",
       "      <td>0.000000</td>\n",
       "      <td>-0.986200</td>\n",
       "      <td>-1.000000</td>\n",
       "    </tr>\n",
       "    <tr>\n",
       "      <th>25%</th>\n",
       "      <td>0.000000</td>\n",
       "      <td>0.612000</td>\n",
       "      <td>0.000000</td>\n",
       "      <td>-0.361200</td>\n",
       "      <td>-1.000000</td>\n",
       "    </tr>\n",
       "    <tr>\n",
       "      <th>50%</th>\n",
       "      <td>0.026000</td>\n",
       "      <td>0.773000</td>\n",
       "      <td>0.076000</td>\n",
       "      <td>0.000000</td>\n",
       "      <td>0.000000</td>\n",
       "    </tr>\n",
       "    <tr>\n",
       "      <th>75%</th>\n",
       "      <td>0.167000</td>\n",
       "      <td>0.917000</td>\n",
       "      <td>0.222000</td>\n",
       "      <td>0.440400</td>\n",
       "      <td>1.000000</td>\n",
       "    </tr>\n",
       "    <tr>\n",
       "      <th>max</th>\n",
       "      <td>1.000000</td>\n",
       "      <td>1.000000</td>\n",
       "      <td>1.000000</td>\n",
       "      <td>0.987400</td>\n",
       "      <td>1.000000</td>\n",
       "    </tr>\n",
       "  </tbody>\n",
       "</table>\n",
       "</div>"
      ],
      "text/plain": [
       "               neg          neu          pos     compound        label\n",
       "count  1485.000000  1485.000000  1485.000000  1485.000000  1485.000000\n",
       "mean      0.111438     0.742212     0.142296     0.036248     0.053872\n",
       "std       0.163258     0.219192     0.183788     0.503418     0.827301\n",
       "min       0.000000     0.000000     0.000000    -0.986200    -1.000000\n",
       "25%       0.000000     0.612000     0.000000    -0.361200    -1.000000\n",
       "50%       0.026000     0.773000     0.076000     0.000000     0.000000\n",
       "75%       0.167000     0.917000     0.222000     0.440400     1.000000\n",
       "max       1.000000     1.000000     1.000000     0.987400     1.000000"
      ]
     },
     "execution_count": 33,
     "metadata": {},
     "output_type": "execute_result"
    }
   ],
   "source": [
    "df_comments_ireland.describe()"
   ]
  },
  {
   "cell_type": "code",
   "execution_count": 34,
   "id": "b99c0f64",
   "metadata": {},
   "outputs": [
    {
     "data": {
      "text/html": [
       "<div>\n",
       "<style scoped>\n",
       "    .dataframe tbody tr th:only-of-type {\n",
       "        vertical-align: middle;\n",
       "    }\n",
       "\n",
       "    .dataframe tbody tr th {\n",
       "        vertical-align: top;\n",
       "    }\n",
       "\n",
       "    .dataframe thead th {\n",
       "        text-align: right;\n",
       "    }\n",
       "</style>\n",
       "<table border=\"1\" class=\"dataframe\">\n",
       "  <thead>\n",
       "    <tr style=\"text-align: right;\">\n",
       "      <th></th>\n",
       "      <th>neg</th>\n",
       "      <th>neu</th>\n",
       "      <th>pos</th>\n",
       "      <th>compound</th>\n",
       "      <th>label</th>\n",
       "    </tr>\n",
       "  </thead>\n",
       "  <tbody>\n",
       "    <tr>\n",
       "      <th>count</th>\n",
       "      <td>1560.000000</td>\n",
       "      <td>1560.000000</td>\n",
       "      <td>1560.000000</td>\n",
       "      <td>1560.000000</td>\n",
       "      <td>1560.000000</td>\n",
       "    </tr>\n",
       "    <tr>\n",
       "      <th>mean</th>\n",
       "      <td>0.106790</td>\n",
       "      <td>0.748525</td>\n",
       "      <td>0.142763</td>\n",
       "      <td>0.069173</td>\n",
       "      <td>0.107692</td>\n",
       "    </tr>\n",
       "    <tr>\n",
       "      <th>std</th>\n",
       "      <td>0.150094</td>\n",
       "      <td>0.198693</td>\n",
       "      <td>0.164744</td>\n",
       "      <td>0.529840</td>\n",
       "      <td>0.829193</td>\n",
       "    </tr>\n",
       "    <tr>\n",
       "      <th>min</th>\n",
       "      <td>0.000000</td>\n",
       "      <td>0.000000</td>\n",
       "      <td>0.000000</td>\n",
       "      <td>-0.991400</td>\n",
       "      <td>-1.000000</td>\n",
       "    </tr>\n",
       "    <tr>\n",
       "      <th>25%</th>\n",
       "      <td>0.000000</td>\n",
       "      <td>0.640750</td>\n",
       "      <td>0.000000</td>\n",
       "      <td>-0.336100</td>\n",
       "      <td>-1.000000</td>\n",
       "    </tr>\n",
       "    <tr>\n",
       "      <th>50%</th>\n",
       "      <td>0.051500</td>\n",
       "      <td>0.766000</td>\n",
       "      <td>0.107000</td>\n",
       "      <td>0.000000</td>\n",
       "      <td>0.000000</td>\n",
       "    </tr>\n",
       "    <tr>\n",
       "      <th>75%</th>\n",
       "      <td>0.167000</td>\n",
       "      <td>0.887000</td>\n",
       "      <td>0.216000</td>\n",
       "      <td>0.526700</td>\n",
       "      <td>1.000000</td>\n",
       "    </tr>\n",
       "    <tr>\n",
       "      <th>max</th>\n",
       "      <td>1.000000</td>\n",
       "      <td>1.000000</td>\n",
       "      <td>1.000000</td>\n",
       "      <td>0.988500</td>\n",
       "      <td>1.000000</td>\n",
       "    </tr>\n",
       "  </tbody>\n",
       "</table>\n",
       "</div>"
      ],
      "text/plain": [
       "               neg          neu          pos     compound        label\n",
       "count  1560.000000  1560.000000  1560.000000  1560.000000  1560.000000\n",
       "mean      0.106790     0.748525     0.142763     0.069173     0.107692\n",
       "std       0.150094     0.198693     0.164744     0.529840     0.829193\n",
       "min       0.000000     0.000000     0.000000    -0.991400    -1.000000\n",
       "25%       0.000000     0.640750     0.000000    -0.336100    -1.000000\n",
       "50%       0.051500     0.766000     0.107000     0.000000     0.000000\n",
       "75%       0.167000     0.887000     0.216000     0.526700     1.000000\n",
       "max       1.000000     1.000000     1.000000     0.988500     1.000000"
      ]
     },
     "execution_count": 34,
     "metadata": {},
     "output_type": "execute_result"
    }
   ],
   "source": [
    "df_comments_newzealand.describe()"
   ]
  },
  {
   "cell_type": "markdown",
   "id": "a544887f",
   "metadata": {},
   "source": [
    "### visualising compound scores for the sub reddits"
   ]
  },
  {
   "cell_type": "code",
   "execution_count": 38,
   "id": "ad833e81",
   "metadata": {},
   "outputs": [
    {
     "data": {
      "image/png": "[encoded data removed]",
      "text/plain": [
       "<Figure size 432x288 with 1 Axes>"
      ]
     },
     "metadata": {
      "needs_background": "light"
     },
     "output_type": "display_data"
    }
   ],
   "source": [
    "plt.hist(df_comments_ireland[\"compound\"], bins=10)\n",
    "\n",
    "plt.title('histogram of r/ireland comments compound scores')\n",
    "plt.xlabel('compound score')\n",
    "plt.ylabel('amount of comments')\n",
    "\n",
    "plt.show()"
   ]
  },
  {
   "cell_type": "code",
   "execution_count": 40,
   "id": "7d3162c1",
   "metadata": {},
   "outputs": [
    {
     "data": {
      "image/png": "[encoded data removed]",
      "text/plain": [
       "<Figure size 432x288 with 1 Axes>"
      ]
     },
     "metadata": {
      "needs_background": "light"
     },
     "output_type": "display_data"
    }
   ],
   "source": [
    "plt.hist(df_comments_newzealand[\"compound\"], bins=10)\n",
    "\n",
    "plt.title('histogram of r/newzealand comments compound scores')\n",
    "plt.xlabel('compound score')\n",
    "plt.ylabel('amount of comments')\n",
    "\n",
    "plt.show()"
   ]
  },
  {
   "cell_type": "markdown",
   "id": "8e16ab25",
   "metadata": {},
   "source": [
    "## box plots "
   ]
  },
  {
   "cell_type": "code",
   "execution_count": 41,
   "id": "1a7ed8e6",
   "metadata": {},
   "outputs": [
    {
     "data": {
      "image/png": "[encoded data removed]",
      "text/plain": [
       "<Figure size 432x288 with 1 Axes>"
      ]
     },
     "metadata": {
      "needs_background": "light"
     },
     "output_type": "display_data"
    }
   ],
   "source": [
    "plt.boxplot(df_comments_ireland[\"compound\"])\n",
    "\n",
    "plt.title('boxplot of r/ireland comments compound scores')\n",
    "plt.xlabel('compound score')\n",
    "plt.ylabel('amount of comments')\n",
    "\n",
    "plt.show()"
   ]
  },
  {
   "cell_type": "code",
   "execution_count": 42,
   "id": "089a213a",
   "metadata": {},
   "outputs": [
    {
     "data": {
      "image/png": "[encoded data removed]",
      "text/plain": [
       "<Figure size 432x288 with 1 Axes>"
      ]
     },
     "metadata": {
      "needs_background": "light"
     },
     "output_type": "display_data"
    }
   ],
   "source": [
    "plt.boxplot(df_comments_newzealand[\"compound\"])\n",
    "\n",
    "plt.title('boxplot of r/ireland comments compound scores')\n",
    "plt.xlabel('compound score')\n",
    "plt.ylabel('amount of comments')\n",
    "\n",
    "plt.show()"
   ]
  },
  {
   "cell_type": "markdown",
   "id": "1881f41a",
   "metadata": {},
   "source": [
    "### looking at positive comments in more detail"
   ]
  },
  {
   "cell_type": "code",
   "execution_count": 47,
   "id": "df9007b6",
   "metadata": {},
   "outputs": [
    {
     "data": {
      "text/plain": [
       "[('like', 81),\n",
       " ('ireland', 72),\n",
       " ('american', 69),\n",
       " ('us', 62),\n",
       " ('love', 57),\n",
       " ('get', 56),\n",
       " ('good', 45),\n",
       " ('people', 43),\n",
       " ('go', 39),\n",
       " ('well', 39),\n",
       " ('irish', 37),\n",
       " ('would', 36),\n",
       " ('back', 36),\n",
       " ('know', 34),\n",
       " ('great', 34),\n",
       " ('croatia', 34),\n",
       " ('one', 33),\n",
       " ('time', 33),\n",
       " ('need', 32),\n",
       " ('house', 32)]"
      ]
     },
     "execution_count": 47,
     "metadata": {},
     "output_type": "execute_result"
    }
   ],
   "source": [
    "pos_comments_ireland = list(df_comments_ireland[df_comments_ireland.label == 1].comment)\n",
    "\n",
    "pos_tokens_comments_ireland = process_text(pos_comments_ireland)\n",
    "pos_freq_comments_ireland = nltk.FreqDist(pos_tokens_comments_ireland)\n",
    "\n",
    "pos_freq_comments_ireland.most_common(20)"
   ]
  },
  {
   "cell_type": "code",
   "execution_count": 58,
   "id": "2204d16a",
   "metadata": {},
   "outputs": [
    {
     "data": {
      "image/png": "[encoded data removed]",
      "text/plain": [
       "<Figure size 432x288 with 1 Axes>"
      ]
     },
     "metadata": {
      "needs_background": "light"
     },
     "output_type": "display_data"
    },
    {
     "data": {
      "text/plain": [
       "<AxesSubplot:xlabel='Samples', ylabel='Counts'>"
      ]
     },
     "execution_count": 58,
     "metadata": {},
     "output_type": "execute_result"
    }
   ],
   "source": [
    "pos_freq_comments_ireland.plot(20)\n"
   ]
  },
  {
   "cell_type": "code",
   "execution_count": 48,
   "id": "8b15eb73",
   "metadata": {},
   "outputs": [
    {
     "data": {
      "text/plain": [
       "[('people', 140),\n",
       " ('like', 117),\n",
       " ('nz', 89),\n",
       " ('new', 78),\n",
       " ('country', 73),\n",
       " ('us', 66),\n",
       " ('good', 63),\n",
       " ('zealand', 63),\n",
       " ('get', 61),\n",
       " ('well', 57),\n",
       " ('would', 55),\n",
       " ('vote', 49),\n",
       " ('want', 47),\n",
       " ('love', 45),\n",
       " ('time', 44),\n",
       " ('know', 44),\n",
       " ('much', 43),\n",
       " ('even', 43),\n",
       " ('make', 43),\n",
       " ('one', 41)]"
      ]
     },
     "execution_count": 48,
     "metadata": {},
     "output_type": "execute_result"
    }
   ],
   "source": [
    "pos_comments_nz = list(df_comments_newzealand[df_comments_newzealand.label == 1].comment)\n",
    "\n",
    "pos_tokens_comments_nz = process_text(pos_comments_nz)\n",
    "pos_freq_comments_nz = nltk.FreqDist(pos_tokens_comments_nz)\n",
    "\n",
    "pos_freq_comments_nz.most_common(20)"
   ]
  },
  {
   "cell_type": "code",
   "execution_count": 57,
   "id": "e79813eb",
   "metadata": {},
   "outputs": [
    {
     "data": {
      "image/png": "[encoded data removed]",
      "text/plain": [
       "<Figure size 432x288 with 1 Axes>"
      ]
     },
     "metadata": {
      "needs_background": "light"
     },
     "output_type": "display_data"
    },
    {
     "data": {
      "text/plain": [
       "<AxesSubplot:xlabel='Samples', ylabel='Counts'>"
      ]
     },
     "execution_count": 57,
     "metadata": {},
     "output_type": "execute_result"
    }
   ],
   "source": [
    "pos_freq_comments_nz.plot(20)\n"
   ]
  },
  {
   "cell_type": "markdown",
   "id": "d53e901e",
   "metadata": {},
   "source": [
    "### looking at negative comments in more detail"
   ]
  },
  {
   "cell_type": "code",
   "execution_count": 51,
   "id": "89194df1",
   "metadata": {},
   "outputs": [
    {
     "data": {
      "text/plain": [
       "[('us', 83),\n",
       " ('american', 73),\n",
       " ('people', 66),\n",
       " ('fuck', 64),\n",
       " ('get', 56),\n",
       " ('back', 53),\n",
       " ('deposit', 51),\n",
       " ('ban', 44),\n",
       " ('house', 43),\n",
       " ('rent', 42),\n",
       " ('ireland', 40),\n",
       " ('country', 39),\n",
       " ('like', 37),\n",
       " ('one', 35),\n",
       " ('shit', 34),\n",
       " ('fucking', 33),\n",
       " ('would', 32),\n",
       " ('years', 31),\n",
       " ('americans', 30),\n",
       " ('going', 29)]"
      ]
     },
     "execution_count": 51,
     "metadata": {},
     "output_type": "execute_result"
    }
   ],
   "source": [
    "neg_comments_ireland = list(df_comments_ireland[df_comments_ireland.label == -1].comment)\n",
    "\n",
    "neg_tokens_comments_ireland = process_text(neg_comments_ireland)\n",
    "neg_freq_comments_ireland = nltk.FreqDist(neg_tokens_comments_ireland)\n",
    "\n",
    "neg_freq_comments_ireland.most_common(20)"
   ]
  },
  {
   "cell_type": "code",
   "execution_count": 56,
   "id": "24f2ca8e",
   "metadata": {},
   "outputs": [
    {
     "data": {
      "image/png": "[encoded data removed]",
      "text/plain": [
       "<Figure size 432x288 with 1 Axes>"
      ]
     },
     "metadata": {
      "needs_background": "light"
     },
     "output_type": "display_data"
    },
    {
     "data": {
      "text/plain": [
       "<AxesSubplot:xlabel='Samples', ylabel='Counts'>"
      ]
     },
     "execution_count": 56,
     "metadata": {},
     "output_type": "execute_result"
    }
   ],
   "source": [
    "neg_freq_comments_ireland.plot(20)\n"
   ]
  },
  {
   "cell_type": "code",
   "execution_count": 53,
   "id": "6edad1bc",
   "metadata": {},
   "outputs": [
    {
     "data": {
      "text/plain": [
       "[('people', 114),\n",
       " ('fuck', 74),\n",
       " ('like', 59),\n",
       " ('shit', 58),\n",
       " ('get', 54),\n",
       " ('tipping', 49),\n",
       " ('new', 48),\n",
       " ('nz', 45),\n",
       " ('one', 41),\n",
       " ('time', 41),\n",
       " ('us', 40),\n",
       " ('tip', 38),\n",
       " ('would', 37),\n",
       " ('pay', 35),\n",
       " ('fucking', 34),\n",
       " ('country', 33),\n",
       " ('zealand', 33),\n",
       " ('know', 32),\n",
       " ('covid', 31),\n",
       " ('go', 29)]"
      ]
     },
     "execution_count": 53,
     "metadata": {},
     "output_type": "execute_result"
    }
   ],
   "source": [
    "neg_comments_nz = list(df_comments_newzealand[df_comments_newzealand.label == -1].comment)\n",
    "\n",
    "neg_tokens_comments_nz = process_text(neg_comments_nz)\n",
    "neg_freq_comments_nz = nltk.FreqDist(neg_tokens_comments_nz)\n",
    "\n",
    "neg_freq_comments_nz.most_common(20)"
   ]
  },
  {
   "cell_type": "code",
   "execution_count": 55,
   "id": "2857c686",
   "metadata": {},
   "outputs": [
    {
     "data": {
      "image/png": "[encoded data removed]",
      "text/plain": [
       "<Figure size 432x288 with 1 Axes>"
      ]
     },
     "metadata": {
      "needs_background": "light"
     },
     "output_type": "display_data"
    },
    {
     "data": {
      "text/plain": [
       "<AxesSubplot:xlabel='Samples', ylabel='Counts'>"
      ]
     },
     "execution_count": 55,
     "metadata": {},
     "output_type": "execute_result"
    }
   ],
   "source": [
    "neg_freq_comments_nz.plot(20)\n"
   ]
  },
  {
   "cell_type": "code",
   "execution_count": null,
   "id": "3053f09a",
   "metadata": {},
   "outputs": [],
   "source": []
  }
 ],
 "metadata": {
  "kernelspec": {
   "display_name": "Python 3 (ipykernel)",
   "language": "python",
   "name": "python3"
  },
  "language_info": {
   "codemirror_mode": {
    "name": "ipython",
    "version": 3
   },
   "file_extension": ".py",
   "mimetype": "text/x-python",
   "name": "python",
   "nbconvert_exporter": "python",
   "pygments_lexer": "ipython3",
   "version": "3.8.12"
  }
 },
 "nbformat": 4,
 "nbformat_minor": 5
}
