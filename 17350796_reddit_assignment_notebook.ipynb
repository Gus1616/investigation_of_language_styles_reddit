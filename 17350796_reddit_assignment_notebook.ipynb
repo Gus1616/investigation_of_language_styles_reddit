{
 "cells": [
  {
   "cell_type": "markdown",
   "id": "226f5ae7",
   "metadata": {},
   "source": [
    "<center><h2>COMP40020: Human Language Technologies\n",
    "Assignment 1 </h2></center>\n"
   ]
  },
  {
   "cell_type": "markdown",
   "id": "6b3866bd",
   "metadata": {},
   "source": [
    "#### imports"
   ]
  },
  {
   "cell_type": "code",
   "execution_count": 1,
   "id": "1d68193c",
   "metadata": {},
   "outputs": [],
   "source": [
    "import nltk\n",
    "import re\n",
    "from nltk.tag import pos_tag\n",
    "from nltk.chunk import ne_chunk\n",
    "import matplotlib.pyplot as plt\n",
    "import seaborn as sns\n",
    "import emoji\n",
    "from IPython import display\n",
    "import math\n",
    "from pprint import pprint\n",
    "import pandas as pd\n",
    "import numpy as np\n",
    "import praw\n",
    "from praw.models import MoreComments\n",
    "from nltk.sentiment.vader import SentimentIntensityAnalyzer as SIA\n",
    "from nltk.corpus import stopwords\n",
    "from nltk.tokenize import word_tokenize, RegexpTokenizer\n",
    "from nltk.collocations import BigramAssocMeasures, BigramCollocationFinder, TrigramAssocMeasures, TrigramCollocationFinder\n"
   ]
  },
  {
   "cell_type": "markdown",
   "id": "b555e31a",
   "metadata": {},
   "source": [
    "### references:\n",
    "- Code was adapted from the following resources as well as code from the labs:\n",
    "-  https://www.learndatasci.com/tutorials/sentiment-analysis-reddit-headlines-pythons-nltk/\n",
    "- https://medium.com/@kiddojazz/reddit-sentiment-analysis-f8a1a790124a\n",
    "- https://towardsdatascience.com/automate-sentiment-analysis-process-for-reddit-post-textblob-and-vader-8a79c269522f"
   ]
  },
  {
   "cell_type": "code",
   "execution_count": 2,
   "id": "2fdbdc40",
   "metadata": {},
   "outputs": [],
   "source": [
    "ci = \"fQeiW15Vp7PWost_U0QkaA\" #your client id\n",
    "cs = \"p2LFKOI2h6gyQ_Y3A9ilM-hprJGMiA\" #your client secret\n",
    "ua = \"busterorwha\" #your user agent name\n"
   ]
  },
  {
   "cell_type": "code",
   "execution_count": 3,
   "id": "adc429b0",
   "metadata": {},
   "outputs": [],
   "source": [
    "\n",
    "reddit = praw.Reddit(client_id=ci,\n",
    "                     client_secret=cs,\n",
    "                     user_agent=ua)\n",
    "\n",
    "\n"
   ]
  },
  {
   "cell_type": "markdown",
   "id": "673cbe4a",
   "metadata": {},
   "source": [
    "### sets to hold headlines"
   ]
  },
  {
   "cell_type": "code",
   "execution_count": 4,
   "id": "6ae86b6f",
   "metadata": {},
   "outputs": [],
   "source": [
    "headlines = set()\n",
    "headlines_newZealand = set()"
   ]
  },
  {
   "cell_type": "markdown",
   "id": "ae19b8b0",
   "metadata": {},
   "source": [
    "### Looking at 900 new post titles "
   ]
  },
  {
   "cell_type": "code",
   "execution_count": 5,
   "id": "0d805681",
   "metadata": {},
   "outputs": [
    {
     "name": "stdout",
     "output_type": "stream",
     "text": [
      "897\n"
     ]
    }
   ],
   "source": [
    "# r/ireland\n",
    "for submission in reddit.subreddit('ireland').new(limit=900):\n",
    "    headlines.add(submission.title)\n",
    "    display.clear_output()\n",
    "    print(len(headlines))"
   ]
  },
  {
   "cell_type": "code",
   "execution_count": 6,
   "id": "09180777",
   "metadata": {},
   "outputs": [
    {
     "name": "stdout",
     "output_type": "stream",
     "text": [
      "900\n"
     ]
    }
   ],
   "source": [
    "# r/newzealand\n",
    "for submission in reddit.subreddit('newzealand').new(limit=900):\n",
    "    headlines_newZealand.add(submission.title)\n",
    "    display.clear_output()\n",
    "    print(len(headlines_newZealand))"
   ]
  },
  {
   "cell_type": "markdown",
   "id": "ab1f216c",
   "metadata": {},
   "source": [
    "### r/ireland"
   ]
  },
  {
   "cell_type": "code",
   "execution_count": 7,
   "id": "07fefc1a",
   "metadata": {},
   "outputs": [],
   "source": [
    "# function for sentiment analysis \n",
    "def sia_function(headlines):\n",
    "\n",
    "    sia = SIA()\n",
    "    results = []\n",
    "\n",
    "    for line in headlines:\n",
    "        pol_score = sia.polarity_scores(line)\n",
    "        pol_score['headline'] = line\n",
    "        results.append(pol_score)\n",
    "        \n",
    "    return results\n",
    "\n",
    "    "
   ]
  },
  {
   "cell_type": "code",
   "execution_count": 8,
   "id": "218a60da",
   "metadata": {},
   "outputs": [
    {
     "name": "stdout",
     "output_type": "stream",
     "text": [
      "[{'compound': 0.0, 'headline': 'Redundancy and Signing on', 'neg': 0.0, 'neu': 1.0, 'pos': 0.0},\n",
      " {'compound': 0.836,\n",
      "  'headline': 'Drag queen Lavender accepts CMAT’s Choice Music Prize for best Irish album',\n",
      "  'neg': 0.096,\n",
      "  'neu': 0.406,\n",
      "  'pos': 0.497},\n",
      " {'compound': 0.5562,\n",
      "  'headline': 'Learning Irish as a carribean heritage Brit! Appreciation post.',\n",
      "  'neg': 0.0,\n",
      "  'neu': 0.661,\n",
      "  'pos': 0.339}]\n"
     ]
    }
   ],
   "source": [
    "# sentiment intensity analyser \n",
    "\n",
    "sia = SIA()\n",
    "results = []\n",
    "\n",
    "for line in headlines:\n",
    "    pol_score = sia.polarity_scores(line)\n",
    "    pol_score['headline'] = line\n",
    "    results.append(pol_score)\n",
    "\n",
    "pprint(results[:3], width=100)"
   ]
  },
  {
   "cell_type": "markdown",
   "id": "ac6e3bc3",
   "metadata": {},
   "source": [
    "### r/newzealand"
   ]
  },
  {
   "cell_type": "code",
   "execution_count": 9,
   "id": "29cf3551",
   "metadata": {},
   "outputs": [
    {
     "name": "stdout",
     "output_type": "stream",
     "text": [
      "[{'compound': 0.0, 'headline': 'travel insurance for WHV', 'neg': 0.0, 'neu': 1.0, 'pos': 0.0},\n",
      " {'compound': 0.0,\n",
      "  'headline': 'How about a flair for spiders?',\n",
      "  'neg': 0.0,\n",
      "  'neu': 1.0,\n",
      "  'pos': 0.0},\n",
      " {'compound': 0.4019,\n",
      "  'headline': 'Gaming PC help for my kid',\n",
      "  'neg': 0.0,\n",
      "  'neu': 0.649,\n",
      "  'pos': 0.351}]\n"
     ]
    }
   ],
   "source": [
    "results_nz = sia_function(headlines_newZealand)\n",
    "pprint(results_nz[:3], width=100)"
   ]
  },
  {
   "cell_type": "markdown",
   "id": "ce98fdfb",
   "metadata": {},
   "source": [
    "### dataframe r/ireland"
   ]
  },
  {
   "cell_type": "code",
   "execution_count": 10,
   "id": "49b9fde3",
   "metadata": {},
   "outputs": [
    {
     "data": {
      "text/html": [
       "<div>\n",
       "<style scoped>\n",
       "    .dataframe tbody tr th:only-of-type {\n",
       "        vertical-align: middle;\n",
       "    }\n",
       "\n",
       "    .dataframe tbody tr th {\n",
       "        vertical-align: top;\n",
       "    }\n",
       "\n",
       "    .dataframe thead th {\n",
       "        text-align: right;\n",
       "    }\n",
       "</style>\n",
       "<table border=\"1\" class=\"dataframe\">\n",
       "  <thead>\n",
       "    <tr style=\"text-align: right;\">\n",
       "      <th></th>\n",
       "      <th>neg</th>\n",
       "      <th>neu</th>\n",
       "      <th>pos</th>\n",
       "      <th>compound</th>\n",
       "      <th>headline</th>\n",
       "    </tr>\n",
       "  </thead>\n",
       "  <tbody>\n",
       "    <tr>\n",
       "      <th>0</th>\n",
       "      <td>0.000</td>\n",
       "      <td>1.000</td>\n",
       "      <td>0.000</td>\n",
       "      <td>0.0000</td>\n",
       "      <td>Redundancy and Signing on</td>\n",
       "    </tr>\n",
       "    <tr>\n",
       "      <th>1</th>\n",
       "      <td>0.096</td>\n",
       "      <td>0.406</td>\n",
       "      <td>0.497</td>\n",
       "      <td>0.8360</td>\n",
       "      <td>Drag queen Lavender accepts CMAT’s Choice Musi...</td>\n",
       "    </tr>\n",
       "    <tr>\n",
       "      <th>2</th>\n",
       "      <td>0.000</td>\n",
       "      <td>0.661</td>\n",
       "      <td>0.339</td>\n",
       "      <td>0.5562</td>\n",
       "      <td>Learning Irish as a carribean heritage Brit! A...</td>\n",
       "    </tr>\n",
       "    <tr>\n",
       "      <th>3</th>\n",
       "      <td>0.000</td>\n",
       "      <td>1.000</td>\n",
       "      <td>0.000</td>\n",
       "      <td>0.0000</td>\n",
       "      <td>Auralia cosmetic clinic.</td>\n",
       "    </tr>\n",
       "    <tr>\n",
       "      <th>4</th>\n",
       "      <td>0.000</td>\n",
       "      <td>1.000</td>\n",
       "      <td>0.000</td>\n",
       "      <td>0.0000</td>\n",
       "      <td>Joe.ie</td>\n",
       "    </tr>\n",
       "  </tbody>\n",
       "</table>\n",
       "</div>"
      ],
      "text/plain": [
       "     neg    neu    pos  compound  \\\n",
       "0  0.000  1.000  0.000    0.0000   \n",
       "1  0.096  0.406  0.497    0.8360   \n",
       "2  0.000  0.661  0.339    0.5562   \n",
       "3  0.000  1.000  0.000    0.0000   \n",
       "4  0.000  1.000  0.000    0.0000   \n",
       "\n",
       "                                            headline  \n",
       "0                          Redundancy and Signing on  \n",
       "1  Drag queen Lavender accepts CMAT’s Choice Musi...  \n",
       "2  Learning Irish as a carribean heritage Brit! A...  \n",
       "3                           Auralia cosmetic clinic.  \n",
       "4                                             Joe.ie  "
      ]
     },
     "execution_count": 10,
     "metadata": {},
     "output_type": "execute_result"
    }
   ],
   "source": [
    "df = pd.DataFrame.from_records(results)\n",
    "df.head()"
   ]
  },
  {
   "cell_type": "markdown",
   "id": "35ac390b",
   "metadata": {},
   "source": [
    "### defining positive and negative label"
   ]
  },
  {
   "cell_type": "code",
   "execution_count": 11,
   "id": "f893302b",
   "metadata": {},
   "outputs": [],
   "source": [
    "def define_positive(df):\n",
    "    df['label'] = 0\n",
    "    df.loc[df['compound'] > 0.2, 'label'] = 1\n",
    "    df.loc[df['compound'] < -0.2, 'label'] = -1\n",
    "    return df\n",
    "    "
   ]
  },
  {
   "cell_type": "code",
   "execution_count": 12,
   "id": "e2660e66",
   "metadata": {},
   "outputs": [
    {
     "data": {
      "text/html": [
       "<div>\n",
       "<style scoped>\n",
       "    .dataframe tbody tr th:only-of-type {\n",
       "        vertical-align: middle;\n",
       "    }\n",
       "\n",
       "    .dataframe tbody tr th {\n",
       "        vertical-align: top;\n",
       "    }\n",
       "\n",
       "    .dataframe thead th {\n",
       "        text-align: right;\n",
       "    }\n",
       "</style>\n",
       "<table border=\"1\" class=\"dataframe\">\n",
       "  <thead>\n",
       "    <tr style=\"text-align: right;\">\n",
       "      <th></th>\n",
       "      <th>neg</th>\n",
       "      <th>neu</th>\n",
       "      <th>pos</th>\n",
       "      <th>compound</th>\n",
       "      <th>headline</th>\n",
       "      <th>label</th>\n",
       "    </tr>\n",
       "  </thead>\n",
       "  <tbody>\n",
       "    <tr>\n",
       "      <th>0</th>\n",
       "      <td>0.000</td>\n",
       "      <td>1.000</td>\n",
       "      <td>0.000</td>\n",
       "      <td>0.0000</td>\n",
       "      <td>Redundancy and Signing on</td>\n",
       "      <td>0</td>\n",
       "    </tr>\n",
       "    <tr>\n",
       "      <th>1</th>\n",
       "      <td>0.096</td>\n",
       "      <td>0.406</td>\n",
       "      <td>0.497</td>\n",
       "      <td>0.8360</td>\n",
       "      <td>Drag queen Lavender accepts CMAT’s Choice Musi...</td>\n",
       "      <td>1</td>\n",
       "    </tr>\n",
       "    <tr>\n",
       "      <th>2</th>\n",
       "      <td>0.000</td>\n",
       "      <td>0.661</td>\n",
       "      <td>0.339</td>\n",
       "      <td>0.5562</td>\n",
       "      <td>Learning Irish as a carribean heritage Brit! A...</td>\n",
       "      <td>1</td>\n",
       "    </tr>\n",
       "    <tr>\n",
       "      <th>3</th>\n",
       "      <td>0.000</td>\n",
       "      <td>1.000</td>\n",
       "      <td>0.000</td>\n",
       "      <td>0.0000</td>\n",
       "      <td>Auralia cosmetic clinic.</td>\n",
       "      <td>0</td>\n",
       "    </tr>\n",
       "    <tr>\n",
       "      <th>4</th>\n",
       "      <td>0.000</td>\n",
       "      <td>1.000</td>\n",
       "      <td>0.000</td>\n",
       "      <td>0.0000</td>\n",
       "      <td>Joe.ie</td>\n",
       "      <td>0</td>\n",
       "    </tr>\n",
       "  </tbody>\n",
       "</table>\n",
       "</div>"
      ],
      "text/plain": [
       "     neg    neu    pos  compound  \\\n",
       "0  0.000  1.000  0.000    0.0000   \n",
       "1  0.096  0.406  0.497    0.8360   \n",
       "2  0.000  0.661  0.339    0.5562   \n",
       "3  0.000  1.000  0.000    0.0000   \n",
       "4  0.000  1.000  0.000    0.0000   \n",
       "\n",
       "                                            headline  label  \n",
       "0                          Redundancy and Signing on      0  \n",
       "1  Drag queen Lavender accepts CMAT’s Choice Musi...      1  \n",
       "2  Learning Irish as a carribean heritage Brit! A...      1  \n",
       "3                           Auralia cosmetic clinic.      0  \n",
       "4                                             Joe.ie      0  "
      ]
     },
     "execution_count": 12,
     "metadata": {},
     "output_type": "execute_result"
    }
   ],
   "source": [
    "df['label'] = 0\n",
    "df.loc[df['compound'] > 0.2, 'label'] = 1\n",
    "df.loc[df['compound'] < -0.2, 'label'] = -1\n",
    "df.head()"
   ]
  },
  {
   "cell_type": "markdown",
   "id": "ca45cc10",
   "metadata": {},
   "source": [
    "### dataframe r/newzealand"
   ]
  },
  {
   "cell_type": "code",
   "execution_count": 13,
   "id": "8f997a0d",
   "metadata": {},
   "outputs": [
    {
     "data": {
      "text/html": [
       "<div>\n",
       "<style scoped>\n",
       "    .dataframe tbody tr th:only-of-type {\n",
       "        vertical-align: middle;\n",
       "    }\n",
       "\n",
       "    .dataframe tbody tr th {\n",
       "        vertical-align: top;\n",
       "    }\n",
       "\n",
       "    .dataframe thead th {\n",
       "        text-align: right;\n",
       "    }\n",
       "</style>\n",
       "<table border=\"1\" class=\"dataframe\">\n",
       "  <thead>\n",
       "    <tr style=\"text-align: right;\">\n",
       "      <th></th>\n",
       "      <th>neg</th>\n",
       "      <th>neu</th>\n",
       "      <th>pos</th>\n",
       "      <th>compound</th>\n",
       "      <th>headline</th>\n",
       "    </tr>\n",
       "  </thead>\n",
       "  <tbody>\n",
       "    <tr>\n",
       "      <th>0</th>\n",
       "      <td>0.0</td>\n",
       "      <td>1.000</td>\n",
       "      <td>0.000</td>\n",
       "      <td>0.0000</td>\n",
       "      <td>travel insurance for WHV</td>\n",
       "    </tr>\n",
       "    <tr>\n",
       "      <th>1</th>\n",
       "      <td>0.0</td>\n",
       "      <td>1.000</td>\n",
       "      <td>0.000</td>\n",
       "      <td>0.0000</td>\n",
       "      <td>How about a flair for spiders?</td>\n",
       "    </tr>\n",
       "    <tr>\n",
       "      <th>2</th>\n",
       "      <td>0.0</td>\n",
       "      <td>0.649</td>\n",
       "      <td>0.351</td>\n",
       "      <td>0.4019</td>\n",
       "      <td>Gaming PC help for my kid</td>\n",
       "    </tr>\n",
       "    <tr>\n",
       "      <th>3</th>\n",
       "      <td>0.0</td>\n",
       "      <td>1.000</td>\n",
       "      <td>0.000</td>\n",
       "      <td>0.0000</td>\n",
       "      <td>Should Maccas do the same here?😀😂</td>\n",
       "    </tr>\n",
       "    <tr>\n",
       "      <th>4</th>\n",
       "      <td>0.0</td>\n",
       "      <td>0.809</td>\n",
       "      <td>0.191</td>\n",
       "      <td>0.5106</td>\n",
       "      <td>Reference to the 2nd New Zealand Division in n...</td>\n",
       "    </tr>\n",
       "  </tbody>\n",
       "</table>\n",
       "</div>"
      ],
      "text/plain": [
       "   neg    neu    pos  compound  \\\n",
       "0  0.0  1.000  0.000    0.0000   \n",
       "1  0.0  1.000  0.000    0.0000   \n",
       "2  0.0  0.649  0.351    0.4019   \n",
       "3  0.0  1.000  0.000    0.0000   \n",
       "4  0.0  0.809  0.191    0.5106   \n",
       "\n",
       "                                            headline  \n",
       "0                           travel insurance for WHV  \n",
       "1                     How about a flair for spiders?  \n",
       "2                          Gaming PC help for my kid  \n",
       "3                  Should Maccas do the same here?😀😂  \n",
       "4  Reference to the 2nd New Zealand Division in n...  "
      ]
     },
     "execution_count": 13,
     "metadata": {},
     "output_type": "execute_result"
    }
   ],
   "source": [
    "df_nz = pd.DataFrame.from_records(results_nz)\n",
    "df_nz.head()"
   ]
  },
  {
   "cell_type": "markdown",
   "id": "8d98f9c7",
   "metadata": {},
   "source": [
    "### defining positive and negative label"
   ]
  },
  {
   "cell_type": "code",
   "execution_count": 14,
   "id": "5519d9fc",
   "metadata": {},
   "outputs": [
    {
     "data": {
      "text/html": [
       "<div>\n",
       "<style scoped>\n",
       "    .dataframe tbody tr th:only-of-type {\n",
       "        vertical-align: middle;\n",
       "    }\n",
       "\n",
       "    .dataframe tbody tr th {\n",
       "        vertical-align: top;\n",
       "    }\n",
       "\n",
       "    .dataframe thead th {\n",
       "        text-align: right;\n",
       "    }\n",
       "</style>\n",
       "<table border=\"1\" class=\"dataframe\">\n",
       "  <thead>\n",
       "    <tr style=\"text-align: right;\">\n",
       "      <th></th>\n",
       "      <th>neg</th>\n",
       "      <th>neu</th>\n",
       "      <th>pos</th>\n",
       "      <th>compound</th>\n",
       "      <th>headline</th>\n",
       "      <th>label</th>\n",
       "    </tr>\n",
       "  </thead>\n",
       "  <tbody>\n",
       "    <tr>\n",
       "      <th>0</th>\n",
       "      <td>0.0</td>\n",
       "      <td>1.000</td>\n",
       "      <td>0.000</td>\n",
       "      <td>0.0000</td>\n",
       "      <td>travel insurance for WHV</td>\n",
       "      <td>0</td>\n",
       "    </tr>\n",
       "    <tr>\n",
       "      <th>1</th>\n",
       "      <td>0.0</td>\n",
       "      <td>1.000</td>\n",
       "      <td>0.000</td>\n",
       "      <td>0.0000</td>\n",
       "      <td>How about a flair for spiders?</td>\n",
       "      <td>0</td>\n",
       "    </tr>\n",
       "    <tr>\n",
       "      <th>2</th>\n",
       "      <td>0.0</td>\n",
       "      <td>0.649</td>\n",
       "      <td>0.351</td>\n",
       "      <td>0.4019</td>\n",
       "      <td>Gaming PC help for my kid</td>\n",
       "      <td>1</td>\n",
       "    </tr>\n",
       "    <tr>\n",
       "      <th>3</th>\n",
       "      <td>0.0</td>\n",
       "      <td>1.000</td>\n",
       "      <td>0.000</td>\n",
       "      <td>0.0000</td>\n",
       "      <td>Should Maccas do the same here?😀😂</td>\n",
       "      <td>0</td>\n",
       "    </tr>\n",
       "    <tr>\n",
       "      <th>4</th>\n",
       "      <td>0.0</td>\n",
       "      <td>0.809</td>\n",
       "      <td>0.191</td>\n",
       "      <td>0.5106</td>\n",
       "      <td>Reference to the 2nd New Zealand Division in n...</td>\n",
       "      <td>1</td>\n",
       "    </tr>\n",
       "  </tbody>\n",
       "</table>\n",
       "</div>"
      ],
      "text/plain": [
       "   neg    neu    pos  compound  \\\n",
       "0  0.0  1.000  0.000    0.0000   \n",
       "1  0.0  1.000  0.000    0.0000   \n",
       "2  0.0  0.649  0.351    0.4019   \n",
       "3  0.0  1.000  0.000    0.0000   \n",
       "4  0.0  0.809  0.191    0.5106   \n",
       "\n",
       "                                            headline  label  \n",
       "0                           travel insurance for WHV      0  \n",
       "1                     How about a flair for spiders?      0  \n",
       "2                          Gaming PC help for my kid      1  \n",
       "3                  Should Maccas do the same here?😀😂      0  \n",
       "4  Reference to the 2nd New Zealand Division in n...      1  "
      ]
     },
     "execution_count": 14,
     "metadata": {},
     "output_type": "execute_result"
    }
   ],
   "source": [
    "df_nz['label'] = 0\n",
    "df_nz.loc[df_nz['compound'] > 0.2, 'label'] = 1\n",
    "df_nz.loc[df_nz['compound'] < -0.2, 'label'] = -1\n",
    "df_nz.head()"
   ]
  },
  {
   "cell_type": "markdown",
   "id": "187cdf95",
   "metadata": {},
   "source": [
    "### example of positive and neg headlines r/ireland"
   ]
  },
  {
   "cell_type": "code",
   "execution_count": 15,
   "id": "7d31f0b2",
   "metadata": {},
   "outputs": [
    {
     "name": "stdout",
     "output_type": "stream",
     "text": [
      "Positive headlines:\n",
      "\n",
      "['Drag queen Lavender accepts CMAT’s Choice Music Prize for best Irish album',\n",
      " 'Learning Irish as a carribean heritage Brit! Appreciation post.',\n",
      " 'Jesus is a Celtic fan',\n",
      " 'When we wake up tomorrow morning Barry Keoghan could be an Oscar winning actor - Just let that sink in for a minute',\n",
      " 'Farmers call for changes to solar energy scheme rules']\n",
      "\n",
      "Negative headlines:\n",
      "\n",
      "['How do you say \"Change is hard\" or \"Change is difficult\" in Irish? I\\'m writing down this phrase in several languages for a school project but I don\\'t trust google translate to be completely '\n",
      " 'accurate. Thank you in advance!',\n",
      " 'The Irish media are being so annoying about Paul Mescal and the Oscars.',\n",
      " 'Stout spam',\n",
      " 'Terminal illness moving in EU to be with family',\n",
      " \"Opinion: The argument for more ministers? Just look at Roderic O'Gorman's workload\"]\n"
     ]
    }
   ],
   "source": [
    "print(\"Positive headlines:\\n\")\n",
    "pprint(list(df[df['label'] == 1].headline)[:5], width=200)\n",
    "\n",
    "print(\"\\nNegative headlines:\\n\")\n",
    "pprint(list(df[df['label'] == -1].headline)[:5], width=200)"
   ]
  },
  {
   "cell_type": "markdown",
   "id": "754b5349",
   "metadata": {},
   "source": [
    "### example of positive and neg headlines r/newzealand"
   ]
  },
  {
   "cell_type": "code",
   "execution_count": 16,
   "id": "bd228362",
   "metadata": {},
   "outputs": [
    {
     "name": "stdout",
     "output_type": "stream",
     "text": [
      "Positive headlines:\n",
      "\n",
      "['Gaming PC help for my kid',\n",
      " 'Reference to the 2nd New Zealand Division in new strategy video game Company of Heroes 3',\n",
      " \"Bank profits 'costing New Zealanders $2000 a year each'\",\n",
      " 'Buying 2nd hand PC from online refurbishers',\n",
      " \"'You can love more than one person’: My life living with two other women\"]\n",
      "\n",
      "Negative headlines:\n",
      "\n",
      "[\"Banking expert says Kiwis' deposits would not be protected if NZ bank was to collapse\",\n",
      " 'Woman who used burner phones to harass ex-partner worked for police',\n",
      " 'The Holy Hell of New Zealand’s Biggest Pentecostal Megachurches',\n",
      " 'Anyone know where I can buy these pens? They\\'re 7.0mm from the brand \"easy office\", but I can\\'t find them anywhere! My office has them and they\\'re everyone\\'s favourites, but no one can seem to '\n",
      " 'remember where they were brought from.',\n",
      " \"National MPs follow Luxon's line of attack on public service contractors\"]\n"
     ]
    }
   ],
   "source": [
    "print(\"Positive headlines:\\n\")\n",
    "pprint(list(df_nz[df_nz['label'] == 1].headline)[:5], width=200)\n",
    "\n",
    "print(\"\\nNegative headlines:\\n\")\n",
    "pprint(list(df_nz[df_nz['label'] == -1].headline)[:5], width=200)"
   ]
  },
  {
   "cell_type": "markdown",
   "id": "c95ca0b9",
   "metadata": {},
   "source": [
    "### looking at value counts r/ireland"
   ]
  },
  {
   "cell_type": "code",
   "execution_count": 17,
   "id": "888a8018",
   "metadata": {},
   "outputs": [
    {
     "name": "stdout",
     "output_type": "stream",
     "text": [
      " 0    499\n",
      " 1    211\n",
      "-1    187\n",
      "Name: label, dtype: int64\n",
      " 0    55.629877\n",
      " 1    23.522854\n",
      "-1    20.847269\n",
      "Name: label, dtype: float64\n"
     ]
    }
   ],
   "source": [
    "print(df.label.value_counts())\n",
    "print(df.label.value_counts(normalize=True) * 100)\n"
   ]
  },
  {
   "cell_type": "markdown",
   "id": "68d47574",
   "metadata": {},
   "source": [
    "### looking at value counts r/newzealand"
   ]
  },
  {
   "cell_type": "code",
   "execution_count": 18,
   "id": "df4176f4",
   "metadata": {},
   "outputs": [
    {
     "name": "stdout",
     "output_type": "stream",
     "text": [
      " 0    525\n",
      "-1    188\n",
      " 1    187\n",
      "Name: label, dtype: int64\n",
      " 0    58.333333\n",
      "-1    20.888889\n",
      " 1    20.777778\n",
      "Name: label, dtype: float64\n"
     ]
    }
   ],
   "source": [
    "print(df_nz.label.value_counts())\n",
    "print(df_nz.label.value_counts(normalize=True) * 100)"
   ]
  },
  {
   "cell_type": "markdown",
   "id": "7c5b157a",
   "metadata": {},
   "source": [
    "### graph comparing results "
   ]
  },
  {
   "cell_type": "markdown",
   "id": "35b73f43",
   "metadata": {},
   "source": [
    "code adapted from: https://stackoverflow.com/questions/10369681/how-to-plot-bar-graphs-with-same-x-coordinates-side-by-side-dodged "
   ]
  },
  {
   "cell_type": "code",
   "execution_count": 19,
   "id": "b5ae66d5",
   "metadata": {},
   "outputs": [
    {
     "data": {
      "image/png": "[encoded data removed]",
      "text/plain": [
       "<Figure size 720x360 with 1 Axes>"
      ]
     },
     "metadata": {
      "needs_background": "light"
     },
     "output_type": "display_data"
    }
   ],
   "source": [
    "counts_nz = df_nz.label.value_counts(normalize=True) * 100\n",
    "\n",
    "counts_ireland = df.label.value_counts(normalize=True) * 100\n",
    "N = 3\n",
    "\n",
    "blue_bar = (counts_ireland)\n",
    "orange_bar = (counts_nz)\n",
    "\n",
    "# Position of bars on x-axis\n",
    "ind = np.arange(N)\n",
    "# Figure size\n",
    "plt.figure(figsize=(10,5))\n",
    "\n",
    "# Width of a bar \n",
    "width = 0.3       \n",
    "\n",
    "# Plotting\n",
    "plt.bar(ind, blue_bar , width, label='Ireland')\n",
    "plt.bar(ind + width, orange_bar, width, label='newzealand')\n",
    "\n",
    "plt.ylabel('Percentage')\n",
    "plt.title('Comparing r/ireland and r/newzealand most recent 900 posts')\n",
    "\n",
    "plt.xticks(ind + width / 2, ('Neutral', 'Negative', 'Positve'))\n",
    "\n",
    "# Finding the best position for legends and putting it\n",
    "plt.legend(loc='best')\n",
    "plt.show()"
   ]
  },
  {
   "cell_type": "markdown",
   "id": "35dfc94f",
   "metadata": {},
   "source": [
    "### detailed stats of r/ireland most recent 900 post titles"
   ]
  },
  {
   "cell_type": "code",
   "execution_count": 20,
   "id": "c8db6345",
   "metadata": {},
   "outputs": [
    {
     "data": {
      "text/html": [
       "<div>\n",
       "<style scoped>\n",
       "    .dataframe tbody tr th:only-of-type {\n",
       "        vertical-align: middle;\n",
       "    }\n",
       "\n",
       "    .dataframe tbody tr th {\n",
       "        vertical-align: top;\n",
       "    }\n",
       "\n",
       "    .dataframe thead th {\n",
       "        text-align: right;\n",
       "    }\n",
       "</style>\n",
       "<table border=\"1\" class=\"dataframe\">\n",
       "  <thead>\n",
       "    <tr style=\"text-align: right;\">\n",
       "      <th></th>\n",
       "      <th>neg</th>\n",
       "      <th>neu</th>\n",
       "      <th>pos</th>\n",
       "      <th>compound</th>\n",
       "      <th>label</th>\n",
       "    </tr>\n",
       "  </thead>\n",
       "  <tbody>\n",
       "    <tr>\n",
       "      <th>count</th>\n",
       "      <td>897.000000</td>\n",
       "      <td>897.000000</td>\n",
       "      <td>897.000000</td>\n",
       "      <td>897.000000</td>\n",
       "      <td>897.000000</td>\n",
       "    </tr>\n",
       "    <tr>\n",
       "      <th>mean</th>\n",
       "      <td>0.074524</td>\n",
       "      <td>0.841479</td>\n",
       "      <td>0.082880</td>\n",
       "      <td>0.010822</td>\n",
       "      <td>0.026756</td>\n",
       "    </tr>\n",
       "    <tr>\n",
       "      <th>std</th>\n",
       "      <td>0.140575</td>\n",
       "      <td>0.190661</td>\n",
       "      <td>0.150649</td>\n",
       "      <td>0.353492</td>\n",
       "      <td>0.665943</td>\n",
       "    </tr>\n",
       "    <tr>\n",
       "      <th>min</th>\n",
       "      <td>0.000000</td>\n",
       "      <td>0.000000</td>\n",
       "      <td>0.000000</td>\n",
       "      <td>-0.931300</td>\n",
       "      <td>-1.000000</td>\n",
       "    </tr>\n",
       "    <tr>\n",
       "      <th>25%</th>\n",
       "      <td>0.000000</td>\n",
       "      <td>0.710000</td>\n",
       "      <td>0.000000</td>\n",
       "      <td>0.000000</td>\n",
       "      <td>0.000000</td>\n",
       "    </tr>\n",
       "    <tr>\n",
       "      <th>50%</th>\n",
       "      <td>0.000000</td>\n",
       "      <td>0.925000</td>\n",
       "      <td>0.000000</td>\n",
       "      <td>0.000000</td>\n",
       "      <td>0.000000</td>\n",
       "    </tr>\n",
       "    <tr>\n",
       "      <th>75%</th>\n",
       "      <td>0.109000</td>\n",
       "      <td>1.000000</td>\n",
       "      <td>0.130000</td>\n",
       "      <td>0.102700</td>\n",
       "      <td>0.000000</td>\n",
       "    </tr>\n",
       "    <tr>\n",
       "      <th>max</th>\n",
       "      <td>0.773000</td>\n",
       "      <td>1.000000</td>\n",
       "      <td>1.000000</td>\n",
       "      <td>0.939300</td>\n",
       "      <td>1.000000</td>\n",
       "    </tr>\n",
       "  </tbody>\n",
       "</table>\n",
       "</div>"
      ],
      "text/plain": [
       "              neg         neu         pos    compound       label\n",
       "count  897.000000  897.000000  897.000000  897.000000  897.000000\n",
       "mean     0.074524    0.841479    0.082880    0.010822    0.026756\n",
       "std      0.140575    0.190661    0.150649    0.353492    0.665943\n",
       "min      0.000000    0.000000    0.000000   -0.931300   -1.000000\n",
       "25%      0.000000    0.710000    0.000000    0.000000    0.000000\n",
       "50%      0.000000    0.925000    0.000000    0.000000    0.000000\n",
       "75%      0.109000    1.000000    0.130000    0.102700    0.000000\n",
       "max      0.773000    1.000000    1.000000    0.939300    1.000000"
      ]
     },
     "execution_count": 20,
     "metadata": {},
     "output_type": "execute_result"
    }
   ],
   "source": [
    "df.describe()"
   ]
  },
  {
   "cell_type": "markdown",
   "id": "4e957fc4",
   "metadata": {},
   "source": [
    "### detailed stats of r/newzealand most recent 900 post titles"
   ]
  },
  {
   "cell_type": "code",
   "execution_count": 21,
   "id": "0b854eec",
   "metadata": {},
   "outputs": [
    {
     "data": {
      "text/html": [
       "<div>\n",
       "<style scoped>\n",
       "    .dataframe tbody tr th:only-of-type {\n",
       "        vertical-align: middle;\n",
       "    }\n",
       "\n",
       "    .dataframe tbody tr th {\n",
       "        vertical-align: top;\n",
       "    }\n",
       "\n",
       "    .dataframe thead th {\n",
       "        text-align: right;\n",
       "    }\n",
       "</style>\n",
       "<table border=\"1\" class=\"dataframe\">\n",
       "  <thead>\n",
       "    <tr style=\"text-align: right;\">\n",
       "      <th></th>\n",
       "      <th>neg</th>\n",
       "      <th>neu</th>\n",
       "      <th>pos</th>\n",
       "      <th>compound</th>\n",
       "      <th>label</th>\n",
       "    </tr>\n",
       "  </thead>\n",
       "  <tbody>\n",
       "    <tr>\n",
       "      <th>count</th>\n",
       "      <td>900.000000</td>\n",
       "      <td>900.000000</td>\n",
       "      <td>900.000000</td>\n",
       "      <td>900.000000</td>\n",
       "      <td>900.000000</td>\n",
       "    </tr>\n",
       "    <tr>\n",
       "      <th>mean</th>\n",
       "      <td>0.079311</td>\n",
       "      <td>0.840647</td>\n",
       "      <td>0.080034</td>\n",
       "      <td>-0.004452</td>\n",
       "      <td>-0.001111</td>\n",
       "    </tr>\n",
       "    <tr>\n",
       "      <th>std</th>\n",
       "      <td>0.150090</td>\n",
       "      <td>0.197680</td>\n",
       "      <td>0.153326</td>\n",
       "      <td>0.337100</td>\n",
       "      <td>0.645855</td>\n",
       "    </tr>\n",
       "    <tr>\n",
       "      <th>min</th>\n",
       "      <td>0.000000</td>\n",
       "      <td>0.141000</td>\n",
       "      <td>0.000000</td>\n",
       "      <td>-0.950900</td>\n",
       "      <td>-1.000000</td>\n",
       "    </tr>\n",
       "    <tr>\n",
       "      <th>25%</th>\n",
       "      <td>0.000000</td>\n",
       "      <td>0.707000</td>\n",
       "      <td>0.000000</td>\n",
       "      <td>0.000000</td>\n",
       "      <td>0.000000</td>\n",
       "    </tr>\n",
       "    <tr>\n",
       "      <th>50%</th>\n",
       "      <td>0.000000</td>\n",
       "      <td>1.000000</td>\n",
       "      <td>0.000000</td>\n",
       "      <td>0.000000</td>\n",
       "      <td>0.000000</td>\n",
       "    </tr>\n",
       "    <tr>\n",
       "      <th>75%</th>\n",
       "      <td>0.116250</td>\n",
       "      <td>1.000000</td>\n",
       "      <td>0.118000</td>\n",
       "      <td>0.000000</td>\n",
       "      <td>0.000000</td>\n",
       "    </tr>\n",
       "    <tr>\n",
       "      <th>max</th>\n",
       "      <td>0.756000</td>\n",
       "      <td>1.000000</td>\n",
       "      <td>0.783000</td>\n",
       "      <td>0.895700</td>\n",
       "      <td>1.000000</td>\n",
       "    </tr>\n",
       "  </tbody>\n",
       "</table>\n",
       "</div>"
      ],
      "text/plain": [
       "              neg         neu         pos    compound       label\n",
       "count  900.000000  900.000000  900.000000  900.000000  900.000000\n",
       "mean     0.079311    0.840647    0.080034   -0.004452   -0.001111\n",
       "std      0.150090    0.197680    0.153326    0.337100    0.645855\n",
       "min      0.000000    0.141000    0.000000   -0.950900   -1.000000\n",
       "25%      0.000000    0.707000    0.000000    0.000000    0.000000\n",
       "50%      0.000000    1.000000    0.000000    0.000000    0.000000\n",
       "75%      0.116250    1.000000    0.118000    0.000000    0.000000\n",
       "max      0.756000    1.000000    0.783000    0.895700    1.000000"
      ]
     },
     "execution_count": 21,
     "metadata": {},
     "output_type": "execute_result"
    }
   ],
   "source": [
    "df_nz.describe()"
   ]
  },
  {
   "cell_type": "markdown",
   "id": "7c277990",
   "metadata": {},
   "source": [
    "### visualising compound scores"
   ]
  },
  {
   "cell_type": "code",
   "execution_count": 22,
   "id": "0a11c5fe",
   "metadata": {},
   "outputs": [
    {
     "data": {
      "image/png": "[encoded data removed]",
      "text/plain": [
       "<Figure size 432x288 with 1 Axes>"
      ]
     },
     "metadata": {
      "needs_background": "light"
     },
     "output_type": "display_data"
    }
   ],
   "source": [
    "plt.hist(df[\"compound\"], bins=10)\n",
    "\n",
    "plt.title('histogram of r/ireland titles compound scores most recent 900 titles')\n",
    "plt.xlabel('compound score')\n",
    "plt.ylabel('amount of comments')\n",
    "\n",
    "plt.show()"
   ]
  },
  {
   "cell_type": "code",
   "execution_count": 23,
   "id": "6479f9b1",
   "metadata": {
    "scrolled": true
   },
   "outputs": [
    {
     "data": {
      "image/png": "[encoded data removed]",
      "text/plain": [
       "<Figure size 432x288 with 1 Axes>"
      ]
     },
     "metadata": {
      "needs_background": "light"
     },
     "output_type": "display_data"
    }
   ],
   "source": [
    "plt.hist(df_nz[\"compound\"], bins=10)\n",
    "\n",
    "plt.title('histogram of r/newzealand titles compound scores most recent 900 titles')\n",
    "plt.xlabel('compound score')\n",
    "plt.ylabel('amount of comments')\n",
    "\n",
    "plt.show()"
   ]
  },
  {
   "cell_type": "markdown",
   "id": "6e5dce54",
   "metadata": {},
   "source": [
    "### box plots of most recent 900 titles "
   ]
  },
  {
   "cell_type": "code",
   "execution_count": 24,
   "id": "8a97bab5",
   "metadata": {},
   "outputs": [
    {
     "data": {
      "image/png": "[encoded data removed]",
      "text/plain": [
       "<Figure size 432x288 with 1 Axes>"
      ]
     },
     "metadata": {
      "needs_background": "light"
     },
     "output_type": "display_data"
    }
   ],
   "source": [
    "plt.boxplot(df[\"compound\"])\n",
    "\n",
    "plt.title('boxplot of r/ireland most recent titles compound scores')\n",
    "plt.xlabel('compound score')\n",
    "plt.ylabel('amount of comments')\n",
    "\n",
    "plt.show()"
   ]
  },
  {
   "cell_type": "code",
   "execution_count": 25,
   "id": "de3c3a43",
   "metadata": {},
   "outputs": [
    {
     "data": {
      "image/png": "[encoded data removed]",
      "text/plain": [
       "<Figure size 432x288 with 1 Axes>"
      ]
     },
     "metadata": {
      "needs_background": "light"
     },
     "output_type": "display_data"
    }
   ],
   "source": [
    "plt.boxplot(df_nz[\"compound\"])\n",
    "\n",
    "plt.title('boxplot of r/newzealand most recent titles compound scores')\n",
    "plt.xlabel('compound score')\n",
    "plt.ylabel('amount of comments')\n",
    "\n",
    "plt.show()"
   ]
  },
  {
   "cell_type": "markdown",
   "id": "3808e395",
   "metadata": {},
   "source": [
    "### Looking at headlines in more detail:"
   ]
  },
  {
   "cell_type": "code",
   "execution_count": 26,
   "id": "f2f9b4ec",
   "metadata": {},
   "outputs": [],
   "source": [
    "# tokenizer that only looks at words, removes punctuation and also treats new zealand as one token \n",
    "tokenizer = RegexpTokenizer(r'\\b(?:New Zealand|new zealand)\\b|[^\\W\\d]+')\n",
    "stop_words = stopwords.words('english')\n",
    "\n",
    "def process_text(headlines):\n",
    "    tokens = []\n",
    "    for line in headlines:\n",
    "        toks = tokenizer.tokenize(line)\n",
    "#         removing stop words\n",
    "        toks = [t.lower() for t in toks if t.lower() not in stop_words]\n",
    "        tokens.extend(toks)\n",
    "    \n",
    "    return tokens"
   ]
  },
  {
   "cell_type": "markdown",
   "id": "a4b82c21",
   "metadata": {},
   "source": [
    "### r/newzealand \"positive\" headlines"
   ]
  },
  {
   "cell_type": "code",
   "execution_count": 27,
   "id": "37505077",
   "metadata": {},
   "outputs": [
    {
     "data": {
      "text/plain": [
       "[('good', 17),\n",
       " ('nz', 17),\n",
       " ('best', 16),\n",
       " ('help', 15),\n",
       " ('new zealand', 11),\n",
       " ('new', 9),\n",
       " ('anyone', 9),\n",
       " ('please', 7),\n",
       " ('like', 7),\n",
       " ('get', 7),\n",
       " ('buying', 5),\n",
       " ('love', 5),\n",
       " ('government', 5),\n",
       " ('census', 5),\n",
       " ('people', 5),\n",
       " ('looking', 5),\n",
       " ('working', 5),\n",
       " ('kiwi', 5),\n",
       " ('job', 5),\n",
       " ('one', 4)]"
      ]
     },
     "execution_count": 27,
     "metadata": {},
     "output_type": "execute_result"
    }
   ],
   "source": [
    "pos_lines_nz = list(df_nz[df_nz.label == 1].headline)\n",
    "\n",
    "pos_tokens_nz = process_text(pos_lines_nz)\n",
    "pos_freq_nz = nltk.FreqDist(pos_tokens_nz)\n",
    "\n",
    "pos_freq_nz.most_common(20)"
   ]
  },
  {
   "cell_type": "markdown",
   "id": "bc8d06c2",
   "metadata": {},
   "source": [
    "### positive words r/newzealand "
   ]
  },
  {
   "cell_type": "code",
   "execution_count": 28,
   "id": "1a402bb9",
   "metadata": {},
   "outputs": [
    {
     "data": {
      "image/png": "[encoded data removed]",
      "text/plain": [
       "<Figure size 432x288 with 1 Axes>"
      ]
     },
     "metadata": {
      "needs_background": "light"
     },
     "output_type": "display_data"
    },
    {
     "data": {
      "text/plain": [
       "<AxesSubplot:xlabel='Samples', ylabel='Counts'>"
      ]
     },
     "execution_count": 28,
     "metadata": {},
     "output_type": "execute_result"
    }
   ],
   "source": [
    "pos_freq_nz.plot(20)"
   ]
  },
  {
   "cell_type": "markdown",
   "id": "becdab59",
   "metadata": {},
   "source": [
    "### r/ireland - \"positive\" headlines "
   ]
  },
  {
   "cell_type": "code",
   "execution_count": 29,
   "id": "00f1f4ed",
   "metadata": {
    "scrolled": true
   },
   "outputs": [
    {
     "data": {
      "text/plain": [
       "[('ireland', 32),\n",
       " ('best', 16),\n",
       " ('irish', 16),\n",
       " ('like', 14),\n",
       " ('would', 14),\n",
       " ('get', 12),\n",
       " ('free', 12),\n",
       " ('good', 10),\n",
       " ('anyone', 9),\n",
       " ('help', 9),\n",
       " ('well', 9),\n",
       " ('day', 9),\n",
       " ('could', 8),\n",
       " ('credit', 8),\n",
       " ('house', 8),\n",
       " ('looking', 7),\n",
       " ('public', 7),\n",
       " ('time', 7),\n",
       " ('see', 6),\n",
       " ('snow', 6)]"
      ]
     },
     "execution_count": 29,
     "metadata": {},
     "output_type": "execute_result"
    }
   ],
   "source": [
    "pos_lines_ireland = list(df[df.label == 1].headline)\n",
    "\n",
    "pos_tokens_ireland = process_text(pos_lines_ireland)\n",
    "pos_freq_ireland = nltk.FreqDist(pos_tokens_ireland)\n",
    "\n",
    "pos_freq_ireland.most_common(20)"
   ]
  },
  {
   "cell_type": "markdown",
   "id": "1c373f5d",
   "metadata": {},
   "source": [
    "### Positive words r/ireland most recent 900 post titles:"
   ]
  },
  {
   "cell_type": "code",
   "execution_count": 30,
   "id": "8f074063",
   "metadata": {},
   "outputs": [
    {
     "data": {
      "image/png": "[encoded data removed]",
      "text/plain": [
       "<Figure size 432x288 with 1 Axes>"
      ]
     },
     "metadata": {
      "needs_background": "light"
     },
     "output_type": "display_data"
    },
    {
     "data": {
      "text/plain": [
       "<AxesSubplot:xlabel='Samples', ylabel='Counts'>"
      ]
     },
     "execution_count": 30,
     "metadata": {},
     "output_type": "execute_result"
    }
   ],
   "source": [
    "pos_freq_ireland.plot(20)"
   ]
  },
  {
   "cell_type": "markdown",
   "id": "016b81bc",
   "metadata": {},
   "source": [
    "### r/newzealand \"negative\" headlines"
   ]
  },
  {
   "cell_type": "code",
   "execution_count": 31,
   "id": "171f428b",
   "metadata": {},
   "outputs": [
    {
     "data": {
      "text/plain": [
       "[('nz', 18),\n",
       " ('auckland', 8),\n",
       " ('new zealand', 7),\n",
       " ('murder', 7),\n",
       " ('police', 6),\n",
       " ('house', 6),\n",
       " ('wrong', 6),\n",
       " ('years', 6),\n",
       " ('one', 5),\n",
       " ('court', 5),\n",
       " ('k', 5),\n",
       " ('new', 5),\n",
       " ('us', 5),\n",
       " ('help', 5),\n",
       " ('work', 5),\n",
       " ('bad', 5),\n",
       " ('advice', 5),\n",
       " ('anyone', 4),\n",
       " ('attack', 4),\n",
       " ('public', 4)]"
      ]
     },
     "execution_count": 31,
     "metadata": {},
     "output_type": "execute_result"
    }
   ],
   "source": [
    "neg_lines_nz = list(df_nz[df_nz.label == -1].headline)\n",
    "\n",
    "neg_tokens_nz = process_text(neg_lines_nz)\n",
    "neg_freq_nz = nltk.FreqDist(neg_tokens_nz)\n",
    "\n",
    "neg_freq_nz.most_common(20)"
   ]
  },
  {
   "cell_type": "markdown",
   "id": "b3ba784a",
   "metadata": {},
   "source": [
    "### negative word frequency r/newzealand top 20 words"
   ]
  },
  {
   "cell_type": "code",
   "execution_count": 32,
   "id": "53a419bc",
   "metadata": {},
   "outputs": [
    {
     "data": {
      "image/png": "[encoded data removed]",
      "text/plain": [
       "<Figure size 432x288 with 1 Axes>"
      ]
     },
     "metadata": {
      "needs_background": "light"
     },
     "output_type": "display_data"
    },
    {
     "data": {
      "text/plain": [
       "<AxesSubplot:xlabel='Samples', ylabel='Counts'>"
      ]
     },
     "execution_count": 32,
     "metadata": {},
     "output_type": "execute_result"
    }
   ],
   "source": [
    "neg_freq_nz.plot(20)"
   ]
  },
  {
   "cell_type": "markdown",
   "id": "455165f0",
   "metadata": {},
   "source": [
    "### r/ireland - \"negative\" headlines "
   ]
  },
  {
   "cell_type": "code",
   "execution_count": 33,
   "id": "9da814a8",
   "metadata": {},
   "outputs": [
    {
     "data": {
      "text/plain": [
       "[('eviction', 19),\n",
       " ('ban', 17),\n",
       " ('irish', 14),\n",
       " ('ireland', 11),\n",
       " ('man', 10),\n",
       " ('anyone', 8),\n",
       " ('home', 8),\n",
       " ('one', 7),\n",
       " ('time', 6),\n",
       " ('need', 6),\n",
       " ('scam', 6),\n",
       " ('woman', 5),\n",
       " ('got', 5),\n",
       " ('use', 5),\n",
       " ('year', 5),\n",
       " ('night', 5),\n",
       " ('jailed', 5),\n",
       " ('government', 5),\n",
       " ('dublin', 5),\n",
       " ('say', 4)]"
      ]
     },
     "execution_count": 33,
     "metadata": {},
     "output_type": "execute_result"
    }
   ],
   "source": [
    "neg_lines_ireland = list(df[df.label == -1].headline)\n",
    "\n",
    "neg_tokens_ireland = process_text(neg_lines_ireland)\n",
    "neg_freq_ireland = nltk.FreqDist(neg_tokens_ireland)\n",
    "\n",
    "neg_freq_ireland.most_common(20)"
   ]
  },
  {
   "cell_type": "code",
   "execution_count": 34,
   "id": "98c18054",
   "metadata": {},
   "outputs": [
    {
     "data": {
      "image/png": "[encoded data removed]",
      "text/plain": [
       "<Figure size 432x288 with 1 Axes>"
      ]
     },
     "metadata": {
      "needs_background": "light"
     },
     "output_type": "display_data"
    },
    {
     "data": {
      "text/plain": [
       "<AxesSubplot:xlabel='Samples', ylabel='Counts'>"
      ]
     },
     "execution_count": 34,
     "metadata": {},
     "output_type": "execute_result"
    }
   ],
   "source": [
    "neg_freq_ireland.plot(10)"
   ]
  },
  {
   "cell_type": "markdown",
   "id": "f45926fa",
   "metadata": {},
   "source": [
    "### looking at bigrams and trigrams"
   ]
  },
  {
   "cell_type": "code",
   "execution_count": 35,
   "id": "1e922f1b",
   "metadata": {},
   "outputs": [],
   "source": [
    "def bigramfunction(tokens):\n",
    "    bigram_measures = BigramAssocMeasures()\n",
    "    bigram_finder = BigramCollocationFinder.from_words(tokens)\n",
    "    bigrams = bigram_finder.nbest(bigram_measures.raw_freq, 10)\n",
    "    return bigrams"
   ]
  },
  {
   "cell_type": "code",
   "execution_count": 36,
   "id": "2d962bf6",
   "metadata": {},
   "outputs": [],
   "source": [
    "def trigramfunction(tokens):\n",
    "    trigram_measures = TrigramAssocMeasures()\n",
    "    trigram_finder = TrigramCollocationFinder.from_words(tokens)\n",
    "    trigrams = trigram_finder.nbest(trigram_measures.raw_freq, 10)\n",
    "    return trigrams"
   ]
  },
  {
   "cell_type": "markdown",
   "id": "a47e5b6b",
   "metadata": {},
   "source": [
    "### positive bigrams and trigrams"
   ]
  },
  {
   "cell_type": "code",
   "execution_count": 37,
   "id": "31656ee2",
   "metadata": {},
   "outputs": [
    {
     "name": "stdout",
     "output_type": "stream",
     "text": [
      "Top 10 most positive common 3-grams r/ireland: [('public', 'transport'), ('anyone', 'else'), ('free', 'public'), ('patrick', 'day'), ('st', 'patrick'), ('credit', 'union'), ('fine', 'gael'), ('tax', 'credit'), ('would', 'like'), ('would', 'love')]\n"
     ]
    }
   ],
   "source": [
    "print(\"Top 10 most positive common 3-grams r/ireland:\", bigramfunction(pos_tokens_ireland))\n"
   ]
  },
  {
   "cell_type": "code",
   "execution_count": 38,
   "id": "79036d6b",
   "metadata": {},
   "outputs": [
    {
     "name": "stdout",
     "output_type": "stream",
     "text": [
      "Top 10 most  positive common 3-grams r/ireland: [('free', 'public', 'transport'), ('st', 'patrick', 'day'), ('best', 'looking', 'mountain'), ('choice', 'music', 'prize'), ('international', 'women', 'day'), ('looking', 'mountain', 'ireland'), ('public', 'transport', 'would'), ('reduce', 'car', 'usage'), ('rent', 'tax', 'credit'), ('aa', 'ireland', 'calls')]\n"
     ]
    }
   ],
   "source": [
    "print(\"Top 10 most  positive common 3-grams r/ireland:\", trigramfunction(pos_tokens_ireland))"
   ]
  },
  {
   "cell_type": "code",
   "execution_count": 39,
   "id": "fc6b624f",
   "metadata": {},
   "outputs": [
    {
     "name": "stdout",
     "output_type": "stream",
     "text": [
      "Top 10 most common positive 2-grams r/newzealnd: [('air', 'nz'), ('best', 'best'), ('chemical', 'romance'), ('cyclone', 'gabrielle'), ('feel', 'like'), ('gabrielle', 'recovery'), ('gaming', 'pc'), ('good', 'job'), ('minimum', 'wage'), ('nd', 'hand')]\n"
     ]
    }
   ],
   "source": [
    "print(\"Top 10 most common positive 2-grams r/newzealnd:\", bigramfunction(pos_tokens_nz))"
   ]
  },
  {
   "cell_type": "code",
   "execution_count": 40,
   "id": "8224c796",
   "metadata": {},
   "outputs": [
    {
     "name": "stdout",
     "output_type": "stream",
     "text": [
      "Top 10 most common positive 2-grams r/newzealnd: [('cyclone', 'gabrielle', 'recovery'), ('accents', 'sexy', 'would'), ('according', 'latest', 'qv'), ('accurate', 'good', 'job'), ('accused', 'reporting', 'chinese'), ('act', 'cyclone', 'gabrielle'), ('actively', 'playing', 'wants'), ('actually', 'fit', 'love'), ('ad', 'wellington', 'museum'), ('adhd', 'diagnosis', 'psa')]\n"
     ]
    }
   ],
   "source": [
    "print(\"Top 10 most common positive 2-grams r/newzealnd:\", trigramfunction(pos_tokens_nz))"
   ]
  },
  {
   "cell_type": "markdown",
   "id": "16c6987f",
   "metadata": {},
   "source": [
    "### negative bigrams and trigrams"
   ]
  },
  {
   "cell_type": "code",
   "execution_count": 41,
   "id": "a387a742",
   "metadata": {},
   "outputs": [
    {
     "name": "stdout",
     "output_type": "stream",
     "text": [
      "Top 10 most common negative 2-grams r/ireland: [('eviction', 'ban'), ('anyone', 'else'), ('eviction', 'notices'), ('unemployment', 'rate'), ('average', 'unemployment'), ('ban', 'extended'), ('ban', 'extension'), ('ban', 'lifted'), ('breakingnews', 'ie'), ('car', 'use')]\n"
     ]
    }
   ],
   "source": [
    "print(\"Top 10 most common negative 2-grams r/ireland:\", bigramfunction(neg_tokens_ireland))"
   ]
  },
  {
   "cell_type": "code",
   "execution_count": 42,
   "id": "6239d501",
   "metadata": {},
   "outputs": [
    {
     "name": "stdout",
     "output_type": "stream",
     "text": [
      "Top 10 most  negative common 3-grams r/ireland: [('average', 'unemployment', 'rate'), ('ending', 'eviction', 'ban'), ('eviction', 'ban', 'extended'), ('eviction', 'ban', 'extension'), ('eviction', 'ban', 'lifted'), ('saturday', 'night', 'live'), ('abandon', 'plans', 'home'), ('abroad', 'something', 'self'), ('abuse', 'children', 'gaa'), ('abuse', 'young', 'woman')]\n"
     ]
    }
   ],
   "source": [
    "print(\"Top 10 most  negative common 3-grams r/ireland:\", trigramfunction(neg_tokens_ireland))"
   ]
  },
  {
   "cell_type": "code",
   "execution_count": 43,
   "id": "b171f511",
   "metadata": {},
   "outputs": [
    {
     "name": "stdout",
     "output_type": "stream",
     "text": [
      "Top 10 most common negative 2-grams r/newzealnd: [('rob', 'campbell'), ('anyone', 'else'), ('bank', 'collapse'), ('chewing', 'thru'), ('comms', 'disaster'), ('consumer', 'nz'), ('containing', 'tahini'), ('dog', 'chewing'), ('fence', 'killing'), ('getting', 'worse')]\n"
     ]
    }
   ],
   "source": [
    "print(\"Top 10 most common negative 2-grams r/newzealnd:\", bigramfunction(neg_tokens_nz))"
   ]
  },
  {
   "cell_type": "code",
   "execution_count": 44,
   "id": "ef6e5e11",
   "metadata": {},
   "outputs": [
    {
     "name": "stdout",
     "output_type": "stream",
     "text": [
      "Top 10 most  negative common 3-grams r/newzealnd: [('chewing', 'thru', 'fence'), ('containing', 'tahini', 'recalled'), ('dog', 'chewing', 'thru'), ('fence', 'killing', 'cat'), ('recalled', 'salmonella', 'fears'), ('russia', 'ukraine', 'war'), ('tahini', 'recalled', 'salmonella'), ('thru', 'fence', 'killing'), ('absolute', 'disgrace', 'angry'), ('absolutely', 'fucked', 'fixing')]\n"
     ]
    }
   ],
   "source": [
    "print(\"Top 10 most  negative common 3-grams r/newzealnd:\", trigramfunction(neg_tokens_nz))"
   ]
  },
  {
   "cell_type": "markdown",
   "id": "b8f22d9b",
   "metadata": {},
   "source": [
    "### Looking at top 900 post titles "
   ]
  },
  {
   "cell_type": "code",
   "execution_count": 45,
   "id": "6e412bcb",
   "metadata": {},
   "outputs": [],
   "source": [
    "headlines_ireland_top = set()\n",
    "headlines_newZealand_top = set()"
   ]
  },
  {
   "cell_type": "code",
   "execution_count": 46,
   "id": "7c5dcf12",
   "metadata": {},
   "outputs": [
    {
     "name": "stdout",
     "output_type": "stream",
     "text": [
      "900\n"
     ]
    }
   ],
   "source": [
    "for submission in reddit.subreddit('newzealand').top(limit=900):\n",
    "    headlines_newZealand_top.add(submission.title)\n",
    "    display.clear_output()\n",
    "    print(len(headlines_newZealand_top))"
   ]
  },
  {
   "cell_type": "code",
   "execution_count": 47,
   "id": "5b582c03",
   "metadata": {},
   "outputs": [
    {
     "name": "stdout",
     "output_type": "stream",
     "text": [
      "897\n"
     ]
    }
   ],
   "source": [
    "for submission in reddit.subreddit('ireland').top(limit=900):\n",
    "    headlines_ireland_top.add(submission.title)\n",
    "    display.clear_output()\n",
    "    print(len(headlines_ireland_top))"
   ]
  },
  {
   "cell_type": "markdown",
   "id": "e9b8a81c",
   "metadata": {},
   "source": [
    "### Sentiment intensity analysis r/ireland"
   ]
  },
  {
   "cell_type": "code",
   "execution_count": 48,
   "id": "222bbde3",
   "metadata": {},
   "outputs": [
    {
     "name": "stdout",
     "output_type": "stream",
     "text": [
      "[{'compound': 0.0, 'headline': 'Spare a thought', 'neg': 0.0, 'neu': 1.0, 'pos': 0.0},\n",
      " {'compound': 0.3182,\n",
      "  'headline': 'Ah sure yere a sound bunch really',\n",
      "  'neg': 0.0,\n",
      "  'neu': 0.685,\n",
      "  'pos': 0.315},\n",
      " {'compound': 0.0,\n",
      "  'headline': 'Second lock down paintings day 1',\n",
      "  'neg': 0.0,\n",
      "  'neu': 1.0,\n",
      "  'pos': 0.0}]\n"
     ]
    }
   ],
   "source": [
    "results_ireland_top =  sia_function(headlines_ireland_top)\n",
    "pprint(results_ireland_top[:3], width=100)\n"
   ]
  },
  {
   "cell_type": "markdown",
   "id": "19695aec",
   "metadata": {},
   "source": [
    "### Sentiment intensity analysis r/newzealand"
   ]
  },
  {
   "cell_type": "code",
   "execution_count": 49,
   "id": "17f2041d",
   "metadata": {},
   "outputs": [
    {
     "name": "stdout",
     "output_type": "stream",
     "text": [
      "[{'compound': -0.3612,\n",
      "  'headline': 'In Regards To Predatory, Lazy News.',\n",
      "  'neg': 0.333,\n",
      "  'neu': 0.667,\n",
      "  'pos': 0.0},\n",
      " {'compound': 0.3612,\n",
      "  'headline': 'Tongans praying outside an Auckland Mosque this afternoon after their own church '\n",
      "              'services. Photo by Mike Field #TheyAreUs',\n",
      "  'neg': 0.0,\n",
      "  'neu': 0.872,\n",
      "  'pos': 0.128},\n",
      " {'compound': -0.4767,\n",
      "  'headline': 'Russian Oligarchs have holdings in New Zealand. These holdings should be seized. '\n",
      "              \"Hit Russia's ruling class where it hurts.\",\n",
      "  'neg': 0.147,\n",
      "  'neu': 0.853,\n",
      "  'pos': 0.0}]\n"
     ]
    }
   ],
   "source": [
    "results_newzealand_top =  sia_function(headlines_newZealand_top)\n",
    "pprint(results_newzealand_top[:3], width=100)\n"
   ]
  },
  {
   "cell_type": "code",
   "execution_count": 50,
   "id": "cee22016",
   "metadata": {},
   "outputs": [],
   "source": [
    "df_top_ireland = pd.DataFrame.from_records(results_ireland_top)\n",
    "df_top_nz = pd.DataFrame.from_records(results_newzealand_top)\n"
   ]
  },
  {
   "cell_type": "code",
   "execution_count": 51,
   "id": "fd1a39a0",
   "metadata": {},
   "outputs": [
    {
     "data": {
      "text/html": [
       "<div>\n",
       "<style scoped>\n",
       "    .dataframe tbody tr th:only-of-type {\n",
       "        vertical-align: middle;\n",
       "    }\n",
       "\n",
       "    .dataframe tbody tr th {\n",
       "        vertical-align: top;\n",
       "    }\n",
       "\n",
       "    .dataframe thead th {\n",
       "        text-align: right;\n",
       "    }\n",
       "</style>\n",
       "<table border=\"1\" class=\"dataframe\">\n",
       "  <thead>\n",
       "    <tr style=\"text-align: right;\">\n",
       "      <th></th>\n",
       "      <th>neg</th>\n",
       "      <th>neu</th>\n",
       "      <th>pos</th>\n",
       "      <th>compound</th>\n",
       "      <th>headline</th>\n",
       "      <th>label</th>\n",
       "    </tr>\n",
       "  </thead>\n",
       "  <tbody>\n",
       "    <tr>\n",
       "      <th>0</th>\n",
       "      <td>0.000</td>\n",
       "      <td>1.000</td>\n",
       "      <td>0.000</td>\n",
       "      <td>0.0000</td>\n",
       "      <td>Spare a thought</td>\n",
       "      <td>0</td>\n",
       "    </tr>\n",
       "    <tr>\n",
       "      <th>1</th>\n",
       "      <td>0.000</td>\n",
       "      <td>0.685</td>\n",
       "      <td>0.315</td>\n",
       "      <td>0.3182</td>\n",
       "      <td>Ah sure yere a sound bunch really</td>\n",
       "      <td>1</td>\n",
       "    </tr>\n",
       "    <tr>\n",
       "      <th>2</th>\n",
       "      <td>0.000</td>\n",
       "      <td>1.000</td>\n",
       "      <td>0.000</td>\n",
       "      <td>0.0000</td>\n",
       "      <td>Second lock down paintings day 1</td>\n",
       "      <td>0</td>\n",
       "    </tr>\n",
       "    <tr>\n",
       "      <th>3</th>\n",
       "      <td>0.000</td>\n",
       "      <td>1.000</td>\n",
       "      <td>0.000</td>\n",
       "      <td>0.0000</td>\n",
       "      <td>Seems about right</td>\n",
       "      <td>0</td>\n",
       "    </tr>\n",
       "    <tr>\n",
       "      <th>4</th>\n",
       "      <td>0.000</td>\n",
       "      <td>1.000</td>\n",
       "      <td>0.000</td>\n",
       "      <td>0.0000</td>\n",
       "      <td>Irish ingenuity.</td>\n",
       "      <td>0</td>\n",
       "    </tr>\n",
       "    <tr>\n",
       "      <th>...</th>\n",
       "      <td>...</td>\n",
       "      <td>...</td>\n",
       "      <td>...</td>\n",
       "      <td>...</td>\n",
       "      <td>...</td>\n",
       "      <td>...</td>\n",
       "    </tr>\n",
       "    <tr>\n",
       "      <th>892</th>\n",
       "      <td>0.159</td>\n",
       "      <td>0.841</td>\n",
       "      <td>0.000</td>\n",
       "      <td>-0.5574</td>\n",
       "      <td>On this day, 19 years ago, Robbie Keane fired ...</td>\n",
       "      <td>-1</td>\n",
       "    </tr>\n",
       "    <tr>\n",
       "      <th>893</th>\n",
       "      <td>0.221</td>\n",
       "      <td>0.779</td>\n",
       "      <td>0.000</td>\n",
       "      <td>-0.5267</td>\n",
       "      <td>I was frustrated about another lockdown until ...</td>\n",
       "      <td>-1</td>\n",
       "    </tr>\n",
       "    <tr>\n",
       "      <th>894</th>\n",
       "      <td>0.000</td>\n",
       "      <td>1.000</td>\n",
       "      <td>0.000</td>\n",
       "      <td>0.0000</td>\n",
       "      <td>The first Semi Finalist is out. Wicklow is gon...</td>\n",
       "      <td>0</td>\n",
       "    </tr>\n",
       "    <tr>\n",
       "      <th>895</th>\n",
       "      <td>0.000</td>\n",
       "      <td>0.757</td>\n",
       "      <td>0.243</td>\n",
       "      <td>0.6697</td>\n",
       "      <td>All ATMs in Brussels been updated to this. Lad...</td>\n",
       "      <td>1</td>\n",
       "    </tr>\n",
       "    <tr>\n",
       "      <th>896</th>\n",
       "      <td>0.000</td>\n",
       "      <td>0.500</td>\n",
       "      <td>0.500</td>\n",
       "      <td>0.4588</td>\n",
       "      <td>Welcome to Sky Ireland</td>\n",
       "      <td>1</td>\n",
       "    </tr>\n",
       "  </tbody>\n",
       "</table>\n",
       "<p>897 rows × 6 columns</p>\n",
       "</div>"
      ],
      "text/plain": [
       "       neg    neu    pos  compound  \\\n",
       "0    0.000  1.000  0.000    0.0000   \n",
       "1    0.000  0.685  0.315    0.3182   \n",
       "2    0.000  1.000  0.000    0.0000   \n",
       "3    0.000  1.000  0.000    0.0000   \n",
       "4    0.000  1.000  0.000    0.0000   \n",
       "..     ...    ...    ...       ...   \n",
       "892  0.159  0.841  0.000   -0.5574   \n",
       "893  0.221  0.779  0.000   -0.5267   \n",
       "894  0.000  1.000  0.000    0.0000   \n",
       "895  0.000  0.757  0.243    0.6697   \n",
       "896  0.000  0.500  0.500    0.4588   \n",
       "\n",
       "                                              headline  label  \n",
       "0                                      Spare a thought      0  \n",
       "1                    Ah sure yere a sound bunch really      1  \n",
       "2                     Second lock down paintings day 1      0  \n",
       "3                                    Seems about right      0  \n",
       "4                                     Irish ingenuity.      0  \n",
       "..                                                 ...    ...  \n",
       "892  On this day, 19 years ago, Robbie Keane fired ...     -1  \n",
       "893  I was frustrated about another lockdown until ...     -1  \n",
       "894  The first Semi Finalist is out. Wicklow is gon...      0  \n",
       "895  All ATMs in Brussels been updated to this. Lad...      1  \n",
       "896                             Welcome to Sky Ireland      1  \n",
       "\n",
       "[897 rows x 6 columns]"
      ]
     },
     "execution_count": 51,
     "metadata": {},
     "output_type": "execute_result"
    }
   ],
   "source": [
    "define_positive(df_top_ireland)"
   ]
  },
  {
   "cell_type": "code",
   "execution_count": 52,
   "id": "79d7d94e",
   "metadata": {},
   "outputs": [
    {
     "data": {
      "text/html": [
       "<div>\n",
       "<style scoped>\n",
       "    .dataframe tbody tr th:only-of-type {\n",
       "        vertical-align: middle;\n",
       "    }\n",
       "\n",
       "    .dataframe tbody tr th {\n",
       "        vertical-align: top;\n",
       "    }\n",
       "\n",
       "    .dataframe thead th {\n",
       "        text-align: right;\n",
       "    }\n",
       "</style>\n",
       "<table border=\"1\" class=\"dataframe\">\n",
       "  <thead>\n",
       "    <tr style=\"text-align: right;\">\n",
       "      <th></th>\n",
       "      <th>neg</th>\n",
       "      <th>neu</th>\n",
       "      <th>pos</th>\n",
       "      <th>compound</th>\n",
       "      <th>headline</th>\n",
       "      <th>label</th>\n",
       "    </tr>\n",
       "  </thead>\n",
       "  <tbody>\n",
       "    <tr>\n",
       "      <th>0</th>\n",
       "      <td>0.333</td>\n",
       "      <td>0.667</td>\n",
       "      <td>0.000</td>\n",
       "      <td>-0.3612</td>\n",
       "      <td>In Regards To Predatory, Lazy News.</td>\n",
       "      <td>-1</td>\n",
       "    </tr>\n",
       "    <tr>\n",
       "      <th>1</th>\n",
       "      <td>0.000</td>\n",
       "      <td>0.872</td>\n",
       "      <td>0.128</td>\n",
       "      <td>0.3612</td>\n",
       "      <td>Tongans praying outside an Auckland Mosque thi...</td>\n",
       "      <td>1</td>\n",
       "    </tr>\n",
       "    <tr>\n",
       "      <th>2</th>\n",
       "      <td>0.147</td>\n",
       "      <td>0.853</td>\n",
       "      <td>0.000</td>\n",
       "      <td>-0.4767</td>\n",
       "      <td>Russian Oligarchs have holdings in New Zealand...</td>\n",
       "      <td>-1</td>\n",
       "    </tr>\n",
       "    <tr>\n",
       "      <th>3</th>\n",
       "      <td>0.000</td>\n",
       "      <td>1.000</td>\n",
       "      <td>0.000</td>\n",
       "      <td>0.0000</td>\n",
       "      <td>Ram raids getting out of hand...</td>\n",
       "      <td>0</td>\n",
       "    </tr>\n",
       "    <tr>\n",
       "      <th>4</th>\n",
       "      <td>0.275</td>\n",
       "      <td>0.725</td>\n",
       "      <td>0.000</td>\n",
       "      <td>-0.6908</td>\n",
       "      <td>NZ Herald, I know you read this sub, so I'm te...</td>\n",
       "      <td>-1</td>\n",
       "    </tr>\n",
       "    <tr>\n",
       "      <th>...</th>\n",
       "      <td>...</td>\n",
       "      <td>...</td>\n",
       "      <td>...</td>\n",
       "      <td>...</td>\n",
       "      <td>...</td>\n",
       "      <td>...</td>\n",
       "    </tr>\n",
       "    <tr>\n",
       "      <th>895</th>\n",
       "      <td>0.000</td>\n",
       "      <td>0.797</td>\n",
       "      <td>0.203</td>\n",
       "      <td>0.4215</td>\n",
       "      <td>The Police on the frontline in Wellington dese...</td>\n",
       "      <td>1</td>\n",
       "    </tr>\n",
       "    <tr>\n",
       "      <th>896</th>\n",
       "      <td>0.000</td>\n",
       "      <td>1.000</td>\n",
       "      <td>0.000</td>\n",
       "      <td>0.0000</td>\n",
       "      <td>NSFW - Contains Gore</td>\n",
       "      <td>0</td>\n",
       "    </tr>\n",
       "    <tr>\n",
       "      <th>897</th>\n",
       "      <td>0.087</td>\n",
       "      <td>0.725</td>\n",
       "      <td>0.188</td>\n",
       "      <td>0.7396</td>\n",
       "      <td>The US Antarctic Program is under managed isol...</td>\n",
       "      <td>1</td>\n",
       "    </tr>\n",
       "    <tr>\n",
       "      <th>898</th>\n",
       "      <td>0.000</td>\n",
       "      <td>1.000</td>\n",
       "      <td>0.000</td>\n",
       "      <td>0.0000</td>\n",
       "      <td>Get out there and stretch your legs</td>\n",
       "      <td>0</td>\n",
       "    </tr>\n",
       "    <tr>\n",
       "      <th>899</th>\n",
       "      <td>0.467</td>\n",
       "      <td>0.533</td>\n",
       "      <td>0.000</td>\n",
       "      <td>-0.5423</td>\n",
       "      <td>What the fuck is this.</td>\n",
       "      <td>-1</td>\n",
       "    </tr>\n",
       "  </tbody>\n",
       "</table>\n",
       "<p>900 rows × 6 columns</p>\n",
       "</div>"
      ],
      "text/plain": [
       "       neg    neu    pos  compound  \\\n",
       "0    0.333  0.667  0.000   -0.3612   \n",
       "1    0.000  0.872  0.128    0.3612   \n",
       "2    0.147  0.853  0.000   -0.4767   \n",
       "3    0.000  1.000  0.000    0.0000   \n",
       "4    0.275  0.725  0.000   -0.6908   \n",
       "..     ...    ...    ...       ...   \n",
       "895  0.000  0.797  0.203    0.4215   \n",
       "896  0.000  1.000  0.000    0.0000   \n",
       "897  0.087  0.725  0.188    0.7396   \n",
       "898  0.000  1.000  0.000    0.0000   \n",
       "899  0.467  0.533  0.000   -0.5423   \n",
       "\n",
       "                                              headline  label  \n",
       "0                  In Regards To Predatory, Lazy News.     -1  \n",
       "1    Tongans praying outside an Auckland Mosque thi...      1  \n",
       "2    Russian Oligarchs have holdings in New Zealand...     -1  \n",
       "3                     Ram raids getting out of hand...      0  \n",
       "4    NZ Herald, I know you read this sub, so I'm te...     -1  \n",
       "..                                                 ...    ...  \n",
       "895  The Police on the frontline in Wellington dese...      1  \n",
       "896                               NSFW - Contains Gore      0  \n",
       "897  The US Antarctic Program is under managed isol...      1  \n",
       "898                Get out there and stretch your legs      0  \n",
       "899                             What the fuck is this.     -1  \n",
       "\n",
       "[900 rows x 6 columns]"
      ]
     },
     "execution_count": 52,
     "metadata": {},
     "output_type": "execute_result"
    }
   ],
   "source": [
    "define_positive(df_top_nz)"
   ]
  },
  {
   "cell_type": "code",
   "execution_count": 53,
   "id": "9f0122bd",
   "metadata": {},
   "outputs": [
    {
     "name": "stdout",
     "output_type": "stream",
     "text": [
      "Positive headlines r/ireland:\n",
      "\n",
      "['Ah sure yere a sound bunch really',\n",
      " 'I’m an artist who paints landscapes on coins, just finished this and thought I’d share.',\n",
      " 'Fantastic news! We’ve just been informed that St James’s, the biggest hospital in the country, has no inpatients with #COVID for the first time since March 2020.',\n",
      " 'The dream of many',\n",
      " 'Sharon congrats 😊']\n",
      "\n",
      "Negative headlines r/ireland:\n",
      "\n",
      "[\"It's 20 years since the Holy Cross dispute. Where Loyalists hurled abuse, stones, bottles, fireworks, blast bombs and even containers of urine at girls as young as 4 and their parents trying to \"\n",
      " 'get to school.',\n",
      " 'Burger King in Tralee gives no fucks at all',\n",
      " 'Palestinian youth proudly fly Ireland National Flag while resisting Israeli state violence. Don’t forget them in your thoughts lads🇮🇪🇵🇸',\n",
      " 'No comment',\n",
      " \"If your bread doesn't look like this, it ain't real butter.\"]\n"
     ]
    }
   ],
   "source": [
    "print(\"Positive headlines r/ireland:\\n\")\n",
    "pprint(list(df_top_ireland[df_top_ireland['label'] == 1].headline)[:5], width=200)\n",
    "\n",
    "print(\"\\nNegative headlines r/ireland:\\n\")\n",
    "pprint(list(df_top_ireland[df_top_ireland['label'] == -1].headline)[:5], width=200)"
   ]
  },
  {
   "cell_type": "code",
   "execution_count": 54,
   "id": "d442d3c0",
   "metadata": {},
   "outputs": [
    {
     "name": "stdout",
     "output_type": "stream",
     "text": [
      "Positive headlines r/newzealand:\n",
      "\n",
      "['Tongans praying outside an Auckland Mosque this afternoon after their own church services. Photo by Mike Field #TheyAreUs',\n",
      " 'Good on you Helen!',\n",
      " 'Combo One thanks.',\n",
      " 'LEGO kākāpō given second chance',\n",
      " 'Mel Bracewell is such an underrated Kiwi comedian']\n",
      "\n",
      "Negative headlines r/newzealand:\n",
      "\n",
      "['In Regards To Predatory, Lazy News.',\n",
      " \"Russian Oligarchs have holdings in New Zealand. These holdings should be seized. Hit Russia's ruling class where it hurts.\",\n",
      " \"NZ Herald, I know you read this sub, so I'm telling you to cut this click-bait shit out.\",\n",
      " 'NZ compared to Ireland - saw this and have updated the numbers. NZ is doing something right. Kia kaha.',\n",
      " \"As if we didn't have enough to worry about, my flatmate just found a worm in his Marshmallows!\"]\n"
     ]
    }
   ],
   "source": [
    "print(\"Positive headlines r/newzealand:\\n\")\n",
    "pprint(list(df_top_nz[df_top_nz['label'] == 1].headline)[:5], width=200)\n",
    "\n",
    "print(\"\\nNegative headlines r/newzealand:\\n\")\n",
    "pprint(list(df_top_nz[df_top_nz['label'] == -1].headline)[:5], width=200)"
   ]
  },
  {
   "cell_type": "markdown",
   "id": "c182f196",
   "metadata": {},
   "source": [
    "### looking at value counts"
   ]
  },
  {
   "cell_type": "code",
   "execution_count": 55,
   "id": "1ef9e387",
   "metadata": {},
   "outputs": [
    {
     "name": "stdout",
     "output_type": "stream",
     "text": [
      " 0    482\n",
      " 1    265\n",
      "-1    150\n",
      "Name: label, dtype: int64\n",
      " 0    53.734671\n",
      " 1    29.542921\n",
      "-1    16.722408\n",
      "Name: label, dtype: float64\n"
     ]
    }
   ],
   "source": [
    "print(df_top_ireland.label.value_counts())\n",
    "print(df_top_ireland.label.value_counts(normalize=True) * 100)"
   ]
  },
  {
   "cell_type": "code",
   "execution_count": 56,
   "id": "5bb2684e",
   "metadata": {},
   "outputs": [
    {
     "name": "stdout",
     "output_type": "stream",
     "text": [
      " 0    461\n",
      " 1    282\n",
      "-1    157\n",
      "Name: label, dtype: int64\n",
      " 0    51.222222\n",
      " 1    31.333333\n",
      "-1    17.444444\n",
      "Name: label, dtype: float64\n"
     ]
    }
   ],
   "source": [
    "print(df_top_nz.label.value_counts())\n",
    "print(df_top_nz.label.value_counts(normalize=True) * 100)"
   ]
  },
  {
   "cell_type": "code",
   "execution_count": 57,
   "id": "1a1990e6",
   "metadata": {},
   "outputs": [],
   "source": [
    "counts_ireland_top = df_top_ireland.label.value_counts(normalize=True) * 100\n",
    "counts_nz_top = df_top_nz.label.value_counts(normalize=True) * 100\n"
   ]
  },
  {
   "cell_type": "code",
   "execution_count": 58,
   "id": "1a54663d",
   "metadata": {},
   "outputs": [
    {
     "data": {
      "image/png": "[encoded data removed]",
      "text/plain": [
       "<Figure size 720x360 with 1 Axes>"
      ]
     },
     "metadata": {
      "needs_background": "light"
     },
     "output_type": "display_data"
    }
   ],
   "source": [
    "N = 3\n",
    "\n",
    "blue_bar = (counts_ireland_top)\n",
    "orange_bar = (counts_nz_top)\n",
    "\n",
    "# Position of bars on x-axis\n",
    "ind = np.arange(N)\n",
    "# Figure size\n",
    "plt.figure(figsize=(10,5))\n",
    "\n",
    "# Width of a bar \n",
    "width = 0.3       \n",
    "\n",
    "# Plotting\n",
    "plt.bar(ind, blue_bar , width, label='Ireland')\n",
    "plt.bar(ind + width, orange_bar, width, label='newzealand')\n",
    "\n",
    "plt.ylabel('Percentage')\n",
    "plt.title('Comparing r/ireland and r/newzealand top 900 post titles')\n",
    "\n",
    "plt.xticks(ind + width / 2, ('Neutral', 'Negative', 'Positve'))\n",
    "\n",
    "# Finding the best position for legends and putting it\n",
    "plt.legend(loc='best')\n",
    "plt.show()"
   ]
  },
  {
   "cell_type": "code",
   "execution_count": 59,
   "id": "37d6f167",
   "metadata": {},
   "outputs": [
    {
     "data": {
      "text/html": [
       "<div>\n",
       "<style scoped>\n",
       "    .dataframe tbody tr th:only-of-type {\n",
       "        vertical-align: middle;\n",
       "    }\n",
       "\n",
       "    .dataframe tbody tr th {\n",
       "        vertical-align: top;\n",
       "    }\n",
       "\n",
       "    .dataframe thead th {\n",
       "        text-align: right;\n",
       "    }\n",
       "</style>\n",
       "<table border=\"1\" class=\"dataframe\">\n",
       "  <thead>\n",
       "    <tr style=\"text-align: right;\">\n",
       "      <th></th>\n",
       "      <th>neg</th>\n",
       "      <th>neu</th>\n",
       "      <th>pos</th>\n",
       "      <th>compound</th>\n",
       "      <th>label</th>\n",
       "    </tr>\n",
       "  </thead>\n",
       "  <tbody>\n",
       "    <tr>\n",
       "      <th>count</th>\n",
       "      <td>897.000000</td>\n",
       "      <td>897.000000</td>\n",
       "      <td>897.000000</td>\n",
       "      <td>897.000000</td>\n",
       "      <td>897.000000</td>\n",
       "    </tr>\n",
       "    <tr>\n",
       "      <th>mean</th>\n",
       "      <td>0.063901</td>\n",
       "      <td>0.807204</td>\n",
       "      <td>0.128892</td>\n",
       "      <td>0.064415</td>\n",
       "      <td>0.128205</td>\n",
       "    </tr>\n",
       "    <tr>\n",
       "      <th>std</th>\n",
       "      <td>0.137511</td>\n",
       "      <td>0.239661</td>\n",
       "      <td>0.219157</td>\n",
       "      <td>0.370326</td>\n",
       "      <td>0.668367</td>\n",
       "    </tr>\n",
       "    <tr>\n",
       "      <th>min</th>\n",
       "      <td>0.000000</td>\n",
       "      <td>0.000000</td>\n",
       "      <td>0.000000</td>\n",
       "      <td>-0.926600</td>\n",
       "      <td>-1.000000</td>\n",
       "    </tr>\n",
       "    <tr>\n",
       "      <th>25%</th>\n",
       "      <td>0.000000</td>\n",
       "      <td>0.665000</td>\n",
       "      <td>0.000000</td>\n",
       "      <td>0.000000</td>\n",
       "      <td>0.000000</td>\n",
       "    </tr>\n",
       "    <tr>\n",
       "      <th>50%</th>\n",
       "      <td>0.000000</td>\n",
       "      <td>0.913000</td>\n",
       "      <td>0.000000</td>\n",
       "      <td>0.000000</td>\n",
       "      <td>0.000000</td>\n",
       "    </tr>\n",
       "    <tr>\n",
       "      <th>75%</th>\n",
       "      <td>0.027000</td>\n",
       "      <td>1.000000</td>\n",
       "      <td>0.198000</td>\n",
       "      <td>0.359500</td>\n",
       "      <td>1.000000</td>\n",
       "    </tr>\n",
       "    <tr>\n",
       "      <th>max</th>\n",
       "      <td>0.783000</td>\n",
       "      <td>1.000000</td>\n",
       "      <td>1.000000</td>\n",
       "      <td>0.976900</td>\n",
       "      <td>1.000000</td>\n",
       "    </tr>\n",
       "  </tbody>\n",
       "</table>\n",
       "</div>"
      ],
      "text/plain": [
       "              neg         neu         pos    compound       label\n",
       "count  897.000000  897.000000  897.000000  897.000000  897.000000\n",
       "mean     0.063901    0.807204    0.128892    0.064415    0.128205\n",
       "std      0.137511    0.239661    0.219157    0.370326    0.668367\n",
       "min      0.000000    0.000000    0.000000   -0.926600   -1.000000\n",
       "25%      0.000000    0.665000    0.000000    0.000000    0.000000\n",
       "50%      0.000000    0.913000    0.000000    0.000000    0.000000\n",
       "75%      0.027000    1.000000    0.198000    0.359500    1.000000\n",
       "max      0.783000    1.000000    1.000000    0.976900    1.000000"
      ]
     },
     "execution_count": 59,
     "metadata": {},
     "output_type": "execute_result"
    }
   ],
   "source": [
    "df_top_ireland.describe()"
   ]
  },
  {
   "cell_type": "code",
   "execution_count": 60,
   "id": "5b61f512",
   "metadata": {},
   "outputs": [
    {
     "data": {
      "text/html": [
       "<div>\n",
       "<style scoped>\n",
       "    .dataframe tbody tr th:only-of-type {\n",
       "        vertical-align: middle;\n",
       "    }\n",
       "\n",
       "    .dataframe tbody tr th {\n",
       "        vertical-align: top;\n",
       "    }\n",
       "\n",
       "    .dataframe thead th {\n",
       "        text-align: right;\n",
       "    }\n",
       "</style>\n",
       "<table border=\"1\" class=\"dataframe\">\n",
       "  <thead>\n",
       "    <tr style=\"text-align: right;\">\n",
       "      <th></th>\n",
       "      <th>neg</th>\n",
       "      <th>neu</th>\n",
       "      <th>pos</th>\n",
       "      <th>compound</th>\n",
       "      <th>label</th>\n",
       "    </tr>\n",
       "  </thead>\n",
       "  <tbody>\n",
       "    <tr>\n",
       "      <th>count</th>\n",
       "      <td>900.000000</td>\n",
       "      <td>900.000000</td>\n",
       "      <td>900.000000</td>\n",
       "      <td>900.000000</td>\n",
       "      <td>900.000000</td>\n",
       "    </tr>\n",
       "    <tr>\n",
       "      <th>mean</th>\n",
       "      <td>0.069777</td>\n",
       "      <td>0.810051</td>\n",
       "      <td>0.119064</td>\n",
       "      <td>0.075785</td>\n",
       "      <td>0.138889</td>\n",
       "    </tr>\n",
       "    <tr>\n",
       "      <th>std</th>\n",
       "      <td>0.144751</td>\n",
       "      <td>0.216119</td>\n",
       "      <td>0.181239</td>\n",
       "      <td>0.364761</td>\n",
       "      <td>0.684842</td>\n",
       "    </tr>\n",
       "    <tr>\n",
       "      <th>min</th>\n",
       "      <td>0.000000</td>\n",
       "      <td>0.000000</td>\n",
       "      <td>0.000000</td>\n",
       "      <td>-0.923100</td>\n",
       "      <td>-1.000000</td>\n",
       "    </tr>\n",
       "    <tr>\n",
       "      <th>25%</th>\n",
       "      <td>0.000000</td>\n",
       "      <td>0.667000</td>\n",
       "      <td>0.000000</td>\n",
       "      <td>0.000000</td>\n",
       "      <td>0.000000</td>\n",
       "    </tr>\n",
       "    <tr>\n",
       "      <th>50%</th>\n",
       "      <td>0.000000</td>\n",
       "      <td>0.852000</td>\n",
       "      <td>0.000000</td>\n",
       "      <td>0.000000</td>\n",
       "      <td>0.000000</td>\n",
       "    </tr>\n",
       "    <tr>\n",
       "      <th>75%</th>\n",
       "      <td>0.079250</td>\n",
       "      <td>1.000000</td>\n",
       "      <td>0.216500</td>\n",
       "      <td>0.361200</td>\n",
       "      <td>1.000000</td>\n",
       "    </tr>\n",
       "    <tr>\n",
       "      <th>max</th>\n",
       "      <td>1.000000</td>\n",
       "      <td>1.000000</td>\n",
       "      <td>1.000000</td>\n",
       "      <td>0.973800</td>\n",
       "      <td>1.000000</td>\n",
       "    </tr>\n",
       "  </tbody>\n",
       "</table>\n",
       "</div>"
      ],
      "text/plain": [
       "              neg         neu         pos    compound       label\n",
       "count  900.000000  900.000000  900.000000  900.000000  900.000000\n",
       "mean     0.069777    0.810051    0.119064    0.075785    0.138889\n",
       "std      0.144751    0.216119    0.181239    0.364761    0.684842\n",
       "min      0.000000    0.000000    0.000000   -0.923100   -1.000000\n",
       "25%      0.000000    0.667000    0.000000    0.000000    0.000000\n",
       "50%      0.000000    0.852000    0.000000    0.000000    0.000000\n",
       "75%      0.079250    1.000000    0.216500    0.361200    1.000000\n",
       "max      1.000000    1.000000    1.000000    0.973800    1.000000"
      ]
     },
     "execution_count": 60,
     "metadata": {},
     "output_type": "execute_result"
    }
   ],
   "source": [
    "df_top_nz.describe()"
   ]
  },
  {
   "cell_type": "markdown",
   "id": "9761b211",
   "metadata": {},
   "source": [
    "### visualising compound scores "
   ]
  },
  {
   "cell_type": "code",
   "execution_count": 61,
   "id": "f1c4daf3",
   "metadata": {},
   "outputs": [
    {
     "data": {
      "image/png": "[encoded data removed]",
      "text/plain": [
       "<Figure size 432x288 with 1 Axes>"
      ]
     },
     "metadata": {
      "needs_background": "light"
     },
     "output_type": "display_data"
    }
   ],
   "source": [
    "plt.hist(df_top_ireland[\"compound\"], bins=10)\n",
    "\n",
    "plt.title('histogram of r/ireland top titles compound scores')\n",
    "plt.xlabel('compound score')\n",
    "plt.ylabel('amount of comments')\n",
    "\n",
    "plt.show()"
   ]
  },
  {
   "cell_type": "code",
   "execution_count": 62,
   "id": "ef2676e2",
   "metadata": {},
   "outputs": [
    {
     "data": {
      "image/png": "[encoded data removed]",
      "text/plain": [
       "<Figure size 432x288 with 1 Axes>"
      ]
     },
     "metadata": {
      "needs_background": "light"
     },
     "output_type": "display_data"
    }
   ],
   "source": [
    "plt.hist(df_top_nz[\"compound\"], bins=10)\n",
    "\n",
    "plt.title('histogram of r/newzealand top titles compound scores')\n",
    "plt.xlabel('compound score')\n",
    "plt.ylabel('amount of comments')\n",
    "\n",
    "plt.show()"
   ]
  },
  {
   "cell_type": "markdown",
   "id": "fa91596a",
   "metadata": {},
   "source": [
    "### box plots "
   ]
  },
  {
   "cell_type": "code",
   "execution_count": 63,
   "id": "8bc3caaf",
   "metadata": {},
   "outputs": [
    {
     "data": {
      "image/png": "[encoded data removed]",
      "text/plain": [
       "<Figure size 432x288 with 1 Axes>"
      ]
     },
     "metadata": {
      "needs_background": "light"
     },
     "output_type": "display_data"
    }
   ],
   "source": [
    "plt.boxplot(df_top_ireland[\"compound\"])\n",
    "\n",
    "plt.title('boxplot of r/ireland top titles compound scores')\n",
    "plt.xlabel('compound score')\n",
    "plt.ylabel('amount of comments')\n",
    "\n",
    "plt.show()"
   ]
  },
  {
   "cell_type": "code",
   "execution_count": 64,
   "id": "332f6c4d",
   "metadata": {},
   "outputs": [
    {
     "data": {
      "image/png": "[encoded data removed]",
      "text/plain": [
       "<Figure size 432x288 with 1 Axes>"
      ]
     },
     "metadata": {
      "needs_background": "light"
     },
     "output_type": "display_data"
    }
   ],
   "source": [
    "plt.boxplot(df_top_nz[\"compound\"])\n",
    "\n",
    "plt.title('boxplot of r/newzealand top titles compound scores')\n",
    "plt.xlabel('compound score')\n",
    "plt.ylabel('amount of comments')\n",
    "\n",
    "plt.show()"
   ]
  },
  {
   "cell_type": "markdown",
   "id": "aada6e90",
   "metadata": {},
   "source": [
    "### Looking at top 900 titles counts in more detail. "
   ]
  },
  {
   "cell_type": "code",
   "execution_count": 65,
   "id": "f9a922ee",
   "metadata": {},
   "outputs": [
    {
     "data": {
      "text/plain": [
       "[('ireland', 43),\n",
       " ('irish', 30),\n",
       " ('like', 23),\n",
       " ('lads', 18),\n",
       " ('great', 17),\n",
       " ('day', 12),\n",
       " ('years', 12),\n",
       " ('dublin', 11),\n",
       " ('one', 11),\n",
       " ('today', 11),\n",
       " ('good', 9),\n",
       " ('true', 9),\n",
       " ('happy', 9),\n",
       " ('year', 9),\n",
       " ('sure', 8),\n",
       " ('time', 8),\n",
       " ('think', 8),\n",
       " ('better', 7),\n",
       " ('last', 7),\n",
       " ('best', 7)]"
      ]
     },
     "execution_count": 65,
     "metadata": {},
     "output_type": "execute_result"
    }
   ],
   "source": [
    "pos_lines_ireland = list(df_top_ireland[df_top_ireland.label == 1].headline)\n",
    "\n",
    "pos_tokens_ireland = process_text(pos_lines_ireland)\n",
    "pos_freq_ireland = nltk.FreqDist(pos_tokens_ireland)\n",
    "\n",
    "pos_freq_ireland.most_common(20)"
   ]
  },
  {
   "cell_type": "code",
   "execution_count": 66,
   "id": "7b3db54f",
   "metadata": {},
   "outputs": [
    {
     "name": "stdout",
     "output_type": "stream",
     "text": [
      "frequency plot top positive words from top 900 post title r/ireland\n"
     ]
    },
    {
     "data": {
      "image/png": "[encoded data removed]",
      "text/plain": [
       "<Figure size 432x288 with 1 Axes>"
      ]
     },
     "metadata": {
      "needs_background": "light"
     },
     "output_type": "display_data"
    },
    {
     "data": {
      "text/plain": [
       "<AxesSubplot:xlabel='Samples', ylabel='Counts'>"
      ]
     },
     "execution_count": 66,
     "metadata": {},
     "output_type": "execute_result"
    }
   ],
   "source": [
    "print(\"frequency plot top positive words from top 900 post title r/ireland\")\n",
    "pos_freq_ireland.plot(20)\n"
   ]
  },
  {
   "cell_type": "code",
   "execution_count": 67,
   "id": "1e6d97ac",
   "metadata": {},
   "outputs": [
    {
     "data": {
      "text/plain": [
       "[('new zealand', 35),\n",
       " ('nz', 34),\n",
       " ('like', 29),\n",
       " ('good', 18),\n",
       " ('us', 13),\n",
       " ('new', 12),\n",
       " ('country', 11),\n",
       " ('today', 11),\n",
       " ('love', 11),\n",
       " ('made', 10),\n",
       " ('proud', 10),\n",
       " ('people', 9),\n",
       " ('please', 9),\n",
       " ('kiwi', 8),\n",
       " ('free', 8),\n",
       " ('best', 8),\n",
       " ('day', 8),\n",
       " ('thank', 8),\n",
       " ('time', 8),\n",
       " ('party', 8)]"
      ]
     },
     "execution_count": 67,
     "metadata": {},
     "output_type": "execute_result"
    }
   ],
   "source": [
    "pos_lines_nz = list(df_top_nz[df_top_nz.label == 1].headline)\n",
    "\n",
    "pos_tokens_nz = process_text(pos_lines_nz)\n",
    "pos_freq_nz = nltk.FreqDist(pos_tokens_nz)\n",
    "\n",
    "pos_freq_nz.most_common(20)"
   ]
  },
  {
   "cell_type": "code",
   "execution_count": 68,
   "id": "f2dfc14c",
   "metadata": {},
   "outputs": [
    {
     "data": {
      "image/png": "[encoded data removed]",
      "text/plain": [
       "<Figure size 432x288 with 1 Axes>"
      ]
     },
     "metadata": {
      "needs_background": "light"
     },
     "output_type": "display_data"
    },
    {
     "data": {
      "text/plain": [
       "<AxesSubplot:xlabel='Samples', ylabel='Counts'>"
      ]
     },
     "execution_count": 68,
     "metadata": {},
     "output_type": "execute_result"
    }
   ],
   "source": [
    "pos_freq_nz.plot(20)\n"
   ]
  },
  {
   "cell_type": "code",
   "execution_count": 69,
   "id": "0e5514c7",
   "metadata": {},
   "outputs": [
    {
     "data": {
      "text/plain": [
       "[('irish', 19),\n",
       " ('ireland', 17),\n",
       " ('years', 12),\n",
       " ('dublin', 11),\n",
       " ('today', 11),\n",
       " ('one', 10),\n",
       " ('ago', 8),\n",
       " ('day', 8),\n",
       " ('people', 8),\n",
       " ('lads', 7),\n",
       " ('get', 6),\n",
       " ('ya', 6),\n",
       " ('american', 6),\n",
       " ('abuse', 5),\n",
       " ('like', 5),\n",
       " ('stop', 5),\n",
       " ('round', 5),\n",
       " ('shit', 5),\n",
       " ('died', 5),\n",
       " ('think', 5)]"
      ]
     },
     "execution_count": 69,
     "metadata": {},
     "output_type": "execute_result"
    }
   ],
   "source": [
    "neg_lines_ire = list(df_top_ireland[df_top_ireland.label == -1].headline)\n",
    "\n",
    "neg_tokens_ire = process_text(neg_lines_ire)\n",
    "neg_freq_ire = nltk.FreqDist(neg_tokens_ire)\n",
    "\n",
    "neg_freq_ire.most_common(20)"
   ]
  },
  {
   "cell_type": "code",
   "execution_count": 70,
   "id": "247f1a9e",
   "metadata": {},
   "outputs": [
    {
     "name": "stdout",
     "output_type": "stream",
     "text": [
      "frequency plot top negative words from top 900 post title r/ireland\n"
     ]
    },
    {
     "data": {
      "image/png": "[encoded data removed]",
      "text/plain": [
       "<Figure size 432x288 with 1 Axes>"
      ]
     },
     "metadata": {
      "needs_background": "light"
     },
     "output_type": "display_data"
    },
    {
     "data": {
      "text/plain": [
       "<AxesSubplot:xlabel='Samples', ylabel='Counts'>"
      ]
     },
     "execution_count": 70,
     "metadata": {},
     "output_type": "execute_result"
    }
   ],
   "source": [
    "print(\"frequency plot top negative words from top 900 post title r/ireland\")\n",
    "\n",
    "neg_freq_ire.plot(20)\n"
   ]
  },
  {
   "cell_type": "code",
   "execution_count": 71,
   "id": "53c57576",
   "metadata": {},
   "outputs": [
    {
     "data": {
      "text/plain": [
       "[('new zealand', 29),\n",
       " ('nz', 16),\n",
       " ('today', 8),\n",
       " ('fuck', 8),\n",
       " ('country', 7),\n",
       " ('police', 7),\n",
       " ('world', 7),\n",
       " ('shit', 6),\n",
       " ('man', 6),\n",
       " ('people', 6),\n",
       " ('auckland', 6),\n",
       " ('covid', 6),\n",
       " ('like', 5),\n",
       " ('crisis', 5),\n",
       " ('bad', 5),\n",
       " ('new', 5),\n",
       " ('much', 5),\n",
       " ('want', 5),\n",
       " ('get', 5),\n",
       " ('news', 4)]"
      ]
     },
     "execution_count": 71,
     "metadata": {},
     "output_type": "execute_result"
    }
   ],
   "source": [
    "neg_lines_nz = list(df_top_nz[df_top_nz.label == -1].headline)\n",
    "\n",
    "neg_tokens_nz = process_text(neg_lines_nz)\n",
    "neg_freq_nz = nltk.FreqDist(neg_tokens_nz)\n",
    "\n",
    "neg_freq_nz.most_common(20)"
   ]
  },
  {
   "cell_type": "code",
   "execution_count": 72,
   "id": "9e9ec090",
   "metadata": {},
   "outputs": [
    {
     "data": {
      "image/png": "[encoded data removed]",
      "text/plain": [
       "<Figure size 432x288 with 1 Axes>"
      ]
     },
     "metadata": {
      "needs_background": "light"
     },
     "output_type": "display_data"
    },
    {
     "data": {
      "text/plain": [
       "<AxesSubplot:xlabel='Samples', ylabel='Counts'>"
      ]
     },
     "execution_count": 72,
     "metadata": {},
     "output_type": "execute_result"
    }
   ],
   "source": [
    "neg_freq_nz.plot(20)\n"
   ]
  },
  {
   "cell_type": "markdown",
   "id": "5aa39274",
   "metadata": {},
   "source": [
    "### looking at bigrams and trigrams"
   ]
  },
  {
   "cell_type": "markdown",
   "id": "978a8da7",
   "metadata": {},
   "source": [
    "### positive bigrams and trigrams"
   ]
  },
  {
   "cell_type": "code",
   "execution_count": 73,
   "id": "20507472",
   "metadata": {},
   "outputs": [
    {
     "name": "stdout",
     "output_type": "stream",
     "text": [
      "Top 10 most positive common 3-grams r/ireland: [('bunch', 'lads'), ('great', 'bunch'), ('ah', 'sure'), ('anyone', 'else'), ('first', 'time'), ('last', 'days'), ('looks', 'like'), ('pretty', 'much'), ('r', 'ireland'), ('years', 'ago')]\n"
     ]
    }
   ],
   "source": [
    "print(\"Top 10 most positive common 3-grams r/ireland:\", bigramfunction(pos_tokens_ireland))\n"
   ]
  },
  {
   "cell_type": "code",
   "execution_count": 74,
   "id": "a4574497",
   "metadata": {},
   "outputs": [
    {
     "name": "stdout",
     "output_type": "stream",
     "text": [
      "Top 10 most  positive common 3-grams r/ireland: [('great', 'bunch', 'lads'), ('comments', 'gets', 'deleted'), ('county', 'comments', 'gets'), ('pretty', 'much', 'sums'), ('top', 'income', 'earners'), ('upvoted', 'county', 'comments'), ('able', 'drive', 'far'), ('able', 'pay', 'goods'), ('abortion', 'cases', 'fetus'), ('accent', 'best', 'thing')]\n"
     ]
    }
   ],
   "source": [
    "print(\"Top 10 most  positive common 3-grams r/ireland:\", trigramfunction(pos_tokens_ireland))\n"
   ]
  },
  {
   "cell_type": "code",
   "execution_count": 75,
   "id": "fa1f4e18",
   "metadata": {},
   "outputs": [
    {
     "name": "stdout",
     "output_type": "stream",
     "text": [
      "Top 10 most common positive 2-grams r/newzealnd: [('cone', 'dog'), ('looks', 'like'), ('people', 'new zealand'), ('good', 'month'), ('naughty', 'good'), ('alert', 'level'), ('love', 'country'), ('new', 'zealander'), ('taika', 'waititi'), ('year', 'old')]\n"
     ]
    }
   ],
   "source": [
    "print(\"Top 10 most common positive 2-grams r/newzealnd:\", bigramfunction(pos_tokens_nz))\n"
   ]
  },
  {
   "cell_type": "code",
   "execution_count": 76,
   "id": "c86d342b",
   "metadata": {},
   "outputs": [
    {
     "name": "stdout",
     "output_type": "stream",
     "text": [
      "Top 10 most common positive 2-grams r/newzealnd: [('naughty', 'good', 'month'), ('happy', 'new', 'year'), ('move', 'alert', 'level'), ('orange', 'voting', 'guy'), ('able', 'enjoy', 'beautiful'), ('able', 'walk', 'home'), ('absolute', 'plonker', 'thinks'), ('absolutely', 'love', 'country'), ('absolutely', 'self', 'respect'), ('absolutely', 'stunning', 'gorgeous')]\n"
     ]
    }
   ],
   "source": [
    "print(\"Top 10 most common positive 2-grams r/newzealnd:\", trigramfunction(pos_tokens_nz))\n"
   ]
  },
  {
   "cell_type": "markdown",
   "id": "81e20b5a",
   "metadata": {},
   "source": [
    "### negative bigrams and trigrams"
   ]
  },
  {
   "cell_type": "code",
   "execution_count": 77,
   "id": "af1b1ba9",
   "metadata": {},
   "outputs": [
    {
     "name": "stdout",
     "output_type": "stream",
     "text": [
      "Top 10 most common negative 2-grams r/ireland: [('years', 'ago'), ('last', 'night'), ('ago', 'today'), ('day', 'years'), ('british', 'state'), ('comments', 'gets'), ('county', 'comments'), ('despite', 'overwhelming'), ('died', 'today'), ('dublin', 'monaghan')]\n"
     ]
    }
   ],
   "source": [
    "print(\"Top 10 most common negative 2-grams r/ireland:\", bigramfunction(neg_tokens_ire))\n"
   ]
  },
  {
   "cell_type": "code",
   "execution_count": 78,
   "id": "c67a8e88",
   "metadata": {},
   "outputs": [
    {
     "name": "stdout",
     "output_type": "stream",
     "text": [
      "Top 10 most  negative common 3-grams r/ireland: [('day', 'years', 'ago'), ('years', 'ago', 'today'), ('british', 'state', 'involvement'), ('comments', 'gets', 'deleted'), ('county', 'comments', 'gets'), ('despite', 'overwhelming', 'evidence'), ('evidence', 'british', 'state'), ('overwhelming', 'evidence', 'british'), ('quinn', 'signing', 'pledge'), ('raise', 'registration', 'fees')]\n"
     ]
    }
   ],
   "source": [
    "print(\"Top 10 most  negative common 3-grams r/ireland:\", trigramfunction(neg_tokens_ire))\n"
   ]
  },
  {
   "cell_type": "code",
   "execution_count": 79,
   "id": "d1006d98",
   "metadata": {},
   "outputs": [
    {
     "name": "stdout",
     "output_type": "stream",
     "text": [
      "Top 10 most common negative 2-grams r/newzealnd: [('child', 'poverty'), ('housing', 'crisis'), ('jacinda', 'ardern'), ('kia', 'ora'), ('new', 'zealander'), ('prime', 'minister'), ('blah', 'blah'), ('last', 'night'), ('nz', 'herald'), ('today', 'new zealand')]\n"
     ]
    }
   ],
   "source": [
    "print(\"Top 10 most common negative 2-grams r/newzealnd:\", bigramfunction(neg_tokens_nz))\n"
   ]
  },
  {
   "cell_type": "code",
   "execution_count": 80,
   "id": "629daf42",
   "metadata": {},
   "outputs": [
    {
     "name": "stdout",
     "output_type": "stream",
     "text": [
      "Top 10 most  negative common 3-grams r/newzealnd: [('abottabad', 'nzctu', 'national'), ('abused', 'supermarkets', 'making'), ('access', 'newborn', 'partner'), ('accomplice', 'seriously', 'massey'), ('according', 'latest', 'news'), ('accuses', 'new zealand', 'prime'), ('across', 'country', 'bad'), ('across', 'world', 'got'), ('act', 'leader', 'david'), ('action', 'lower', 'house')]\n"
     ]
    }
   ],
   "source": [
    "print(\"Top 10 most  negative common 3-grams r/newzealnd:\", trigramfunction(neg_tokens_nz))\n"
   ]
  },
  {
   "cell_type": "markdown",
   "id": "93f61f60",
   "metadata": {},
   "source": [
    "### Looking at comments of top posts "
   ]
  },
  {
   "cell_type": "code",
   "execution_count": 81,
   "id": "5854817f",
   "metadata": {},
   "outputs": [],
   "source": [
    "def sia_function(comments):\n",
    "\n",
    "    sia = SIA()\n",
    "    results = []\n",
    "\n",
    "    for line in comments:\n",
    "        pol_score = sia.polarity_scores(line)\n",
    "        pol_score['comment'] = line\n",
    "        results.append(pol_score)\n",
    "        \n",
    "    return results"
   ]
  },
  {
   "cell_type": "markdown",
   "id": "bd411f20",
   "metadata": {},
   "source": [
    "### gathering comments from r/ireland"
   ]
  },
  {
   "cell_type": "code",
   "execution_count": 82,
   "id": "e656d27e",
   "metadata": {},
   "outputs": [
    {
     "name": "stdout",
     "output_type": "stream",
     "text": [
      "1485\n"
     ]
    }
   ],
   "source": [
    "comments_ireland = set()\n",
    "# r/ireland\n",
    "for submission in reddit.subreddit('ireland').top(limit=10):\n",
    "    for comment in submission.comments:\n",
    "            if isinstance(comment, MoreComments):\n",
    "                continue\n",
    "            comments_ireland.add(comment.body)\n",
    "            display.clear_output()\n",
    "            print(len(comments_ireland))\n",
    "\n",
    "    \n"
   ]
  },
  {
   "cell_type": "markdown",
   "id": "da937e1b",
   "metadata": {},
   "source": [
    "### gathering comments from r/newzeland"
   ]
  },
  {
   "cell_type": "code",
   "execution_count": 83,
   "id": "9c4715f3",
   "metadata": {},
   "outputs": [
    {
     "name": "stdout",
     "output_type": "stream",
     "text": [
      "1560\n"
     ]
    }
   ],
   "source": [
    "comments_nz = set()\n",
    "# r/ireland\n",
    "for submission in reddit.subreddit('newzealand').top(limit=10):\n",
    "    for comment in submission.comments:\n",
    "            if isinstance(comment, MoreComments):\n",
    "                continue\n",
    "            comments_nz.add(comment.body)\n",
    "            display.clear_output()\n",
    "            print(len(comments_nz))\n",
    "\n",
    "    \n"
   ]
  },
  {
   "cell_type": "markdown",
   "id": "d27013cf",
   "metadata": {},
   "source": [
    "#### sentiment intensity analysis for comments r/ireland"
   ]
  },
  {
   "cell_type": "code",
   "execution_count": 84,
   "id": "5e4b8d0d",
   "metadata": {},
   "outputs": [
    {
     "name": "stdout",
     "output_type": "stream",
     "text": [
      "[{'comment': 'Yes boi! Gon on Italy!!', 'compound': 0.5538, 'neg': 0.0, 'neu': 0.528, 'pos': 0.472},\n",
      " {'comment': 'NOOOOOOOO FUCK 2020', 'compound': -0.6408, 'neg': 0.679, 'neu': 0.321, 'pos': 0.0},\n",
      " {'comment': 'Apparently it’s existed for some time now.',\n",
      "  'compound': 0.0,\n",
      "  'neg': 0.0,\n",
      "  'neu': 1.0,\n",
      "  'pos': 0.0}]\n"
     ]
    }
   ],
   "source": [
    "comments_results_ireland = sia_function(comments_ireland)\n",
    "pprint(comments_results_ireland[:3], width=100)"
   ]
  },
  {
   "cell_type": "markdown",
   "id": "16da985d",
   "metadata": {},
   "source": [
    "#### sentiment intensity analysis for comments r/newzealand"
   ]
  },
  {
   "cell_type": "code",
   "execution_count": 85,
   "id": "4b227f3f",
   "metadata": {},
   "outputs": [
    {
     "name": "stdout",
     "output_type": "stream",
     "text": [
      "[{'comment': 'Can I get this as an actual lawn sign?',\n",
      "  'compound': 0.0,\n",
      "  'neg': 0.0,\n",
      "  'neu': 1.0,\n",
      "  'pos': 0.0},\n",
      " {'comment': 'This is great news! Well done team.',\n",
      "  'compound': 0.7574,\n",
      "  'neg': 0.0,\n",
      "  'neu': 0.435,\n",
      "  'pos': 0.565},\n",
      " {'comment': 'Saw that the other night - I had just ordered $180 worth of pizza for a party so I’m '\n",
      "             'sorry but noooo. Plus they forgot half the order anyways and had to go back to the '\n",
      "             'store...',\n",
      "  'compound': 0.2525,\n",
      "  'neg': 0.036,\n",
      "  'neu': 0.871,\n",
      "  'pos': 0.093}]\n"
     ]
    }
   ],
   "source": [
    "comments_results_newzealand = sia_function(comments_nz)\n",
    "pprint(comments_results_newzealand[:3], width=100)"
   ]
  },
  {
   "cell_type": "markdown",
   "id": "9bd1d230",
   "metadata": {},
   "source": [
    "### converting results to dataframes "
   ]
  },
  {
   "cell_type": "code",
   "execution_count": 86,
   "id": "a30026eb",
   "metadata": {},
   "outputs": [
    {
     "data": {
      "text/html": [
       "<div>\n",
       "<style scoped>\n",
       "    .dataframe tbody tr th:only-of-type {\n",
       "        vertical-align: middle;\n",
       "    }\n",
       "\n",
       "    .dataframe tbody tr th {\n",
       "        vertical-align: top;\n",
       "    }\n",
       "\n",
       "    .dataframe thead th {\n",
       "        text-align: right;\n",
       "    }\n",
       "</style>\n",
       "<table border=\"1\" class=\"dataframe\">\n",
       "  <thead>\n",
       "    <tr style=\"text-align: right;\">\n",
       "      <th></th>\n",
       "      <th>neg</th>\n",
       "      <th>neu</th>\n",
       "      <th>pos</th>\n",
       "      <th>compound</th>\n",
       "      <th>comment</th>\n",
       "    </tr>\n",
       "  </thead>\n",
       "  <tbody>\n",
       "    <tr>\n",
       "      <th>0</th>\n",
       "      <td>0.000</td>\n",
       "      <td>0.528</td>\n",
       "      <td>0.472</td>\n",
       "      <td>0.5538</td>\n",
       "      <td>Yes boi! Gon on Italy!!</td>\n",
       "    </tr>\n",
       "    <tr>\n",
       "      <th>1</th>\n",
       "      <td>0.679</td>\n",
       "      <td>0.321</td>\n",
       "      <td>0.000</td>\n",
       "      <td>-0.6408</td>\n",
       "      <td>NOOOOOOOO FUCK 2020</td>\n",
       "    </tr>\n",
       "    <tr>\n",
       "      <th>2</th>\n",
       "      <td>0.000</td>\n",
       "      <td>1.000</td>\n",
       "      <td>0.000</td>\n",
       "      <td>0.0000</td>\n",
       "      <td>Apparently it’s existed for some time now.</td>\n",
       "    </tr>\n",
       "    <tr>\n",
       "      <th>3</th>\n",
       "      <td>0.195</td>\n",
       "      <td>0.728</td>\n",
       "      <td>0.076</td>\n",
       "      <td>-0.5574</td>\n",
       "      <td>American, here. Please keep us out, for now.\\n...</td>\n",
       "    </tr>\n",
       "    <tr>\n",
       "      <th>4</th>\n",
       "      <td>0.121</td>\n",
       "      <td>0.827</td>\n",
       "      <td>0.051</td>\n",
       "      <td>-0.5010</td>\n",
       "      <td>I used to think about it this way too, but the...</td>\n",
       "    </tr>\n",
       "  </tbody>\n",
       "</table>\n",
       "</div>"
      ],
      "text/plain": [
       "     neg    neu    pos  compound  \\\n",
       "0  0.000  0.528  0.472    0.5538   \n",
       "1  0.679  0.321  0.000   -0.6408   \n",
       "2  0.000  1.000  0.000    0.0000   \n",
       "3  0.195  0.728  0.076   -0.5574   \n",
       "4  0.121  0.827  0.051   -0.5010   \n",
       "\n",
       "                                             comment  \n",
       "0                            Yes boi! Gon on Italy!!  \n",
       "1                                NOOOOOOOO FUCK 2020  \n",
       "2         Apparently it’s existed for some time now.  \n",
       "3  American, here. Please keep us out, for now.\\n...  \n",
       "4  I used to think about it this way too, but the...  "
      ]
     },
     "execution_count": 86,
     "metadata": {},
     "output_type": "execute_result"
    }
   ],
   "source": [
    "df_comments_ireland = pd.DataFrame.from_records(comments_results_ireland)\n",
    "df_comments_ireland.head()"
   ]
  },
  {
   "cell_type": "code",
   "execution_count": 87,
   "id": "5c126de6",
   "metadata": {},
   "outputs": [
    {
     "data": {
      "text/html": [
       "<div>\n",
       "<style scoped>\n",
       "    .dataframe tbody tr th:only-of-type {\n",
       "        vertical-align: middle;\n",
       "    }\n",
       "\n",
       "    .dataframe tbody tr th {\n",
       "        vertical-align: top;\n",
       "    }\n",
       "\n",
       "    .dataframe thead th {\n",
       "        text-align: right;\n",
       "    }\n",
       "</style>\n",
       "<table border=\"1\" class=\"dataframe\">\n",
       "  <thead>\n",
       "    <tr style=\"text-align: right;\">\n",
       "      <th></th>\n",
       "      <th>neg</th>\n",
       "      <th>neu</th>\n",
       "      <th>pos</th>\n",
       "      <th>compound</th>\n",
       "      <th>comment</th>\n",
       "    </tr>\n",
       "  </thead>\n",
       "  <tbody>\n",
       "    <tr>\n",
       "      <th>0</th>\n",
       "      <td>0.000</td>\n",
       "      <td>1.000</td>\n",
       "      <td>0.000</td>\n",
       "      <td>0.0000</td>\n",
       "      <td>Can I get this as an actual lawn sign?</td>\n",
       "    </tr>\n",
       "    <tr>\n",
       "      <th>1</th>\n",
       "      <td>0.000</td>\n",
       "      <td>0.435</td>\n",
       "      <td>0.565</td>\n",
       "      <td>0.7574</td>\n",
       "      <td>This is great news! Well done team.</td>\n",
       "    </tr>\n",
       "    <tr>\n",
       "      <th>2</th>\n",
       "      <td>0.036</td>\n",
       "      <td>0.871</td>\n",
       "      <td>0.093</td>\n",
       "      <td>0.2525</td>\n",
       "      <td>Saw that the other night - I had just ordered ...</td>\n",
       "    </tr>\n",
       "    <tr>\n",
       "      <th>3</th>\n",
       "      <td>0.000</td>\n",
       "      <td>0.896</td>\n",
       "      <td>0.104</td>\n",
       "      <td>0.1877</td>\n",
       "      <td>You just have to look at what's going on in Am...</td>\n",
       "    </tr>\n",
       "    <tr>\n",
       "      <th>4</th>\n",
       "      <td>0.000</td>\n",
       "      <td>0.687</td>\n",
       "      <td>0.313</td>\n",
       "      <td>0.4926</td>\n",
       "      <td>Thanks for all the updates along the way!</td>\n",
       "    </tr>\n",
       "  </tbody>\n",
       "</table>\n",
       "</div>"
      ],
      "text/plain": [
       "     neg    neu    pos  compound  \\\n",
       "0  0.000  1.000  0.000    0.0000   \n",
       "1  0.000  0.435  0.565    0.7574   \n",
       "2  0.036  0.871  0.093    0.2525   \n",
       "3  0.000  0.896  0.104    0.1877   \n",
       "4  0.000  0.687  0.313    0.4926   \n",
       "\n",
       "                                             comment  \n",
       "0             Can I get this as an actual lawn sign?  \n",
       "1                This is great news! Well done team.  \n",
       "2  Saw that the other night - I had just ordered ...  \n",
       "3  You just have to look at what's going on in Am...  \n",
       "4          Thanks for all the updates along the way!  "
      ]
     },
     "execution_count": 87,
     "metadata": {},
     "output_type": "execute_result"
    }
   ],
   "source": [
    "df_comments_newzealand = pd.DataFrame.from_records(comments_results_newzealand)\n",
    "df_comments_newzealand.head()"
   ]
  },
  {
   "cell_type": "markdown",
   "id": "ebd7fb06",
   "metadata": {},
   "source": [
    "### defining positive and negative comments based on compound score: "
   ]
  },
  {
   "cell_type": "code",
   "execution_count": 88,
   "id": "9fd1830a",
   "metadata": {},
   "outputs": [
    {
     "data": {
      "text/html": [
       "<div>\n",
       "<style scoped>\n",
       "    .dataframe tbody tr th:only-of-type {\n",
       "        vertical-align: middle;\n",
       "    }\n",
       "\n",
       "    .dataframe tbody tr th {\n",
       "        vertical-align: top;\n",
       "    }\n",
       "\n",
       "    .dataframe thead th {\n",
       "        text-align: right;\n",
       "    }\n",
       "</style>\n",
       "<table border=\"1\" class=\"dataframe\">\n",
       "  <thead>\n",
       "    <tr style=\"text-align: right;\">\n",
       "      <th></th>\n",
       "      <th>neg</th>\n",
       "      <th>neu</th>\n",
       "      <th>pos</th>\n",
       "      <th>compound</th>\n",
       "      <th>comment</th>\n",
       "      <th>label</th>\n",
       "    </tr>\n",
       "  </thead>\n",
       "  <tbody>\n",
       "    <tr>\n",
       "      <th>0</th>\n",
       "      <td>0.000</td>\n",
       "      <td>0.528</td>\n",
       "      <td>0.472</td>\n",
       "      <td>0.5538</td>\n",
       "      <td>Yes boi! Gon on Italy!!</td>\n",
       "      <td>1</td>\n",
       "    </tr>\n",
       "    <tr>\n",
       "      <th>1</th>\n",
       "      <td>0.679</td>\n",
       "      <td>0.321</td>\n",
       "      <td>0.000</td>\n",
       "      <td>-0.6408</td>\n",
       "      <td>NOOOOOOOO FUCK 2020</td>\n",
       "      <td>-1</td>\n",
       "    </tr>\n",
       "    <tr>\n",
       "      <th>2</th>\n",
       "      <td>0.000</td>\n",
       "      <td>1.000</td>\n",
       "      <td>0.000</td>\n",
       "      <td>0.0000</td>\n",
       "      <td>Apparently it’s existed for some time now.</td>\n",
       "      <td>0</td>\n",
       "    </tr>\n",
       "    <tr>\n",
       "      <th>3</th>\n",
       "      <td>0.195</td>\n",
       "      <td>0.728</td>\n",
       "      <td>0.076</td>\n",
       "      <td>-0.5574</td>\n",
       "      <td>American, here. Please keep us out, for now.\\n...</td>\n",
       "      <td>-1</td>\n",
       "    </tr>\n",
       "    <tr>\n",
       "      <th>4</th>\n",
       "      <td>0.121</td>\n",
       "      <td>0.827</td>\n",
       "      <td>0.051</td>\n",
       "      <td>-0.5010</td>\n",
       "      <td>I used to think about it this way too, but the...</td>\n",
       "      <td>-1</td>\n",
       "    </tr>\n",
       "  </tbody>\n",
       "</table>\n",
       "</div>"
      ],
      "text/plain": [
       "     neg    neu    pos  compound  \\\n",
       "0  0.000  0.528  0.472    0.5538   \n",
       "1  0.679  0.321  0.000   -0.6408   \n",
       "2  0.000  1.000  0.000    0.0000   \n",
       "3  0.195  0.728  0.076   -0.5574   \n",
       "4  0.121  0.827  0.051   -0.5010   \n",
       "\n",
       "                                             comment  label  \n",
       "0                            Yes boi! Gon on Italy!!      1  \n",
       "1                                NOOOOOOOO FUCK 2020     -1  \n",
       "2         Apparently it’s existed for some time now.      0  \n",
       "3  American, here. Please keep us out, for now.\\n...     -1  \n",
       "4  I used to think about it this way too, but the...     -1  "
      ]
     },
     "execution_count": 88,
     "metadata": {},
     "output_type": "execute_result"
    }
   ],
   "source": [
    "df_comments_ireland['label'] = 0\n",
    "df_comments_ireland.loc[df_comments_ireland['compound'] > 0.2, 'label'] = 1\n",
    "df_comments_ireland.loc[df_comments_ireland['compound'] < -0.2, 'label'] = -1\n",
    "df_comments_ireland.head()"
   ]
  },
  {
   "cell_type": "code",
   "execution_count": 89,
   "id": "95b63dd4",
   "metadata": {},
   "outputs": [
    {
     "data": {
      "text/html": [
       "<div>\n",
       "<style scoped>\n",
       "    .dataframe tbody tr th:only-of-type {\n",
       "        vertical-align: middle;\n",
       "    }\n",
       "\n",
       "    .dataframe tbody tr th {\n",
       "        vertical-align: top;\n",
       "    }\n",
       "\n",
       "    .dataframe thead th {\n",
       "        text-align: right;\n",
       "    }\n",
       "</style>\n",
       "<table border=\"1\" class=\"dataframe\">\n",
       "  <thead>\n",
       "    <tr style=\"text-align: right;\">\n",
       "      <th></th>\n",
       "      <th>neg</th>\n",
       "      <th>neu</th>\n",
       "      <th>pos</th>\n",
       "      <th>compound</th>\n",
       "      <th>comment</th>\n",
       "      <th>label</th>\n",
       "    </tr>\n",
       "  </thead>\n",
       "  <tbody>\n",
       "    <tr>\n",
       "      <th>0</th>\n",
       "      <td>0.000</td>\n",
       "      <td>1.000</td>\n",
       "      <td>0.000</td>\n",
       "      <td>0.0000</td>\n",
       "      <td>Can I get this as an actual lawn sign?</td>\n",
       "      <td>0</td>\n",
       "    </tr>\n",
       "    <tr>\n",
       "      <th>1</th>\n",
       "      <td>0.000</td>\n",
       "      <td>0.435</td>\n",
       "      <td>0.565</td>\n",
       "      <td>0.7574</td>\n",
       "      <td>This is great news! Well done team.</td>\n",
       "      <td>1</td>\n",
       "    </tr>\n",
       "    <tr>\n",
       "      <th>2</th>\n",
       "      <td>0.036</td>\n",
       "      <td>0.871</td>\n",
       "      <td>0.093</td>\n",
       "      <td>0.2525</td>\n",
       "      <td>Saw that the other night - I had just ordered ...</td>\n",
       "      <td>1</td>\n",
       "    </tr>\n",
       "    <tr>\n",
       "      <th>3</th>\n",
       "      <td>0.000</td>\n",
       "      <td>0.896</td>\n",
       "      <td>0.104</td>\n",
       "      <td>0.1877</td>\n",
       "      <td>You just have to look at what's going on in Am...</td>\n",
       "      <td>0</td>\n",
       "    </tr>\n",
       "    <tr>\n",
       "      <th>4</th>\n",
       "      <td>0.000</td>\n",
       "      <td>0.687</td>\n",
       "      <td>0.313</td>\n",
       "      <td>0.4926</td>\n",
       "      <td>Thanks for all the updates along the way!</td>\n",
       "      <td>1</td>\n",
       "    </tr>\n",
       "  </tbody>\n",
       "</table>\n",
       "</div>"
      ],
      "text/plain": [
       "     neg    neu    pos  compound  \\\n",
       "0  0.000  1.000  0.000    0.0000   \n",
       "1  0.000  0.435  0.565    0.7574   \n",
       "2  0.036  0.871  0.093    0.2525   \n",
       "3  0.000  0.896  0.104    0.1877   \n",
       "4  0.000  0.687  0.313    0.4926   \n",
       "\n",
       "                                             comment  label  \n",
       "0             Can I get this as an actual lawn sign?      0  \n",
       "1                This is great news! Well done team.      1  \n",
       "2  Saw that the other night - I had just ordered ...      1  \n",
       "3  You just have to look at what's going on in Am...      0  \n",
       "4          Thanks for all the updates along the way!      1  "
      ]
     },
     "execution_count": 89,
     "metadata": {},
     "output_type": "execute_result"
    }
   ],
   "source": [
    "df_comments_newzealand['label'] = 0\n",
    "df_comments_newzealand.loc[df_comments_newzealand['compound'] > 0.2, 'label'] = 1\n",
    "df_comments_newzealand.loc[df_comments_newzealand['compound'] < -0.2, 'label'] = -1\n",
    "df_comments_newzealand.head()"
   ]
  },
  {
   "cell_type": "markdown",
   "id": "3cb06e8b",
   "metadata": {},
   "source": [
    "### example of positive and negative comments  r/ireland"
   ]
  },
  {
   "cell_type": "code",
   "execution_count": 90,
   "id": "5c437ab5",
   "metadata": {},
   "outputs": [
    {
     "name": "stdout",
     "output_type": "stream",
     "text": [
      "Positive comment:\n",
      "\n",
      "['Yes boi! Gon on Italy!!',\n",
      " 'Maybe it helps if you give them the same deal as Apple',\n",
      " 'You love to see it.',\n",
      " '[Link to Ukrainian Charities ](https://www.reddit.com/r/ukraine/comments/s6g5un/want_to_support_ukraine_heres_a_list_of_charities/?utm_source=share&utm_medium=ios_app&utm_name=iossmf)',\n",
      " 'Humans’ best friend -  RIP Sioda.  Love on RGB for me!']\n",
      "\n",
      "Negative comment:\n",
      "\n",
      "['NOOOOOOOO FUCK 2020',\n",
      " 'American, here. Please keep us out, for now.\\n\\nAmerica has lost its fucking mind, and we need to sort out some shit. I mean, *obviously*, right?',\n",
      " 'I used to think about it this way too, but the deposit is actually to lower the banks risk overall on the investment. If the market goes down at least there is a little margin for them. Also '\n",
      " 'owning a house is expensive! Expect to pay 2-5% of the homes value per year to keep it going.',\n",
      " \"It doesn't help that the Americans most likely to travel are also the ones who are least likely to wear a mask, distance, or take any symptoms seriously.\\n\"\n",
      " '\\n'\n",
      " \"It's almost certain that we will get a second wave from this. Its how the virus got here in the first place after all.\\n\"\n",
      " '\\n'\n",
      " 'The government is brain dead. We need to be extra careful now with our distancing and mask wearing. Best thing to do is stop the spread amongst Irish people.',\n",
      " 'Nothing to be proud of.']\n"
     ]
    }
   ],
   "source": [
    "print(\"Positive comment:\\n\")\n",
    "pprint(list(df_comments_ireland[df_comments_ireland['label'] == 1].comment)[:5], width=200)\n",
    "\n",
    "print(\"\\nNegative comment:\\n\")\n",
    "pprint(list(df_comments_ireland[df_comments_ireland['label'] == -1].comment)[:5], width=200)"
   ]
  },
  {
   "cell_type": "markdown",
   "id": "f432463c",
   "metadata": {},
   "source": [
    "### example of positive and negative comments  r/newzealand"
   ]
  },
  {
   "cell_type": "code",
   "execution_count": 91,
   "id": "1ef0dc73",
   "metadata": {},
   "outputs": [
    {
     "name": "stdout",
     "output_type": "stream",
     "text": [
      "Positive comment:\n",
      "\n",
      "['This is great news! Well done team.',\n",
      " 'Saw that the other night - I had just ordered $180 worth of pizza for a party so I’m sorry but noooo. Plus they forgot half the order anyways and had to go back to the store...',\n",
      " 'Thanks for all the updates along the way!',\n",
      " \"I don't get this. People vote for their own interests, that's why everyone gets a vote.\",\n",
      " 'This is Darren. He has a networth of $3.2 million. Darren talks to his accountant and his tax lawyer. With a little bit of help from their friendly banker, the rules around trusts in New Zealand, '\n",
      " \"and how the Greens are proposing debt is treated in this new law, it's just taken a few minor tweaks to his situation, he successfully skirts the wealth tax. As he goes to sleep in his home in \"\n",
      " \"Herne Bay he laughs to himself at how terribly designed this idea was, and thanks the good lord above that they didn't implement a capital gains tax - that could have caused him some real trouble.\"]\n",
      "\n",
      "Negative comment:\n",
      "\n",
      "['Well maybe NZ is the place for me. Fuckin over this shit',\n",
      " 'When the underlying problem is children at school are hungry, why is it necessary to assign blame?  This is Duncan Garner thinking, and assigning blame does not help solve this (or almost *any*) '\n",
      " 'problem, and this flowchart illustrates that perfectly. \\n'\n",
      " '\\n'\n",
      " 'Unfortunately, unlike this flowchart, once the finger of blame is pointed, that is generally the end of the problem solving, XXX is to blame, and that is it.  It all goes quiet, and there is then '\n",
      " 'no progress towards finding an actual solution.',\n",
      " \"Current NZHerald 'Breaking News' banner - 'There was no need to strangle the economy': Barry Soper argues the Govt's Covid-19 lockdown went too far.\\n\\nUnbelievable...\",\n",
      " \"This is such a depressing thread, I thought y'all were better than this. So many misunderstandings and inconsiderate reactionary nonsense.\",\n",
      " 'While waiting in a que yesterday to go into a dairy I had the guys in front of me turn and say \"this is crazy, the power of the fake news media, am I right?!\" I just stared in disbelief and shock '\n",
      " 'my head. What is wrong with these people!!']\n"
     ]
    }
   ],
   "source": [
    "print(\"Positive comment:\\n\")\n",
    "pprint(list(df_comments_newzealand[df_comments_newzealand['label'] == 1].comment)[:5], width=200)\n",
    "\n",
    "print(\"\\nNegative comment:\\n\")\n",
    "pprint(list(df_comments_newzealand[df_comments_newzealand['label'] == -1].comment)[:5], width=200)"
   ]
  },
  {
   "cell_type": "markdown",
   "id": "04e441a7",
   "metadata": {},
   "source": [
    "### looking at value counts"
   ]
  },
  {
   "cell_type": "code",
   "execution_count": 92,
   "id": "7429dbc2",
   "metadata": {},
   "outputs": [
    {
     "name": "stdout",
     "output_type": "stream",
     "text": [
      " 1    550\n",
      "-1    470\n",
      " 0    465\n",
      "Name: label, dtype: int64\n",
      " 1    37.037037\n",
      "-1    31.649832\n",
      " 0    31.313131\n",
      "Name: label, dtype: float64\n"
     ]
    }
   ],
   "source": [
    "print(df_comments_ireland.label.value_counts())\n",
    "print(df_comments_ireland.label.value_counts(normalize=True) * 100)"
   ]
  },
  {
   "cell_type": "code",
   "execution_count": 93,
   "id": "f6c66d98",
   "metadata": {},
   "outputs": [
    {
     "name": "stdout",
     "output_type": "stream",
     "text": [
      " 1    629\n",
      " 0    470\n",
      "-1    461\n",
      "Name: label, dtype: int64\n",
      " 1    40.320513\n",
      " 0    30.128205\n",
      "-1    29.551282\n",
      "Name: label, dtype: float64\n"
     ]
    }
   ],
   "source": [
    "print(df_comments_newzealand.label.value_counts())\n",
    "print(df_comments_newzealand.label.value_counts(normalize=True) * 100)"
   ]
  },
  {
   "cell_type": "markdown",
   "id": "445f424a",
   "metadata": {},
   "source": [
    "### visualising value counts "
   ]
  },
  {
   "cell_type": "code",
   "execution_count": 94,
   "id": "5dc21cc6",
   "metadata": {},
   "outputs": [
    {
     "data": {
      "image/png": "[encoded data removed]",
      "text/plain": [
       "<Figure size 720x360 with 1 Axes>"
      ]
     },
     "metadata": {
      "needs_background": "light"
     },
     "output_type": "display_data"
    }
   ],
   "source": [
    "comments_counts_nz = df_comments_newzealand.label.value_counts(normalize=True) * 100\n",
    "comments_counts_ireland =  df_comments_ireland.label.value_counts(normalize=True) * 100\n",
    "N = 3\n",
    "\n",
    "blue_bar = (comments_counts_ireland)\n",
    "orange_bar = (comments_counts_nz)\n",
    "\n",
    "# Position of bars on x-axis\n",
    "ind = np.arange(N)\n",
    "# Figure size\n",
    "plt.figure(figsize=(10,5))\n",
    "\n",
    "# Width of a bar \n",
    "width = 0.3       \n",
    "\n",
    "# Plotting\n",
    "plt.bar(ind, blue_bar , width, label='Ireland')\n",
    "plt.bar(ind + width, orange_bar, width, label='newzealand')\n",
    "\n",
    "plt.ylabel('Percentage')\n",
    "plt.title('Comparing r/ireland and r/newzealand comments from top 10 posts')\n",
    "\n",
    "plt.xticks(ind + width / 2, ('Neutral', 'Negative', 'Positve'))\n",
    "\n",
    "# Finding the best position for legends and putting it\n",
    "plt.legend(loc='best')\n",
    "plt.show()"
   ]
  },
  {
   "cell_type": "code",
   "execution_count": 95,
   "id": "c2ab95e8",
   "metadata": {},
   "outputs": [
    {
     "data": {
      "text/html": [
       "<div>\n",
       "<style scoped>\n",
       "    .dataframe tbody tr th:only-of-type {\n",
       "        vertical-align: middle;\n",
       "    }\n",
       "\n",
       "    .dataframe tbody tr th {\n",
       "        vertical-align: top;\n",
       "    }\n",
       "\n",
       "    .dataframe thead th {\n",
       "        text-align: right;\n",
       "    }\n",
       "</style>\n",
       "<table border=\"1\" class=\"dataframe\">\n",
       "  <thead>\n",
       "    <tr style=\"text-align: right;\">\n",
       "      <th></th>\n",
       "      <th>neg</th>\n",
       "      <th>neu</th>\n",
       "      <th>pos</th>\n",
       "      <th>compound</th>\n",
       "      <th>comment</th>\n",
       "      <th>label</th>\n",
       "    </tr>\n",
       "  </thead>\n",
       "  <tbody>\n",
       "    <tr>\n",
       "      <th>0</th>\n",
       "      <td>0.000</td>\n",
       "      <td>0.528</td>\n",
       "      <td>0.472</td>\n",
       "      <td>0.5538</td>\n",
       "      <td>Yes boi! Gon on Italy!!</td>\n",
       "      <td>1</td>\n",
       "    </tr>\n",
       "    <tr>\n",
       "      <th>1</th>\n",
       "      <td>0.679</td>\n",
       "      <td>0.321</td>\n",
       "      <td>0.000</td>\n",
       "      <td>-0.6408</td>\n",
       "      <td>NOOOOOOOO FUCK 2020</td>\n",
       "      <td>-1</td>\n",
       "    </tr>\n",
       "    <tr>\n",
       "      <th>2</th>\n",
       "      <td>0.000</td>\n",
       "      <td>1.000</td>\n",
       "      <td>0.000</td>\n",
       "      <td>0.0000</td>\n",
       "      <td>Apparently it’s existed for some time now.</td>\n",
       "      <td>0</td>\n",
       "    </tr>\n",
       "    <tr>\n",
       "      <th>3</th>\n",
       "      <td>0.195</td>\n",
       "      <td>0.728</td>\n",
       "      <td>0.076</td>\n",
       "      <td>-0.5574</td>\n",
       "      <td>American, here. Please keep us out, for now.\\n...</td>\n",
       "      <td>-1</td>\n",
       "    </tr>\n",
       "    <tr>\n",
       "      <th>4</th>\n",
       "      <td>0.121</td>\n",
       "      <td>0.827</td>\n",
       "      <td>0.051</td>\n",
       "      <td>-0.5010</td>\n",
       "      <td>I used to think about it this way too, but the...</td>\n",
       "      <td>-1</td>\n",
       "    </tr>\n",
       "    <tr>\n",
       "      <th>5</th>\n",
       "      <td>0.082</td>\n",
       "      <td>0.815</td>\n",
       "      <td>0.103</td>\n",
       "      <td>-0.1655</td>\n",
       "      <td>I do agree there doesn’t seem much benefit not...</td>\n",
       "      <td>0</td>\n",
       "    </tr>\n",
       "    <tr>\n",
       "      <th>6</th>\n",
       "      <td>0.000</td>\n",
       "      <td>1.000</td>\n",
       "      <td>0.000</td>\n",
       "      <td>0.0000</td>\n",
       "      <td>You guys don’t have bell peppers or cilantro?</td>\n",
       "      <td>0</td>\n",
       "    </tr>\n",
       "    <tr>\n",
       "      <th>7</th>\n",
       "      <td>0.116</td>\n",
       "      <td>0.799</td>\n",
       "      <td>0.084</td>\n",
       "      <td>-0.4312</td>\n",
       "      <td>It doesn't help that the Americans most likely...</td>\n",
       "      <td>-1</td>\n",
       "    </tr>\n",
       "    <tr>\n",
       "      <th>8</th>\n",
       "      <td>0.390</td>\n",
       "      <td>0.610</td>\n",
       "      <td>0.000</td>\n",
       "      <td>-0.3724</td>\n",
       "      <td>Nothing to be proud of.</td>\n",
       "      <td>-1</td>\n",
       "    </tr>\n",
       "    <tr>\n",
       "      <th>9</th>\n",
       "      <td>0.000</td>\n",
       "      <td>0.809</td>\n",
       "      <td>0.191</td>\n",
       "      <td>0.3818</td>\n",
       "      <td>Maybe it helps if you give them the same deal ...</td>\n",
       "      <td>1</td>\n",
       "    </tr>\n",
       "  </tbody>\n",
       "</table>\n",
       "</div>"
      ],
      "text/plain": [
       "     neg    neu    pos  compound  \\\n",
       "0  0.000  0.528  0.472    0.5538   \n",
       "1  0.679  0.321  0.000   -0.6408   \n",
       "2  0.000  1.000  0.000    0.0000   \n",
       "3  0.195  0.728  0.076   -0.5574   \n",
       "4  0.121  0.827  0.051   -0.5010   \n",
       "5  0.082  0.815  0.103   -0.1655   \n",
       "6  0.000  1.000  0.000    0.0000   \n",
       "7  0.116  0.799  0.084   -0.4312   \n",
       "8  0.390  0.610  0.000   -0.3724   \n",
       "9  0.000  0.809  0.191    0.3818   \n",
       "\n",
       "                                             comment  label  \n",
       "0                            Yes boi! Gon on Italy!!      1  \n",
       "1                                NOOOOOOOO FUCK 2020     -1  \n",
       "2         Apparently it’s existed for some time now.      0  \n",
       "3  American, here. Please keep us out, for now.\\n...     -1  \n",
       "4  I used to think about it this way too, but the...     -1  \n",
       "5  I do agree there doesn’t seem much benefit not...      0  \n",
       "6      You guys don’t have bell peppers or cilantro?      0  \n",
       "7  It doesn't help that the Americans most likely...     -1  \n",
       "8                            Nothing to be proud of.     -1  \n",
       "9  Maybe it helps if you give them the same deal ...      1  "
      ]
     },
     "execution_count": 95,
     "metadata": {},
     "output_type": "execute_result"
    }
   ],
   "source": [
    "df_comments_ireland.head(10)"
   ]
  },
  {
   "cell_type": "code",
   "execution_count": 96,
   "id": "91eef6bd",
   "metadata": {},
   "outputs": [
    {
     "data": {
      "text/html": [
       "<div>\n",
       "<style scoped>\n",
       "    .dataframe tbody tr th:only-of-type {\n",
       "        vertical-align: middle;\n",
       "    }\n",
       "\n",
       "    .dataframe tbody tr th {\n",
       "        vertical-align: top;\n",
       "    }\n",
       "\n",
       "    .dataframe thead th {\n",
       "        text-align: right;\n",
       "    }\n",
       "</style>\n",
       "<table border=\"1\" class=\"dataframe\">\n",
       "  <thead>\n",
       "    <tr style=\"text-align: right;\">\n",
       "      <th></th>\n",
       "      <th>neg</th>\n",
       "      <th>neu</th>\n",
       "      <th>pos</th>\n",
       "      <th>compound</th>\n",
       "      <th>label</th>\n",
       "    </tr>\n",
       "  </thead>\n",
       "  <tbody>\n",
       "    <tr>\n",
       "      <th>count</th>\n",
       "      <td>1485.000000</td>\n",
       "      <td>1485.000000</td>\n",
       "      <td>1485.000000</td>\n",
       "      <td>1485.000000</td>\n",
       "      <td>1485.000000</td>\n",
       "    </tr>\n",
       "    <tr>\n",
       "      <th>mean</th>\n",
       "      <td>0.111438</td>\n",
       "      <td>0.742212</td>\n",
       "      <td>0.142296</td>\n",
       "      <td>0.036248</td>\n",
       "      <td>0.053872</td>\n",
       "    </tr>\n",
       "    <tr>\n",
       "      <th>std</th>\n",
       "      <td>0.163258</td>\n",
       "      <td>0.219192</td>\n",
       "      <td>0.183788</td>\n",
       "      <td>0.503418</td>\n",
       "      <td>0.827301</td>\n",
       "    </tr>\n",
       "    <tr>\n",
       "      <th>min</th>\n",
       "      <td>0.000000</td>\n",
       "      <td>0.000000</td>\n",
       "      <td>0.000000</td>\n",
       "      <td>-0.986200</td>\n",
       "      <td>-1.000000</td>\n",
       "    </tr>\n",
       "    <tr>\n",
       "      <th>25%</th>\n",
       "      <td>0.000000</td>\n",
       "      <td>0.612000</td>\n",
       "      <td>0.000000</td>\n",
       "      <td>-0.361200</td>\n",
       "      <td>-1.000000</td>\n",
       "    </tr>\n",
       "    <tr>\n",
       "      <th>50%</th>\n",
       "      <td>0.026000</td>\n",
       "      <td>0.773000</td>\n",
       "      <td>0.076000</td>\n",
       "      <td>0.000000</td>\n",
       "      <td>0.000000</td>\n",
       "    </tr>\n",
       "    <tr>\n",
       "      <th>75%</th>\n",
       "      <td>0.167000</td>\n",
       "      <td>0.917000</td>\n",
       "      <td>0.222000</td>\n",
       "      <td>0.440400</td>\n",
       "      <td>1.000000</td>\n",
       "    </tr>\n",
       "    <tr>\n",
       "      <th>max</th>\n",
       "      <td>1.000000</td>\n",
       "      <td>1.000000</td>\n",
       "      <td>1.000000</td>\n",
       "      <td>0.987400</td>\n",
       "      <td>1.000000</td>\n",
       "    </tr>\n",
       "  </tbody>\n",
       "</table>\n",
       "</div>"
      ],
      "text/plain": [
       "               neg          neu          pos     compound        label\n",
       "count  1485.000000  1485.000000  1485.000000  1485.000000  1485.000000\n",
       "mean      0.111438     0.742212     0.142296     0.036248     0.053872\n",
       "std       0.163258     0.219192     0.183788     0.503418     0.827301\n",
       "min       0.000000     0.000000     0.000000    -0.986200    -1.000000\n",
       "25%       0.000000     0.612000     0.000000    -0.361200    -1.000000\n",
       "50%       0.026000     0.773000     0.076000     0.000000     0.000000\n",
       "75%       0.167000     0.917000     0.222000     0.440400     1.000000\n",
       "max       1.000000     1.000000     1.000000     0.987400     1.000000"
      ]
     },
     "execution_count": 96,
     "metadata": {},
     "output_type": "execute_result"
    }
   ],
   "source": [
    "df_comments_ireland.describe()"
   ]
  },
  {
   "cell_type": "code",
   "execution_count": 97,
   "id": "662e241e",
   "metadata": {},
   "outputs": [
    {
     "data": {
      "text/html": [
       "<div>\n",
       "<style scoped>\n",
       "    .dataframe tbody tr th:only-of-type {\n",
       "        vertical-align: middle;\n",
       "    }\n",
       "\n",
       "    .dataframe tbody tr th {\n",
       "        vertical-align: top;\n",
       "    }\n",
       "\n",
       "    .dataframe thead th {\n",
       "        text-align: right;\n",
       "    }\n",
       "</style>\n",
       "<table border=\"1\" class=\"dataframe\">\n",
       "  <thead>\n",
       "    <tr style=\"text-align: right;\">\n",
       "      <th></th>\n",
       "      <th>neg</th>\n",
       "      <th>neu</th>\n",
       "      <th>pos</th>\n",
       "      <th>compound</th>\n",
       "      <th>label</th>\n",
       "    </tr>\n",
       "  </thead>\n",
       "  <tbody>\n",
       "    <tr>\n",
       "      <th>count</th>\n",
       "      <td>1560.000000</td>\n",
       "      <td>1560.000000</td>\n",
       "      <td>1560.000000</td>\n",
       "      <td>1560.000000</td>\n",
       "      <td>1560.000000</td>\n",
       "    </tr>\n",
       "    <tr>\n",
       "      <th>mean</th>\n",
       "      <td>0.106790</td>\n",
       "      <td>0.748525</td>\n",
       "      <td>0.142763</td>\n",
       "      <td>0.069173</td>\n",
       "      <td>0.107692</td>\n",
       "    </tr>\n",
       "    <tr>\n",
       "      <th>std</th>\n",
       "      <td>0.150094</td>\n",
       "      <td>0.198693</td>\n",
       "      <td>0.164744</td>\n",
       "      <td>0.529840</td>\n",
       "      <td>0.829193</td>\n",
       "    </tr>\n",
       "    <tr>\n",
       "      <th>min</th>\n",
       "      <td>0.000000</td>\n",
       "      <td>0.000000</td>\n",
       "      <td>0.000000</td>\n",
       "      <td>-0.991400</td>\n",
       "      <td>-1.000000</td>\n",
       "    </tr>\n",
       "    <tr>\n",
       "      <th>25%</th>\n",
       "      <td>0.000000</td>\n",
       "      <td>0.640750</td>\n",
       "      <td>0.000000</td>\n",
       "      <td>-0.336100</td>\n",
       "      <td>-1.000000</td>\n",
       "    </tr>\n",
       "    <tr>\n",
       "      <th>50%</th>\n",
       "      <td>0.051500</td>\n",
       "      <td>0.766000</td>\n",
       "      <td>0.107000</td>\n",
       "      <td>0.000000</td>\n",
       "      <td>0.000000</td>\n",
       "    </tr>\n",
       "    <tr>\n",
       "      <th>75%</th>\n",
       "      <td>0.167000</td>\n",
       "      <td>0.887000</td>\n",
       "      <td>0.216000</td>\n",
       "      <td>0.526700</td>\n",
       "      <td>1.000000</td>\n",
       "    </tr>\n",
       "    <tr>\n",
       "      <th>max</th>\n",
       "      <td>1.000000</td>\n",
       "      <td>1.000000</td>\n",
       "      <td>1.000000</td>\n",
       "      <td>0.988500</td>\n",
       "      <td>1.000000</td>\n",
       "    </tr>\n",
       "  </tbody>\n",
       "</table>\n",
       "</div>"
      ],
      "text/plain": [
       "               neg          neu          pos     compound        label\n",
       "count  1560.000000  1560.000000  1560.000000  1560.000000  1560.000000\n",
       "mean      0.106790     0.748525     0.142763     0.069173     0.107692\n",
       "std       0.150094     0.198693     0.164744     0.529840     0.829193\n",
       "min       0.000000     0.000000     0.000000    -0.991400    -1.000000\n",
       "25%       0.000000     0.640750     0.000000    -0.336100    -1.000000\n",
       "50%       0.051500     0.766000     0.107000     0.000000     0.000000\n",
       "75%       0.167000     0.887000     0.216000     0.526700     1.000000\n",
       "max       1.000000     1.000000     1.000000     0.988500     1.000000"
      ]
     },
     "execution_count": 97,
     "metadata": {},
     "output_type": "execute_result"
    }
   ],
   "source": [
    "df_comments_newzealand.describe()"
   ]
  },
  {
   "cell_type": "markdown",
   "id": "b042bbdd",
   "metadata": {},
   "source": [
    "### visualising compound scores for the sub reddits"
   ]
  },
  {
   "cell_type": "code",
   "execution_count": 98,
   "id": "17ec8d9f",
   "metadata": {},
   "outputs": [
    {
     "data": {
      "image/png": "[encoded data removed]",
      "text/plain": [
       "<Figure size 432x288 with 1 Axes>"
      ]
     },
     "metadata": {
      "needs_background": "light"
     },
     "output_type": "display_data"
    }
   ],
   "source": [
    "plt.hist(df_comments_ireland[\"compound\"], bins=10)\n",
    "\n",
    "plt.title('histogram of r/ireland comments compound scores')\n",
    "plt.xlabel('compound score')\n",
    "plt.ylabel('amount of comments')\n",
    "\n",
    "plt.show()"
   ]
  },
  {
   "cell_type": "code",
   "execution_count": 99,
   "id": "486d570c",
   "metadata": {},
   "outputs": [
    {
     "data": {
      "image/png": "[encoded data removed]",
      "text/plain": [
       "<Figure size 432x288 with 1 Axes>"
      ]
     },
     "metadata": {
      "needs_background": "light"
     },
     "output_type": "display_data"
    }
   ],
   "source": [
    "plt.hist(df_comments_newzealand[\"compound\"], bins=10)\n",
    "\n",
    "plt.title('histogram of r/newzealand comments compound scores')\n",
    "plt.xlabel('compound score')\n",
    "plt.ylabel('amount of comments')\n",
    "\n",
    "plt.show()"
   ]
  },
  {
   "cell_type": "markdown",
   "id": "425c946d",
   "metadata": {},
   "source": [
    "## box plots "
   ]
  },
  {
   "cell_type": "code",
   "execution_count": 100,
   "id": "bfcd1707",
   "metadata": {},
   "outputs": [
    {
     "data": {
      "image/png": "[encoded data removed]",
      "text/plain": [
       "<Figure size 432x288 with 1 Axes>"
      ]
     },
     "metadata": {
      "needs_background": "light"
     },
     "output_type": "display_data"
    }
   ],
   "source": [
    "plt.boxplot(df_comments_ireland[\"compound\"])\n",
    "\n",
    "plt.title('boxplot of r/ireland comments compound scores')\n",
    "plt.xlabel('compound score')\n",
    "plt.ylabel('amount of comments')\n",
    "\n",
    "plt.show()"
   ]
  },
  {
   "cell_type": "code",
   "execution_count": 101,
   "id": "a8f5c9df",
   "metadata": {},
   "outputs": [
    {
     "data": {
      "image/png": "[encoded data removed]",
      "text/plain": [
       "<Figure size 432x288 with 1 Axes>"
      ]
     },
     "metadata": {
      "needs_background": "light"
     },
     "output_type": "display_data"
    }
   ],
   "source": [
    "plt.boxplot(df_comments_newzealand[\"compound\"])\n",
    "\n",
    "plt.title('boxplot of r/ireland comments compound scores')\n",
    "plt.xlabel('compound score')\n",
    "plt.ylabel('amount of comments')\n",
    "\n",
    "plt.show()"
   ]
  },
  {
   "cell_type": "markdown",
   "id": "3d4ffa9c",
   "metadata": {},
   "source": [
    "### looking at positive comments in more detail"
   ]
  },
  {
   "cell_type": "code",
   "execution_count": 102,
   "id": "e94298ea",
   "metadata": {},
   "outputs": [
    {
     "data": {
      "text/plain": [
       "[('like', 81),\n",
       " ('ireland', 72),\n",
       " ('american', 69),\n",
       " ('us', 62),\n",
       " ('love', 57),\n",
       " ('get', 56),\n",
       " ('good', 45),\n",
       " ('people', 43),\n",
       " ('go', 39),\n",
       " ('well', 39),\n",
       " ('irish', 37),\n",
       " ('would', 36),\n",
       " ('back', 36),\n",
       " ('know', 34),\n",
       " ('croatia', 34),\n",
       " ('great', 34),\n",
       " ('time', 33),\n",
       " ('one', 33),\n",
       " ('house', 32),\n",
       " ('need', 32)]"
      ]
     },
     "execution_count": 102,
     "metadata": {},
     "output_type": "execute_result"
    }
   ],
   "source": [
    "pos_comments_ireland = list(df_comments_ireland[df_comments_ireland.label == 1].comment)\n",
    "\n",
    "pos_tokens_comments_ireland = process_text(pos_comments_ireland)\n",
    "pos_freq_comments_ireland = nltk.FreqDist(pos_tokens_comments_ireland)\n",
    "\n",
    "pos_freq_comments_ireland.most_common(20)"
   ]
  },
  {
   "cell_type": "code",
   "execution_count": 103,
   "id": "0d4684f6",
   "metadata": {},
   "outputs": [
    {
     "data": {
      "image/png": "[encoded data removed]",
      "text/plain": [
       "<Figure size 432x288 with 1 Axes>"
      ]
     },
     "metadata": {
      "needs_background": "light"
     },
     "output_type": "display_data"
    },
    {
     "data": {
      "text/plain": [
       "<AxesSubplot:xlabel='Samples', ylabel='Counts'>"
      ]
     },
     "execution_count": 103,
     "metadata": {},
     "output_type": "execute_result"
    }
   ],
   "source": [
    "pos_freq_comments_ireland.plot(20)\n"
   ]
  },
  {
   "cell_type": "code",
   "execution_count": 104,
   "id": "a7867c9a",
   "metadata": {},
   "outputs": [
    {
     "data": {
      "text/plain": [
       "[('people', 140),\n",
       " ('like', 117),\n",
       " ('nz', 89),\n",
       " ('country', 73),\n",
       " ('us', 66),\n",
       " ('good', 63),\n",
       " ('get', 61),\n",
       " ('new zealand', 61),\n",
       " ('well', 57),\n",
       " ('would', 55),\n",
       " ('vote', 49),\n",
       " ('want', 47),\n",
       " ('love', 45),\n",
       " ('know', 44),\n",
       " ('time', 44),\n",
       " ('much', 43),\n",
       " ('even', 43),\n",
       " ('make', 43),\n",
       " ('one', 41),\n",
       " ('free', 40)]"
      ]
     },
     "execution_count": 104,
     "metadata": {},
     "output_type": "execute_result"
    }
   ],
   "source": [
    "pos_comments_nz = list(df_comments_newzealand[df_comments_newzealand.label == 1].comment)\n",
    "\n",
    "pos_tokens_comments_nz = process_text(pos_comments_nz)\n",
    "pos_freq_comments_nz = nltk.FreqDist(pos_tokens_comments_nz)\n",
    "\n",
    "pos_freq_comments_nz.most_common(20)"
   ]
  },
  {
   "cell_type": "code",
   "execution_count": 105,
   "id": "98174746",
   "metadata": {},
   "outputs": [
    {
     "data": {
      "image/png": "[encoded data removed]",
      "text/plain": [
       "<Figure size 432x288 with 1 Axes>"
      ]
     },
     "metadata": {
      "needs_background": "light"
     },
     "output_type": "display_data"
    },
    {
     "data": {
      "text/plain": [
       "<AxesSubplot:xlabel='Samples', ylabel='Counts'>"
      ]
     },
     "execution_count": 105,
     "metadata": {},
     "output_type": "execute_result"
    }
   ],
   "source": [
    "pos_freq_comments_nz.plot(20)\n"
   ]
  },
  {
   "cell_type": "markdown",
   "id": "713b2b2e",
   "metadata": {},
   "source": [
    "### looking at negative comments in more detail"
   ]
  },
  {
   "cell_type": "code",
   "execution_count": 106,
   "id": "636365d1",
   "metadata": {},
   "outputs": [
    {
     "data": {
      "text/plain": [
       "[('us', 83),\n",
       " ('american', 73),\n",
       " ('people', 66),\n",
       " ('fuck', 64),\n",
       " ('get', 56),\n",
       " ('back', 53),\n",
       " ('deposit', 51),\n",
       " ('ban', 44),\n",
       " ('house', 43),\n",
       " ('rent', 42),\n",
       " ('ireland', 40),\n",
       " ('country', 39),\n",
       " ('like', 37),\n",
       " ('one', 35),\n",
       " ('shit', 34),\n",
       " ('fucking', 33),\n",
       " ('would', 32),\n",
       " ('years', 31),\n",
       " ('americans', 30),\n",
       " ('pay', 29)]"
      ]
     },
     "execution_count": 106,
     "metadata": {},
     "output_type": "execute_result"
    }
   ],
   "source": [
    "neg_comments_ireland = list(df_comments_ireland[df_comments_ireland.label == -1].comment)\n",
    "\n",
    "neg_tokens_comments_ireland = process_text(neg_comments_ireland)\n",
    "neg_freq_comments_ireland = nltk.FreqDist(neg_tokens_comments_ireland)\n",
    "\n",
    "neg_freq_comments_ireland.most_common(20)"
   ]
  },
  {
   "cell_type": "code",
   "execution_count": 107,
   "id": "a85880d4",
   "metadata": {},
   "outputs": [
    {
     "name": "stdout",
     "output_type": "stream",
     "text": [
      "frequency plot of top 20 'negative' from comments r/ireland \n"
     ]
    },
    {
     "data": {
      "image/png": "[encoded data removed]",
      "text/plain": [
       "<Figure size 432x288 with 1 Axes>"
      ]
     },
     "metadata": {
      "needs_background": "light"
     },
     "output_type": "display_data"
    },
    {
     "data": {
      "text/plain": [
       "<AxesSubplot:xlabel='Samples', ylabel='Counts'>"
      ]
     },
     "execution_count": 107,
     "metadata": {},
     "output_type": "execute_result"
    }
   ],
   "source": [
    "print(\"frequency plot of top 20 'negative' from comments r/ireland \")\n",
    "neg_freq_comments_ireland.plot(20)\n"
   ]
  },
  {
   "cell_type": "code",
   "execution_count": 108,
   "id": "88617fca",
   "metadata": {},
   "outputs": [
    {
     "data": {
      "text/plain": [
       "[('people', 114),\n",
       " ('fuck', 74),\n",
       " ('like', 59),\n",
       " ('shit', 58),\n",
       " ('get', 54),\n",
       " ('tipping', 49),\n",
       " ('nz', 45),\n",
       " ('one', 41),\n",
       " ('time', 41),\n",
       " ('us', 40),\n",
       " ('tip', 38),\n",
       " ('would', 37),\n",
       " ('pay', 35),\n",
       " ('fucking', 34),\n",
       " ('country', 33),\n",
       " ('know', 32),\n",
       " ('covid', 31),\n",
       " ('new zealand', 31),\n",
       " ('go', 29),\n",
       " ('also', 28)]"
      ]
     },
     "execution_count": 108,
     "metadata": {},
     "output_type": "execute_result"
    }
   ],
   "source": [
    "neg_comments_nz = list(df_comments_newzealand[df_comments_newzealand.label == -1].comment)\n",
    "\n",
    "neg_tokens_comments_nz = process_text(neg_comments_nz)\n",
    "neg_freq_comments_nz = nltk.FreqDist(neg_tokens_comments_nz)\n",
    "\n",
    "neg_freq_comments_nz.most_common(20)"
   ]
  },
  {
   "cell_type": "code",
   "execution_count": 109,
   "id": "6270ab97",
   "metadata": {},
   "outputs": [
    {
     "name": "stdout",
     "output_type": "stream",
     "text": [
      "frequency plot of top 20 'negative' from comments r/newzealand \n"
     ]
    },
    {
     "data": {
      "image/png": "[encoded data removed]",
      "text/plain": [
       "<Figure size 432x288 with 1 Axes>"
      ]
     },
     "metadata": {
      "needs_background": "light"
     },
     "output_type": "display_data"
    },
    {
     "data": {
      "text/plain": [
       "<AxesSubplot:xlabel='Samples', ylabel='Counts'>"
      ]
     },
     "execution_count": 109,
     "metadata": {},
     "output_type": "execute_result"
    }
   ],
   "source": [
    "print(\"frequency plot of top 20 'negative' from comments r/newzealand \")\n",
    "\n",
    "neg_freq_comments_nz.plot(20)\n"
   ]
  },
  {
   "cell_type": "markdown",
   "id": "b6c93f55",
   "metadata": {},
   "source": [
    "### looking at bigrams and trigrams\n"
   ]
  },
  {
   "cell_type": "markdown",
   "id": "5aa655f0",
   "metadata": {},
   "source": [
    "### positive bigrams and trigrams\n"
   ]
  },
  {
   "cell_type": "code",
   "execution_count": 110,
   "id": "45d2107f",
   "metadata": {},
   "outputs": [
    {
     "name": "stdout",
     "output_type": "stream",
     "text": [
      "Top 10 most positive common 3-grams r/ireland: [('american', 'agree'), ('https', 'www'), ('gov', 'pl'), ('polish', 'border'), ('great', 'bunch'), ('bunch', 'lads'), ('need', 'visa'), ('pl', 'web'), ('udsc', 'ukraina'), ('web', 'udsc')]\n"
     ]
    }
   ],
   "source": [
    "print(\"Top 10 most positive common 3-grams r/ireland:\", bigramfunction(pos_tokens_comments_ireland  ))\n"
   ]
  },
  {
   "cell_type": "code",
   "execution_count": 111,
   "id": "eb0882c6",
   "metadata": {},
   "outputs": [
    {
     "name": "stdout",
     "output_type": "stream",
     "text": [
      "Top 10 most  positive common 3-grams r/ireland: [('gov', 'pl', 'web'), ('great', 'bunch', 'lads'), ('https', 'www', 'gov'), ('pl', 'web', 'udsc'), ('web', 'udsc', 'ukraina'), ('www', 'gov', 'pl'), ('aid', 'polish', 'government'), ('anyone', 'seeking', 'help'), ('arrival', 'reception', 'points'), ('asylum', 'go', 'towards')]\n"
     ]
    }
   ],
   "source": [
    "print(\"Top 10 most  positive common 3-grams r/ireland:\", trigramfunction(pos_tokens_comments_ireland ))\n"
   ]
  },
  {
   "cell_type": "code",
   "execution_count": 112,
   "id": "a9f1a9f9",
   "metadata": {},
   "outputs": [
    {
     "name": "stdout",
     "output_type": "stream",
     "text": [
      "Top 10 most common positive 2-grams r/newzealnd: [('wealth', 'tax'), ('well', 'done'), ('https', 'www'), ('looks', 'like'), ('u', 'kezzanz'), ('x', 'b'), ('good', 'job'), ('k', 'year'), ('free', 'lunches'), ('minimum', 'wage')]\n"
     ]
    }
   ],
   "source": [
    "print(\"Top 10 most common positive 2-grams r/newzealnd:\", bigramfunction(pos_tokens_comments_nz ))\n"
   ]
  },
  {
   "cell_type": "code",
   "execution_count": 113,
   "id": "e210142f",
   "metadata": {},
   "outputs": [
    {
     "name": "stdout",
     "output_type": "stream",
     "text": [
      "Top 10 most common positive 2-grams r/newzealnd: [('ability', 'understand', 'share'), ('understand', 'share', 'feelings'), ('words', 'u', 'im_a_cunt'), ('back', 'menu', 'boys'), ('co', 'uk', 'article'), ('en', 'wikipedia', 'org'), ('https', 'en', 'wikipedia'), ('https', 'www', 'thetimes'), ('thank', 'kind', 'words'), ('thanks', 'u', 'kezzanz')]\n"
     ]
    }
   ],
   "source": [
    "print(\"Top 10 most common positive 2-grams r/newzealnd:\", trigramfunction(pos_tokens_comments_nz ))\n"
   ]
  },
  {
   "cell_type": "markdown",
   "id": "7b4640e4",
   "metadata": {},
   "source": [
    "### negative bigrams and trigrams\n"
   ]
  },
  {
   "cell_type": "code",
   "execution_count": 114,
   "id": "b4fb78fb",
   "metadata": {},
   "outputs": [
    {
     "name": "stdout",
     "output_type": "stream",
     "text": [
      "Top 10 most common negative 2-grams r/ireland: [('ban', 'us'), ('deposit', 'back'), ('american', 'please'), ('damage', 'deposit'), ('please', 'ban'), ('let', 'us'), ('ban', 'americans'), ('buy', 'house'), ('month', 'rent'), ('pay', 'back')]\n"
     ]
    }
   ],
   "source": [
    "print(\"Top 10 most common negative 2-grams r/ireland:\", bigramfunction(neg_tokens_comments_ireland ))\n"
   ]
  },
  {
   "cell_type": "code",
   "execution_count": 115,
   "id": "469119e7",
   "metadata": {},
   "outputs": [
    {
     "name": "stdout",
     "output_type": "stream",
     "text": [
      "Top 10 most  negative common 3-grams r/ireland: [('please', 'ban', 'us'), ('american', 'please', 'ban'), ('ban', 'us', 'please'), ('national', 'day', 'mourning'), ('american', 'ban', 'us'), ('american', 'completely', 'agree'), ('american', 'let', 'us'), ('american', 'visited', 'ireland'), ('ban', 'americans', 'coming'), ('ban', 'us', 'seriously')]\n"
     ]
    }
   ],
   "source": [
    "print(\"Top 10 most  negative common 3-grams r/ireland:\", trigramfunction(neg_tokens_comments_ireland ))\n"
   ]
  },
  {
   "cell_type": "code",
   "execution_count": 116,
   "id": "5eff0fc6",
   "metadata": {},
   "outputs": [
    {
     "name": "stdout",
     "output_type": "stream",
     "text": [
      "Top 10 most common negative 2-grams r/newzealnd: [('kia', 'kaha'), ('tipping', 'culture'), ('minimum', 'wage'), ('pay', 'staff'), ('years', 'ago'), ('delivery', 'driver'), ('delivery', 'expert'), ('etc', 'etc'), ('feel', 'like'), ('fuck', 'tipping')]\n"
     ]
    }
   ],
   "source": [
    "print(\"Top 10 most common negative 2-grams r/newzealnd:\", bigramfunction(neg_tokens_comments_nz ))\n"
   ]
  },
  {
   "cell_type": "code",
   "execution_count": 117,
   "id": "37c0c0d7",
   "metadata": {},
   "outputs": [
    {
     "name": "stdout",
     "output_type": "stream",
     "text": [
      "Top 10 most  negative common 3-grams r/newzealnd: [('hate', 'tipping', 'culture'), ('spectrum', 'political', 'opinions'), ('american', 'tipping', 'rooted'), ('black', 'friday', 'sales'), ('co', 'nz', 'feedback'), ('covid', 'pie', 'sky'), ('dynamic', 'nzherald', 'co'), ('eliminating', 'covid', 'pie'), ('every', 'time', 'read'), ('feedback', 'index', 'cfm')]\n"
     ]
    }
   ],
   "source": [
    "print(\"Top 10 most  negative common 3-grams r/newzealnd:\", trigramfunction(neg_tokens_comments_nz ))\n"
   ]
  },
  {
   "cell_type": "code",
   "execution_count": null,
   "id": "7d81ac1f",
   "metadata": {},
   "outputs": [],
   "source": []
  }
 ],
 "metadata": {
  "kernelspec": {
   "display_name": "Python 3 (ipykernel)",
   "language": "python",
   "name": "python3"
  },
  "language_info": {
   "codemirror_mode": {
    "name": "ipython",
    "version": 3
   },
   "file_extension": ".py",
   "mimetype": "text/x-python",
   "name": "python",
   "nbconvert_exporter": "python",
   "pygments_lexer": "ipython3",
   "version": "3.8.12"
  }
 },
 "nbformat": 4,
 "nbformat_minor": 5
}
