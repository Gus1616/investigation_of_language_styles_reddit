{
 "cells": [
  {
   "cell_type": "markdown",
   "id": "226f5ae7",
   "metadata": {},
   "source": [
    "<center><h2>COMP40020: Human Language Technologies\n",
    "Assignment 1 </h2></center>\n"
   ]
  },
  {
   "cell_type": "markdown",
   "id": "6b3866bd",
   "metadata": {},
   "source": [
    "#### imports"
   ]
  },
  {
   "cell_type": "code",
   "execution_count": 1,
   "id": "1d68193c",
   "metadata": {},
   "outputs": [],
   "source": [
    "import nltk\n",
    "import re\n",
    "from nltk.tag import pos_tag\n",
    "from nltk.chunk import ne_chunk\n",
    "import matplotlib.pyplot as plt\n",
    "import seaborn as sns\n",
    "import emoji\n",
    "from IPython import display\n",
    "import math\n",
    "from pprint import pprint\n",
    "import pandas as pd\n",
    "import numpy as np\n",
    "import praw\n",
    "from praw.models import MoreComments\n",
    "from nltk.sentiment.vader import SentimentIntensityAnalyzer as SIA\n",
    "from nltk.corpus import stopwords\n",
    "from nltk.tokenize import word_tokenize, RegexpTokenizer\n",
    "\n"
   ]
  },
  {
   "cell_type": "markdown",
   "id": "b555e31a",
   "metadata": {},
   "source": [
    "### references:\n",
    "- Code was adapted from the following resources as well as code from the labs:\n",
    "-  https://www.learndatasci.com/tutorials/sentiment-analysis-reddit-headlines-pythons-nltk/\n",
    "- https://medium.com/@kiddojazz/reddit-sentiment-analysis-f8a1a790124a\n",
    "- https://towardsdatascience.com/automate-sentiment-analysis-process-for-reddit-post-textblob-and-vader-8a79c269522f"
   ]
  },
  {
   "cell_type": "code",
   "execution_count": 69,
   "id": "2fdbdc40",
   "metadata": {},
   "outputs": [],
   "source": [
    "ci = \"fQeiW15Vp7PWost_U0QkaA\" #your client id\n",
    "cs = \"p2LFKOI2h6gyQ_Y3A9ilM-hprJGMiA\" #your client secret\n",
    "ua = \"busterorwha\" #your user agent name\n"
   ]
  },
  {
   "cell_type": "code",
   "execution_count": 70,
   "id": "adc429b0",
   "metadata": {},
   "outputs": [],
   "source": [
    "\n",
    "reddit = praw.Reddit(client_id=ci,\n",
    "                     client_secret=cs,\n",
    "                     user_agent=ua)\n",
    "\n",
    "\n"
   ]
  },
  {
   "cell_type": "markdown",
   "id": "673cbe4a",
   "metadata": {},
   "source": [
    "### sets to hold headlines"
   ]
  },
  {
   "cell_type": "code",
   "execution_count": 71,
   "id": "6ae86b6f",
   "metadata": {},
   "outputs": [],
   "source": [
    "headlines = set()\n",
    "headlines_newZealand = set()"
   ]
  },
  {
   "cell_type": "markdown",
   "id": "ae19b8b0",
   "metadata": {},
   "source": [
    "### Looking at 900 new post titles "
   ]
  },
  {
   "cell_type": "code",
   "execution_count": 72,
   "id": "0d805681",
   "metadata": {},
   "outputs": [
    {
     "name": "stdout",
     "output_type": "stream",
     "text": [
      "898\n"
     ]
    }
   ],
   "source": [
    "# r/ireland\n",
    "for submission in reddit.subreddit('ireland').new(limit=900):\n",
    "    headlines.add(submission.title)\n",
    "    display.clear_output()\n",
    "    print(len(headlines))"
   ]
  },
  {
   "cell_type": "code",
   "execution_count": 73,
   "id": "09180777",
   "metadata": {},
   "outputs": [
    {
     "name": "stdout",
     "output_type": "stream",
     "text": [
      "900\n"
     ]
    }
   ],
   "source": [
    "# r/newzealand\n",
    "for submission in reddit.subreddit('newzealand').new(limit=900):\n",
    "    headlines_newZealand.add(submission.title)\n",
    "    display.clear_output()\n",
    "    print(len(headlines_newZealand))"
   ]
  },
  {
   "cell_type": "markdown",
   "id": "ab1f216c",
   "metadata": {},
   "source": [
    "### r/ireland"
   ]
  },
  {
   "cell_type": "code",
   "execution_count": 74,
   "id": "07fefc1a",
   "metadata": {},
   "outputs": [],
   "source": [
    "# function for sentiment analysis \n",
    "def sia_function(headlines):\n",
    "\n",
    "    sia = SIA()\n",
    "    results = []\n",
    "\n",
    "    for line in headlines:\n",
    "        pol_score = sia.polarity_scores(line)\n",
    "        pol_score['headline'] = line\n",
    "        results.append(pol_score)\n",
    "        \n",
    "    return results\n",
    "\n",
    "    "
   ]
  },
  {
   "cell_type": "code",
   "execution_count": 75,
   "id": "218a60da",
   "metadata": {},
   "outputs": [
    {
     "name": "stdout",
     "output_type": "stream",
     "text": [
      "[{'compound': 0.0, 'headline': 'Nova Noise', 'neg': 0.0, 'neu': 1.0, 'pos': 0.0},\n",
      " {'compound': 0.0,\n",
      "  'headline': \"If you were looking for these - they've been discontinued!!\",\n",
      "  'neg': 0.0,\n",
      "  'neu': 1.0,\n",
      "  'pos': 0.0},\n",
      " {'compound': 0.6249,\n",
      "  'headline': 'How awesome is your Ma?',\n",
      "  'neg': 0.0,\n",
      "  'neu': 0.494,\n",
      "  'pos': 0.506}]\n"
     ]
    }
   ],
   "source": [
    "# sentiment intensity analyser \n",
    "\n",
    "sia = SIA()\n",
    "results = []\n",
    "\n",
    "for line in headlines:\n",
    "    pol_score = sia.polarity_scores(line)\n",
    "    pol_score['headline'] = line\n",
    "    results.append(pol_score)\n",
    "\n",
    "pprint(results[:3], width=100)"
   ]
  },
  {
   "cell_type": "markdown",
   "id": "ac6e3bc3",
   "metadata": {},
   "source": [
    "### r/newzealand"
   ]
  },
  {
   "cell_type": "code",
   "execution_count": 76,
   "id": "29cf3551",
   "metadata": {},
   "outputs": [
    {
     "name": "stdout",
     "output_type": "stream",
     "text": [
      "[{'compound': 0.0, 'headline': 'Refund wait time', 'neg': 0.0, 'neu': 1.0, 'pos': 0.0},\n",
      " {'compound': 0.4019,\n",
      "  'headline': 'Government policy changes help drive rents to record highs, Government survey finds',\n",
      "  'neg': 0.0,\n",
      "  'neu': 0.803,\n",
      "  'pos': 0.197},\n",
      " {'compound': 0.0, 'headline': 'Moving to Palmerston North', 'neg': 0.0, 'neu': 1.0, 'pos': 0.0}]\n"
     ]
    }
   ],
   "source": [
    "results_nz = sia_function(headlines_newZealand)\n",
    "pprint(results_nz[:3], width=100)"
   ]
  },
  {
   "cell_type": "markdown",
   "id": "ce98fdfb",
   "metadata": {},
   "source": [
    "### dataframe r/ireland"
   ]
  },
  {
   "cell_type": "code",
   "execution_count": 77,
   "id": "49b9fde3",
   "metadata": {},
   "outputs": [
    {
     "data": {
      "text/html": [
       "<div>\n",
       "<style scoped>\n",
       "    .dataframe tbody tr th:only-of-type {\n",
       "        vertical-align: middle;\n",
       "    }\n",
       "\n",
       "    .dataframe tbody tr th {\n",
       "        vertical-align: top;\n",
       "    }\n",
       "\n",
       "    .dataframe thead th {\n",
       "        text-align: right;\n",
       "    }\n",
       "</style>\n",
       "<table border=\"1\" class=\"dataframe\">\n",
       "  <thead>\n",
       "    <tr style=\"text-align: right;\">\n",
       "      <th></th>\n",
       "      <th>neg</th>\n",
       "      <th>neu</th>\n",
       "      <th>pos</th>\n",
       "      <th>compound</th>\n",
       "      <th>headline</th>\n",
       "    </tr>\n",
       "  </thead>\n",
       "  <tbody>\n",
       "    <tr>\n",
       "      <th>0</th>\n",
       "      <td>0.000</td>\n",
       "      <td>1.000</td>\n",
       "      <td>0.000</td>\n",
       "      <td>0.0000</td>\n",
       "      <td>Nova Noise</td>\n",
       "    </tr>\n",
       "    <tr>\n",
       "      <th>1</th>\n",
       "      <td>0.000</td>\n",
       "      <td>1.000</td>\n",
       "      <td>0.000</td>\n",
       "      <td>0.0000</td>\n",
       "      <td>If you were looking for these - they've been d...</td>\n",
       "    </tr>\n",
       "    <tr>\n",
       "      <th>2</th>\n",
       "      <td>0.000</td>\n",
       "      <td>0.494</td>\n",
       "      <td>0.506</td>\n",
       "      <td>0.6249</td>\n",
       "      <td>How awesome is your Ma?</td>\n",
       "    </tr>\n",
       "    <tr>\n",
       "      <th>3</th>\n",
       "      <td>0.337</td>\n",
       "      <td>0.663</td>\n",
       "      <td>0.000</td>\n",
       "      <td>-0.6808</td>\n",
       "      <td>Ex-Cavan GAA player assaulted journalist after...</td>\n",
       "    </tr>\n",
       "    <tr>\n",
       "      <th>4</th>\n",
       "      <td>0.185</td>\n",
       "      <td>0.700</td>\n",
       "      <td>0.115</td>\n",
       "      <td>-0.3400</td>\n",
       "      <td>Dublin Airport to host jobs fair to recruit hu...</td>\n",
       "    </tr>\n",
       "  </tbody>\n",
       "</table>\n",
       "</div>"
      ],
      "text/plain": [
       "     neg    neu    pos  compound  \\\n",
       "0  0.000  1.000  0.000    0.0000   \n",
       "1  0.000  1.000  0.000    0.0000   \n",
       "2  0.000  0.494  0.506    0.6249   \n",
       "3  0.337  0.663  0.000   -0.6808   \n",
       "4  0.185  0.700  0.115   -0.3400   \n",
       "\n",
       "                                            headline  \n",
       "0                                         Nova Noise  \n",
       "1  If you were looking for these - they've been d...  \n",
       "2                            How awesome is your Ma?  \n",
       "3  Ex-Cavan GAA player assaulted journalist after...  \n",
       "4  Dublin Airport to host jobs fair to recruit hu...  "
      ]
     },
     "execution_count": 77,
     "metadata": {},
     "output_type": "execute_result"
    }
   ],
   "source": [
    "df = pd.DataFrame.from_records(results)\n",
    "df.head()"
   ]
  },
  {
   "cell_type": "markdown",
   "id": "35ac390b",
   "metadata": {},
   "source": [
    "### defining positive and negative label"
   ]
  },
  {
   "cell_type": "code",
   "execution_count": 78,
   "id": "f893302b",
   "metadata": {},
   "outputs": [],
   "source": [
    "def define_positive(df):\n",
    "    df['label'] = 0\n",
    "    df.loc[df['compound'] > 0.2, 'label'] = 1\n",
    "    df.loc[df['compound'] < -0.2, 'label'] = -1\n",
    "    return df\n",
    "    "
   ]
  },
  {
   "cell_type": "code",
   "execution_count": 79,
   "id": "e2660e66",
   "metadata": {},
   "outputs": [
    {
     "data": {
      "text/html": [
       "<div>\n",
       "<style scoped>\n",
       "    .dataframe tbody tr th:only-of-type {\n",
       "        vertical-align: middle;\n",
       "    }\n",
       "\n",
       "    .dataframe tbody tr th {\n",
       "        vertical-align: top;\n",
       "    }\n",
       "\n",
       "    .dataframe thead th {\n",
       "        text-align: right;\n",
       "    }\n",
       "</style>\n",
       "<table border=\"1\" class=\"dataframe\">\n",
       "  <thead>\n",
       "    <tr style=\"text-align: right;\">\n",
       "      <th></th>\n",
       "      <th>neg</th>\n",
       "      <th>neu</th>\n",
       "      <th>pos</th>\n",
       "      <th>compound</th>\n",
       "      <th>headline</th>\n",
       "      <th>label</th>\n",
       "    </tr>\n",
       "  </thead>\n",
       "  <tbody>\n",
       "    <tr>\n",
       "      <th>0</th>\n",
       "      <td>0.000</td>\n",
       "      <td>1.000</td>\n",
       "      <td>0.000</td>\n",
       "      <td>0.0000</td>\n",
       "      <td>Nova Noise</td>\n",
       "      <td>0</td>\n",
       "    </tr>\n",
       "    <tr>\n",
       "      <th>1</th>\n",
       "      <td>0.000</td>\n",
       "      <td>1.000</td>\n",
       "      <td>0.000</td>\n",
       "      <td>0.0000</td>\n",
       "      <td>If you were looking for these - they've been d...</td>\n",
       "      <td>0</td>\n",
       "    </tr>\n",
       "    <tr>\n",
       "      <th>2</th>\n",
       "      <td>0.000</td>\n",
       "      <td>0.494</td>\n",
       "      <td>0.506</td>\n",
       "      <td>0.6249</td>\n",
       "      <td>How awesome is your Ma?</td>\n",
       "      <td>1</td>\n",
       "    </tr>\n",
       "    <tr>\n",
       "      <th>3</th>\n",
       "      <td>0.337</td>\n",
       "      <td>0.663</td>\n",
       "      <td>0.000</td>\n",
       "      <td>-0.6808</td>\n",
       "      <td>Ex-Cavan GAA player assaulted journalist after...</td>\n",
       "      <td>-1</td>\n",
       "    </tr>\n",
       "    <tr>\n",
       "      <th>4</th>\n",
       "      <td>0.185</td>\n",
       "      <td>0.700</td>\n",
       "      <td>0.115</td>\n",
       "      <td>-0.3400</td>\n",
       "      <td>Dublin Airport to host jobs fair to recruit hu...</td>\n",
       "      <td>-1</td>\n",
       "    </tr>\n",
       "  </tbody>\n",
       "</table>\n",
       "</div>"
      ],
      "text/plain": [
       "     neg    neu    pos  compound  \\\n",
       "0  0.000  1.000  0.000    0.0000   \n",
       "1  0.000  1.000  0.000    0.0000   \n",
       "2  0.000  0.494  0.506    0.6249   \n",
       "3  0.337  0.663  0.000   -0.6808   \n",
       "4  0.185  0.700  0.115   -0.3400   \n",
       "\n",
       "                                            headline  label  \n",
       "0                                         Nova Noise      0  \n",
       "1  If you were looking for these - they've been d...      0  \n",
       "2                            How awesome is your Ma?      1  \n",
       "3  Ex-Cavan GAA player assaulted journalist after...     -1  \n",
       "4  Dublin Airport to host jobs fair to recruit hu...     -1  "
      ]
     },
     "execution_count": 79,
     "metadata": {},
     "output_type": "execute_result"
    }
   ],
   "source": [
    "df['label'] = 0\n",
    "df.loc[df['compound'] > 0.2, 'label'] = 1\n",
    "df.loc[df['compound'] < -0.2, 'label'] = -1\n",
    "df.head()"
   ]
  },
  {
   "cell_type": "markdown",
   "id": "ca45cc10",
   "metadata": {},
   "source": [
    "### dataframe r/newzealand"
   ]
  },
  {
   "cell_type": "code",
   "execution_count": 80,
   "id": "8f997a0d",
   "metadata": {},
   "outputs": [
    {
     "data": {
      "text/html": [
       "<div>\n",
       "<style scoped>\n",
       "    .dataframe tbody tr th:only-of-type {\n",
       "        vertical-align: middle;\n",
       "    }\n",
       "\n",
       "    .dataframe tbody tr th {\n",
       "        vertical-align: top;\n",
       "    }\n",
       "\n",
       "    .dataframe thead th {\n",
       "        text-align: right;\n",
       "    }\n",
       "</style>\n",
       "<table border=\"1\" class=\"dataframe\">\n",
       "  <thead>\n",
       "    <tr style=\"text-align: right;\">\n",
       "      <th></th>\n",
       "      <th>neg</th>\n",
       "      <th>neu</th>\n",
       "      <th>pos</th>\n",
       "      <th>compound</th>\n",
       "      <th>headline</th>\n",
       "    </tr>\n",
       "  </thead>\n",
       "  <tbody>\n",
       "    <tr>\n",
       "      <th>0</th>\n",
       "      <td>0.000</td>\n",
       "      <td>1.000</td>\n",
       "      <td>0.000</td>\n",
       "      <td>0.0000</td>\n",
       "      <td>Refund wait time</td>\n",
       "    </tr>\n",
       "    <tr>\n",
       "      <th>1</th>\n",
       "      <td>0.000</td>\n",
       "      <td>0.803</td>\n",
       "      <td>0.197</td>\n",
       "      <td>0.4019</td>\n",
       "      <td>Government policy changes help drive rents to ...</td>\n",
       "    </tr>\n",
       "    <tr>\n",
       "      <th>2</th>\n",
       "      <td>0.000</td>\n",
       "      <td>1.000</td>\n",
       "      <td>0.000</td>\n",
       "      <td>0.0000</td>\n",
       "      <td>Moving to Palmerston North</td>\n",
       "    </tr>\n",
       "    <tr>\n",
       "      <th>3</th>\n",
       "      <td>0.159</td>\n",
       "      <td>0.591</td>\n",
       "      <td>0.250</td>\n",
       "      <td>0.2500</td>\n",
       "      <td>Broadcasting Standards Authority rules freedom...</td>\n",
       "    </tr>\n",
       "    <tr>\n",
       "      <th>4</th>\n",
       "      <td>0.000</td>\n",
       "      <td>0.809</td>\n",
       "      <td>0.191</td>\n",
       "      <td>0.5106</td>\n",
       "      <td>Reference to the 2nd New Zealand Division in n...</td>\n",
       "    </tr>\n",
       "  </tbody>\n",
       "</table>\n",
       "</div>"
      ],
      "text/plain": [
       "     neg    neu    pos  compound  \\\n",
       "0  0.000  1.000  0.000    0.0000   \n",
       "1  0.000  0.803  0.197    0.4019   \n",
       "2  0.000  1.000  0.000    0.0000   \n",
       "3  0.159  0.591  0.250    0.2500   \n",
       "4  0.000  0.809  0.191    0.5106   \n",
       "\n",
       "                                            headline  \n",
       "0                                   Refund wait time  \n",
       "1  Government policy changes help drive rents to ...  \n",
       "2                         Moving to Palmerston North  \n",
       "3  Broadcasting Standards Authority rules freedom...  \n",
       "4  Reference to the 2nd New Zealand Division in n...  "
      ]
     },
     "execution_count": 80,
     "metadata": {},
     "output_type": "execute_result"
    }
   ],
   "source": [
    "df_nz = pd.DataFrame.from_records(results_nz)\n",
    "df_nz.head()"
   ]
  },
  {
   "cell_type": "markdown",
   "id": "8d98f9c7",
   "metadata": {},
   "source": [
    "### defining positive and negative label"
   ]
  },
  {
   "cell_type": "code",
   "execution_count": 81,
   "id": "5519d9fc",
   "metadata": {},
   "outputs": [
    {
     "data": {
      "text/html": [
       "<div>\n",
       "<style scoped>\n",
       "    .dataframe tbody tr th:only-of-type {\n",
       "        vertical-align: middle;\n",
       "    }\n",
       "\n",
       "    .dataframe tbody tr th {\n",
       "        vertical-align: top;\n",
       "    }\n",
       "\n",
       "    .dataframe thead th {\n",
       "        text-align: right;\n",
       "    }\n",
       "</style>\n",
       "<table border=\"1\" class=\"dataframe\">\n",
       "  <thead>\n",
       "    <tr style=\"text-align: right;\">\n",
       "      <th></th>\n",
       "      <th>neg</th>\n",
       "      <th>neu</th>\n",
       "      <th>pos</th>\n",
       "      <th>compound</th>\n",
       "      <th>headline</th>\n",
       "      <th>label</th>\n",
       "    </tr>\n",
       "  </thead>\n",
       "  <tbody>\n",
       "    <tr>\n",
       "      <th>0</th>\n",
       "      <td>0.000</td>\n",
       "      <td>1.000</td>\n",
       "      <td>0.000</td>\n",
       "      <td>0.0000</td>\n",
       "      <td>Refund wait time</td>\n",
       "      <td>0</td>\n",
       "    </tr>\n",
       "    <tr>\n",
       "      <th>1</th>\n",
       "      <td>0.000</td>\n",
       "      <td>0.803</td>\n",
       "      <td>0.197</td>\n",
       "      <td>0.4019</td>\n",
       "      <td>Government policy changes help drive rents to ...</td>\n",
       "      <td>1</td>\n",
       "    </tr>\n",
       "    <tr>\n",
       "      <th>2</th>\n",
       "      <td>0.000</td>\n",
       "      <td>1.000</td>\n",
       "      <td>0.000</td>\n",
       "      <td>0.0000</td>\n",
       "      <td>Moving to Palmerston North</td>\n",
       "      <td>0</td>\n",
       "    </tr>\n",
       "    <tr>\n",
       "      <th>3</th>\n",
       "      <td>0.159</td>\n",
       "      <td>0.591</td>\n",
       "      <td>0.250</td>\n",
       "      <td>0.2500</td>\n",
       "      <td>Broadcasting Standards Authority rules freedom...</td>\n",
       "      <td>1</td>\n",
       "    </tr>\n",
       "    <tr>\n",
       "      <th>4</th>\n",
       "      <td>0.000</td>\n",
       "      <td>0.809</td>\n",
       "      <td>0.191</td>\n",
       "      <td>0.5106</td>\n",
       "      <td>Reference to the 2nd New Zealand Division in n...</td>\n",
       "      <td>1</td>\n",
       "    </tr>\n",
       "  </tbody>\n",
       "</table>\n",
       "</div>"
      ],
      "text/plain": [
       "     neg    neu    pos  compound  \\\n",
       "0  0.000  1.000  0.000    0.0000   \n",
       "1  0.000  0.803  0.197    0.4019   \n",
       "2  0.000  1.000  0.000    0.0000   \n",
       "3  0.159  0.591  0.250    0.2500   \n",
       "4  0.000  0.809  0.191    0.5106   \n",
       "\n",
       "                                            headline  label  \n",
       "0                                   Refund wait time      0  \n",
       "1  Government policy changes help drive rents to ...      1  \n",
       "2                         Moving to Palmerston North      0  \n",
       "3  Broadcasting Standards Authority rules freedom...      1  \n",
       "4  Reference to the 2nd New Zealand Division in n...      1  "
      ]
     },
     "execution_count": 81,
     "metadata": {},
     "output_type": "execute_result"
    }
   ],
   "source": [
    "df_nz['label'] = 0\n",
    "df_nz.loc[df_nz['compound'] > 0.2, 'label'] = 1\n",
    "df_nz.loc[df_nz['compound'] < -0.2, 'label'] = -1\n",
    "df_nz.head()"
   ]
  },
  {
   "cell_type": "markdown",
   "id": "187cdf95",
   "metadata": {},
   "source": [
    "### example of positive and neg headlines r/ireland"
   ]
  },
  {
   "cell_type": "code",
   "execution_count": 82,
   "id": "7d31f0b2",
   "metadata": {},
   "outputs": [
    {
     "name": "stdout",
     "output_type": "stream",
     "text": [
      "Positive headlines:\n",
      "\n",
      "['How awesome is your Ma?',\n",
      " \"Treat Yo'Self in Ballymun on point this morning...\",\n",
      " \"Happy International Women's' Day. On this International Women's' Day we celebrate the achievements and dedication of our Comrades. Ni saoirse go saoirse na mban - (There is no freedom until the \"\n",
      " 'freedom of women)',\n",
      " 'Defence Forces to withdraw from United Nations Disengagement Observer Force on Golan Heights',\n",
      " 'People Before Profit writes to Sinn Fein to form left alliance ahead of election']\n",
      "\n",
      "Negative headlines:\n",
      "\n",
      "['Ex-Cavan GAA player assaulted journalist after request not to cover court case refused',\n",
      " 'Dublin Airport to host jobs fair to recruit hundreds of workers after last summer’s queue chaos',\n",
      " 'IMO members reject €257,000-a-year public-only contract',\n",
      " 'Nearly 2,000 AIB customers received 90% debt writedown · TheJournal.ie',\n",
      " 'Irish Times poll: Majority of voters support ban on protests at DP centres, cap on those arriving']\n"
     ]
    }
   ],
   "source": [
    "print(\"Positive headlines:\\n\")\n",
    "pprint(list(df[df['label'] == 1].headline)[:5], width=200)\n",
    "\n",
    "print(\"\\nNegative headlines:\\n\")\n",
    "pprint(list(df[df['label'] == -1].headline)[:5], width=200)"
   ]
  },
  {
   "cell_type": "markdown",
   "id": "754b5349",
   "metadata": {},
   "source": [
    "### example of positive and neg headlines r/newzealand"
   ]
  },
  {
   "cell_type": "code",
   "execution_count": 83,
   "id": "bd228362",
   "metadata": {},
   "outputs": [
    {
     "name": "stdout",
     "output_type": "stream",
     "text": [
      "Positive headlines:\n",
      "\n",
      "['Government policy changes help drive rents to record highs, Government survey finds',\n",
      " 'Broadcasting Standards Authority rules freedom of expression outweighed potential harm in RNZ interview about gender identity',\n",
      " 'Reference to the 2nd New Zealand Division in new strategy video game Company of Heroes 3',\n",
      " 'Help needed for census',\n",
      " 'Best cheese for pizza that isn’t mozzarella?']\n",
      "\n",
      "Negative headlines:\n",
      "\n",
      "['Pharmac chairman Steve Maharey offers resignation over columns',\n",
      " 'ird communication is terrible.',\n",
      " 'Watch live: Feelings of fear ‘justified and fair’ says PM Chris Hipkins; more police resource for Hawke’s Bay',\n",
      " 'Does anyone know what type of mushrooms these are? Pic is of a small one, but they grow larger - they are yellow and black. Are they poisonous to dogs?',\n",
      " \"Why it floods wood on NZ's East Coast | John Campbell on Forestry Slash\"]\n"
     ]
    }
   ],
   "source": [
    "print(\"Positive headlines:\\n\")\n",
    "pprint(list(df_nz[df_nz['label'] == 1].headline)[:5], width=200)\n",
    "\n",
    "print(\"\\nNegative headlines:\\n\")\n",
    "pprint(list(df_nz[df_nz['label'] == -1].headline)[:5], width=200)"
   ]
  },
  {
   "cell_type": "markdown",
   "id": "c95ca0b9",
   "metadata": {},
   "source": [
    "### looking at value counts r/ireland"
   ]
  },
  {
   "cell_type": "code",
   "execution_count": 84,
   "id": "888a8018",
   "metadata": {},
   "outputs": [
    {
     "name": "stdout",
     "output_type": "stream",
     "text": [
      " 0    490\n",
      " 1    206\n",
      "-1    202\n",
      "Name: label, dtype: int64\n",
      " 0    54.565702\n",
      " 1    22.939866\n",
      "-1    22.494432\n",
      "Name: label, dtype: float64\n"
     ]
    }
   ],
   "source": [
    "print(df.label.value_counts())\n",
    "print(df.label.value_counts(normalize=True) * 100)\n"
   ]
  },
  {
   "cell_type": "markdown",
   "id": "68d47574",
   "metadata": {},
   "source": [
    "### looking at value counts r/newzealand"
   ]
  },
  {
   "cell_type": "code",
   "execution_count": 85,
   "id": "df4176f4",
   "metadata": {},
   "outputs": [
    {
     "name": "stdout",
     "output_type": "stream",
     "text": [
      " 0    510\n",
      "-1    200\n",
      " 1    190\n",
      "Name: label, dtype: int64\n",
      " 0    56.666667\n",
      "-1    22.222222\n",
      " 1    21.111111\n",
      "Name: label, dtype: float64\n"
     ]
    }
   ],
   "source": [
    "print(df_nz.label.value_counts())\n",
    "print(df_nz.label.value_counts(normalize=True) * 100)"
   ]
  },
  {
   "cell_type": "markdown",
   "id": "7c5b157a",
   "metadata": {},
   "source": [
    "### graph comparing results "
   ]
  },
  {
   "cell_type": "markdown",
   "id": "35b73f43",
   "metadata": {},
   "source": [
    "code adapted from: https://stackoverflow.com/questions/10369681/how-to-plot-bar-graphs-with-same-x-coordinates-side-by-side-dodged "
   ]
  },
  {
   "cell_type": "code",
   "execution_count": 135,
   "id": "b5ae66d5",
   "metadata": {},
   "outputs": [
    {
     "data": {
      "image/png": "[encoded data removed]",
      "text/plain": [
       "<Figure size 720x360 with 1 Axes>"
      ]
     },
     "metadata": {
      "needs_background": "light"
     },
     "output_type": "display_data"
    }
   ],
   "source": [
    "counts_nz = df_nz.label.value_counts(normalize=True) * 100\n",
    "\n",
    "counts_ireland = df.label.value_counts(normalize=True) * 100\n",
    "N = 3\n",
    "\n",
    "blue_bar = (counts_ireland)\n",
    "orange_bar = (counts_nz)\n",
    "\n",
    "# Position of bars on x-axis\n",
    "ind = np.arange(N)\n",
    "# Figure size\n",
    "plt.figure(figsize=(10,5))\n",
    "\n",
    "# Width of a bar \n",
    "width = 0.3       \n",
    "\n",
    "# Plotting\n",
    "plt.bar(ind, blue_bar , width, label='Ireland')\n",
    "plt.bar(ind + width, orange_bar, width, label='newzealand')\n",
    "\n",
    "plt.ylabel('Percentage')\n",
    "plt.title('Comparing r/ireland and r/newzealand most recent 900 posts')\n",
    "\n",
    "plt.xticks(ind + width / 2, ('Neutral', 'Negative', 'Positve'))\n",
    "\n",
    "# Finding the best position for legends and putting it\n",
    "plt.legend(loc='best')\n",
    "plt.show()"
   ]
  },
  {
   "cell_type": "markdown",
   "id": "35dfc94f",
   "metadata": {},
   "source": [
    "### detailed stats of r/ireland most recent 900 post titles"
   ]
  },
  {
   "cell_type": "code",
   "execution_count": 120,
   "id": "c8db6345",
   "metadata": {},
   "outputs": [
    {
     "data": {
      "text/html": [
       "<div>\n",
       "<style scoped>\n",
       "    .dataframe tbody tr th:only-of-type {\n",
       "        vertical-align: middle;\n",
       "    }\n",
       "\n",
       "    .dataframe tbody tr th {\n",
       "        vertical-align: top;\n",
       "    }\n",
       "\n",
       "    .dataframe thead th {\n",
       "        text-align: right;\n",
       "    }\n",
       "</style>\n",
       "<table border=\"1\" class=\"dataframe\">\n",
       "  <thead>\n",
       "    <tr style=\"text-align: right;\">\n",
       "      <th></th>\n",
       "      <th>neg</th>\n",
       "      <th>neu</th>\n",
       "      <th>pos</th>\n",
       "      <th>compound</th>\n",
       "      <th>label</th>\n",
       "    </tr>\n",
       "  </thead>\n",
       "  <tbody>\n",
       "    <tr>\n",
       "      <th>count</th>\n",
       "      <td>898.000000</td>\n",
       "      <td>898.000000</td>\n",
       "      <td>898.000000</td>\n",
       "      <td>898.000000</td>\n",
       "      <td>898.000000</td>\n",
       "    </tr>\n",
       "    <tr>\n",
       "      <th>mean</th>\n",
       "      <td>0.084393</td>\n",
       "      <td>0.835455</td>\n",
       "      <td>0.079042</td>\n",
       "      <td>-0.006848</td>\n",
       "      <td>0.004454</td>\n",
       "    </tr>\n",
       "    <tr>\n",
       "      <th>std</th>\n",
       "      <td>0.152059</td>\n",
       "      <td>0.192655</td>\n",
       "      <td>0.140078</td>\n",
       "      <td>0.358226</td>\n",
       "      <td>0.674411</td>\n",
       "    </tr>\n",
       "    <tr>\n",
       "      <th>min</th>\n",
       "      <td>0.000000</td>\n",
       "      <td>0.000000</td>\n",
       "      <td>0.000000</td>\n",
       "      <td>-0.928700</td>\n",
       "      <td>-1.000000</td>\n",
       "    </tr>\n",
       "    <tr>\n",
       "      <th>25%</th>\n",
       "      <td>0.000000</td>\n",
       "      <td>0.699250</td>\n",
       "      <td>0.000000</td>\n",
       "      <td>-0.051600</td>\n",
       "      <td>0.000000</td>\n",
       "    </tr>\n",
       "    <tr>\n",
       "      <th>50%</th>\n",
       "      <td>0.000000</td>\n",
       "      <td>0.889000</td>\n",
       "      <td>0.000000</td>\n",
       "      <td>0.000000</td>\n",
       "      <td>0.000000</td>\n",
       "    </tr>\n",
       "    <tr>\n",
       "      <th>75%</th>\n",
       "      <td>0.132250</td>\n",
       "      <td>1.000000</td>\n",
       "      <td>0.134000</td>\n",
       "      <td>0.102700</td>\n",
       "      <td>0.000000</td>\n",
       "    </tr>\n",
       "    <tr>\n",
       "      <th>max</th>\n",
       "      <td>0.762000</td>\n",
       "      <td>1.000000</td>\n",
       "      <td>0.800000</td>\n",
       "      <td>0.939300</td>\n",
       "      <td>1.000000</td>\n",
       "    </tr>\n",
       "  </tbody>\n",
       "</table>\n",
       "</div>"
      ],
      "text/plain": [
       "              neg         neu         pos    compound       label\n",
       "count  898.000000  898.000000  898.000000  898.000000  898.000000\n",
       "mean     0.084393    0.835455    0.079042   -0.006848    0.004454\n",
       "std      0.152059    0.192655    0.140078    0.358226    0.674411\n",
       "min      0.000000    0.000000    0.000000   -0.928700   -1.000000\n",
       "25%      0.000000    0.699250    0.000000   -0.051600    0.000000\n",
       "50%      0.000000    0.889000    0.000000    0.000000    0.000000\n",
       "75%      0.132250    1.000000    0.134000    0.102700    0.000000\n",
       "max      0.762000    1.000000    0.800000    0.939300    1.000000"
      ]
     },
     "execution_count": 120,
     "metadata": {},
     "output_type": "execute_result"
    }
   ],
   "source": [
    "df.describe()"
   ]
  },
  {
   "cell_type": "markdown",
   "id": "4e957fc4",
   "metadata": {},
   "source": [
    "### detailed stats of r/newzealand most recent 900 post titles"
   ]
  },
  {
   "cell_type": "code",
   "execution_count": 122,
   "id": "0b854eec",
   "metadata": {},
   "outputs": [
    {
     "data": {
      "text/html": [
       "<div>\n",
       "<style scoped>\n",
       "    .dataframe tbody tr th:only-of-type {\n",
       "        vertical-align: middle;\n",
       "    }\n",
       "\n",
       "    .dataframe tbody tr th {\n",
       "        vertical-align: top;\n",
       "    }\n",
       "\n",
       "    .dataframe thead th {\n",
       "        text-align: right;\n",
       "    }\n",
       "</style>\n",
       "<table border=\"1\" class=\"dataframe\">\n",
       "  <thead>\n",
       "    <tr style=\"text-align: right;\">\n",
       "      <th></th>\n",
       "      <th>neg</th>\n",
       "      <th>neu</th>\n",
       "      <th>pos</th>\n",
       "      <th>compound</th>\n",
       "      <th>label</th>\n",
       "    </tr>\n",
       "  </thead>\n",
       "  <tbody>\n",
       "    <tr>\n",
       "      <th>count</th>\n",
       "      <td>900.000000</td>\n",
       "      <td>900.000000</td>\n",
       "      <td>900.000000</td>\n",
       "      <td>900.000000</td>\n",
       "      <td>900.000000</td>\n",
       "    </tr>\n",
       "    <tr>\n",
       "      <th>mean</th>\n",
       "      <td>0.082929</td>\n",
       "      <td>0.838856</td>\n",
       "      <td>0.078211</td>\n",
       "      <td>-0.010231</td>\n",
       "      <td>-0.011111</td>\n",
       "    </tr>\n",
       "    <tr>\n",
       "      <th>std</th>\n",
       "      <td>0.150547</td>\n",
       "      <td>0.193022</td>\n",
       "      <td>0.148590</td>\n",
       "      <td>0.342465</td>\n",
       "      <td>0.658553</td>\n",
       "    </tr>\n",
       "    <tr>\n",
       "      <th>min</th>\n",
       "      <td>0.000000</td>\n",
       "      <td>0.141000</td>\n",
       "      <td>0.000000</td>\n",
       "      <td>-0.955900</td>\n",
       "      <td>-1.000000</td>\n",
       "    </tr>\n",
       "    <tr>\n",
       "      <th>25%</th>\n",
       "      <td>0.000000</td>\n",
       "      <td>0.714000</td>\n",
       "      <td>0.000000</td>\n",
       "      <td>-0.102700</td>\n",
       "      <td>0.000000</td>\n",
       "    </tr>\n",
       "    <tr>\n",
       "      <th>50%</th>\n",
       "      <td>0.000000</td>\n",
       "      <td>0.912500</td>\n",
       "      <td>0.000000</td>\n",
       "      <td>0.000000</td>\n",
       "      <td>0.000000</td>\n",
       "    </tr>\n",
       "    <tr>\n",
       "      <th>75%</th>\n",
       "      <td>0.149000</td>\n",
       "      <td>1.000000</td>\n",
       "      <td>0.121250</td>\n",
       "      <td>0.000000</td>\n",
       "      <td>0.000000</td>\n",
       "    </tr>\n",
       "    <tr>\n",
       "      <th>max</th>\n",
       "      <td>0.800000</td>\n",
       "      <td>1.000000</td>\n",
       "      <td>0.808000</td>\n",
       "      <td>0.874000</td>\n",
       "      <td>1.000000</td>\n",
       "    </tr>\n",
       "  </tbody>\n",
       "</table>\n",
       "</div>"
      ],
      "text/plain": [
       "              neg         neu         pos    compound       label\n",
       "count  900.000000  900.000000  900.000000  900.000000  900.000000\n",
       "mean     0.082929    0.838856    0.078211   -0.010231   -0.011111\n",
       "std      0.150547    0.193022    0.148590    0.342465    0.658553\n",
       "min      0.000000    0.141000    0.000000   -0.955900   -1.000000\n",
       "25%      0.000000    0.714000    0.000000   -0.102700    0.000000\n",
       "50%      0.000000    0.912500    0.000000    0.000000    0.000000\n",
       "75%      0.149000    1.000000    0.121250    0.000000    0.000000\n",
       "max      0.800000    1.000000    0.808000    0.874000    1.000000"
      ]
     },
     "execution_count": 122,
     "metadata": {},
     "output_type": "execute_result"
    }
   ],
   "source": [
    "df_nz.describe()"
   ]
  },
  {
   "cell_type": "markdown",
   "id": "7c277990",
   "metadata": {},
   "source": [
    "### visualising compound scores"
   ]
  },
  {
   "cell_type": "code",
   "execution_count": 126,
   "id": "0a11c5fe",
   "metadata": {},
   "outputs": [
    {
     "data": {
      "image/png": "[encoded data removed]",
      "text/plain": [
       "<Figure size 432x288 with 1 Axes>"
      ]
     },
     "metadata": {
      "needs_background": "light"
     },
     "output_type": "display_data"
    }
   ],
   "source": [
    "plt.hist(df[\"compound\"], bins=10)\n",
    "\n",
    "plt.title('histogram of r/ireland titles compound scores most recent 900 titles')\n",
    "plt.xlabel('compound score')\n",
    "plt.ylabel('amount of comments')\n",
    "\n",
    "plt.show()"
   ]
  },
  {
   "cell_type": "code",
   "execution_count": 127,
   "id": "6479f9b1",
   "metadata": {
    "scrolled": true
   },
   "outputs": [
    {
     "data": {
      "image/png": "[encoded data removed]",
      "text/plain": [
       "<Figure size 432x288 with 1 Axes>"
      ]
     },
     "metadata": {
      "needs_background": "light"
     },
     "output_type": "display_data"
    }
   ],
   "source": [
    "plt.hist(df_nz[\"compound\"], bins=10)\n",
    "\n",
    "plt.title('histogram of r/newzealand titles compound scores most recent 900 titles')\n",
    "plt.xlabel('compound score')\n",
    "plt.ylabel('amount of comments')\n",
    "\n",
    "plt.show()"
   ]
  },
  {
   "cell_type": "markdown",
   "id": "6e5dce54",
   "metadata": {},
   "source": [
    "### box plots of most recent 900 titles "
   ]
  },
  {
   "cell_type": "code",
   "execution_count": 128,
   "id": "8a97bab5",
   "metadata": {},
   "outputs": [
    {
     "data": {
      "image/png": "[encoded data removed]",
      "text/plain": [
       "<Figure size 432x288 with 1 Axes>"
      ]
     },
     "metadata": {
      "needs_background": "light"
     },
     "output_type": "display_data"
    }
   ],
   "source": [
    "plt.boxplot(df[\"compound\"])\n",
    "\n",
    "plt.title('boxplot of r/ireland most recent titles compound scores')\n",
    "plt.xlabel('compound score')\n",
    "plt.ylabel('amount of comments')\n",
    "\n",
    "plt.show()"
   ]
  },
  {
   "cell_type": "code",
   "execution_count": 129,
   "id": "de3c3a43",
   "metadata": {},
   "outputs": [
    {
     "data": {
      "image/png": "[encoded data removed]",
      "text/plain": [
       "<Figure size 432x288 with 1 Axes>"
      ]
     },
     "metadata": {
      "needs_background": "light"
     },
     "output_type": "display_data"
    }
   ],
   "source": [
    "plt.boxplot(df_nz[\"compound\"])\n",
    "\n",
    "plt.title('boxplot of r/newzealand most recent titles compound scores')\n",
    "plt.xlabel('compound score')\n",
    "plt.ylabel('amount of comments')\n",
    "\n",
    "plt.show()"
   ]
  },
  {
   "cell_type": "markdown",
   "id": "3808e395",
   "metadata": {},
   "source": [
    "### Looking at headlines in more detail:"
   ]
  },
  {
   "cell_type": "code",
   "execution_count": 88,
   "id": "f2f9b4ec",
   "metadata": {},
   "outputs": [],
   "source": [
    "# tokenizer that only looks at words, removes punctuation and also treats new zealand as one token \n",
    "tokenizer = RegexpTokenizer(r'\\b(?:New Zealand|new zealand)\\b|[^\\W\\d]+')\n",
    "stop_words = stopwords.words('english')\n",
    "\n",
    "def process_text(headlines):\n",
    "    tokens = []\n",
    "    for line in headlines:\n",
    "        toks = tokenizer.tokenize(line)\n",
    "#         removing stop words\n",
    "        toks = [t.lower() for t in toks if t.lower() not in stop_words]\n",
    "        tokens.extend(toks)\n",
    "    \n",
    "    return tokens"
   ]
  },
  {
   "cell_type": "markdown",
   "id": "a4b82c21",
   "metadata": {},
   "source": [
    "### r/newzealand \"positive\" headlines"
   ]
  },
  {
   "cell_type": "code",
   "execution_count": 89,
   "id": "37505077",
   "metadata": {},
   "outputs": [
    {
     "data": {
      "text/plain": [
       "[('best', 20),\n",
       " ('nz', 20),\n",
       " ('help', 17),\n",
       " ('anyone', 13),\n",
       " ('good', 11),\n",
       " ('new zealand', 8),\n",
       " ('looking', 8),\n",
       " ('like', 8),\n",
       " ('new', 7),\n",
       " ('people', 7),\n",
       " ('government', 6),\n",
       " ('get', 6),\n",
       " ('please', 6),\n",
       " ('auckland', 6),\n",
       " ('census', 5),\n",
       " ('love', 5),\n",
       " ('top', 5),\n",
       " ('day', 5),\n",
       " ('live', 5),\n",
       " ('increase', 5)]"
      ]
     },
     "execution_count": 89,
     "metadata": {},
     "output_type": "execute_result"
    }
   ],
   "source": [
    "pos_lines_nz = list(df_nz[df_nz.label == 1].headline)\n",
    "\n",
    "pos_tokens_nz = process_text(pos_lines_nz)\n",
    "pos_freq_nz = nltk.FreqDist(pos_tokens_nz)\n",
    "\n",
    "pos_freq_nz.most_common(20)"
   ]
  },
  {
   "cell_type": "markdown",
   "id": "bc8d06c2",
   "metadata": {},
   "source": [
    "### positive words r/newzealand "
   ]
  },
  {
   "cell_type": "code",
   "execution_count": 136,
   "id": "1a402bb9",
   "metadata": {},
   "outputs": [
    {
     "data": {
      "image/png": "[encoded data removed]",
      "text/plain": [
       "<Figure size 432x288 with 1 Axes>"
      ]
     },
     "metadata": {
      "needs_background": "light"
     },
     "output_type": "display_data"
    },
    {
     "data": {
      "text/plain": [
       "<AxesSubplot:xlabel='Samples', ylabel='Counts'>"
      ]
     },
     "execution_count": 136,
     "metadata": {},
     "output_type": "execute_result"
    }
   ],
   "source": [
    "pos_freq_nz.plot(20)"
   ]
  },
  {
   "cell_type": "markdown",
   "id": "becdab59",
   "metadata": {},
   "source": [
    "### r/ireland - \"positive\" headlines "
   ]
  },
  {
   "cell_type": "code",
   "execution_count": 51,
   "id": "00f1f4ed",
   "metadata": {
    "scrolled": true
   },
   "outputs": [
    {
     "data": {
      "text/plain": [
       "[('ireland', 32),\n",
       " ('irish', 21),\n",
       " ('like', 20),\n",
       " ('dublin', 16),\n",
       " ('anyone', 15),\n",
       " ('would', 14),\n",
       " ('best', 14),\n",
       " ('good', 12),\n",
       " ('free', 11),\n",
       " ('one', 10),\n",
       " ('looking', 9),\n",
       " ('house', 9),\n",
       " ('help', 9),\n",
       " ('2', 9),\n",
       " ('see', 8),\n",
       " ('new', 8),\n",
       " ('place', 8),\n",
       " ('people', 8),\n",
       " ('lads', 8),\n",
       " ('time', 7)]"
      ]
     },
     "execution_count": 51,
     "metadata": {},
     "output_type": "execute_result"
    }
   ],
   "source": [
    "pos_lines_ireland = list(df[df.label == 1].headline)\n",
    "\n",
    "pos_tokens_ireland = process_text(pos_lines_ireland)\n",
    "pos_freq_ireland = nltk.FreqDist(pos_tokens_ireland)\n",
    "\n",
    "pos_freq_ireland.most_common(20)"
   ]
  },
  {
   "cell_type": "markdown",
   "id": "1c373f5d",
   "metadata": {},
   "source": [
    "### Positive words r/ireland most recent 900 post titles:"
   ]
  },
  {
   "cell_type": "code",
   "execution_count": 137,
   "id": "8f074063",
   "metadata": {},
   "outputs": [
    {
     "data": {
      "image/png": "[encoded data removed]",
      "text/plain": [
       "<Figure size 432x288 with 1 Axes>"
      ]
     },
     "metadata": {
      "needs_background": "light"
     },
     "output_type": "display_data"
    },
    {
     "data": {
      "text/plain": [
       "<AxesSubplot:xlabel='Samples', ylabel='Counts'>"
      ]
     },
     "execution_count": 137,
     "metadata": {},
     "output_type": "execute_result"
    }
   ],
   "source": [
    "pos_freq_ireland.plot(20)"
   ]
  },
  {
   "cell_type": "markdown",
   "id": "016b81bc",
   "metadata": {},
   "source": [
    "### r/newzealand \"negative\" headlines"
   ]
  },
  {
   "cell_type": "code",
   "execution_count": 138,
   "id": "171f428b",
   "metadata": {},
   "outputs": [
    {
     "data": {
      "text/plain": [
       "[('nz', 22),\n",
       " ('police', 10),\n",
       " ('auckland', 10),\n",
       " ('wrong', 9),\n",
       " ('murder', 8),\n",
       " ('new zealand', 8),\n",
       " ('anyone', 7),\n",
       " ('cyclone', 7),\n",
       " ('new', 7),\n",
       " ('campbell', 6),\n",
       " ('health', 6),\n",
       " ('climate', 6),\n",
       " ('pharmac', 5),\n",
       " ('says', 5),\n",
       " ('bay', 5),\n",
       " ('complaint', 5),\n",
       " ('gabrielle', 5),\n",
       " ('work', 5),\n",
       " ('man', 5),\n",
       " ('jailed', 5)]"
      ]
     },
     "execution_count": 138,
     "metadata": {},
     "output_type": "execute_result"
    }
   ],
   "source": [
    "neg_lines_nz = list(df_nz[df_nz.label == -1].headline)\n",
    "\n",
    "neg_tokens_nz = process_text(neg_lines_nz)\n",
    "neg_freq_nz = nltk.FreqDist(neg_tokens_nz)\n",
    "\n",
    "neg_freq_nz.most_common(20)"
   ]
  },
  {
   "cell_type": "markdown",
   "id": "b3ba784a",
   "metadata": {},
   "source": [
    "### negative word frequency r/newzealand top 20 words"
   ]
  },
  {
   "cell_type": "code",
   "execution_count": 140,
   "id": "53a419bc",
   "metadata": {},
   "outputs": [
    {
     "data": {
      "image/png": "[encoded data removed]",
      "text/plain": [
       "<Figure size 432x288 with 1 Axes>"
      ]
     },
     "metadata": {
      "needs_background": "light"
     },
     "output_type": "display_data"
    },
    {
     "data": {
      "text/plain": [
       "<AxesSubplot:xlabel='Samples', ylabel='Counts'>"
      ]
     },
     "execution_count": 140,
     "metadata": {},
     "output_type": "execute_result"
    }
   ],
   "source": [
    "neg_freq_nz.plot(20)"
   ]
  },
  {
   "cell_type": "markdown",
   "id": "455165f0",
   "metadata": {},
   "source": [
    "### r/ireland - \"negative\" headlines "
   ]
  },
  {
   "cell_type": "code",
   "execution_count": 57,
   "id": "9da814a8",
   "metadata": {},
   "outputs": [
    {
     "data": {
      "text/plain": [
       "[('irish', 18),\n",
       " ('ireland', 16),\n",
       " ('ban', 12),\n",
       " ('people', 11),\n",
       " ('dublin', 10),\n",
       " ('year', 9),\n",
       " ('eviction', 9),\n",
       " ('000', 7),\n",
       " ('car', 7),\n",
       " ('man', 7),\n",
       " ('go', 7),\n",
       " ('2', 6),\n",
       " ('end', 6),\n",
       " ('first', 6),\n",
       " ('murder', 6),\n",
       " ('would', 6),\n",
       " ('court', 6),\n",
       " ('u', 5),\n",
       " ('airport', 5),\n",
       " ('got', 5)]"
      ]
     },
     "execution_count": 57,
     "metadata": {},
     "output_type": "execute_result"
    }
   ],
   "source": [
    "neg_lines_ireland = list(df[df.label == -1].headline)\n",
    "\n",
    "neg_tokens_ireland = process_text(neg_lines_ireland)\n",
    "neg_freq_ireland = nltk.FreqDist(neg_tokens_ireland)\n",
    "\n",
    "neg_freq_ireland.most_common(20)"
   ]
  },
  {
   "cell_type": "code",
   "execution_count": 58,
   "id": "98c18054",
   "metadata": {},
   "outputs": [
    {
     "data": {
      "image/png": "[encoded data removed]",
      "text/plain": [
       "<Figure size 432x288 with 1 Axes>"
      ]
     },
     "metadata": {
      "needs_background": "light"
     },
     "output_type": "display_data"
    },
    {
     "data": {
      "text/plain": [
       "<AxesSubplot:xlabel='Samples', ylabel='Counts'>"
      ]
     },
     "execution_count": 58,
     "metadata": {},
     "output_type": "execute_result"
    }
   ],
   "source": [
    "neg_freq_ireland.plot(10)"
   ]
  },
  {
   "cell_type": "markdown",
   "id": "b8f22d9b",
   "metadata": {},
   "source": [
    "### Looking at top 900 post titles "
   ]
  },
  {
   "cell_type": "code",
   "execution_count": 92,
   "id": "6e412bcb",
   "metadata": {},
   "outputs": [],
   "source": [
    "headlines_ireland_top = set()\n",
    "headlines_newZealand_top = set()"
   ]
  },
  {
   "cell_type": "code",
   "execution_count": 93,
   "id": "7c5dcf12",
   "metadata": {},
   "outputs": [
    {
     "name": "stdout",
     "output_type": "stream",
     "text": [
      "900\n"
     ]
    }
   ],
   "source": [
    "for submission in reddit.subreddit('newzealand').top(limit=900):\n",
    "    headlines_newZealand_top.add(submission.title)\n",
    "    display.clear_output()\n",
    "    print(len(headlines_newZealand_top))"
   ]
  },
  {
   "cell_type": "code",
   "execution_count": 94,
   "id": "5b582c03",
   "metadata": {},
   "outputs": [
    {
     "name": "stdout",
     "output_type": "stream",
     "text": [
      "897\n"
     ]
    }
   ],
   "source": [
    "for submission in reddit.subreddit('ireland').top(limit=900):\n",
    "    headlines_ireland_top.add(submission.title)\n",
    "    display.clear_output()\n",
    "    print(len(headlines_ireland_top))"
   ]
  },
  {
   "cell_type": "markdown",
   "id": "e9b8a81c",
   "metadata": {},
   "source": [
    "### Sentiment intensity analysis r/ireland"
   ]
  },
  {
   "cell_type": "code",
   "execution_count": 95,
   "id": "222bbde3",
   "metadata": {},
   "outputs": [
    {
     "name": "stdout",
     "output_type": "stream",
     "text": [
      "[{'compound': 0.0, 'headline': '1.5 years to go', 'neg': 0.0, 'neu': 1.0, 'pos': 0.0},\n",
      " {'compound': 0.0, 'headline': 'Summer in Ireland', 'neg': 0.0, 'neu': 1.0, 'pos': 0.0},\n",
      " {'compound': 0.0,\n",
      "  'headline': 'Dublin cyclist picking out new bike for his bike-to-work scheme',\n",
      "  'neg': 0.0,\n",
      "  'neu': 1.0,\n",
      "  'pos': 0.0}]\n"
     ]
    }
   ],
   "source": [
    "results_ireland_top =  sia_function(headlines_ireland_top)\n",
    "pprint(results_ireland_top[:3], width=100)\n"
   ]
  },
  {
   "cell_type": "markdown",
   "id": "19695aec",
   "metadata": {},
   "source": [
    "### Sentiment intensity analysis r/newzealand"
   ]
  },
  {
   "cell_type": "code",
   "execution_count": 96,
   "id": "17f2041d",
   "metadata": {},
   "outputs": [
    {
     "name": "stdout",
     "output_type": "stream",
     "text": [
      "[{'compound': -0.0772,\n",
      "  'headline': 'Foreign donations to political parties over $50 to be banned in New Zealand',\n",
      "  'neg': 0.18,\n",
      "  'neu': 0.659,\n",
      "  'pos': 0.162},\n",
      " {'compound': 0.4939, 'headline': 'Mountain friend.', 'neg': 0.0, 'neu': 0.238, 'pos': 0.762},\n",
      " {'compound': 0.0, 'headline': \"New Zealand's Birds, by me!\", 'neg': 0.0, 'neu': 1.0, 'pos': 0.0}]\n"
     ]
    }
   ],
   "source": [
    "results_newzealand_top =  sia_function(headlines_newZealand_top)\n",
    "pprint(results_newzealand_top[:3], width=100)\n"
   ]
  },
  {
   "cell_type": "code",
   "execution_count": 97,
   "id": "cee22016",
   "metadata": {},
   "outputs": [],
   "source": [
    "df_top_ireland = pd.DataFrame.from_records(results_ireland_top)\n",
    "df_top_nz = pd.DataFrame.from_records(results_newzealand_top)\n"
   ]
  },
  {
   "cell_type": "code",
   "execution_count": 98,
   "id": "fd1a39a0",
   "metadata": {},
   "outputs": [
    {
     "data": {
      "text/html": [
       "<div>\n",
       "<style scoped>\n",
       "    .dataframe tbody tr th:only-of-type {\n",
       "        vertical-align: middle;\n",
       "    }\n",
       "\n",
       "    .dataframe tbody tr th {\n",
       "        vertical-align: top;\n",
       "    }\n",
       "\n",
       "    .dataframe thead th {\n",
       "        text-align: right;\n",
       "    }\n",
       "</style>\n",
       "<table border=\"1\" class=\"dataframe\">\n",
       "  <thead>\n",
       "    <tr style=\"text-align: right;\">\n",
       "      <th></th>\n",
       "      <th>neg</th>\n",
       "      <th>neu</th>\n",
       "      <th>pos</th>\n",
       "      <th>compound</th>\n",
       "      <th>headline</th>\n",
       "      <th>label</th>\n",
       "    </tr>\n",
       "  </thead>\n",
       "  <tbody>\n",
       "    <tr>\n",
       "      <th>0</th>\n",
       "      <td>0.000</td>\n",
       "      <td>1.000</td>\n",
       "      <td>0.000</td>\n",
       "      <td>0.0000</td>\n",
       "      <td>1.5 years to go</td>\n",
       "      <td>0</td>\n",
       "    </tr>\n",
       "    <tr>\n",
       "      <th>1</th>\n",
       "      <td>0.000</td>\n",
       "      <td>1.000</td>\n",
       "      <td>0.000</td>\n",
       "      <td>0.0000</td>\n",
       "      <td>Summer in Ireland</td>\n",
       "      <td>0</td>\n",
       "    </tr>\n",
       "    <tr>\n",
       "      <th>2</th>\n",
       "      <td>0.000</td>\n",
       "      <td>1.000</td>\n",
       "      <td>0.000</td>\n",
       "      <td>0.0000</td>\n",
       "      <td>Dublin cyclist picking out new bike for his bi...</td>\n",
       "      <td>0</td>\n",
       "    </tr>\n",
       "    <tr>\n",
       "      <th>3</th>\n",
       "      <td>0.247</td>\n",
       "      <td>0.599</td>\n",
       "      <td>0.154</td>\n",
       "      <td>-0.3612</td>\n",
       "      <td>Galway looking great last night. This was one ...</td>\n",
       "      <td>-1</td>\n",
       "    </tr>\n",
       "    <tr>\n",
       "      <th>4</th>\n",
       "      <td>0.000</td>\n",
       "      <td>1.000</td>\n",
       "      <td>0.000</td>\n",
       "      <td>0.0000</td>\n",
       "      <td>“I hear you’re a Frenchman now father”</td>\n",
       "      <td>0</td>\n",
       "    </tr>\n",
       "    <tr>\n",
       "      <th>...</th>\n",
       "      <td>...</td>\n",
       "      <td>...</td>\n",
       "      <td>...</td>\n",
       "      <td>...</td>\n",
       "      <td>...</td>\n",
       "      <td>...</td>\n",
       "    </tr>\n",
       "    <tr>\n",
       "      <th>892</th>\n",
       "      <td>0.071</td>\n",
       "      <td>0.804</td>\n",
       "      <td>0.125</td>\n",
       "      <td>0.4003</td>\n",
       "      <td>Fantastic news! We’ve just been informed that ...</td>\n",
       "      <td>1</td>\n",
       "    </tr>\n",
       "    <tr>\n",
       "      <th>893</th>\n",
       "      <td>0.191</td>\n",
       "      <td>0.508</td>\n",
       "      <td>0.301</td>\n",
       "      <td>0.5574</td>\n",
       "      <td>A harp my great grand uncle carved out of a bo...</td>\n",
       "      <td>1</td>\n",
       "    </tr>\n",
       "    <tr>\n",
       "      <th>894</th>\n",
       "      <td>0.000</td>\n",
       "      <td>1.000</td>\n",
       "      <td>0.000</td>\n",
       "      <td>0.0000</td>\n",
       "      <td>Covid 19 has jumped the Trampoline</td>\n",
       "      <td>0</td>\n",
       "    </tr>\n",
       "    <tr>\n",
       "      <th>895</th>\n",
       "      <td>0.000</td>\n",
       "      <td>1.000</td>\n",
       "      <td>0.000</td>\n",
       "      <td>0.0000</td>\n",
       "      <td>The President’s dog, Síoda, has passed away. R...</td>\n",
       "      <td>0</td>\n",
       "    </tr>\n",
       "    <tr>\n",
       "      <th>896</th>\n",
       "      <td>0.000</td>\n",
       "      <td>1.000</td>\n",
       "      <td>0.000</td>\n",
       "      <td>0.0000</td>\n",
       "      <td>The ha'penny bridge this morning</td>\n",
       "      <td>0</td>\n",
       "    </tr>\n",
       "  </tbody>\n",
       "</table>\n",
       "<p>897 rows × 6 columns</p>\n",
       "</div>"
      ],
      "text/plain": [
       "       neg    neu    pos  compound  \\\n",
       "0    0.000  1.000  0.000    0.0000   \n",
       "1    0.000  1.000  0.000    0.0000   \n",
       "2    0.000  1.000  0.000    0.0000   \n",
       "3    0.247  0.599  0.154   -0.3612   \n",
       "4    0.000  1.000  0.000    0.0000   \n",
       "..     ...    ...    ...       ...   \n",
       "892  0.071  0.804  0.125    0.4003   \n",
       "893  0.191  0.508  0.301    0.5574   \n",
       "894  0.000  1.000  0.000    0.0000   \n",
       "895  0.000  1.000  0.000    0.0000   \n",
       "896  0.000  1.000  0.000    0.0000   \n",
       "\n",
       "                                              headline  label  \n",
       "0                                      1.5 years to go      0  \n",
       "1                                    Summer in Ireland      0  \n",
       "2    Dublin cyclist picking out new bike for his bi...      0  \n",
       "3    Galway looking great last night. This was one ...     -1  \n",
       "4               “I hear you’re a Frenchman now father”      0  \n",
       "..                                                 ...    ...  \n",
       "892  Fantastic news! We’ve just been informed that ...      1  \n",
       "893  A harp my great grand uncle carved out of a bo...      1  \n",
       "894                 Covid 19 has jumped the Trampoline      0  \n",
       "895  The President’s dog, Síoda, has passed away. R...      0  \n",
       "896                   The ha'penny bridge this morning      0  \n",
       "\n",
       "[897 rows x 6 columns]"
      ]
     },
     "execution_count": 98,
     "metadata": {},
     "output_type": "execute_result"
    }
   ],
   "source": [
    "define_positive(df_top_ireland)"
   ]
  },
  {
   "cell_type": "code",
   "execution_count": 99,
   "id": "79d7d94e",
   "metadata": {},
   "outputs": [
    {
     "data": {
      "text/html": [
       "<div>\n",
       "<style scoped>\n",
       "    .dataframe tbody tr th:only-of-type {\n",
       "        vertical-align: middle;\n",
       "    }\n",
       "\n",
       "    .dataframe tbody tr th {\n",
       "        vertical-align: top;\n",
       "    }\n",
       "\n",
       "    .dataframe thead th {\n",
       "        text-align: right;\n",
       "    }\n",
       "</style>\n",
       "<table border=\"1\" class=\"dataframe\">\n",
       "  <thead>\n",
       "    <tr style=\"text-align: right;\">\n",
       "      <th></th>\n",
       "      <th>neg</th>\n",
       "      <th>neu</th>\n",
       "      <th>pos</th>\n",
       "      <th>compound</th>\n",
       "      <th>headline</th>\n",
       "      <th>label</th>\n",
       "    </tr>\n",
       "  </thead>\n",
       "  <tbody>\n",
       "    <tr>\n",
       "      <th>0</th>\n",
       "      <td>0.18</td>\n",
       "      <td>0.659</td>\n",
       "      <td>0.162</td>\n",
       "      <td>-0.0772</td>\n",
       "      <td>Foreign donations to political parties over $5...</td>\n",
       "      <td>0</td>\n",
       "    </tr>\n",
       "    <tr>\n",
       "      <th>1</th>\n",
       "      <td>0.00</td>\n",
       "      <td>0.238</td>\n",
       "      <td>0.762</td>\n",
       "      <td>0.4939</td>\n",
       "      <td>Mountain friend.</td>\n",
       "      <td>1</td>\n",
       "    </tr>\n",
       "    <tr>\n",
       "      <th>2</th>\n",
       "      <td>0.00</td>\n",
       "      <td>1.000</td>\n",
       "      <td>0.000</td>\n",
       "      <td>0.0000</td>\n",
       "      <td>New Zealand's Birds, by me!</td>\n",
       "      <td>0</td>\n",
       "    </tr>\n",
       "    <tr>\n",
       "      <th>3</th>\n",
       "      <td>0.00</td>\n",
       "      <td>1.000</td>\n",
       "      <td>0.000</td>\n",
       "      <td>0.0000</td>\n",
       "      <td>Aotearoa Lofi study girl</td>\n",
       "      <td>0</td>\n",
       "    </tr>\n",
       "    <tr>\n",
       "      <th>4</th>\n",
       "      <td>0.00</td>\n",
       "      <td>1.000</td>\n",
       "      <td>0.000</td>\n",
       "      <td>0.0000</td>\n",
       "      <td>Stuff's stance on climate change reporting fro...</td>\n",
       "      <td>0</td>\n",
       "    </tr>\n",
       "    <tr>\n",
       "      <th>...</th>\n",
       "      <td>...</td>\n",
       "      <td>...</td>\n",
       "      <td>...</td>\n",
       "      <td>...</td>\n",
       "      <td>...</td>\n",
       "      <td>...</td>\n",
       "    </tr>\n",
       "    <tr>\n",
       "      <th>895</th>\n",
       "      <td>0.00</td>\n",
       "      <td>1.000</td>\n",
       "      <td>0.000</td>\n",
       "      <td>0.0000</td>\n",
       "      <td>The word we’ve all been looking for</td>\n",
       "      <td>0</td>\n",
       "    </tr>\n",
       "    <tr>\n",
       "      <th>896</th>\n",
       "      <td>0.00</td>\n",
       "      <td>1.000</td>\n",
       "      <td>0.000</td>\n",
       "      <td>0.0000</td>\n",
       "      <td>A message some people need.</td>\n",
       "      <td>0</td>\n",
       "    </tr>\n",
       "    <tr>\n",
       "      <th>897</th>\n",
       "      <td>1.00</td>\n",
       "      <td>0.000</td>\n",
       "      <td>0.000</td>\n",
       "      <td>-0.4404</td>\n",
       "      <td>Problematic</td>\n",
       "      <td>-1</td>\n",
       "    </tr>\n",
       "    <tr>\n",
       "      <th>898</th>\n",
       "      <td>0.00</td>\n",
       "      <td>1.000</td>\n",
       "      <td>0.000</td>\n",
       "      <td>0.0000</td>\n",
       "      <td>Lego Kakapo I recently finished</td>\n",
       "      <td>0</td>\n",
       "    </tr>\n",
       "    <tr>\n",
       "      <th>899</th>\n",
       "      <td>0.00</td>\n",
       "      <td>1.000</td>\n",
       "      <td>0.000</td>\n",
       "      <td>0.0000</td>\n",
       "      <td>When a scammer approaches you for money on Que...</td>\n",
       "      <td>0</td>\n",
       "    </tr>\n",
       "  </tbody>\n",
       "</table>\n",
       "<p>900 rows × 6 columns</p>\n",
       "</div>"
      ],
      "text/plain": [
       "      neg    neu    pos  compound  \\\n",
       "0    0.18  0.659  0.162   -0.0772   \n",
       "1    0.00  0.238  0.762    0.4939   \n",
       "2    0.00  1.000  0.000    0.0000   \n",
       "3    0.00  1.000  0.000    0.0000   \n",
       "4    0.00  1.000  0.000    0.0000   \n",
       "..    ...    ...    ...       ...   \n",
       "895  0.00  1.000  0.000    0.0000   \n",
       "896  0.00  1.000  0.000    0.0000   \n",
       "897  1.00  0.000  0.000   -0.4404   \n",
       "898  0.00  1.000  0.000    0.0000   \n",
       "899  0.00  1.000  0.000    0.0000   \n",
       "\n",
       "                                              headline  label  \n",
       "0    Foreign donations to political parties over $5...      0  \n",
       "1                                     Mountain friend.      1  \n",
       "2                          New Zealand's Birds, by me!      0  \n",
       "3                             Aotearoa Lofi study girl      0  \n",
       "4    Stuff's stance on climate change reporting fro...      0  \n",
       "..                                                 ...    ...  \n",
       "895                The word we’ve all been looking for      0  \n",
       "896                        A message some people need.      0  \n",
       "897                                        Problematic     -1  \n",
       "898                    Lego Kakapo I recently finished      0  \n",
       "899  When a scammer approaches you for money on Que...      0  \n",
       "\n",
       "[900 rows x 6 columns]"
      ]
     },
     "execution_count": 99,
     "metadata": {},
     "output_type": "execute_result"
    }
   ],
   "source": [
    "define_positive(df_top_nz)"
   ]
  },
  {
   "cell_type": "code",
   "execution_count": 100,
   "id": "9f0122bd",
   "metadata": {},
   "outputs": [
    {
     "name": "stdout",
     "output_type": "stream",
     "text": [
      "Positive headlines r/ireland:\n",
      "\n",
      "['Sharon congrats 😊',\n",
      " 'Welcome to Sky Ireland',\n",
      " 'An all-time fav',\n",
      " 'Fuck it! 32 counties except they’re all Cork. One country will be deleted each day until only the best county on Earth remains.',\n",
      " 'Fair point']\n",
      "\n",
      "Negative headlines r/ireland:\n",
      "\n",
      "['Galway looking great last night. This was one of many places ruined last night. Canals are just as bad.',\n",
      " \"What is the quickest way you've seen someone ruin their life?\",\n",
      " 'To celebrate St. Patrick’s Day I decided to take my Miggle D. plushie on a monumental tour of as many of Dublin’s pubs/bars as possible. I initially set a target of 80 but he was a thirsty lil '\n",
      " 'bastard so after 9 hours of cycling we managed to visit a whopping 214 locations!',\n",
      " 'Shots fired by Osman ..',\n",
      " 'That face when everyone thinks Americans invented Halloween. When in fact a majority of the traditions involved are not just Celtic, but Irish. Pack of bastards.']\n"
     ]
    }
   ],
   "source": [
    "print(\"Positive headlines r/ireland:\\n\")\n",
    "pprint(list(df_top_ireland[df_top_ireland['label'] == 1].headline)[:5], width=200)\n",
    "\n",
    "print(\"\\nNegative headlines r/ireland:\\n\")\n",
    "pprint(list(df_top_ireland[df_top_ireland['label'] == -1].headline)[:5], width=200)"
   ]
  },
  {
   "cell_type": "code",
   "execution_count": 101,
   "id": "d442d3c0",
   "metadata": {},
   "outputs": [
    {
     "name": "stdout",
     "output_type": "stream",
     "text": [
      "Positive headlines r/newzealand:\n",
      "\n",
      "['Mountain friend.',\n",
      " 'This will always be my favorite pic of John Key.',\n",
      " 'Naughty and good 🐧 of the month is here!',\n",
      " 'Also known as real interactions I have in a professional capacity. SIGH.',\n",
      " 'Dominoes are trying to bring tipping culture to NZ - pay your staff properly instead please']\n",
      "\n",
      "Negative headlines r/newzealand:\n",
      "\n",
      "[\"Auckland Man who forced staff into 'economic slavery' paying them $6 per hour and forcing them to work 68 hour weeks through migrant exploitation - refused parole!\",\n",
      " 'Another day of ZERO cases. We zapping those suckers.',\n",
      " 'Low effort sacrificing',\n",
      " 'John Key resigning as Prime Minister, National Leader.',\n",
      " 'Kia Ora to our new vaccination bus... Shot Bro!']\n"
     ]
    }
   ],
   "source": [
    "print(\"Positive headlines r/newzealand:\\n\")\n",
    "pprint(list(df_top_nz[df_top_nz['label'] == 1].headline)[:5], width=200)\n",
    "\n",
    "print(\"\\nNegative headlines r/newzealand:\\n\")\n",
    "pprint(list(df_top_nz[df_top_nz['label'] == -1].headline)[:5], width=200)"
   ]
  },
  {
   "cell_type": "markdown",
   "id": "c182f196",
   "metadata": {},
   "source": [
    "### looking at value counts"
   ]
  },
  {
   "cell_type": "code",
   "execution_count": 102,
   "id": "1ef9e387",
   "metadata": {},
   "outputs": [
    {
     "name": "stdout",
     "output_type": "stream",
     "text": [
      " 0    482\n",
      " 1    265\n",
      "-1    150\n",
      "Name: label, dtype: int64\n",
      " 0    53.734671\n",
      " 1    29.542921\n",
      "-1    16.722408\n",
      "Name: label, dtype: float64\n"
     ]
    }
   ],
   "source": [
    "print(df_top_ireland.label.value_counts())\n",
    "print(df_top_ireland.label.value_counts(normalize=True) * 100)"
   ]
  },
  {
   "cell_type": "code",
   "execution_count": 103,
   "id": "5bb2684e",
   "metadata": {},
   "outputs": [
    {
     "name": "stdout",
     "output_type": "stream",
     "text": [
      " 0    461\n",
      " 1    282\n",
      "-1    157\n",
      "Name: label, dtype: int64\n",
      " 0    51.222222\n",
      " 1    31.333333\n",
      "-1    17.444444\n",
      "Name: label, dtype: float64\n"
     ]
    }
   ],
   "source": [
    "print(df_top_nz.label.value_counts())\n",
    "print(df_top_nz.label.value_counts(normalize=True) * 100)"
   ]
  },
  {
   "cell_type": "code",
   "execution_count": 104,
   "id": "1a1990e6",
   "metadata": {},
   "outputs": [],
   "source": [
    "counts_ireland_top = df_top_ireland.label.value_counts(normalize=True) * 100\n",
    "counts_nz_top = df_top_nz.label.value_counts(normalize=True) * 100\n"
   ]
  },
  {
   "cell_type": "code",
   "execution_count": 105,
   "id": "1a54663d",
   "metadata": {},
   "outputs": [
    {
     "data": {
      "image/png": "[encoded data removed]",
      "text/plain": [
       "<Figure size 720x360 with 1 Axes>"
      ]
     },
     "metadata": {
      "needs_background": "light"
     },
     "output_type": "display_data"
    }
   ],
   "source": [
    "N = 3\n",
    "\n",
    "blue_bar = (counts_ireland_top)\n",
    "orange_bar = (counts_nz_top)\n",
    "\n",
    "# Position of bars on x-axis\n",
    "ind = np.arange(N)\n",
    "# Figure size\n",
    "plt.figure(figsize=(10,5))\n",
    "\n",
    "# Width of a bar \n",
    "width = 0.3       \n",
    "\n",
    "# Plotting\n",
    "plt.bar(ind, blue_bar , width, label='Ireland')\n",
    "plt.bar(ind + width, orange_bar, width, label='newzealand')\n",
    "\n",
    "plt.ylabel('Percentage')\n",
    "plt.title('Comparing r/ireland and r/newzealand top 900 post titles')\n",
    "\n",
    "plt.xticks(ind + width / 2, ('Neutral', 'Negative', 'Positve'))\n",
    "\n",
    "# Finding the best position for legends and putting it\n",
    "plt.legend(loc='best')\n",
    "plt.show()"
   ]
  },
  {
   "cell_type": "code",
   "execution_count": 123,
   "id": "37d6f167",
   "metadata": {},
   "outputs": [
    {
     "data": {
      "text/html": [
       "<div>\n",
       "<style scoped>\n",
       "    .dataframe tbody tr th:only-of-type {\n",
       "        vertical-align: middle;\n",
       "    }\n",
       "\n",
       "    .dataframe tbody tr th {\n",
       "        vertical-align: top;\n",
       "    }\n",
       "\n",
       "    .dataframe thead th {\n",
       "        text-align: right;\n",
       "    }\n",
       "</style>\n",
       "<table border=\"1\" class=\"dataframe\">\n",
       "  <thead>\n",
       "    <tr style=\"text-align: right;\">\n",
       "      <th></th>\n",
       "      <th>neg</th>\n",
       "      <th>neu</th>\n",
       "      <th>pos</th>\n",
       "      <th>compound</th>\n",
       "      <th>label</th>\n",
       "    </tr>\n",
       "  </thead>\n",
       "  <tbody>\n",
       "    <tr>\n",
       "      <th>count</th>\n",
       "      <td>897.000000</td>\n",
       "      <td>897.000000</td>\n",
       "      <td>897.000000</td>\n",
       "      <td>897.000000</td>\n",
       "      <td>897.000000</td>\n",
       "    </tr>\n",
       "    <tr>\n",
       "      <th>mean</th>\n",
       "      <td>0.063901</td>\n",
       "      <td>0.807204</td>\n",
       "      <td>0.128892</td>\n",
       "      <td>0.064415</td>\n",
       "      <td>0.128205</td>\n",
       "    </tr>\n",
       "    <tr>\n",
       "      <th>std</th>\n",
       "      <td>0.137511</td>\n",
       "      <td>0.239661</td>\n",
       "      <td>0.219157</td>\n",
       "      <td>0.370326</td>\n",
       "      <td>0.668367</td>\n",
       "    </tr>\n",
       "    <tr>\n",
       "      <th>min</th>\n",
       "      <td>0.000000</td>\n",
       "      <td>0.000000</td>\n",
       "      <td>0.000000</td>\n",
       "      <td>-0.926600</td>\n",
       "      <td>-1.000000</td>\n",
       "    </tr>\n",
       "    <tr>\n",
       "      <th>25%</th>\n",
       "      <td>0.000000</td>\n",
       "      <td>0.665000</td>\n",
       "      <td>0.000000</td>\n",
       "      <td>0.000000</td>\n",
       "      <td>0.000000</td>\n",
       "    </tr>\n",
       "    <tr>\n",
       "      <th>50%</th>\n",
       "      <td>0.000000</td>\n",
       "      <td>0.913000</td>\n",
       "      <td>0.000000</td>\n",
       "      <td>0.000000</td>\n",
       "      <td>0.000000</td>\n",
       "    </tr>\n",
       "    <tr>\n",
       "      <th>75%</th>\n",
       "      <td>0.027000</td>\n",
       "      <td>1.000000</td>\n",
       "      <td>0.198000</td>\n",
       "      <td>0.359500</td>\n",
       "      <td>1.000000</td>\n",
       "    </tr>\n",
       "    <tr>\n",
       "      <th>max</th>\n",
       "      <td>0.783000</td>\n",
       "      <td>1.000000</td>\n",
       "      <td>1.000000</td>\n",
       "      <td>0.976900</td>\n",
       "      <td>1.000000</td>\n",
       "    </tr>\n",
       "  </tbody>\n",
       "</table>\n",
       "</div>"
      ],
      "text/plain": [
       "              neg         neu         pos    compound       label\n",
       "count  897.000000  897.000000  897.000000  897.000000  897.000000\n",
       "mean     0.063901    0.807204    0.128892    0.064415    0.128205\n",
       "std      0.137511    0.239661    0.219157    0.370326    0.668367\n",
       "min      0.000000    0.000000    0.000000   -0.926600   -1.000000\n",
       "25%      0.000000    0.665000    0.000000    0.000000    0.000000\n",
       "50%      0.000000    0.913000    0.000000    0.000000    0.000000\n",
       "75%      0.027000    1.000000    0.198000    0.359500    1.000000\n",
       "max      0.783000    1.000000    1.000000    0.976900    1.000000"
      ]
     },
     "execution_count": 123,
     "metadata": {},
     "output_type": "execute_result"
    }
   ],
   "source": [
    "df_top_ireland.describe()"
   ]
  },
  {
   "cell_type": "code",
   "execution_count": 124,
   "id": "5b61f512",
   "metadata": {},
   "outputs": [
    {
     "data": {
      "text/html": [
       "<div>\n",
       "<style scoped>\n",
       "    .dataframe tbody tr th:only-of-type {\n",
       "        vertical-align: middle;\n",
       "    }\n",
       "\n",
       "    .dataframe tbody tr th {\n",
       "        vertical-align: top;\n",
       "    }\n",
       "\n",
       "    .dataframe thead th {\n",
       "        text-align: right;\n",
       "    }\n",
       "</style>\n",
       "<table border=\"1\" class=\"dataframe\">\n",
       "  <thead>\n",
       "    <tr style=\"text-align: right;\">\n",
       "      <th></th>\n",
       "      <th>neg</th>\n",
       "      <th>neu</th>\n",
       "      <th>pos</th>\n",
       "      <th>compound</th>\n",
       "      <th>label</th>\n",
       "    </tr>\n",
       "  </thead>\n",
       "  <tbody>\n",
       "    <tr>\n",
       "      <th>count</th>\n",
       "      <td>900.000000</td>\n",
       "      <td>900.000000</td>\n",
       "      <td>900.000000</td>\n",
       "      <td>900.000000</td>\n",
       "      <td>900.000000</td>\n",
       "    </tr>\n",
       "    <tr>\n",
       "      <th>mean</th>\n",
       "      <td>0.069777</td>\n",
       "      <td>0.810051</td>\n",
       "      <td>0.119064</td>\n",
       "      <td>0.075785</td>\n",
       "      <td>0.138889</td>\n",
       "    </tr>\n",
       "    <tr>\n",
       "      <th>std</th>\n",
       "      <td>0.144751</td>\n",
       "      <td>0.216119</td>\n",
       "      <td>0.181239</td>\n",
       "      <td>0.364761</td>\n",
       "      <td>0.684842</td>\n",
       "    </tr>\n",
       "    <tr>\n",
       "      <th>min</th>\n",
       "      <td>0.000000</td>\n",
       "      <td>0.000000</td>\n",
       "      <td>0.000000</td>\n",
       "      <td>-0.923100</td>\n",
       "      <td>-1.000000</td>\n",
       "    </tr>\n",
       "    <tr>\n",
       "      <th>25%</th>\n",
       "      <td>0.000000</td>\n",
       "      <td>0.667000</td>\n",
       "      <td>0.000000</td>\n",
       "      <td>0.000000</td>\n",
       "      <td>0.000000</td>\n",
       "    </tr>\n",
       "    <tr>\n",
       "      <th>50%</th>\n",
       "      <td>0.000000</td>\n",
       "      <td>0.852000</td>\n",
       "      <td>0.000000</td>\n",
       "      <td>0.000000</td>\n",
       "      <td>0.000000</td>\n",
       "    </tr>\n",
       "    <tr>\n",
       "      <th>75%</th>\n",
       "      <td>0.079250</td>\n",
       "      <td>1.000000</td>\n",
       "      <td>0.216500</td>\n",
       "      <td>0.361200</td>\n",
       "      <td>1.000000</td>\n",
       "    </tr>\n",
       "    <tr>\n",
       "      <th>max</th>\n",
       "      <td>1.000000</td>\n",
       "      <td>1.000000</td>\n",
       "      <td>1.000000</td>\n",
       "      <td>0.973800</td>\n",
       "      <td>1.000000</td>\n",
       "    </tr>\n",
       "  </tbody>\n",
       "</table>\n",
       "</div>"
      ],
      "text/plain": [
       "              neg         neu         pos    compound       label\n",
       "count  900.000000  900.000000  900.000000  900.000000  900.000000\n",
       "mean     0.069777    0.810051    0.119064    0.075785    0.138889\n",
       "std      0.144751    0.216119    0.181239    0.364761    0.684842\n",
       "min      0.000000    0.000000    0.000000   -0.923100   -1.000000\n",
       "25%      0.000000    0.667000    0.000000    0.000000    0.000000\n",
       "50%      0.000000    0.852000    0.000000    0.000000    0.000000\n",
       "75%      0.079250    1.000000    0.216500    0.361200    1.000000\n",
       "max      1.000000    1.000000    1.000000    0.973800    1.000000"
      ]
     },
     "execution_count": 124,
     "metadata": {},
     "output_type": "execute_result"
    }
   ],
   "source": [
    "df_top_nz.describe()"
   ]
  },
  {
   "cell_type": "markdown",
   "id": "9761b211",
   "metadata": {},
   "source": [
    "### visualising compound scores "
   ]
  },
  {
   "cell_type": "code",
   "execution_count": 130,
   "id": "f1c4daf3",
   "metadata": {},
   "outputs": [
    {
     "data": {
      "image/png": "[encoded data removed]",
      "text/plain": [
       "<Figure size 432x288 with 1 Axes>"
      ]
     },
     "metadata": {
      "needs_background": "light"
     },
     "output_type": "display_data"
    }
   ],
   "source": [
    "plt.hist(df_top_ireland[\"compound\"], bins=10)\n",
    "\n",
    "plt.title('histogram of r/ireland top titles compound scores')\n",
    "plt.xlabel('compound score')\n",
    "plt.ylabel('amount of comments')\n",
    "\n",
    "plt.show()"
   ]
  },
  {
   "cell_type": "code",
   "execution_count": 132,
   "id": "ef2676e2",
   "metadata": {},
   "outputs": [
    {
     "data": {
      "image/png": "[encoded data removed]",
      "text/plain": [
       "<Figure size 432x288 with 1 Axes>"
      ]
     },
     "metadata": {
      "needs_background": "light"
     },
     "output_type": "display_data"
    }
   ],
   "source": [
    "plt.hist(df_top_nz[\"compound\"], bins=10)\n",
    "\n",
    "plt.title('histogram of r/newzealand top titles compound scores')\n",
    "plt.xlabel('compound score')\n",
    "plt.ylabel('amount of comments')\n",
    "\n",
    "plt.show()"
   ]
  },
  {
   "cell_type": "markdown",
   "id": "fa91596a",
   "metadata": {},
   "source": [
    "### box plots "
   ]
  },
  {
   "cell_type": "code",
   "execution_count": 133,
   "id": "8bc3caaf",
   "metadata": {},
   "outputs": [
    {
     "data": {
      "image/png": "[encoded data removed]",
      "text/plain": [
       "<Figure size 432x288 with 1 Axes>"
      ]
     },
     "metadata": {
      "needs_background": "light"
     },
     "output_type": "display_data"
    }
   ],
   "source": [
    "plt.boxplot(df_top_ireland[\"compound\"])\n",
    "\n",
    "plt.title('boxplot of r/ireland top titles compound scores')\n",
    "plt.xlabel('compound score')\n",
    "plt.ylabel('amount of comments')\n",
    "\n",
    "plt.show()"
   ]
  },
  {
   "cell_type": "code",
   "execution_count": 134,
   "id": "332f6c4d",
   "metadata": {},
   "outputs": [
    {
     "data": {
      "image/png": "[encoded data removed]",
      "text/plain": [
       "<Figure size 432x288 with 1 Axes>"
      ]
     },
     "metadata": {
      "needs_background": "light"
     },
     "output_type": "display_data"
    }
   ],
   "source": [
    "plt.boxplot(df_top_nz[\"compound\"])\n",
    "\n",
    "plt.title('boxplot of r/newzealand top titles compound scores')\n",
    "plt.xlabel('compound score')\n",
    "plt.ylabel('amount of comments')\n",
    "\n",
    "plt.show()"
   ]
  },
  {
   "cell_type": "markdown",
   "id": "aada6e90",
   "metadata": {},
   "source": [
    "### Looking at top 900 titles counts in more detail. "
   ]
  },
  {
   "cell_type": "code",
   "execution_count": 106,
   "id": "f9a922ee",
   "metadata": {},
   "outputs": [
    {
     "data": {
      "text/plain": [
       "[('ireland', 43),\n",
       " ('irish', 30),\n",
       " ('like', 23),\n",
       " ('lads', 18),\n",
       " ('great', 17),\n",
       " ('day', 12),\n",
       " ('years', 12),\n",
       " ('one', 11),\n",
       " ('today', 11),\n",
       " ('dublin', 11),\n",
       " ('good', 9),\n",
       " ('happy', 9),\n",
       " ('true', 9),\n",
       " ('year', 9),\n",
       " ('time', 8),\n",
       " ('think', 8),\n",
       " ('sure', 8),\n",
       " ('best', 7),\n",
       " ('county', 7),\n",
       " ('last', 7)]"
      ]
     },
     "execution_count": 106,
     "metadata": {},
     "output_type": "execute_result"
    }
   ],
   "source": [
    "pos_lines_ireland = list(df_top_ireland[df_top_ireland.label == 1].headline)\n",
    "\n",
    "pos_tokens_ireland = process_text(pos_lines_ireland)\n",
    "pos_freq_ireland = nltk.FreqDist(pos_tokens_ireland)\n",
    "\n",
    "pos_freq_ireland.most_common(20)"
   ]
  },
  {
   "cell_type": "code",
   "execution_count": 141,
   "id": "7b3db54f",
   "metadata": {},
   "outputs": [
    {
     "name": "stdout",
     "output_type": "stream",
     "text": [
      "frequency plot top positive words from top 900 post title r/ireland\n"
     ]
    },
    {
     "data": {
      "image/png": "[encoded data removed]",
      "text/plain": [
       "<Figure size 432x288 with 1 Axes>"
      ]
     },
     "metadata": {
      "needs_background": "light"
     },
     "output_type": "display_data"
    },
    {
     "data": {
      "text/plain": [
       "<AxesSubplot:xlabel='Samples', ylabel='Counts'>"
      ]
     },
     "execution_count": 141,
     "metadata": {},
     "output_type": "execute_result"
    }
   ],
   "source": [
    "print(\"frequency plot top positive words from top 900 post title r/ireland\")\n",
    "pos_freq_ireland.plot(20)\n"
   ]
  },
  {
   "cell_type": "code",
   "execution_count": 108,
   "id": "1e6d97ac",
   "metadata": {},
   "outputs": [
    {
     "data": {
      "text/plain": [
       "[('new zealand', 35),\n",
       " ('nz', 34),\n",
       " ('like', 29),\n",
       " ('good', 18),\n",
       " ('us', 13),\n",
       " ('new', 12),\n",
       " ('country', 11),\n",
       " ('today', 11),\n",
       " ('love', 11),\n",
       " ('made', 10),\n",
       " ('proud', 10),\n",
       " ('please', 9),\n",
       " ('people', 9),\n",
       " ('time', 8),\n",
       " ('free', 8),\n",
       " ('best', 8),\n",
       " ('day', 8),\n",
       " ('party', 8),\n",
       " ('kiwi', 8),\n",
       " ('thank', 8)]"
      ]
     },
     "execution_count": 108,
     "metadata": {},
     "output_type": "execute_result"
    }
   ],
   "source": [
    "pos_lines_nz = list(df_top_nz[df_top_nz.label == 1].headline)\n",
    "\n",
    "pos_tokens_nz = process_text(pos_lines_nz)\n",
    "pos_freq_nz = nltk.FreqDist(pos_tokens_nz)\n",
    "\n",
    "pos_freq_nz.most_common(20)"
   ]
  },
  {
   "cell_type": "code",
   "execution_count": 109,
   "id": "f2dfc14c",
   "metadata": {},
   "outputs": [
    {
     "data": {
      "image/png": "[encoded data removed]",
      "text/plain": [
       "<Figure size 432x288 with 1 Axes>"
      ]
     },
     "metadata": {
      "needs_background": "light"
     },
     "output_type": "display_data"
    },
    {
     "data": {
      "text/plain": [
       "<AxesSubplot:xlabel='Samples', ylabel='Counts'>"
      ]
     },
     "execution_count": 109,
     "metadata": {},
     "output_type": "execute_result"
    }
   ],
   "source": [
    "pos_freq_nz.plot(20)\n"
   ]
  },
  {
   "cell_type": "code",
   "execution_count": 111,
   "id": "0e5514c7",
   "metadata": {},
   "outputs": [
    {
     "data": {
      "text/plain": [
       "[('irish', 19),\n",
       " ('ireland', 17),\n",
       " ('years', 12),\n",
       " ('dublin', 11),\n",
       " ('today', 11),\n",
       " ('one', 10),\n",
       " ('day', 8),\n",
       " ('ago', 8),\n",
       " ('people', 8),\n",
       " ('lads', 7),\n",
       " ('ya', 6),\n",
       " ('american', 6),\n",
       " ('get', 6),\n",
       " ('last', 5),\n",
       " ('died', 5),\n",
       " ('stop', 5),\n",
       " ('round', 5),\n",
       " ('like', 5),\n",
       " ('abuse', 5),\n",
       " ('got', 5)]"
      ]
     },
     "execution_count": 111,
     "metadata": {},
     "output_type": "execute_result"
    }
   ],
   "source": [
    "neg_lines_ire = list(df_top_ireland[df_top_ireland.label == -1].headline)\n",
    "\n",
    "neg_tokens_ire = process_text(neg_lines_ire)\n",
    "neg_freq_ire = nltk.FreqDist(neg_tokens_ire)\n",
    "\n",
    "neg_freq_ire.most_common(20)"
   ]
  },
  {
   "cell_type": "code",
   "execution_count": 142,
   "id": "247f1a9e",
   "metadata": {},
   "outputs": [
    {
     "name": "stdout",
     "output_type": "stream",
     "text": [
      "frequency plot top negative words from top 900 post title r/ireland\n"
     ]
    },
    {
     "data": {
      "image/png": "[encoded data removed]",
      "text/plain": [
       "<Figure size 432x288 with 1 Axes>"
      ]
     },
     "metadata": {
      "needs_background": "light"
     },
     "output_type": "display_data"
    },
    {
     "data": {
      "text/plain": [
       "<AxesSubplot:xlabel='Samples', ylabel='Counts'>"
      ]
     },
     "execution_count": 142,
     "metadata": {},
     "output_type": "execute_result"
    }
   ],
   "source": [
    "print(\"frequency plot top negative words from top 900 post title r/ireland\")\n",
    "\n",
    "neg_freq_ire.plot(20)\n"
   ]
  },
  {
   "cell_type": "code",
   "execution_count": 113,
   "id": "53c57576",
   "metadata": {},
   "outputs": [
    {
     "data": {
      "text/plain": [
       "[('new zealand', 29),\n",
       " ('nz', 16),\n",
       " ('fuck', 8),\n",
       " ('today', 8),\n",
       " ('world', 7),\n",
       " ('country', 7),\n",
       " ('police', 7),\n",
       " ('auckland', 6),\n",
       " ('man', 6),\n",
       " ('people', 6),\n",
       " ('covid', 6),\n",
       " ('shit', 6),\n",
       " ('new', 5),\n",
       " ('bad', 5),\n",
       " ('like', 5),\n",
       " ('crisis', 5),\n",
       " ('much', 5),\n",
       " ('get', 5),\n",
       " ('want', 5),\n",
       " ('day', 4)]"
      ]
     },
     "execution_count": 113,
     "metadata": {},
     "output_type": "execute_result"
    }
   ],
   "source": [
    "neg_lines_nz = list(df_top_nz[df_top_nz.label == -1].headline)\n",
    "\n",
    "neg_tokens_nz = process_text(neg_lines_nz)\n",
    "neg_freq_nz = nltk.FreqDist(neg_tokens_nz)\n",
    "\n",
    "neg_freq_nz.most_common(20)"
   ]
  },
  {
   "cell_type": "code",
   "execution_count": 114,
   "id": "9e9ec090",
   "metadata": {},
   "outputs": [
    {
     "data": {
      "image/png": "[encoded data removed]",
      "text/plain": [
       "<Figure size 432x288 with 1 Axes>"
      ]
     },
     "metadata": {
      "needs_background": "light"
     },
     "output_type": "display_data"
    },
    {
     "data": {
      "text/plain": [
       "<AxesSubplot:xlabel='Samples', ylabel='Counts'>"
      ]
     },
     "execution_count": 114,
     "metadata": {},
     "output_type": "execute_result"
    }
   ],
   "source": [
    "neg_freq_nz.plot(20)\n"
   ]
  },
  {
   "cell_type": "markdown",
   "id": "93f61f60",
   "metadata": {},
   "source": [
    "### Looking at comments of top posts "
   ]
  },
  {
   "cell_type": "code",
   "execution_count": 115,
   "id": "5854817f",
   "metadata": {},
   "outputs": [],
   "source": [
    "def sia_function(comments):\n",
    "\n",
    "    sia = SIA()\n",
    "    results = []\n",
    "\n",
    "    for line in comments:\n",
    "        pol_score = sia.polarity_scores(line)\n",
    "        pol_score['comment'] = line\n",
    "        results.append(pol_score)\n",
    "        \n",
    "    return results"
   ]
  },
  {
   "cell_type": "markdown",
   "id": "bd411f20",
   "metadata": {},
   "source": [
    "### gathering comments from r/ireland"
   ]
  },
  {
   "cell_type": "code",
   "execution_count": 11,
   "id": "e656d27e",
   "metadata": {},
   "outputs": [
    {
     "name": "stdout",
     "output_type": "stream",
     "text": [
      "1485\n"
     ]
    }
   ],
   "source": [
    "comments_ireland = set()\n",
    "# r/ireland\n",
    "for submission in reddit.subreddit('ireland').top(limit=10):\n",
    "    for comment in submission.comments:\n",
    "            if isinstance(comment, MoreComments):\n",
    "                continue\n",
    "            comments_ireland.add(comment.body)\n",
    "            display.clear_output()\n",
    "            print(len(comments_ireland))\n",
    "\n",
    "    \n"
   ]
  },
  {
   "cell_type": "markdown",
   "id": "da937e1b",
   "metadata": {},
   "source": [
    "### gathering comments from r/newzeland"
   ]
  },
  {
   "cell_type": "code",
   "execution_count": 23,
   "id": "9c4715f3",
   "metadata": {},
   "outputs": [
    {
     "name": "stdout",
     "output_type": "stream",
     "text": [
      "1560\n"
     ]
    }
   ],
   "source": [
    "comments_nz = set()\n",
    "# r/ireland\n",
    "for submission in reddit.subreddit('newzealand').top(limit=10):\n",
    "    for comment in submission.comments:\n",
    "            if isinstance(comment, MoreComments):\n",
    "                continue\n",
    "            comments_nz.add(comment.body)\n",
    "            display.clear_output()\n",
    "            print(len(comments_nz))\n",
    "\n",
    "    \n"
   ]
  },
  {
   "cell_type": "markdown",
   "id": "d27013cf",
   "metadata": {},
   "source": [
    "#### sentiment intensity analysis for comments r/ireland"
   ]
  },
  {
   "cell_type": "code",
   "execution_count": 17,
   "id": "5e4b8d0d",
   "metadata": {},
   "outputs": [
    {
     "name": "stdout",
     "output_type": "stream",
     "text": [
      "[{'comment': 'Scotland and Ireland joint hosts in 2030 LETS DO IT',\n",
      "  'compound': 0.0,\n",
      "  'neg': 0.0,\n",
      "  'neu': 1.0,\n",
      "  'pos': 0.0},\n",
      " {'comment': 'We need to abolish Real Estate Investment Trusts.',\n",
      "  'compound': 0.4767,\n",
      "  'neg': 0.0,\n",
      "  'neu': 0.693,\n",
      "  'pos': 0.307},\n",
      " {'comment': \"Boris's sanctions should solve everything.....\",\n",
      "  'compound': 0.2023,\n",
      "  'neg': 0.0,\n",
      "  'neu': 0.69,\n",
      "  'pos': 0.31}]\n"
     ]
    }
   ],
   "source": [
    "comments_results_ireland = sia_function(comments_ireland)\n",
    "pprint(comments_results_ireland[:3], width=100)"
   ]
  },
  {
   "cell_type": "markdown",
   "id": "16da985d",
   "metadata": {},
   "source": [
    "#### sentiment intensity analysis for comments r/newzealand"
   ]
  },
  {
   "cell_type": "code",
   "execution_count": 25,
   "id": "4b227f3f",
   "metadata": {},
   "outputs": [
    {
     "name": "stdout",
     "output_type": "stream",
     "text": [
      "[{'comment': 'Why the fuck dose newzeland give a shit',\n",
      "  'compound': -0.7964,\n",
      "  'neg': 0.587,\n",
      "  'neu': 0.413,\n",
      "  'pos': 0.0},\n",
      " {'comment': 'The whole system in the US is designed to prevent someone like her from getting '\n",
      "             'elected.',\n",
      "  'compound': 0.3818,\n",
      "  'neg': 0.0,\n",
      "  'neu': 0.795,\n",
      "  'pos': 0.205},\n",
      " {'comment': 'People talk about y2k like that now: that it was a lot of panic over no big deal. '\n",
      "             'But the truth is a lot of people worked very hard to make it no big deal.',\n",
      "  'compound': -0.4385,\n",
      "  'neg': 0.213,\n",
      "  'neu': 0.67,\n",
      "  'pos': 0.117}]\n"
     ]
    }
   ],
   "source": [
    "comments_results_newzealand = sia_function(comments_nz)\n",
    "pprint(comments_results_newzealand[:3], width=100)"
   ]
  },
  {
   "cell_type": "markdown",
   "id": "9bd1d230",
   "metadata": {},
   "source": [
    "### converting results to dataframes "
   ]
  },
  {
   "cell_type": "code",
   "execution_count": 18,
   "id": "a30026eb",
   "metadata": {},
   "outputs": [
    {
     "data": {
      "text/html": [
       "<div>\n",
       "<style scoped>\n",
       "    .dataframe tbody tr th:only-of-type {\n",
       "        vertical-align: middle;\n",
       "    }\n",
       "\n",
       "    .dataframe tbody tr th {\n",
       "        vertical-align: top;\n",
       "    }\n",
       "\n",
       "    .dataframe thead th {\n",
       "        text-align: right;\n",
       "    }\n",
       "</style>\n",
       "<table border=\"1\" class=\"dataframe\">\n",
       "  <thead>\n",
       "    <tr style=\"text-align: right;\">\n",
       "      <th></th>\n",
       "      <th>neg</th>\n",
       "      <th>neu</th>\n",
       "      <th>pos</th>\n",
       "      <th>compound</th>\n",
       "      <th>comment</th>\n",
       "    </tr>\n",
       "  </thead>\n",
       "  <tbody>\n",
       "    <tr>\n",
       "      <th>0</th>\n",
       "      <td>0.000</td>\n",
       "      <td>1.000</td>\n",
       "      <td>0.000</td>\n",
       "      <td>0.0000</td>\n",
       "      <td>Scotland and Ireland joint hosts in 2030 LETS ...</td>\n",
       "    </tr>\n",
       "    <tr>\n",
       "      <th>1</th>\n",
       "      <td>0.000</td>\n",
       "      <td>0.693</td>\n",
       "      <td>0.307</td>\n",
       "      <td>0.4767</td>\n",
       "      <td>We need to abolish Real Estate Investment Trusts.</td>\n",
       "    </tr>\n",
       "    <tr>\n",
       "      <th>2</th>\n",
       "      <td>0.000</td>\n",
       "      <td>0.690</td>\n",
       "      <td>0.310</td>\n",
       "      <td>0.2023</td>\n",
       "      <td>Boris's sanctions should solve everything.....</td>\n",
       "    </tr>\n",
       "    <tr>\n",
       "      <th>3</th>\n",
       "      <td>0.140</td>\n",
       "      <td>0.833</td>\n",
       "      <td>0.027</td>\n",
       "      <td>-0.9741</td>\n",
       "      <td>I had one landlord, a property company who's m...</td>\n",
       "    </tr>\n",
       "    <tr>\n",
       "      <th>4</th>\n",
       "      <td>0.115</td>\n",
       "      <td>0.718</td>\n",
       "      <td>0.167</td>\n",
       "      <td>0.3378</td>\n",
       "      <td>How can you help? You can talk about it, you c...</td>\n",
       "    </tr>\n",
       "  </tbody>\n",
       "</table>\n",
       "</div>"
      ],
      "text/plain": [
       "     neg    neu    pos  compound  \\\n",
       "0  0.000  1.000  0.000    0.0000   \n",
       "1  0.000  0.693  0.307    0.4767   \n",
       "2  0.000  0.690  0.310    0.2023   \n",
       "3  0.140  0.833  0.027   -0.9741   \n",
       "4  0.115  0.718  0.167    0.3378   \n",
       "\n",
       "                                             comment  \n",
       "0  Scotland and Ireland joint hosts in 2030 LETS ...  \n",
       "1  We need to abolish Real Estate Investment Trusts.  \n",
       "2     Boris's sanctions should solve everything.....  \n",
       "3  I had one landlord, a property company who's m...  \n",
       "4  How can you help? You can talk about it, you c...  "
      ]
     },
     "execution_count": 18,
     "metadata": {},
     "output_type": "execute_result"
    }
   ],
   "source": [
    "df_comments_ireland = pd.DataFrame.from_records(comments_results_ireland)\n",
    "df_comments_ireland.head()"
   ]
  },
  {
   "cell_type": "code",
   "execution_count": 26,
   "id": "5c126de6",
   "metadata": {},
   "outputs": [
    {
     "data": {
      "text/html": [
       "<div>\n",
       "<style scoped>\n",
       "    .dataframe tbody tr th:only-of-type {\n",
       "        vertical-align: middle;\n",
       "    }\n",
       "\n",
       "    .dataframe tbody tr th {\n",
       "        vertical-align: top;\n",
       "    }\n",
       "\n",
       "    .dataframe thead th {\n",
       "        text-align: right;\n",
       "    }\n",
       "</style>\n",
       "<table border=\"1\" class=\"dataframe\">\n",
       "  <thead>\n",
       "    <tr style=\"text-align: right;\">\n",
       "      <th></th>\n",
       "      <th>neg</th>\n",
       "      <th>neu</th>\n",
       "      <th>pos</th>\n",
       "      <th>compound</th>\n",
       "      <th>comment</th>\n",
       "    </tr>\n",
       "  </thead>\n",
       "  <tbody>\n",
       "    <tr>\n",
       "      <th>0</th>\n",
       "      <td>0.587</td>\n",
       "      <td>0.413</td>\n",
       "      <td>0.000</td>\n",
       "      <td>-0.7964</td>\n",
       "      <td>Why the fuck dose newzeland give a shit</td>\n",
       "    </tr>\n",
       "    <tr>\n",
       "      <th>1</th>\n",
       "      <td>0.000</td>\n",
       "      <td>0.795</td>\n",
       "      <td>0.205</td>\n",
       "      <td>0.3818</td>\n",
       "      <td>The whole system in the US is designed to prev...</td>\n",
       "    </tr>\n",
       "    <tr>\n",
       "      <th>2</th>\n",
       "      <td>0.213</td>\n",
       "      <td>0.670</td>\n",
       "      <td>0.117</td>\n",
       "      <td>-0.4385</td>\n",
       "      <td>People talk about y2k like that now: that it w...</td>\n",
       "    </tr>\n",
       "    <tr>\n",
       "      <th>3</th>\n",
       "      <td>0.073</td>\n",
       "      <td>0.573</td>\n",
       "      <td>0.354</td>\n",
       "      <td>0.7506</td>\n",
       "      <td>If you gave me $1.9million, I would happily pa...</td>\n",
       "    </tr>\n",
       "    <tr>\n",
       "      <th>4</th>\n",
       "      <td>0.344</td>\n",
       "      <td>0.656</td>\n",
       "      <td>0.000</td>\n",
       "      <td>-0.9207</td>\n",
       "      <td>I'm just reading about this and you've already...</td>\n",
       "    </tr>\n",
       "  </tbody>\n",
       "</table>\n",
       "</div>"
      ],
      "text/plain": [
       "     neg    neu    pos  compound  \\\n",
       "0  0.587  0.413  0.000   -0.7964   \n",
       "1  0.000  0.795  0.205    0.3818   \n",
       "2  0.213  0.670  0.117   -0.4385   \n",
       "3  0.073  0.573  0.354    0.7506   \n",
       "4  0.344  0.656  0.000   -0.9207   \n",
       "\n",
       "                                             comment  \n",
       "0            Why the fuck dose newzeland give a shit  \n",
       "1  The whole system in the US is designed to prev...  \n",
       "2  People talk about y2k like that now: that it w...  \n",
       "3  If you gave me $1.9million, I would happily pa...  \n",
       "4  I'm just reading about this and you've already...  "
      ]
     },
     "execution_count": 26,
     "metadata": {},
     "output_type": "execute_result"
    }
   ],
   "source": [
    "df_comments_newzealand = pd.DataFrame.from_records(comments_results_newzealand)\n",
    "df_comments_newzealand.head()"
   ]
  },
  {
   "cell_type": "markdown",
   "id": "ebd7fb06",
   "metadata": {},
   "source": [
    "### defining positive and negative comments based on compound score: "
   ]
  },
  {
   "cell_type": "code",
   "execution_count": 20,
   "id": "9fd1830a",
   "metadata": {},
   "outputs": [
    {
     "data": {
      "text/html": [
       "<div>\n",
       "<style scoped>\n",
       "    .dataframe tbody tr th:only-of-type {\n",
       "        vertical-align: middle;\n",
       "    }\n",
       "\n",
       "    .dataframe tbody tr th {\n",
       "        vertical-align: top;\n",
       "    }\n",
       "\n",
       "    .dataframe thead th {\n",
       "        text-align: right;\n",
       "    }\n",
       "</style>\n",
       "<table border=\"1\" class=\"dataframe\">\n",
       "  <thead>\n",
       "    <tr style=\"text-align: right;\">\n",
       "      <th></th>\n",
       "      <th>neg</th>\n",
       "      <th>neu</th>\n",
       "      <th>pos</th>\n",
       "      <th>compound</th>\n",
       "      <th>comment</th>\n",
       "      <th>label</th>\n",
       "    </tr>\n",
       "  </thead>\n",
       "  <tbody>\n",
       "    <tr>\n",
       "      <th>0</th>\n",
       "      <td>0.000</td>\n",
       "      <td>1.000</td>\n",
       "      <td>0.000</td>\n",
       "      <td>0.0000</td>\n",
       "      <td>Scotland and Ireland joint hosts in 2030 LETS ...</td>\n",
       "      <td>0</td>\n",
       "    </tr>\n",
       "    <tr>\n",
       "      <th>1</th>\n",
       "      <td>0.000</td>\n",
       "      <td>0.693</td>\n",
       "      <td>0.307</td>\n",
       "      <td>0.4767</td>\n",
       "      <td>We need to abolish Real Estate Investment Trusts.</td>\n",
       "      <td>1</td>\n",
       "    </tr>\n",
       "    <tr>\n",
       "      <th>2</th>\n",
       "      <td>0.000</td>\n",
       "      <td>0.690</td>\n",
       "      <td>0.310</td>\n",
       "      <td>0.2023</td>\n",
       "      <td>Boris's sanctions should solve everything.....</td>\n",
       "      <td>1</td>\n",
       "    </tr>\n",
       "    <tr>\n",
       "      <th>3</th>\n",
       "      <td>0.140</td>\n",
       "      <td>0.833</td>\n",
       "      <td>0.027</td>\n",
       "      <td>-0.9741</td>\n",
       "      <td>I had one landlord, a property company who's m...</td>\n",
       "      <td>-1</td>\n",
       "    </tr>\n",
       "    <tr>\n",
       "      <th>4</th>\n",
       "      <td>0.115</td>\n",
       "      <td>0.718</td>\n",
       "      <td>0.167</td>\n",
       "      <td>0.3378</td>\n",
       "      <td>How can you help? You can talk about it, you c...</td>\n",
       "      <td>1</td>\n",
       "    </tr>\n",
       "  </tbody>\n",
       "</table>\n",
       "</div>"
      ],
      "text/plain": [
       "     neg    neu    pos  compound  \\\n",
       "0  0.000  1.000  0.000    0.0000   \n",
       "1  0.000  0.693  0.307    0.4767   \n",
       "2  0.000  0.690  0.310    0.2023   \n",
       "3  0.140  0.833  0.027   -0.9741   \n",
       "4  0.115  0.718  0.167    0.3378   \n",
       "\n",
       "                                             comment  label  \n",
       "0  Scotland and Ireland joint hosts in 2030 LETS ...      0  \n",
       "1  We need to abolish Real Estate Investment Trusts.      1  \n",
       "2     Boris's sanctions should solve everything.....      1  \n",
       "3  I had one landlord, a property company who's m...     -1  \n",
       "4  How can you help? You can talk about it, you c...      1  "
      ]
     },
     "execution_count": 20,
     "metadata": {},
     "output_type": "execute_result"
    }
   ],
   "source": [
    "df_comments_ireland['label'] = 0\n",
    "df_comments_ireland.loc[df_comments_ireland['compound'] > 0.2, 'label'] = 1\n",
    "df_comments_ireland.loc[df_comments_ireland['compound'] < -0.2, 'label'] = -1\n",
    "df_comments_ireland.head()"
   ]
  },
  {
   "cell_type": "code",
   "execution_count": 27,
   "id": "95b63dd4",
   "metadata": {},
   "outputs": [
    {
     "data": {
      "text/html": [
       "<div>\n",
       "<style scoped>\n",
       "    .dataframe tbody tr th:only-of-type {\n",
       "        vertical-align: middle;\n",
       "    }\n",
       "\n",
       "    .dataframe tbody tr th {\n",
       "        vertical-align: top;\n",
       "    }\n",
       "\n",
       "    .dataframe thead th {\n",
       "        text-align: right;\n",
       "    }\n",
       "</style>\n",
       "<table border=\"1\" class=\"dataframe\">\n",
       "  <thead>\n",
       "    <tr style=\"text-align: right;\">\n",
       "      <th></th>\n",
       "      <th>neg</th>\n",
       "      <th>neu</th>\n",
       "      <th>pos</th>\n",
       "      <th>compound</th>\n",
       "      <th>comment</th>\n",
       "      <th>label</th>\n",
       "    </tr>\n",
       "  </thead>\n",
       "  <tbody>\n",
       "    <tr>\n",
       "      <th>0</th>\n",
       "      <td>0.587</td>\n",
       "      <td>0.413</td>\n",
       "      <td>0.000</td>\n",
       "      <td>-0.7964</td>\n",
       "      <td>Why the fuck dose newzeland give a shit</td>\n",
       "      <td>-1</td>\n",
       "    </tr>\n",
       "    <tr>\n",
       "      <th>1</th>\n",
       "      <td>0.000</td>\n",
       "      <td>0.795</td>\n",
       "      <td>0.205</td>\n",
       "      <td>0.3818</td>\n",
       "      <td>The whole system in the US is designed to prev...</td>\n",
       "      <td>1</td>\n",
       "    </tr>\n",
       "    <tr>\n",
       "      <th>2</th>\n",
       "      <td>0.213</td>\n",
       "      <td>0.670</td>\n",
       "      <td>0.117</td>\n",
       "      <td>-0.4385</td>\n",
       "      <td>People talk about y2k like that now: that it w...</td>\n",
       "      <td>-1</td>\n",
       "    </tr>\n",
       "    <tr>\n",
       "      <th>3</th>\n",
       "      <td>0.073</td>\n",
       "      <td>0.573</td>\n",
       "      <td>0.354</td>\n",
       "      <td>0.7506</td>\n",
       "      <td>If you gave me $1.9million, I would happily pa...</td>\n",
       "      <td>1</td>\n",
       "    </tr>\n",
       "    <tr>\n",
       "      <th>4</th>\n",
       "      <td>0.344</td>\n",
       "      <td>0.656</td>\n",
       "      <td>0.000</td>\n",
       "      <td>-0.9207</td>\n",
       "      <td>I'm just reading about this and you've already...</td>\n",
       "      <td>-1</td>\n",
       "    </tr>\n",
       "  </tbody>\n",
       "</table>\n",
       "</div>"
      ],
      "text/plain": [
       "     neg    neu    pos  compound  \\\n",
       "0  0.587  0.413  0.000   -0.7964   \n",
       "1  0.000  0.795  0.205    0.3818   \n",
       "2  0.213  0.670  0.117   -0.4385   \n",
       "3  0.073  0.573  0.354    0.7506   \n",
       "4  0.344  0.656  0.000   -0.9207   \n",
       "\n",
       "                                             comment  label  \n",
       "0            Why the fuck dose newzeland give a shit     -1  \n",
       "1  The whole system in the US is designed to prev...      1  \n",
       "2  People talk about y2k like that now: that it w...     -1  \n",
       "3  If you gave me $1.9million, I would happily pa...      1  \n",
       "4  I'm just reading about this and you've already...     -1  "
      ]
     },
     "execution_count": 27,
     "metadata": {},
     "output_type": "execute_result"
    }
   ],
   "source": [
    "df_comments_newzealand['label'] = 0\n",
    "df_comments_newzealand.loc[df_comments_newzealand['compound'] > 0.2, 'label'] = 1\n",
    "df_comments_newzealand.loc[df_comments_newzealand['compound'] < -0.2, 'label'] = -1\n",
    "df_comments_newzealand.head()"
   ]
  },
  {
   "cell_type": "markdown",
   "id": "3cb06e8b",
   "metadata": {},
   "source": [
    "### example of positive and negative comments  r/ireland"
   ]
  },
  {
   "cell_type": "code",
   "execution_count": 21,
   "id": "5c437ab5",
   "metadata": {},
   "outputs": [
    {
     "name": "stdout",
     "output_type": "stream",
     "text": [
      "Positive comment:\n",
      "\n",
      "['We need to abolish Real Estate Investment Trusts.',\n",
      " \"Boris's sanctions should solve everything.....\",\n",
      " 'How can you help? You can talk about it, you can learn about it. I know a lot of people think that changing background or profile pic is stupid but it creates visibility. I know it is not your '\n",
      " \"pain and not your problem but it's a war happening in Europe and we're all part of Europe.\",\n",
      " \"Awh Jesus, I've always said it, the Croatians are great bunch of fellas now so\",\n",
      " 'Are we going to let people fleeing the conflict in and be kind to them when they get here?']\n",
      "\n",
      "Negative comment:\n",
      "\n",
      "[\"I had one landlord, a property company who's manager left and stole all the utility money and everyone's in the complex's rent from them.   He also stole and destroyed all the lease documents.  \"\n",
      " \"When I moved out they tried to say they didn't have the lease so they had no way of knowing my deposit.  I had a copy.   They repeatedly refused saying it could have been doctored.  Then they hit \"\n",
      " 'me with a cleaning fee, because I had no deposit.\\n'\n",
      " '\\n'\n",
      " \"I took them to court and they said they had no deposit on record for me.  They didn't mention the fact that their guy had absconded with them.   I gathered affidavits from a ton of people in the \"\n",
      " 'complex, who all had the same damage deposit I had.   When I produced my copy of the lease, along with the affidavits,  When the judge found out they lied he got REAL pissed off and they had to '\n",
      " \"fork out a ton of money, let's just say I got double my damage deposit back, and a generous amount of money for my troubles.    The judge also told them if they tried the same thing on any other \"\n",
      " \"renters he'd swear out a warrant and put them behind bars.  I put up fliers on everyone's doors telling them of my victory and not let the bastards cheat them out of anything.\",\n",
      " 'That sucks.',\n",
      " \"How about your salary is taken into account but the fact that your second household salary basically pays the creche so you can work isn't taken into account should that salary be gone. That's \"\n",
      " \"really not justified. And I'm talking about the 3x your salary thing.\",\n",
      " 'My s/o and I have been planning our move (which is in 3 weeks!!!) since November. Absolute shit timing but we’re taking precautions and will be quarantining when we arrive. Definitely understand '\n",
      " 'shutting down travel from here though, it really doesn’t feel like there’s a pandemic going on at all. The state we live in is one of the worst atm and it’s been tough isolating ourselves so we '\n",
      " 'don’t get exposed but it’ll be worth it! I’m not sure what we’re going to do if travel is shut down, it’s certainly very worrying',\n",
      " \"I'm one of those Americans who lurks here. You NEED to ban Americans from coming in. It's a silent nightmare in the US. I have been thinking about moving overseas for a while and Ireland was at \"\n",
      " \"the top of my list, but now I don't think I'll ever be able to leave... It really is scary here.\"]\n"
     ]
    }
   ],
   "source": [
    "print(\"Positive comment:\\n\")\n",
    "pprint(list(df_comments_ireland[df_comments_ireland['label'] == 1].comment)[:5], width=200)\n",
    "\n",
    "print(\"\\nNegative comment:\\n\")\n",
    "pprint(list(df_comments_ireland[df_comments_ireland['label'] == -1].comment)[:5], width=200)"
   ]
  },
  {
   "cell_type": "markdown",
   "id": "f432463c",
   "metadata": {},
   "source": [
    "### example of positive and negative comments  r/newzealand"
   ]
  },
  {
   "cell_type": "code",
   "execution_count": 28,
   "id": "1ef0dc73",
   "metadata": {},
   "outputs": [
    {
     "name": "stdout",
     "output_type": "stream",
     "text": [
      "Positive comment:\n",
      "\n",
      "['The whole system in the US is designed to prevent someone like her from getting elected.',\n",
      " 'If you gave me $1.9million, I would happily pay a measly $9k a year in wealth tax.',\n",
      " 'Chur my kiwis! Proud of us all!',\n",
      " 'Let’s be thankful he’s still around so he can spend the rest of his life behind bars. I wonder if he will be sent back to aus.',\n",
      " 'I mean... Ive been trying to move to NZ for completely separate reasons for like 5 years.... Saving just never seem to stay']\n",
      "\n",
      "Negative comment:\n",
      "\n",
      "['Why the fuck dose newzeland give a shit',\n",
      " 'People talk about y2k like that now: that it was a lot of panic over no big deal. But the truth is a lot of people worked very hard to make it no big deal.',\n",
      " \"I'm just reading about this and you've already posted all the details half an hour ago? How in the fuck are you so quick?\\n\\nAlso fuck, this sucks. :(\",\n",
      " 'Kia kaha, Aucklanders. Sending good vibes from Welly.',\n",
      " 'As an Aucklander, holy fuck. Maybe I was naive but did not see this coming']\n"
     ]
    }
   ],
   "source": [
    "print(\"Positive comment:\\n\")\n",
    "pprint(list(df_comments_newzealand[df_comments_newzealand['label'] == 1].comment)[:5], width=200)\n",
    "\n",
    "print(\"\\nNegative comment:\\n\")\n",
    "pprint(list(df_comments_newzealand[df_comments_newzealand['label'] == -1].comment)[:5], width=200)"
   ]
  },
  {
   "cell_type": "markdown",
   "id": "04e441a7",
   "metadata": {},
   "source": [
    "### looking at value counts"
   ]
  },
  {
   "cell_type": "code",
   "execution_count": 22,
   "id": "7429dbc2",
   "metadata": {},
   "outputs": [
    {
     "name": "stdout",
     "output_type": "stream",
     "text": [
      " 1    550\n",
      "-1    470\n",
      " 0    465\n",
      "Name: label, dtype: int64\n",
      " 1    37.037037\n",
      "-1    31.649832\n",
      " 0    31.313131\n",
      "Name: label, dtype: float64\n"
     ]
    }
   ],
   "source": [
    "print(df_comments_ireland.label.value_counts())\n",
    "print(df_comments_ireland.label.value_counts(normalize=True) * 100)"
   ]
  },
  {
   "cell_type": "code",
   "execution_count": 29,
   "id": "f6c66d98",
   "metadata": {},
   "outputs": [
    {
     "name": "stdout",
     "output_type": "stream",
     "text": [
      " 1    629\n",
      " 0    470\n",
      "-1    461\n",
      "Name: label, dtype: int64\n",
      " 1    40.320513\n",
      " 0    30.128205\n",
      "-1    29.551282\n",
      "Name: label, dtype: float64\n"
     ]
    }
   ],
   "source": [
    "print(df_comments_newzealand.label.value_counts())\n",
    "print(df_comments_newzealand.label.value_counts(normalize=True) * 100)"
   ]
  },
  {
   "cell_type": "markdown",
   "id": "445f424a",
   "metadata": {},
   "source": [
    "### visualising value counts "
   ]
  },
  {
   "cell_type": "code",
   "execution_count": 143,
   "id": "5dc21cc6",
   "metadata": {},
   "outputs": [
    {
     "data": {
      "image/png": "[encoded data removed]",
      "text/plain": [
       "<Figure size 720x360 with 1 Axes>"
      ]
     },
     "metadata": {
      "needs_background": "light"
     },
     "output_type": "display_data"
    }
   ],
   "source": [
    "comments_counts_nz = df_comments_newzealand.label.value_counts(normalize=True) * 100\n",
    "comments_counts_ireland =  df_comments_ireland.label.value_counts(normalize=True) * 100\n",
    "N = 3\n",
    "\n",
    "blue_bar = (comments_counts_ireland)\n",
    "orange_bar = (comments_counts_nz)\n",
    "\n",
    "# Position of bars on x-axis\n",
    "ind = np.arange(N)\n",
    "# Figure size\n",
    "plt.figure(figsize=(10,5))\n",
    "\n",
    "# Width of a bar \n",
    "width = 0.3       \n",
    "\n",
    "# Plotting\n",
    "plt.bar(ind, blue_bar , width, label='Ireland')\n",
    "plt.bar(ind + width, orange_bar, width, label='newzealand')\n",
    "\n",
    "plt.ylabel('Percentage')\n",
    "plt.title('Comparing r/ireland and r/newzealand comments from top 10 posts')\n",
    "\n",
    "plt.xticks(ind + width / 2, ('Neutral', 'Negative', 'Positve'))\n",
    "\n",
    "# Finding the best position for legends and putting it\n",
    "plt.legend(loc='best')\n",
    "plt.show()"
   ]
  },
  {
   "cell_type": "code",
   "execution_count": 32,
   "id": "c2ab95e8",
   "metadata": {},
   "outputs": [
    {
     "data": {
      "text/html": [
       "<div>\n",
       "<style scoped>\n",
       "    .dataframe tbody tr th:only-of-type {\n",
       "        vertical-align: middle;\n",
       "    }\n",
       "\n",
       "    .dataframe tbody tr th {\n",
       "        vertical-align: top;\n",
       "    }\n",
       "\n",
       "    .dataframe thead th {\n",
       "        text-align: right;\n",
       "    }\n",
       "</style>\n",
       "<table border=\"1\" class=\"dataframe\">\n",
       "  <thead>\n",
       "    <tr style=\"text-align: right;\">\n",
       "      <th></th>\n",
       "      <th>neg</th>\n",
       "      <th>neu</th>\n",
       "      <th>pos</th>\n",
       "      <th>compound</th>\n",
       "      <th>comment</th>\n",
       "      <th>label</th>\n",
       "    </tr>\n",
       "  </thead>\n",
       "  <tbody>\n",
       "    <tr>\n",
       "      <th>0</th>\n",
       "      <td>0.000</td>\n",
       "      <td>1.000</td>\n",
       "      <td>0.000</td>\n",
       "      <td>0.0000</td>\n",
       "      <td>Scotland and Ireland joint hosts in 2030 LETS ...</td>\n",
       "      <td>0</td>\n",
       "    </tr>\n",
       "    <tr>\n",
       "      <th>1</th>\n",
       "      <td>0.000</td>\n",
       "      <td>0.693</td>\n",
       "      <td>0.307</td>\n",
       "      <td>0.4767</td>\n",
       "      <td>We need to abolish Real Estate Investment Trusts.</td>\n",
       "      <td>1</td>\n",
       "    </tr>\n",
       "    <tr>\n",
       "      <th>2</th>\n",
       "      <td>0.000</td>\n",
       "      <td>0.690</td>\n",
       "      <td>0.310</td>\n",
       "      <td>0.2023</td>\n",
       "      <td>Boris's sanctions should solve everything.....</td>\n",
       "      <td>1</td>\n",
       "    </tr>\n",
       "    <tr>\n",
       "      <th>3</th>\n",
       "      <td>0.140</td>\n",
       "      <td>0.833</td>\n",
       "      <td>0.027</td>\n",
       "      <td>-0.9741</td>\n",
       "      <td>I had one landlord, a property company who's m...</td>\n",
       "      <td>-1</td>\n",
       "    </tr>\n",
       "    <tr>\n",
       "      <th>4</th>\n",
       "      <td>0.115</td>\n",
       "      <td>0.718</td>\n",
       "      <td>0.167</td>\n",
       "      <td>0.3378</td>\n",
       "      <td>How can you help? You can talk about it, you c...</td>\n",
       "      <td>1</td>\n",
       "    </tr>\n",
       "    <tr>\n",
       "      <th>5</th>\n",
       "      <td>0.000</td>\n",
       "      <td>0.773</td>\n",
       "      <td>0.227</td>\n",
       "      <td>0.6249</td>\n",
       "      <td>Awh Jesus, I've always said it, the Croatians ...</td>\n",
       "      <td>1</td>\n",
       "    </tr>\n",
       "    <tr>\n",
       "      <th>6</th>\n",
       "      <td>0.000</td>\n",
       "      <td>1.000</td>\n",
       "      <td>0.000</td>\n",
       "      <td>0.0000</td>\n",
       "      <td>If you don't know what a bell pepper is the is...</td>\n",
       "      <td>0</td>\n",
       "    </tr>\n",
       "    <tr>\n",
       "      <th>7</th>\n",
       "      <td>0.714</td>\n",
       "      <td>0.286</td>\n",
       "      <td>0.000</td>\n",
       "      <td>-0.3612</td>\n",
       "      <td>That sucks.</td>\n",
       "      <td>-1</td>\n",
       "    </tr>\n",
       "    <tr>\n",
       "      <th>8</th>\n",
       "      <td>0.000</td>\n",
       "      <td>1.000</td>\n",
       "      <td>0.000</td>\n",
       "      <td>0.0000</td>\n",
       "      <td>Where’s the Shannon in this pic tho</td>\n",
       "      <td>0</td>\n",
       "    </tr>\n",
       "    <tr>\n",
       "      <th>9</th>\n",
       "      <td>0.068</td>\n",
       "      <td>0.932</td>\n",
       "      <td>0.000</td>\n",
       "      <td>-0.5113</td>\n",
       "      <td>How about your salary is taken into account bu...</td>\n",
       "      <td>-1</td>\n",
       "    </tr>\n",
       "  </tbody>\n",
       "</table>\n",
       "</div>"
      ],
      "text/plain": [
       "     neg    neu    pos  compound  \\\n",
       "0  0.000  1.000  0.000    0.0000   \n",
       "1  0.000  0.693  0.307    0.4767   \n",
       "2  0.000  0.690  0.310    0.2023   \n",
       "3  0.140  0.833  0.027   -0.9741   \n",
       "4  0.115  0.718  0.167    0.3378   \n",
       "5  0.000  0.773  0.227    0.6249   \n",
       "6  0.000  1.000  0.000    0.0000   \n",
       "7  0.714  0.286  0.000   -0.3612   \n",
       "8  0.000  1.000  0.000    0.0000   \n",
       "9  0.068  0.932  0.000   -0.5113   \n",
       "\n",
       "                                             comment  label  \n",
       "0  Scotland and Ireland joint hosts in 2030 LETS ...      0  \n",
       "1  We need to abolish Real Estate Investment Trusts.      1  \n",
       "2     Boris's sanctions should solve everything.....      1  \n",
       "3  I had one landlord, a property company who's m...     -1  \n",
       "4  How can you help? You can talk about it, you c...      1  \n",
       "5  Awh Jesus, I've always said it, the Croatians ...      1  \n",
       "6  If you don't know what a bell pepper is the is...      0  \n",
       "7                                        That sucks.     -1  \n",
       "8                Where’s the Shannon in this pic tho      0  \n",
       "9  How about your salary is taken into account bu...     -1  "
      ]
     },
     "execution_count": 32,
     "metadata": {},
     "output_type": "execute_result"
    }
   ],
   "source": [
    "df_comments_ireland.head(10)"
   ]
  },
  {
   "cell_type": "code",
   "execution_count": 33,
   "id": "91eef6bd",
   "metadata": {},
   "outputs": [
    {
     "data": {
      "text/html": [
       "<div>\n",
       "<style scoped>\n",
       "    .dataframe tbody tr th:only-of-type {\n",
       "        vertical-align: middle;\n",
       "    }\n",
       "\n",
       "    .dataframe tbody tr th {\n",
       "        vertical-align: top;\n",
       "    }\n",
       "\n",
       "    .dataframe thead th {\n",
       "        text-align: right;\n",
       "    }\n",
       "</style>\n",
       "<table border=\"1\" class=\"dataframe\">\n",
       "  <thead>\n",
       "    <tr style=\"text-align: right;\">\n",
       "      <th></th>\n",
       "      <th>neg</th>\n",
       "      <th>neu</th>\n",
       "      <th>pos</th>\n",
       "      <th>compound</th>\n",
       "      <th>label</th>\n",
       "    </tr>\n",
       "  </thead>\n",
       "  <tbody>\n",
       "    <tr>\n",
       "      <th>count</th>\n",
       "      <td>1485.000000</td>\n",
       "      <td>1485.000000</td>\n",
       "      <td>1485.000000</td>\n",
       "      <td>1485.000000</td>\n",
       "      <td>1485.000000</td>\n",
       "    </tr>\n",
       "    <tr>\n",
       "      <th>mean</th>\n",
       "      <td>0.111438</td>\n",
       "      <td>0.742212</td>\n",
       "      <td>0.142296</td>\n",
       "      <td>0.036248</td>\n",
       "      <td>0.053872</td>\n",
       "    </tr>\n",
       "    <tr>\n",
       "      <th>std</th>\n",
       "      <td>0.163258</td>\n",
       "      <td>0.219192</td>\n",
       "      <td>0.183788</td>\n",
       "      <td>0.503418</td>\n",
       "      <td>0.827301</td>\n",
       "    </tr>\n",
       "    <tr>\n",
       "      <th>min</th>\n",
       "      <td>0.000000</td>\n",
       "      <td>0.000000</td>\n",
       "      <td>0.000000</td>\n",
       "      <td>-0.986200</td>\n",
       "      <td>-1.000000</td>\n",
       "    </tr>\n",
       "    <tr>\n",
       "      <th>25%</th>\n",
       "      <td>0.000000</td>\n",
       "      <td>0.612000</td>\n",
       "      <td>0.000000</td>\n",
       "      <td>-0.361200</td>\n",
       "      <td>-1.000000</td>\n",
       "    </tr>\n",
       "    <tr>\n",
       "      <th>50%</th>\n",
       "      <td>0.026000</td>\n",
       "      <td>0.773000</td>\n",
       "      <td>0.076000</td>\n",
       "      <td>0.000000</td>\n",
       "      <td>0.000000</td>\n",
       "    </tr>\n",
       "    <tr>\n",
       "      <th>75%</th>\n",
       "      <td>0.167000</td>\n",
       "      <td>0.917000</td>\n",
       "      <td>0.222000</td>\n",
       "      <td>0.440400</td>\n",
       "      <td>1.000000</td>\n",
       "    </tr>\n",
       "    <tr>\n",
       "      <th>max</th>\n",
       "      <td>1.000000</td>\n",
       "      <td>1.000000</td>\n",
       "      <td>1.000000</td>\n",
       "      <td>0.987400</td>\n",
       "      <td>1.000000</td>\n",
       "    </tr>\n",
       "  </tbody>\n",
       "</table>\n",
       "</div>"
      ],
      "text/plain": [
       "               neg          neu          pos     compound        label\n",
       "count  1485.000000  1485.000000  1485.000000  1485.000000  1485.000000\n",
       "mean      0.111438     0.742212     0.142296     0.036248     0.053872\n",
       "std       0.163258     0.219192     0.183788     0.503418     0.827301\n",
       "min       0.000000     0.000000     0.000000    -0.986200    -1.000000\n",
       "25%       0.000000     0.612000     0.000000    -0.361200    -1.000000\n",
       "50%       0.026000     0.773000     0.076000     0.000000     0.000000\n",
       "75%       0.167000     0.917000     0.222000     0.440400     1.000000\n",
       "max       1.000000     1.000000     1.000000     0.987400     1.000000"
      ]
     },
     "execution_count": 33,
     "metadata": {},
     "output_type": "execute_result"
    }
   ],
   "source": [
    "df_comments_ireland.describe()"
   ]
  },
  {
   "cell_type": "code",
   "execution_count": 34,
   "id": "662e241e",
   "metadata": {},
   "outputs": [
    {
     "data": {
      "text/html": [
       "<div>\n",
       "<style scoped>\n",
       "    .dataframe tbody tr th:only-of-type {\n",
       "        vertical-align: middle;\n",
       "    }\n",
       "\n",
       "    .dataframe tbody tr th {\n",
       "        vertical-align: top;\n",
       "    }\n",
       "\n",
       "    .dataframe thead th {\n",
       "        text-align: right;\n",
       "    }\n",
       "</style>\n",
       "<table border=\"1\" class=\"dataframe\">\n",
       "  <thead>\n",
       "    <tr style=\"text-align: right;\">\n",
       "      <th></th>\n",
       "      <th>neg</th>\n",
       "      <th>neu</th>\n",
       "      <th>pos</th>\n",
       "      <th>compound</th>\n",
       "      <th>label</th>\n",
       "    </tr>\n",
       "  </thead>\n",
       "  <tbody>\n",
       "    <tr>\n",
       "      <th>count</th>\n",
       "      <td>1560.000000</td>\n",
       "      <td>1560.000000</td>\n",
       "      <td>1560.000000</td>\n",
       "      <td>1560.000000</td>\n",
       "      <td>1560.000000</td>\n",
       "    </tr>\n",
       "    <tr>\n",
       "      <th>mean</th>\n",
       "      <td>0.106790</td>\n",
       "      <td>0.748525</td>\n",
       "      <td>0.142763</td>\n",
       "      <td>0.069173</td>\n",
       "      <td>0.107692</td>\n",
       "    </tr>\n",
       "    <tr>\n",
       "      <th>std</th>\n",
       "      <td>0.150094</td>\n",
       "      <td>0.198693</td>\n",
       "      <td>0.164744</td>\n",
       "      <td>0.529840</td>\n",
       "      <td>0.829193</td>\n",
       "    </tr>\n",
       "    <tr>\n",
       "      <th>min</th>\n",
       "      <td>0.000000</td>\n",
       "      <td>0.000000</td>\n",
       "      <td>0.000000</td>\n",
       "      <td>-0.991400</td>\n",
       "      <td>-1.000000</td>\n",
       "    </tr>\n",
       "    <tr>\n",
       "      <th>25%</th>\n",
       "      <td>0.000000</td>\n",
       "      <td>0.640750</td>\n",
       "      <td>0.000000</td>\n",
       "      <td>-0.336100</td>\n",
       "      <td>-1.000000</td>\n",
       "    </tr>\n",
       "    <tr>\n",
       "      <th>50%</th>\n",
       "      <td>0.051500</td>\n",
       "      <td>0.766000</td>\n",
       "      <td>0.107000</td>\n",
       "      <td>0.000000</td>\n",
       "      <td>0.000000</td>\n",
       "    </tr>\n",
       "    <tr>\n",
       "      <th>75%</th>\n",
       "      <td>0.167000</td>\n",
       "      <td>0.887000</td>\n",
       "      <td>0.216000</td>\n",
       "      <td>0.526700</td>\n",
       "      <td>1.000000</td>\n",
       "    </tr>\n",
       "    <tr>\n",
       "      <th>max</th>\n",
       "      <td>1.000000</td>\n",
       "      <td>1.000000</td>\n",
       "      <td>1.000000</td>\n",
       "      <td>0.988500</td>\n",
       "      <td>1.000000</td>\n",
       "    </tr>\n",
       "  </tbody>\n",
       "</table>\n",
       "</div>"
      ],
      "text/plain": [
       "               neg          neu          pos     compound        label\n",
       "count  1560.000000  1560.000000  1560.000000  1560.000000  1560.000000\n",
       "mean      0.106790     0.748525     0.142763     0.069173     0.107692\n",
       "std       0.150094     0.198693     0.164744     0.529840     0.829193\n",
       "min       0.000000     0.000000     0.000000    -0.991400    -1.000000\n",
       "25%       0.000000     0.640750     0.000000    -0.336100    -1.000000\n",
       "50%       0.051500     0.766000     0.107000     0.000000     0.000000\n",
       "75%       0.167000     0.887000     0.216000     0.526700     1.000000\n",
       "max       1.000000     1.000000     1.000000     0.988500     1.000000"
      ]
     },
     "execution_count": 34,
     "metadata": {},
     "output_type": "execute_result"
    }
   ],
   "source": [
    "df_comments_newzealand.describe()"
   ]
  },
  {
   "cell_type": "markdown",
   "id": "b042bbdd",
   "metadata": {},
   "source": [
    "### visualising compound scores for the sub reddits"
   ]
  },
  {
   "cell_type": "code",
   "execution_count": 38,
   "id": "17ec8d9f",
   "metadata": {},
   "outputs": [
    {
     "data": {
      "image/png": "[encoded data removed]",
      "text/plain": [
       "<Figure size 432x288 with 1 Axes>"
      ]
     },
     "metadata": {
      "needs_background": "light"
     },
     "output_type": "display_data"
    }
   ],
   "source": [
    "plt.hist(df_comments_ireland[\"compound\"], bins=10)\n",
    "\n",
    "plt.title('histogram of r/ireland comments compound scores')\n",
    "plt.xlabel('compound score')\n",
    "plt.ylabel('amount of comments')\n",
    "\n",
    "plt.show()"
   ]
  },
  {
   "cell_type": "code",
   "execution_count": 40,
   "id": "486d570c",
   "metadata": {},
   "outputs": [
    {
     "data": {
      "image/png": "[encoded data removed]",
      "text/plain": [
       "<Figure size 432x288 with 1 Axes>"
      ]
     },
     "metadata": {
      "needs_background": "light"
     },
     "output_type": "display_data"
    }
   ],
   "source": [
    "plt.hist(df_comments_newzealand[\"compound\"], bins=10)\n",
    "\n",
    "plt.title('histogram of r/newzealand comments compound scores')\n",
    "plt.xlabel('compound score')\n",
    "plt.ylabel('amount of comments')\n",
    "\n",
    "plt.show()"
   ]
  },
  {
   "cell_type": "markdown",
   "id": "425c946d",
   "metadata": {},
   "source": [
    "## box plots "
   ]
  },
  {
   "cell_type": "code",
   "execution_count": 41,
   "id": "bfcd1707",
   "metadata": {},
   "outputs": [
    {
     "data": {
      "image/png": "[encoded data removed]",
      "text/plain": [
       "<Figure size 432x288 with 1 Axes>"
      ]
     },
     "metadata": {
      "needs_background": "light"
     },
     "output_type": "display_data"
    }
   ],
   "source": [
    "plt.boxplot(df_comments_ireland[\"compound\"])\n",
    "\n",
    "plt.title('boxplot of r/ireland comments compound scores')\n",
    "plt.xlabel('compound score')\n",
    "plt.ylabel('amount of comments')\n",
    "\n",
    "plt.show()"
   ]
  },
  {
   "cell_type": "code",
   "execution_count": 42,
   "id": "a8f5c9df",
   "metadata": {},
   "outputs": [
    {
     "data": {
      "image/png": "[encoded data removed]",
      "text/plain": [
       "<Figure size 432x288 with 1 Axes>"
      ]
     },
     "metadata": {
      "needs_background": "light"
     },
     "output_type": "display_data"
    }
   ],
   "source": [
    "plt.boxplot(df_comments_newzealand[\"compound\"])\n",
    "\n",
    "plt.title('boxplot of r/ireland comments compound scores')\n",
    "plt.xlabel('compound score')\n",
    "plt.ylabel('amount of comments')\n",
    "\n",
    "plt.show()"
   ]
  },
  {
   "cell_type": "markdown",
   "id": "3d4ffa9c",
   "metadata": {},
   "source": [
    "### looking at positive comments in more detail"
   ]
  },
  {
   "cell_type": "code",
   "execution_count": 47,
   "id": "e94298ea",
   "metadata": {},
   "outputs": [
    {
     "data": {
      "text/plain": [
       "[('like', 81),\n",
       " ('ireland', 72),\n",
       " ('american', 69),\n",
       " ('us', 62),\n",
       " ('love', 57),\n",
       " ('get', 56),\n",
       " ('good', 45),\n",
       " ('people', 43),\n",
       " ('go', 39),\n",
       " ('well', 39),\n",
       " ('irish', 37),\n",
       " ('would', 36),\n",
       " ('back', 36),\n",
       " ('know', 34),\n",
       " ('great', 34),\n",
       " ('croatia', 34),\n",
       " ('one', 33),\n",
       " ('time', 33),\n",
       " ('need', 32),\n",
       " ('house', 32)]"
      ]
     },
     "execution_count": 47,
     "metadata": {},
     "output_type": "execute_result"
    }
   ],
   "source": [
    "pos_comments_ireland = list(df_comments_ireland[df_comments_ireland.label == 1].comment)\n",
    "\n",
    "pos_tokens_comments_ireland = process_text(pos_comments_ireland)\n",
    "pos_freq_comments_ireland = nltk.FreqDist(pos_tokens_comments_ireland)\n",
    "\n",
    "pos_freq_comments_ireland.most_common(20)"
   ]
  },
  {
   "cell_type": "code",
   "execution_count": 58,
   "id": "0d4684f6",
   "metadata": {},
   "outputs": [
    {
     "data": {
      "image/png": "[encoded data removed]",
      "text/plain": [
       "<Figure size 432x288 with 1 Axes>"
      ]
     },
     "metadata": {
      "needs_background": "light"
     },
     "output_type": "display_data"
    },
    {
     "data": {
      "text/plain": [
       "<AxesSubplot:xlabel='Samples', ylabel='Counts'>"
      ]
     },
     "execution_count": 58,
     "metadata": {},
     "output_type": "execute_result"
    }
   ],
   "source": [
    "pos_freq_comments_ireland.plot(20)\n"
   ]
  },
  {
   "cell_type": "code",
   "execution_count": 116,
   "id": "a7867c9a",
   "metadata": {},
   "outputs": [
    {
     "data": {
      "text/plain": [
       "[('people', 140),\n",
       " ('like', 117),\n",
       " ('nz', 89),\n",
       " ('country', 73),\n",
       " ('us', 66),\n",
       " ('good', 63),\n",
       " ('new zealand', 61),\n",
       " ('get', 61),\n",
       " ('well', 57),\n",
       " ('would', 55),\n",
       " ('vote', 49),\n",
       " ('want', 47),\n",
       " ('love', 45),\n",
       " ('time', 44),\n",
       " ('know', 44),\n",
       " ('much', 43),\n",
       " ('even', 43),\n",
       " ('make', 43),\n",
       " ('one', 41),\n",
       " ('free', 40)]"
      ]
     },
     "execution_count": 116,
     "metadata": {},
     "output_type": "execute_result"
    }
   ],
   "source": [
    "pos_comments_nz = list(df_comments_newzealand[df_comments_newzealand.label == 1].comment)\n",
    "\n",
    "pos_tokens_comments_nz = process_text(pos_comments_nz)\n",
    "pos_freq_comments_nz = nltk.FreqDist(pos_tokens_comments_nz)\n",
    "\n",
    "pos_freq_comments_nz.most_common(20)"
   ]
  },
  {
   "cell_type": "code",
   "execution_count": 117,
   "id": "98174746",
   "metadata": {},
   "outputs": [
    {
     "data": {
      "image/png": "[encoded data removed]",
      "text/plain": [
       "<Figure size 432x288 with 1 Axes>"
      ]
     },
     "metadata": {
      "needs_background": "light"
     },
     "output_type": "display_data"
    },
    {
     "data": {
      "text/plain": [
       "<AxesSubplot:xlabel='Samples', ylabel='Counts'>"
      ]
     },
     "execution_count": 117,
     "metadata": {},
     "output_type": "execute_result"
    }
   ],
   "source": [
    "pos_freq_comments_nz.plot(20)\n"
   ]
  },
  {
   "cell_type": "markdown",
   "id": "713b2b2e",
   "metadata": {},
   "source": [
    "### looking at negative comments in more detail"
   ]
  },
  {
   "cell_type": "code",
   "execution_count": 51,
   "id": "636365d1",
   "metadata": {},
   "outputs": [
    {
     "data": {
      "text/plain": [
       "[('us', 83),\n",
       " ('american', 73),\n",
       " ('people', 66),\n",
       " ('fuck', 64),\n",
       " ('get', 56),\n",
       " ('back', 53),\n",
       " ('deposit', 51),\n",
       " ('ban', 44),\n",
       " ('house', 43),\n",
       " ('rent', 42),\n",
       " ('ireland', 40),\n",
       " ('country', 39),\n",
       " ('like', 37),\n",
       " ('one', 35),\n",
       " ('shit', 34),\n",
       " ('fucking', 33),\n",
       " ('would', 32),\n",
       " ('years', 31),\n",
       " ('americans', 30),\n",
       " ('going', 29)]"
      ]
     },
     "execution_count": 51,
     "metadata": {},
     "output_type": "execute_result"
    }
   ],
   "source": [
    "neg_comments_ireland = list(df_comments_ireland[df_comments_ireland.label == -1].comment)\n",
    "\n",
    "neg_tokens_comments_ireland = process_text(neg_comments_ireland)\n",
    "neg_freq_comments_ireland = nltk.FreqDist(neg_tokens_comments_ireland)\n",
    "\n",
    "neg_freq_comments_ireland.most_common(20)"
   ]
  },
  {
   "cell_type": "code",
   "execution_count": 144,
   "id": "a85880d4",
   "metadata": {},
   "outputs": [
    {
     "name": "stdout",
     "output_type": "stream",
     "text": [
      "frequency plot of top 20 'negative' from comments r/ireland \n"
     ]
    },
    {
     "data": {
      "image/png": "[encoded data removed]",
      "text/plain": [
       "<Figure size 432x288 with 1 Axes>"
      ]
     },
     "metadata": {
      "needs_background": "light"
     },
     "output_type": "display_data"
    },
    {
     "data": {
      "text/plain": [
       "<AxesSubplot:xlabel='Samples', ylabel='Counts'>"
      ]
     },
     "execution_count": 144,
     "metadata": {},
     "output_type": "execute_result"
    }
   ],
   "source": [
    "print(\"frequency plot of top 20 'negative' from comments r/ireland \")\n",
    "neg_freq_comments_ireland.plot(20)\n"
   ]
  },
  {
   "cell_type": "code",
   "execution_count": 118,
   "id": "88617fca",
   "metadata": {},
   "outputs": [
    {
     "data": {
      "text/plain": [
       "[('people', 114),\n",
       " ('fuck', 74),\n",
       " ('like', 59),\n",
       " ('shit', 58),\n",
       " ('get', 54),\n",
       " ('tipping', 49),\n",
       " ('nz', 45),\n",
       " ('one', 41),\n",
       " ('time', 41),\n",
       " ('us', 40),\n",
       " ('tip', 38),\n",
       " ('would', 37),\n",
       " ('pay', 35),\n",
       " ('fucking', 34),\n",
       " ('country', 33),\n",
       " ('know', 32),\n",
       " ('covid', 31),\n",
       " ('new zealand', 31),\n",
       " ('go', 29),\n",
       " ('also', 28)]"
      ]
     },
     "execution_count": 118,
     "metadata": {},
     "output_type": "execute_result"
    }
   ],
   "source": [
    "neg_comments_nz = list(df_comments_newzealand[df_comments_newzealand.label == -1].comment)\n",
    "\n",
    "neg_tokens_comments_nz = process_text(neg_comments_nz)\n",
    "neg_freq_comments_nz = nltk.FreqDist(neg_tokens_comments_nz)\n",
    "\n",
    "neg_freq_comments_nz.most_common(20)"
   ]
  },
  {
   "cell_type": "code",
   "execution_count": 145,
   "id": "6270ab97",
   "metadata": {},
   "outputs": [
    {
     "name": "stdout",
     "output_type": "stream",
     "text": [
      "frequency plot of top 20 'negative' from comments r/newzealand \n"
     ]
    },
    {
     "data": {
      "image/png": "[encoded data removed]",
      "text/plain": [
       "<Figure size 432x288 with 1 Axes>"
      ]
     },
     "metadata": {
      "needs_background": "light"
     },
     "output_type": "display_data"
    },
    {
     "data": {
      "text/plain": [
       "<AxesSubplot:xlabel='Samples', ylabel='Counts'>"
      ]
     },
     "execution_count": 145,
     "metadata": {},
     "output_type": "execute_result"
    }
   ],
   "source": [
    "print(\"frequency plot of top 20 'negative' from comments r/newzealand \")\n",
    "\n",
    "neg_freq_comments_nz.plot(20)\n"
   ]
  },
  {
   "cell_type": "code",
   "execution_count": null,
   "id": "a5bf853c",
   "metadata": {},
   "outputs": [],
   "source": []
  }
 ],
 "metadata": {
  "kernelspec": {
   "display_name": "Python 3 (ipykernel)",
   "language": "python",
   "name": "python3"
  },
  "language_info": {
   "codemirror_mode": {
    "name": "ipython",
    "version": 3
   },
   "file_extension": ".py",
   "mimetype": "text/x-python",
   "name": "python",
   "nbconvert_exporter": "python",
   "pygments_lexer": "ipython3",
   "version": "3.8.12"
  }
 },
 "nbformat": 4,
 "nbformat_minor": 5
}
