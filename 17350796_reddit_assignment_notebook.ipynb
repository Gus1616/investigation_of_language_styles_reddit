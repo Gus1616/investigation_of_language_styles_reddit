{
 "cells": [
  {
   "cell_type": "markdown",
   "id": "226f5ae7",
   "metadata": {},
   "source": [
    "<center><h2>COMP40020: Human Language Technologies\n",
    "Assignment 1 </h2></center>\n"
   ]
  },
  {
   "cell_type": "markdown",
   "id": "6b3866bd",
   "metadata": {},
   "source": [
    "#### imports"
   ]
  },
  {
   "cell_type": "code",
   "execution_count": 103,
   "id": "1d68193c",
   "metadata": {},
   "outputs": [],
   "source": [
    "import nltk\n",
    "import re\n",
    "from nltk.tag import pos_tag\n",
    "from nltk.chunk import ne_chunk\n",
    "import matplotlib.pyplot as plt\n",
    "import seaborn as sns\n",
    "import emoji\n",
    "from IPython import display\n",
    "import math\n",
    "from pprint import pprint\n",
    "import pandas as pd\n",
    "import numpy as np\n",
    "import praw\n",
    "from praw.models import MoreComments\n",
    "from nltk.sentiment.vader import SentimentIntensityAnalyzer as SIA\n",
    "from nltk.corpus import stopwords\n",
    "from nltk.tokenize import word_tokenize, RegexpTokenizer\n",
    "from nltk.collocations import BigramAssocMeasures, BigramCollocationFinder, TrigramAssocMeasures, TrigramCollocationFinder\n"
   ]
  },
  {
   "cell_type": "markdown",
   "id": "b555e31a",
   "metadata": {},
   "source": [
    "### references:\n",
    "- Code was adapted from the following resources as well as code from the labs:\n",
    "-  https://www.learndatasci.com/tutorials/sentiment-analysis-reddit-headlines-pythons-nltk/\n",
    "- https://medium.com/@kiddojazz/reddit-sentiment-analysis-f8a1a790124a\n",
    "- https://towardsdatascience.com/automate-sentiment-analysis-process-for-reddit-post-textblob-and-vader-8a79c269522f"
   ]
  },
  {
   "cell_type": "code",
   "execution_count": 3,
   "id": "2fdbdc40",
   "metadata": {},
   "outputs": [],
   "source": [
    "ci = \"fQeiW15Vp7PWost_U0QkaA\" #your client id\n",
    "cs = \"p2LFKOI2h6gyQ_Y3A9ilM-hprJGMiA\" #your client secret\n",
    "ua = \"busterorwha\" #your user agent name\n"
   ]
  },
  {
   "cell_type": "code",
   "execution_count": 4,
   "id": "adc429b0",
   "metadata": {},
   "outputs": [],
   "source": [
    "\n",
    "reddit = praw.Reddit(client_id=ci,\n",
    "                     client_secret=cs,\n",
    "                     user_agent=ua)\n",
    "\n",
    "\n"
   ]
  },
  {
   "cell_type": "markdown",
   "id": "673cbe4a",
   "metadata": {},
   "source": [
    "### sets to hold headlines"
   ]
  },
  {
   "cell_type": "code",
   "execution_count": 5,
   "id": "6ae86b6f",
   "metadata": {},
   "outputs": [],
   "source": [
    "headlines = set()\n",
    "headlines_newZealand = set()"
   ]
  },
  {
   "cell_type": "markdown",
   "id": "ae19b8b0",
   "metadata": {},
   "source": [
    "### Looking at 900 new post titles "
   ]
  },
  {
   "cell_type": "code",
   "execution_count": 6,
   "id": "0d805681",
   "metadata": {},
   "outputs": [
    {
     "name": "stdout",
     "output_type": "stream",
     "text": [
      "897\n"
     ]
    }
   ],
   "source": [
    "# r/ireland\n",
    "for submission in reddit.subreddit('ireland').new(limit=900):\n",
    "    headlines.add(submission.title)\n",
    "    display.clear_output()\n",
    "    print(len(headlines))"
   ]
  },
  {
   "cell_type": "code",
   "execution_count": 7,
   "id": "09180777",
   "metadata": {},
   "outputs": [
    {
     "name": "stdout",
     "output_type": "stream",
     "text": [
      "900\n"
     ]
    }
   ],
   "source": [
    "# r/newzealand\n",
    "for submission in reddit.subreddit('newzealand').new(limit=900):\n",
    "    headlines_newZealand.add(submission.title)\n",
    "    display.clear_output()\n",
    "    print(len(headlines_newZealand))"
   ]
  },
  {
   "cell_type": "markdown",
   "id": "ab1f216c",
   "metadata": {},
   "source": [
    "### r/ireland"
   ]
  },
  {
   "cell_type": "code",
   "execution_count": 8,
   "id": "07fefc1a",
   "metadata": {},
   "outputs": [],
   "source": [
    "# function for sentiment analysis \n",
    "def sia_function(headlines):\n",
    "\n",
    "    sia = SIA()\n",
    "    results = []\n",
    "\n",
    "    for line in headlines:\n",
    "        pol_score = sia.polarity_scores(line)\n",
    "        pol_score['headline'] = line\n",
    "        results.append(pol_score)\n",
    "        \n",
    "    return results\n",
    "\n",
    "    "
   ]
  },
  {
   "cell_type": "code",
   "execution_count": 9,
   "id": "218a60da",
   "metadata": {},
   "outputs": [
    {
     "name": "stdout",
     "output_type": "stream",
     "text": [
      "[{'compound': 0.0,\n",
      "  'headline': 'Sinn Féin calls on Government to cut energy costs immediately by capping prices',\n",
      "  'neg': 0.138,\n",
      "  'neu': 0.724,\n",
      "  'pos': 0.138},\n",
      " {'compound': 0.2263,\n",
      "  'headline': 'What age would you allow a child to use a swimming pool dressing room on their own?',\n",
      "  'neg': 0.0,\n",
      "  'neu': 0.881,\n",
      "  'pos': 0.119},\n",
      " {'compound': 0.0,\n",
      "  'headline': 'Aftersun question : Are the nightclub scenes show in this supposed to have happened '\n",
      "              'or are they metaphorical etc?',\n",
      "  'neg': 0.0,\n",
      "  'neu': 1.0,\n",
      "  'pos': 0.0}]\n"
     ]
    }
   ],
   "source": [
    "# sentiment intensity analyser \n",
    "\n",
    "sia = SIA()\n",
    "results = []\n",
    "\n",
    "for line in headlines:\n",
    "    pol_score = sia.polarity_scores(line)\n",
    "    pol_score['headline'] = line\n",
    "    results.append(pol_score)\n",
    "\n",
    "pprint(results[:3], width=100)"
   ]
  },
  {
   "cell_type": "markdown",
   "id": "ac6e3bc3",
   "metadata": {},
   "source": [
    "### r/newzealand"
   ]
  },
  {
   "cell_type": "code",
   "execution_count": 10,
   "id": "29cf3551",
   "metadata": {},
   "outputs": [
    {
     "name": "stdout",
     "output_type": "stream",
     "text": [
      "[{'compound': -0.6696,\n",
      "  'headline': 'Why are NZ Hotel Disabled Bathrooms so bad?',\n",
      "  'neg': 0.391,\n",
      "  'neu': 0.609,\n",
      "  'pos': 0.0},\n",
      " {'compound': -0.4939, 'headline': 'Funny but sad', 'neg': 0.585, 'neu': 0.141, 'pos': 0.275},\n",
      " {'compound': 0.5106,\n",
      "  'headline': 'Senior government analyst accused of reporting to Chinese government by Security '\n",
      "              'Intelligence Service',\n",
      "  'neg': 0.124,\n",
      "  'neu': 0.565,\n",
      "  'pos': 0.311}]\n"
     ]
    }
   ],
   "source": [
    "results_nz = sia_function(headlines_newZealand)\n",
    "pprint(results_nz[:3], width=100)"
   ]
  },
  {
   "cell_type": "markdown",
   "id": "ce98fdfb",
   "metadata": {},
   "source": [
    "### dataframe r/ireland"
   ]
  },
  {
   "cell_type": "code",
   "execution_count": 11,
   "id": "49b9fde3",
   "metadata": {},
   "outputs": [
    {
     "data": {
      "text/html": [
       "<div>\n",
       "<style scoped>\n",
       "    .dataframe tbody tr th:only-of-type {\n",
       "        vertical-align: middle;\n",
       "    }\n",
       "\n",
       "    .dataframe tbody tr th {\n",
       "        vertical-align: top;\n",
       "    }\n",
       "\n",
       "    .dataframe thead th {\n",
       "        text-align: right;\n",
       "    }\n",
       "</style>\n",
       "<table border=\"1\" class=\"dataframe\">\n",
       "  <thead>\n",
       "    <tr style=\"text-align: right;\">\n",
       "      <th></th>\n",
       "      <th>neg</th>\n",
       "      <th>neu</th>\n",
       "      <th>pos</th>\n",
       "      <th>compound</th>\n",
       "      <th>headline</th>\n",
       "    </tr>\n",
       "  </thead>\n",
       "  <tbody>\n",
       "    <tr>\n",
       "      <th>0</th>\n",
       "      <td>0.138</td>\n",
       "      <td>0.724</td>\n",
       "      <td>0.138</td>\n",
       "      <td>0.0000</td>\n",
       "      <td>Sinn Féin calls on Government to cut energy co...</td>\n",
       "    </tr>\n",
       "    <tr>\n",
       "      <th>1</th>\n",
       "      <td>0.000</td>\n",
       "      <td>0.881</td>\n",
       "      <td>0.119</td>\n",
       "      <td>0.2263</td>\n",
       "      <td>What age would you allow a child to use a swim...</td>\n",
       "    </tr>\n",
       "    <tr>\n",
       "      <th>2</th>\n",
       "      <td>0.000</td>\n",
       "      <td>1.000</td>\n",
       "      <td>0.000</td>\n",
       "      <td>0.0000</td>\n",
       "      <td>Aftersun question : Are the nightclub scenes s...</td>\n",
       "    </tr>\n",
       "    <tr>\n",
       "      <th>3</th>\n",
       "      <td>0.000</td>\n",
       "      <td>1.000</td>\n",
       "      <td>0.000</td>\n",
       "      <td>0.0000</td>\n",
       "      <td>‘Serious concerns’ over the demolition and red...</td>\n",
       "    </tr>\n",
       "    <tr>\n",
       "      <th>4</th>\n",
       "      <td>0.000</td>\n",
       "      <td>1.000</td>\n",
       "      <td>0.000</td>\n",
       "      <td>0.0000</td>\n",
       "      <td>Any snow in your neck of the woods yet?</td>\n",
       "    </tr>\n",
       "  </tbody>\n",
       "</table>\n",
       "</div>"
      ],
      "text/plain": [
       "     neg    neu    pos  compound  \\\n",
       "0  0.138  0.724  0.138    0.0000   \n",
       "1  0.000  0.881  0.119    0.2263   \n",
       "2  0.000  1.000  0.000    0.0000   \n",
       "3  0.000  1.000  0.000    0.0000   \n",
       "4  0.000  1.000  0.000    0.0000   \n",
       "\n",
       "                                            headline  \n",
       "0  Sinn Féin calls on Government to cut energy co...  \n",
       "1  What age would you allow a child to use a swim...  \n",
       "2  Aftersun question : Are the nightclub scenes s...  \n",
       "3  ‘Serious concerns’ over the demolition and red...  \n",
       "4            Any snow in your neck of the woods yet?  "
      ]
     },
     "execution_count": 11,
     "metadata": {},
     "output_type": "execute_result"
    }
   ],
   "source": [
    "df = pd.DataFrame.from_records(results)\n",
    "df.head()"
   ]
  },
  {
   "cell_type": "markdown",
   "id": "35ac390b",
   "metadata": {},
   "source": [
    "### defining positive and negative label"
   ]
  },
  {
   "cell_type": "code",
   "execution_count": 12,
   "id": "f893302b",
   "metadata": {},
   "outputs": [],
   "source": [
    "def define_positive(df):\n",
    "    df['label'] = 0\n",
    "    df.loc[df['compound'] > 0.2, 'label'] = 1\n",
    "    df.loc[df['compound'] < -0.2, 'label'] = -1\n",
    "    return df\n",
    "    "
   ]
  },
  {
   "cell_type": "code",
   "execution_count": 13,
   "id": "e2660e66",
   "metadata": {},
   "outputs": [
    {
     "data": {
      "text/html": [
       "<div>\n",
       "<style scoped>\n",
       "    .dataframe tbody tr th:only-of-type {\n",
       "        vertical-align: middle;\n",
       "    }\n",
       "\n",
       "    .dataframe tbody tr th {\n",
       "        vertical-align: top;\n",
       "    }\n",
       "\n",
       "    .dataframe thead th {\n",
       "        text-align: right;\n",
       "    }\n",
       "</style>\n",
       "<table border=\"1\" class=\"dataframe\">\n",
       "  <thead>\n",
       "    <tr style=\"text-align: right;\">\n",
       "      <th></th>\n",
       "      <th>neg</th>\n",
       "      <th>neu</th>\n",
       "      <th>pos</th>\n",
       "      <th>compound</th>\n",
       "      <th>headline</th>\n",
       "      <th>label</th>\n",
       "    </tr>\n",
       "  </thead>\n",
       "  <tbody>\n",
       "    <tr>\n",
       "      <th>0</th>\n",
       "      <td>0.138</td>\n",
       "      <td>0.724</td>\n",
       "      <td>0.138</td>\n",
       "      <td>0.0000</td>\n",
       "      <td>Sinn Féin calls on Government to cut energy co...</td>\n",
       "      <td>0</td>\n",
       "    </tr>\n",
       "    <tr>\n",
       "      <th>1</th>\n",
       "      <td>0.000</td>\n",
       "      <td>0.881</td>\n",
       "      <td>0.119</td>\n",
       "      <td>0.2263</td>\n",
       "      <td>What age would you allow a child to use a swim...</td>\n",
       "      <td>1</td>\n",
       "    </tr>\n",
       "    <tr>\n",
       "      <th>2</th>\n",
       "      <td>0.000</td>\n",
       "      <td>1.000</td>\n",
       "      <td>0.000</td>\n",
       "      <td>0.0000</td>\n",
       "      <td>Aftersun question : Are the nightclub scenes s...</td>\n",
       "      <td>0</td>\n",
       "    </tr>\n",
       "    <tr>\n",
       "      <th>3</th>\n",
       "      <td>0.000</td>\n",
       "      <td>1.000</td>\n",
       "      <td>0.000</td>\n",
       "      <td>0.0000</td>\n",
       "      <td>‘Serious concerns’ over the demolition and red...</td>\n",
       "      <td>0</td>\n",
       "    </tr>\n",
       "    <tr>\n",
       "      <th>4</th>\n",
       "      <td>0.000</td>\n",
       "      <td>1.000</td>\n",
       "      <td>0.000</td>\n",
       "      <td>0.0000</td>\n",
       "      <td>Any snow in your neck of the woods yet?</td>\n",
       "      <td>0</td>\n",
       "    </tr>\n",
       "  </tbody>\n",
       "</table>\n",
       "</div>"
      ],
      "text/plain": [
       "     neg    neu    pos  compound  \\\n",
       "0  0.138  0.724  0.138    0.0000   \n",
       "1  0.000  0.881  0.119    0.2263   \n",
       "2  0.000  1.000  0.000    0.0000   \n",
       "3  0.000  1.000  0.000    0.0000   \n",
       "4  0.000  1.000  0.000    0.0000   \n",
       "\n",
       "                                            headline  label  \n",
       "0  Sinn Féin calls on Government to cut energy co...      0  \n",
       "1  What age would you allow a child to use a swim...      1  \n",
       "2  Aftersun question : Are the nightclub scenes s...      0  \n",
       "3  ‘Serious concerns’ over the demolition and red...      0  \n",
       "4            Any snow in your neck of the woods yet?      0  "
      ]
     },
     "execution_count": 13,
     "metadata": {},
     "output_type": "execute_result"
    }
   ],
   "source": [
    "df['label'] = 0\n",
    "df.loc[df['compound'] > 0.2, 'label'] = 1\n",
    "df.loc[df['compound'] < -0.2, 'label'] = -1\n",
    "df.head()"
   ]
  },
  {
   "cell_type": "markdown",
   "id": "ca45cc10",
   "metadata": {},
   "source": [
    "### dataframe r/newzealand"
   ]
  },
  {
   "cell_type": "code",
   "execution_count": 14,
   "id": "8f997a0d",
   "metadata": {},
   "outputs": [
    {
     "data": {
      "text/html": [
       "<div>\n",
       "<style scoped>\n",
       "    .dataframe tbody tr th:only-of-type {\n",
       "        vertical-align: middle;\n",
       "    }\n",
       "\n",
       "    .dataframe tbody tr th {\n",
       "        vertical-align: top;\n",
       "    }\n",
       "\n",
       "    .dataframe thead th {\n",
       "        text-align: right;\n",
       "    }\n",
       "</style>\n",
       "<table border=\"1\" class=\"dataframe\">\n",
       "  <thead>\n",
       "    <tr style=\"text-align: right;\">\n",
       "      <th></th>\n",
       "      <th>neg</th>\n",
       "      <th>neu</th>\n",
       "      <th>pos</th>\n",
       "      <th>compound</th>\n",
       "      <th>headline</th>\n",
       "    </tr>\n",
       "  </thead>\n",
       "  <tbody>\n",
       "    <tr>\n",
       "      <th>0</th>\n",
       "      <td>0.391</td>\n",
       "      <td>0.609</td>\n",
       "      <td>0.000</td>\n",
       "      <td>-0.6696</td>\n",
       "      <td>Why are NZ Hotel Disabled Bathrooms so bad?</td>\n",
       "    </tr>\n",
       "    <tr>\n",
       "      <th>1</th>\n",
       "      <td>0.585</td>\n",
       "      <td>0.141</td>\n",
       "      <td>0.275</td>\n",
       "      <td>-0.4939</td>\n",
       "      <td>Funny but sad</td>\n",
       "    </tr>\n",
       "    <tr>\n",
       "      <th>2</th>\n",
       "      <td>0.124</td>\n",
       "      <td>0.565</td>\n",
       "      <td>0.311</td>\n",
       "      <td>0.5106</td>\n",
       "      <td>Senior government analyst accused of reporting...</td>\n",
       "    </tr>\n",
       "    <tr>\n",
       "      <th>3</th>\n",
       "      <td>0.000</td>\n",
       "      <td>1.000</td>\n",
       "      <td>0.000</td>\n",
       "      <td>0.0000</td>\n",
       "      <td>The Mystery of New Zealand’s Tamil Bell, an Ar...</td>\n",
       "    </tr>\n",
       "    <tr>\n",
       "      <th>4</th>\n",
       "      <td>0.000</td>\n",
       "      <td>1.000</td>\n",
       "      <td>0.000</td>\n",
       "      <td>0.0000</td>\n",
       "      <td>Just in need of advice</td>\n",
       "    </tr>\n",
       "  </tbody>\n",
       "</table>\n",
       "</div>"
      ],
      "text/plain": [
       "     neg    neu    pos  compound  \\\n",
       "0  0.391  0.609  0.000   -0.6696   \n",
       "1  0.585  0.141  0.275   -0.4939   \n",
       "2  0.124  0.565  0.311    0.5106   \n",
       "3  0.000  1.000  0.000    0.0000   \n",
       "4  0.000  1.000  0.000    0.0000   \n",
       "\n",
       "                                            headline  \n",
       "0        Why are NZ Hotel Disabled Bathrooms so bad?  \n",
       "1                                      Funny but sad  \n",
       "2  Senior government analyst accused of reporting...  \n",
       "3  The Mystery of New Zealand’s Tamil Bell, an Ar...  \n",
       "4                             Just in need of advice  "
      ]
     },
     "execution_count": 14,
     "metadata": {},
     "output_type": "execute_result"
    }
   ],
   "source": [
    "df_nz = pd.DataFrame.from_records(results_nz)\n",
    "df_nz.head()"
   ]
  },
  {
   "cell_type": "markdown",
   "id": "8d98f9c7",
   "metadata": {},
   "source": [
    "### defining positive and negative label"
   ]
  },
  {
   "cell_type": "code",
   "execution_count": 15,
   "id": "5519d9fc",
   "metadata": {},
   "outputs": [
    {
     "data": {
      "text/html": [
       "<div>\n",
       "<style scoped>\n",
       "    .dataframe tbody tr th:only-of-type {\n",
       "        vertical-align: middle;\n",
       "    }\n",
       "\n",
       "    .dataframe tbody tr th {\n",
       "        vertical-align: top;\n",
       "    }\n",
       "\n",
       "    .dataframe thead th {\n",
       "        text-align: right;\n",
       "    }\n",
       "</style>\n",
       "<table border=\"1\" class=\"dataframe\">\n",
       "  <thead>\n",
       "    <tr style=\"text-align: right;\">\n",
       "      <th></th>\n",
       "      <th>neg</th>\n",
       "      <th>neu</th>\n",
       "      <th>pos</th>\n",
       "      <th>compound</th>\n",
       "      <th>headline</th>\n",
       "      <th>label</th>\n",
       "    </tr>\n",
       "  </thead>\n",
       "  <tbody>\n",
       "    <tr>\n",
       "      <th>0</th>\n",
       "      <td>0.391</td>\n",
       "      <td>0.609</td>\n",
       "      <td>0.000</td>\n",
       "      <td>-0.6696</td>\n",
       "      <td>Why are NZ Hotel Disabled Bathrooms so bad?</td>\n",
       "      <td>-1</td>\n",
       "    </tr>\n",
       "    <tr>\n",
       "      <th>1</th>\n",
       "      <td>0.585</td>\n",
       "      <td>0.141</td>\n",
       "      <td>0.275</td>\n",
       "      <td>-0.4939</td>\n",
       "      <td>Funny but sad</td>\n",
       "      <td>-1</td>\n",
       "    </tr>\n",
       "    <tr>\n",
       "      <th>2</th>\n",
       "      <td>0.124</td>\n",
       "      <td>0.565</td>\n",
       "      <td>0.311</td>\n",
       "      <td>0.5106</td>\n",
       "      <td>Senior government analyst accused of reporting...</td>\n",
       "      <td>1</td>\n",
       "    </tr>\n",
       "    <tr>\n",
       "      <th>3</th>\n",
       "      <td>0.000</td>\n",
       "      <td>1.000</td>\n",
       "      <td>0.000</td>\n",
       "      <td>0.0000</td>\n",
       "      <td>The Mystery of New Zealand’s Tamil Bell, an Ar...</td>\n",
       "      <td>0</td>\n",
       "    </tr>\n",
       "    <tr>\n",
       "      <th>4</th>\n",
       "      <td>0.000</td>\n",
       "      <td>1.000</td>\n",
       "      <td>0.000</td>\n",
       "      <td>0.0000</td>\n",
       "      <td>Just in need of advice</td>\n",
       "      <td>0</td>\n",
       "    </tr>\n",
       "  </tbody>\n",
       "</table>\n",
       "</div>"
      ],
      "text/plain": [
       "     neg    neu    pos  compound  \\\n",
       "0  0.391  0.609  0.000   -0.6696   \n",
       "1  0.585  0.141  0.275   -0.4939   \n",
       "2  0.124  0.565  0.311    0.5106   \n",
       "3  0.000  1.000  0.000    0.0000   \n",
       "4  0.000  1.000  0.000    0.0000   \n",
       "\n",
       "                                            headline  label  \n",
       "0        Why are NZ Hotel Disabled Bathrooms so bad?     -1  \n",
       "1                                      Funny but sad     -1  \n",
       "2  Senior government analyst accused of reporting...      1  \n",
       "3  The Mystery of New Zealand’s Tamil Bell, an Ar...      0  \n",
       "4                             Just in need of advice      0  "
      ]
     },
     "execution_count": 15,
     "metadata": {},
     "output_type": "execute_result"
    }
   ],
   "source": [
    "df_nz['label'] = 0\n",
    "df_nz.loc[df_nz['compound'] > 0.2, 'label'] = 1\n",
    "df_nz.loc[df_nz['compound'] < -0.2, 'label'] = -1\n",
    "df_nz.head()"
   ]
  },
  {
   "cell_type": "markdown",
   "id": "187cdf95",
   "metadata": {},
   "source": [
    "### example of positive and neg headlines r/ireland"
   ]
  },
  {
   "cell_type": "code",
   "execution_count": 16,
   "id": "7d31f0b2",
   "metadata": {},
   "outputs": [
    {
     "name": "stdout",
     "output_type": "stream",
     "text": [
      "Positive headlines:\n",
      "\n",
      "['What age would you allow a child to use a swimming pool dressing room on their own?',\n",
      " 'Irish households save €1 for every €4 they spend',\n",
      " 'Security of tenure Sinn Féin',\n",
      " \"when did Aldi replace regular SELs with screens? surely I'm not alone at only just discovering this?\",\n",
      " 'Sinn Féin meets Taoiseach over restoring NI Assembly']\n",
      "\n",
      "Negative headlines:\n",
      "\n",
      "['Recommendations for lesser-known savage Irish bands? (Acoustic/folk preferably)',\n",
      " 'Sending packages as a small business on Etsy with An Post - what is PO Box for',\n",
      " 'Stupid thing someone stole from you?',\n",
      " '‘Nothing compares to the horrors of renting in Ireland’',\n",
      " 'Strange experience/possible scammer? Heuston station']\n"
     ]
    }
   ],
   "source": [
    "print(\"Positive headlines:\\n\")\n",
    "pprint(list(df[df['label'] == 1].headline)[:5], width=200)\n",
    "\n",
    "print(\"\\nNegative headlines:\\n\")\n",
    "pprint(list(df[df['label'] == -1].headline)[:5], width=200)"
   ]
  },
  {
   "cell_type": "markdown",
   "id": "754b5349",
   "metadata": {},
   "source": [
    "### example of positive and neg headlines r/newzealand"
   ]
  },
  {
   "cell_type": "code",
   "execution_count": 17,
   "id": "bd228362",
   "metadata": {},
   "outputs": [
    {
     "name": "stdout",
     "output_type": "stream",
     "text": [
      "Positive headlines:\n",
      "\n",
      "['Senior government analyst accused of reporting to Chinese government by Security Intelligence Service',\n",
      " 'Damien Grant: What does a childcare policy tell us about the Leader of the Opposition?',\n",
      " 'What are the major technology industries in New Zealand, considering that the Professional, Scientific, and Technical Services sector has made the largest contribution to overall growth?',\n",
      " \"Te Whatu Ora admits figures used by Health Minister are 'not accurate'\",\n",
      " 'Good Job David, your badge is upsidedown']\n",
      "\n",
      "Negative headlines:\n",
      "\n",
      "['Why are NZ Hotel Disabled Bathrooms so bad?',\n",
      " 'Funny but sad',\n",
      " 'My friend has fallen in with the wrong crowd',\n",
      " 'quitting job without giving 4 weeks notice?',\n",
      " \"Banking expert says Kiwis' deposits would not be protected if NZ bank was to collapse\"]\n"
     ]
    }
   ],
   "source": [
    "print(\"Positive headlines:\\n\")\n",
    "pprint(list(df_nz[df_nz['label'] == 1].headline)[:5], width=200)\n",
    "\n",
    "print(\"\\nNegative headlines:\\n\")\n",
    "pprint(list(df_nz[df_nz['label'] == -1].headline)[:5], width=200)"
   ]
  },
  {
   "cell_type": "markdown",
   "id": "c95ca0b9",
   "metadata": {},
   "source": [
    "### looking at value counts r/ireland"
   ]
  },
  {
   "cell_type": "code",
   "execution_count": 18,
   "id": "888a8018",
   "metadata": {},
   "outputs": [
    {
     "name": "stdout",
     "output_type": "stream",
     "text": [
      " 0    504\n",
      " 1    211\n",
      "-1    182\n",
      "Name: label, dtype: int64\n",
      " 0    56.187291\n",
      " 1    23.522854\n",
      "-1    20.289855\n",
      "Name: label, dtype: float64\n"
     ]
    }
   ],
   "source": [
    "print(df.label.value_counts())\n",
    "print(df.label.value_counts(normalize=True) * 100)\n"
   ]
  },
  {
   "cell_type": "markdown",
   "id": "68d47574",
   "metadata": {},
   "source": [
    "### looking at value counts r/newzealand"
   ]
  },
  {
   "cell_type": "code",
   "execution_count": 19,
   "id": "df4176f4",
   "metadata": {},
   "outputs": [
    {
     "name": "stdout",
     "output_type": "stream",
     "text": [
      " 0    523\n",
      "-1    191\n",
      " 1    186\n",
      "Name: label, dtype: int64\n",
      " 0    58.111111\n",
      "-1    21.222222\n",
      " 1    20.666667\n",
      "Name: label, dtype: float64\n"
     ]
    }
   ],
   "source": [
    "print(df_nz.label.value_counts())\n",
    "print(df_nz.label.value_counts(normalize=True) * 100)"
   ]
  },
  {
   "cell_type": "markdown",
   "id": "7c5b157a",
   "metadata": {},
   "source": [
    "### graph comparing results "
   ]
  },
  {
   "cell_type": "markdown",
   "id": "35b73f43",
   "metadata": {},
   "source": [
    "code adapted from: https://stackoverflow.com/questions/10369681/how-to-plot-bar-graphs-with-same-x-coordinates-side-by-side-dodged "
   ]
  },
  {
   "cell_type": "code",
   "execution_count": 20,
   "id": "b5ae66d5",
   "metadata": {},
   "outputs": [
    {
     "data": {
      "image/png": "[encoded data removed]",
      "text/plain": [
       "<Figure size 720x360 with 1 Axes>"
      ]
     },
     "metadata": {
      "needs_background": "light"
     },
     "output_type": "display_data"
    }
   ],
   "source": [
    "counts_nz = df_nz.label.value_counts(normalize=True) * 100\n",
    "\n",
    "counts_ireland = df.label.value_counts(normalize=True) * 100\n",
    "N = 3\n",
    "\n",
    "blue_bar = (counts_ireland)\n",
    "orange_bar = (counts_nz)\n",
    "\n",
    "# Position of bars on x-axis\n",
    "ind = np.arange(N)\n",
    "# Figure size\n",
    "plt.figure(figsize=(10,5))\n",
    "\n",
    "# Width of a bar \n",
    "width = 0.3       \n",
    "\n",
    "# Plotting\n",
    "plt.bar(ind, blue_bar , width, label='Ireland')\n",
    "plt.bar(ind + width, orange_bar, width, label='newzealand')\n",
    "\n",
    "plt.ylabel('Percentage')\n",
    "plt.title('Comparing r/ireland and r/newzealand most recent 900 posts')\n",
    "\n",
    "plt.xticks(ind + width / 2, ('Neutral', 'Negative', 'Positve'))\n",
    "\n",
    "# Finding the best position for legends and putting it\n",
    "plt.legend(loc='best')\n",
    "plt.show()"
   ]
  },
  {
   "cell_type": "markdown",
   "id": "35dfc94f",
   "metadata": {},
   "source": [
    "### detailed stats of r/ireland most recent 900 post titles"
   ]
  },
  {
   "cell_type": "code",
   "execution_count": 21,
   "id": "c8db6345",
   "metadata": {},
   "outputs": [
    {
     "data": {
      "text/html": [
       "<div>\n",
       "<style scoped>\n",
       "    .dataframe tbody tr th:only-of-type {\n",
       "        vertical-align: middle;\n",
       "    }\n",
       "\n",
       "    .dataframe tbody tr th {\n",
       "        vertical-align: top;\n",
       "    }\n",
       "\n",
       "    .dataframe thead th {\n",
       "        text-align: right;\n",
       "    }\n",
       "</style>\n",
       "<table border=\"1\" class=\"dataframe\">\n",
       "  <thead>\n",
       "    <tr style=\"text-align: right;\">\n",
       "      <th></th>\n",
       "      <th>neg</th>\n",
       "      <th>neu</th>\n",
       "      <th>pos</th>\n",
       "      <th>compound</th>\n",
       "      <th>label</th>\n",
       "    </tr>\n",
       "  </thead>\n",
       "  <tbody>\n",
       "    <tr>\n",
       "      <th>count</th>\n",
       "      <td>897.000000</td>\n",
       "      <td>897.000000</td>\n",
       "      <td>897.000000</td>\n",
       "      <td>897.000000</td>\n",
       "      <td>897.00000</td>\n",
       "    </tr>\n",
       "    <tr>\n",
       "      <th>mean</th>\n",
       "      <td>0.072608</td>\n",
       "      <td>0.843259</td>\n",
       "      <td>0.083018</td>\n",
       "      <td>0.014433</td>\n",
       "      <td>0.03233</td>\n",
       "    </tr>\n",
       "    <tr>\n",
       "      <th>std</th>\n",
       "      <td>0.138910</td>\n",
       "      <td>0.190111</td>\n",
       "      <td>0.151004</td>\n",
       "      <td>0.351415</td>\n",
       "      <td>0.66149</td>\n",
       "    </tr>\n",
       "    <tr>\n",
       "      <th>min</th>\n",
       "      <td>0.000000</td>\n",
       "      <td>0.000000</td>\n",
       "      <td>0.000000</td>\n",
       "      <td>-0.931300</td>\n",
       "      <td>-1.00000</td>\n",
       "    </tr>\n",
       "    <tr>\n",
       "      <th>25%</th>\n",
       "      <td>0.000000</td>\n",
       "      <td>0.714000</td>\n",
       "      <td>0.000000</td>\n",
       "      <td>0.000000</td>\n",
       "      <td>0.00000</td>\n",
       "    </tr>\n",
       "    <tr>\n",
       "      <th>50%</th>\n",
       "      <td>0.000000</td>\n",
       "      <td>0.935000</td>\n",
       "      <td>0.000000</td>\n",
       "      <td>0.000000</td>\n",
       "      <td>0.00000</td>\n",
       "    </tr>\n",
       "    <tr>\n",
       "      <th>75%</th>\n",
       "      <td>0.098000</td>\n",
       "      <td>1.000000</td>\n",
       "      <td>0.133000</td>\n",
       "      <td>0.102700</td>\n",
       "      <td>0.00000</td>\n",
       "    </tr>\n",
       "    <tr>\n",
       "      <th>max</th>\n",
       "      <td>0.773000</td>\n",
       "      <td>1.000000</td>\n",
       "      <td>1.000000</td>\n",
       "      <td>0.939300</td>\n",
       "      <td>1.00000</td>\n",
       "    </tr>\n",
       "  </tbody>\n",
       "</table>\n",
       "</div>"
      ],
      "text/plain": [
       "              neg         neu         pos    compound      label\n",
       "count  897.000000  897.000000  897.000000  897.000000  897.00000\n",
       "mean     0.072608    0.843259    0.083018    0.014433    0.03233\n",
       "std      0.138910    0.190111    0.151004    0.351415    0.66149\n",
       "min      0.000000    0.000000    0.000000   -0.931300   -1.00000\n",
       "25%      0.000000    0.714000    0.000000    0.000000    0.00000\n",
       "50%      0.000000    0.935000    0.000000    0.000000    0.00000\n",
       "75%      0.098000    1.000000    0.133000    0.102700    0.00000\n",
       "max      0.773000    1.000000    1.000000    0.939300    1.00000"
      ]
     },
     "execution_count": 21,
     "metadata": {},
     "output_type": "execute_result"
    }
   ],
   "source": [
    "df.describe()"
   ]
  },
  {
   "cell_type": "markdown",
   "id": "4e957fc4",
   "metadata": {},
   "source": [
    "### detailed stats of r/newzealand most recent 900 post titles"
   ]
  },
  {
   "cell_type": "code",
   "execution_count": 22,
   "id": "0b854eec",
   "metadata": {},
   "outputs": [
    {
     "data": {
      "text/html": [
       "<div>\n",
       "<style scoped>\n",
       "    .dataframe tbody tr th:only-of-type {\n",
       "        vertical-align: middle;\n",
       "    }\n",
       "\n",
       "    .dataframe tbody tr th {\n",
       "        vertical-align: top;\n",
       "    }\n",
       "\n",
       "    .dataframe thead th {\n",
       "        text-align: right;\n",
       "    }\n",
       "</style>\n",
       "<table border=\"1\" class=\"dataframe\">\n",
       "  <thead>\n",
       "    <tr style=\"text-align: right;\">\n",
       "      <th></th>\n",
       "      <th>neg</th>\n",
       "      <th>neu</th>\n",
       "      <th>pos</th>\n",
       "      <th>compound</th>\n",
       "      <th>label</th>\n",
       "    </tr>\n",
       "  </thead>\n",
       "  <tbody>\n",
       "    <tr>\n",
       "      <th>count</th>\n",
       "      <td>900.000000</td>\n",
       "      <td>900.000000</td>\n",
       "      <td>900.000000</td>\n",
       "      <td>900.000000</td>\n",
       "      <td>900.000000</td>\n",
       "    </tr>\n",
       "    <tr>\n",
       "      <th>mean</th>\n",
       "      <td>0.080127</td>\n",
       "      <td>0.840007</td>\n",
       "      <td>0.079859</td>\n",
       "      <td>-0.006177</td>\n",
       "      <td>-0.005556</td>\n",
       "    </tr>\n",
       "    <tr>\n",
       "      <th>std</th>\n",
       "      <td>0.150534</td>\n",
       "      <td>0.197962</td>\n",
       "      <td>0.153338</td>\n",
       "      <td>0.336321</td>\n",
       "      <td>0.647552</td>\n",
       "    </tr>\n",
       "    <tr>\n",
       "      <th>min</th>\n",
       "      <td>0.000000</td>\n",
       "      <td>0.141000</td>\n",
       "      <td>0.000000</td>\n",
       "      <td>-0.950900</td>\n",
       "      <td>-1.000000</td>\n",
       "    </tr>\n",
       "    <tr>\n",
       "      <th>25%</th>\n",
       "      <td>0.000000</td>\n",
       "      <td>0.706750</td>\n",
       "      <td>0.000000</td>\n",
       "      <td>-0.006450</td>\n",
       "      <td>0.000000</td>\n",
       "    </tr>\n",
       "    <tr>\n",
       "      <th>50%</th>\n",
       "      <td>0.000000</td>\n",
       "      <td>1.000000</td>\n",
       "      <td>0.000000</td>\n",
       "      <td>0.000000</td>\n",
       "      <td>0.000000</td>\n",
       "    </tr>\n",
       "    <tr>\n",
       "      <th>75%</th>\n",
       "      <td>0.120250</td>\n",
       "      <td>1.000000</td>\n",
       "      <td>0.115000</td>\n",
       "      <td>0.000000</td>\n",
       "      <td>0.000000</td>\n",
       "    </tr>\n",
       "    <tr>\n",
       "      <th>max</th>\n",
       "      <td>0.756000</td>\n",
       "      <td>1.000000</td>\n",
       "      <td>0.783000</td>\n",
       "      <td>0.895700</td>\n",
       "      <td>1.000000</td>\n",
       "    </tr>\n",
       "  </tbody>\n",
       "</table>\n",
       "</div>"
      ],
      "text/plain": [
       "              neg         neu         pos    compound       label\n",
       "count  900.000000  900.000000  900.000000  900.000000  900.000000\n",
       "mean     0.080127    0.840007    0.079859   -0.006177   -0.005556\n",
       "std      0.150534    0.197962    0.153338    0.336321    0.647552\n",
       "min      0.000000    0.141000    0.000000   -0.950900   -1.000000\n",
       "25%      0.000000    0.706750    0.000000   -0.006450    0.000000\n",
       "50%      0.000000    1.000000    0.000000    0.000000    0.000000\n",
       "75%      0.120250    1.000000    0.115000    0.000000    0.000000\n",
       "max      0.756000    1.000000    0.783000    0.895700    1.000000"
      ]
     },
     "execution_count": 22,
     "metadata": {},
     "output_type": "execute_result"
    }
   ],
   "source": [
    "df_nz.describe()"
   ]
  },
  {
   "cell_type": "markdown",
   "id": "7c277990",
   "metadata": {},
   "source": [
    "### visualising compound scores"
   ]
  },
  {
   "cell_type": "code",
   "execution_count": 23,
   "id": "0a11c5fe",
   "metadata": {},
   "outputs": [
    {
     "data": {
      "image/png": "[encoded data removed]",
      "text/plain": [
       "<Figure size 432x288 with 1 Axes>"
      ]
     },
     "metadata": {
      "needs_background": "light"
     },
     "output_type": "display_data"
    }
   ],
   "source": [
    "plt.hist(df[\"compound\"], bins=10)\n",
    "\n",
    "plt.title('histogram of r/ireland titles compound scores most recent 900 titles')\n",
    "plt.xlabel('compound score')\n",
    "plt.ylabel('amount of comments')\n",
    "\n",
    "plt.show()"
   ]
  },
  {
   "cell_type": "code",
   "execution_count": 24,
   "id": "6479f9b1",
   "metadata": {
    "scrolled": true
   },
   "outputs": [
    {
     "data": {
      "image/png": "[encoded data removed]",
      "text/plain": [
       "<Figure size 432x288 with 1 Axes>"
      ]
     },
     "metadata": {
      "needs_background": "light"
     },
     "output_type": "display_data"
    }
   ],
   "source": [
    "plt.hist(df_nz[\"compound\"], bins=10)\n",
    "\n",
    "plt.title('histogram of r/newzealand titles compound scores most recent 900 titles')\n",
    "plt.xlabel('compound score')\n",
    "plt.ylabel('amount of comments')\n",
    "\n",
    "plt.show()"
   ]
  },
  {
   "cell_type": "markdown",
   "id": "6e5dce54",
   "metadata": {},
   "source": [
    "### box plots of most recent 900 titles "
   ]
  },
  {
   "cell_type": "code",
   "execution_count": 25,
   "id": "8a97bab5",
   "metadata": {},
   "outputs": [
    {
     "data": {
      "image/png": "[encoded data removed]",
      "text/plain": [
       "<Figure size 432x288 with 1 Axes>"
      ]
     },
     "metadata": {
      "needs_background": "light"
     },
     "output_type": "display_data"
    }
   ],
   "source": [
    "plt.boxplot(df[\"compound\"])\n",
    "\n",
    "plt.title('boxplot of r/ireland most recent titles compound scores')\n",
    "plt.xlabel('compound score')\n",
    "plt.ylabel('amount of comments')\n",
    "\n",
    "plt.show()"
   ]
  },
  {
   "cell_type": "code",
   "execution_count": 26,
   "id": "de3c3a43",
   "metadata": {},
   "outputs": [
    {
     "data": {
      "image/png": "[encoded data removed]",
      "text/plain": [
       "<Figure size 432x288 with 1 Axes>"
      ]
     },
     "metadata": {
      "needs_background": "light"
     },
     "output_type": "display_data"
    }
   ],
   "source": [
    "plt.boxplot(df_nz[\"compound\"])\n",
    "\n",
    "plt.title('boxplot of r/newzealand most recent titles compound scores')\n",
    "plt.xlabel('compound score')\n",
    "plt.ylabel('amount of comments')\n",
    "\n",
    "plt.show()"
   ]
  },
  {
   "cell_type": "markdown",
   "id": "3808e395",
   "metadata": {},
   "source": [
    "### Looking at headlines in more detail:"
   ]
  },
  {
   "cell_type": "code",
   "execution_count": 27,
   "id": "f2f9b4ec",
   "metadata": {},
   "outputs": [],
   "source": [
    "# tokenizer that only looks at words, removes punctuation and also treats new zealand as one token \n",
    "tokenizer = RegexpTokenizer(r'\\b(?:New Zealand|new zealand)\\b|[^\\W\\d]+')\n",
    "stop_words = stopwords.words('english')\n",
    "\n",
    "def process_text(headlines):\n",
    "    tokens = []\n",
    "    for line in headlines:\n",
    "        toks = tokenizer.tokenize(line)\n",
    "#         removing stop words\n",
    "        toks = [t.lower() for t in toks if t.lower() not in stop_words]\n",
    "        tokens.extend(toks)\n",
    "    \n",
    "    return tokens"
   ]
  },
  {
   "cell_type": "markdown",
   "id": "a4b82c21",
   "metadata": {},
   "source": [
    "### r/newzealand \"positive\" headlines"
   ]
  },
  {
   "cell_type": "code",
   "execution_count": 28,
   "id": "37505077",
   "metadata": {},
   "outputs": [
    {
     "data": {
      "text/plain": [
       "[('good', 17),\n",
       " ('nz', 16),\n",
       " ('help', 15),\n",
       " ('best', 15),\n",
       " ('new zealand', 10),\n",
       " ('anyone', 9),\n",
       " ('new', 8),\n",
       " ('like', 7),\n",
       " ('please', 7),\n",
       " ('get', 7),\n",
       " ('government', 5),\n",
       " ('job', 5),\n",
       " ('census', 5),\n",
       " ('looking', 5),\n",
       " ('buying', 5),\n",
       " ('kiwi', 5),\n",
       " ('working', 5),\n",
       " ('love', 5),\n",
       " ('people', 5),\n",
       " ('used', 4)]"
      ]
     },
     "execution_count": 28,
     "metadata": {},
     "output_type": "execute_result"
    }
   ],
   "source": [
    "pos_lines_nz = list(df_nz[df_nz.label == 1].headline)\n",
    "\n",
    "pos_tokens_nz = process_text(pos_lines_nz)\n",
    "pos_freq_nz = nltk.FreqDist(pos_tokens_nz)\n",
    "\n",
    "pos_freq_nz.most_common(20)"
   ]
  },
  {
   "cell_type": "markdown",
   "id": "bc8d06c2",
   "metadata": {},
   "source": [
    "### positive words r/newzealand "
   ]
  },
  {
   "cell_type": "code",
   "execution_count": 29,
   "id": "1a402bb9",
   "metadata": {},
   "outputs": [
    {
     "data": {
      "image/png": "[encoded data removed]",
      "text/plain": [
       "<Figure size 432x288 with 1 Axes>"
      ]
     },
     "metadata": {
      "needs_background": "light"
     },
     "output_type": "display_data"
    },
    {
     "data": {
      "text/plain": [
       "<AxesSubplot:xlabel='Samples', ylabel='Counts'>"
      ]
     },
     "execution_count": 29,
     "metadata": {},
     "output_type": "execute_result"
    }
   ],
   "source": [
    "pos_freq_nz.plot(20)"
   ]
  },
  {
   "cell_type": "markdown",
   "id": "becdab59",
   "metadata": {},
   "source": [
    "### r/ireland - \"positive\" headlines "
   ]
  },
  {
   "cell_type": "code",
   "execution_count": 30,
   "id": "00f1f4ed",
   "metadata": {
    "scrolled": true
   },
   "outputs": [
    {
     "data": {
      "text/plain": [
       "[('ireland', 32),\n",
       " ('best', 16),\n",
       " ('irish', 15),\n",
       " ('would', 13),\n",
       " ('free', 13),\n",
       " ('like', 12),\n",
       " ('get', 12),\n",
       " ('good', 10),\n",
       " ('help', 10),\n",
       " ('well', 9),\n",
       " ('anyone', 9),\n",
       " ('house', 8),\n",
       " ('looking', 8),\n",
       " ('could', 8),\n",
       " ('day', 8),\n",
       " ('credit', 7),\n",
       " ('public', 7),\n",
       " ('car', 7),\n",
       " ('time', 7),\n",
       " ('snow', 6)]"
      ]
     },
     "execution_count": 30,
     "metadata": {},
     "output_type": "execute_result"
    }
   ],
   "source": [
    "pos_lines_ireland = list(df[df.label == 1].headline)\n",
    "\n",
    "pos_tokens_ireland = process_text(pos_lines_ireland)\n",
    "pos_freq_ireland = nltk.FreqDist(pos_tokens_ireland)\n",
    "\n",
    "pos_freq_ireland.most_common(20)"
   ]
  },
  {
   "cell_type": "markdown",
   "id": "1c373f5d",
   "metadata": {},
   "source": [
    "### Positive words r/ireland most recent 900 post titles:"
   ]
  },
  {
   "cell_type": "code",
   "execution_count": 31,
   "id": "8f074063",
   "metadata": {},
   "outputs": [
    {
     "data": {
      "image/png": "[encoded data removed]",
      "text/plain": [
       "<Figure size 432x288 with 1 Axes>"
      ]
     },
     "metadata": {
      "needs_background": "light"
     },
     "output_type": "display_data"
    },
    {
     "data": {
      "text/plain": [
       "<AxesSubplot:xlabel='Samples', ylabel='Counts'>"
      ]
     },
     "execution_count": 31,
     "metadata": {},
     "output_type": "execute_result"
    }
   ],
   "source": [
    "pos_freq_ireland.plot(20)"
   ]
  },
  {
   "cell_type": "markdown",
   "id": "016b81bc",
   "metadata": {},
   "source": [
    "### r/newzealand \"negative\" headlines"
   ]
  },
  {
   "cell_type": "code",
   "execution_count": 32,
   "id": "171f428b",
   "metadata": {},
   "outputs": [
    {
     "data": {
      "text/plain": [
       "[('nz', 20),\n",
       " ('auckland', 8),\n",
       " ('new zealand', 7),\n",
       " ('murder', 7),\n",
       " ('wrong', 6),\n",
       " ('police', 6),\n",
       " ('years', 6),\n",
       " ('bad', 5),\n",
       " ('k', 5),\n",
       " ('house', 5),\n",
       " ('work', 5),\n",
       " ('help', 5),\n",
       " ('anyone', 5),\n",
       " ('one', 5),\n",
       " ('us', 5),\n",
       " ('court', 5),\n",
       " ('advice', 5),\n",
       " ('new', 5),\n",
       " ('problem', 4),\n",
       " ('getting', 4)]"
      ]
     },
     "execution_count": 32,
     "metadata": {},
     "output_type": "execute_result"
    }
   ],
   "source": [
    "neg_lines_nz = list(df_nz[df_nz.label == -1].headline)\n",
    "\n",
    "neg_tokens_nz = process_text(neg_lines_nz)\n",
    "neg_freq_nz = nltk.FreqDist(neg_tokens_nz)\n",
    "\n",
    "neg_freq_nz.most_common(20)"
   ]
  },
  {
   "cell_type": "markdown",
   "id": "b3ba784a",
   "metadata": {},
   "source": [
    "### negative word frequency r/newzealand top 20 words"
   ]
  },
  {
   "cell_type": "code",
   "execution_count": 33,
   "id": "53a419bc",
   "metadata": {},
   "outputs": [
    {
     "data": {
      "image/png": "[encoded data removed]",
      "text/plain": [
       "<Figure size 432x288 with 1 Axes>"
      ]
     },
     "metadata": {
      "needs_background": "light"
     },
     "output_type": "display_data"
    },
    {
     "data": {
      "text/plain": [
       "<AxesSubplot:xlabel='Samples', ylabel='Counts'>"
      ]
     },
     "execution_count": 33,
     "metadata": {},
     "output_type": "execute_result"
    }
   ],
   "source": [
    "neg_freq_nz.plot(20)"
   ]
  },
  {
   "cell_type": "markdown",
   "id": "455165f0",
   "metadata": {},
   "source": [
    "### r/ireland - \"negative\" headlines "
   ]
  },
  {
   "cell_type": "code",
   "execution_count": 34,
   "id": "9da814a8",
   "metadata": {},
   "outputs": [
    {
     "data": {
      "text/plain": [
       "[('eviction', 19),\n",
       " ('ban', 17),\n",
       " ('irish', 14),\n",
       " ('ireland', 12),\n",
       " ('home', 8),\n",
       " ('anyone', 8),\n",
       " ('man', 8),\n",
       " ('one', 7),\n",
       " ('time', 6),\n",
       " ('need', 6),\n",
       " ('scam', 5),\n",
       " ('government', 5),\n",
       " ('got', 5),\n",
       " ('night', 5),\n",
       " ('year', 5),\n",
       " ('dublin', 5),\n",
       " ('people', 4),\n",
       " ('oscars', 4),\n",
       " ('last', 4),\n",
       " ('women', 4)]"
      ]
     },
     "execution_count": 34,
     "metadata": {},
     "output_type": "execute_result"
    }
   ],
   "source": [
    "neg_lines_ireland = list(df[df.label == -1].headline)\n",
    "\n",
    "neg_tokens_ireland = process_text(neg_lines_ireland)\n",
    "neg_freq_ireland = nltk.FreqDist(neg_tokens_ireland)\n",
    "\n",
    "neg_freq_ireland.most_common(20)"
   ]
  },
  {
   "cell_type": "code",
   "execution_count": 35,
   "id": "98c18054",
   "metadata": {},
   "outputs": [
    {
     "data": {
      "image/png": "[encoded data removed]",
      "text/plain": [
       "<Figure size 432x288 with 1 Axes>"
      ]
     },
     "metadata": {
      "needs_background": "light"
     },
     "output_type": "display_data"
    },
    {
     "data": {
      "text/plain": [
       "<AxesSubplot:xlabel='Samples', ylabel='Counts'>"
      ]
     },
     "execution_count": 35,
     "metadata": {},
     "output_type": "execute_result"
    }
   ],
   "source": [
    "neg_freq_ireland.plot(10)"
   ]
  },
  {
   "cell_type": "markdown",
   "id": "89dd54b6",
   "metadata": {},
   "source": [
    "### looking at bigrams and trigrams"
   ]
  },
  {
   "cell_type": "code",
   "execution_count": 100,
   "id": "55b6e8c7",
   "metadata": {},
   "outputs": [],
   "source": [
    "bigram_measures = BigramAssocMeasures()\n",
    "bigram_finder = BigramCollocationFinder.from_words(neg_tokens_ireland)\n",
    "bigrams = bigram_finder.nbest(bigram_measures.raw_freq, 10)"
   ]
  },
  {
   "cell_type": "code",
   "execution_count": 101,
   "id": "5bd0390b",
   "metadata": {},
   "outputs": [
    {
     "name": "stdout",
     "output_type": "stream",
     "text": [
      "Top 10 most common 2-grams: [('eviction', 'ban'), ('anyone', 'else'), ('eviction', 'notices'), ('unemployment', 'rate'), ('average', 'unemployment'), ('ban', 'extended'), ('ban', 'extension'), ('ban', 'lifted'), ('breakingnews', 'ie'), ('car', 'use')]\n"
     ]
    }
   ],
   "source": [
    "print(\"Top 10 most common 2-grams:\", bigrams)\n"
   ]
  },
  {
   "cell_type": "code",
   "execution_count": 102,
   "id": "e76b0e0d",
   "metadata": {},
   "outputs": [
    {
     "name": "stdout",
     "output_type": "stream",
     "text": [
      "Top 10 most common 3-grams: [('average', 'unemployment', 'rate'), ('ending', 'eviction', 'ban'), ('eviction', 'ban', 'extended'), ('eviction', 'ban', 'extension'), ('eviction', 'ban', 'lifted'), ('saturday', 'night', 'live'), ('abandon', 'plans', 'home'), ('abroad', 'something', 'self'), ('abuse', 'young', 'woman'), ('accent', 'showing', 'symptoms')]\n"
     ]
    }
   ],
   "source": [
    "trigram_measures = TrigramAssocMeasures()\n",
    "trigram_finder = TrigramCollocationFinder.from_words(neg_tokens_ireland)\n",
    "trigrams = trigram_finder.nbest(trigram_measures.raw_freq, 10)\n",
    "print(\"Top 10 most common 3-grams:\", trigrams)\n"
   ]
  },
  {
   "cell_type": "markdown",
   "id": "b8f22d9b",
   "metadata": {},
   "source": [
    "### Looking at top 900 post titles "
   ]
  },
  {
   "cell_type": "code",
   "execution_count": 36,
   "id": "6e412bcb",
   "metadata": {},
   "outputs": [],
   "source": [
    "headlines_ireland_top = set()\n",
    "headlines_newZealand_top = set()"
   ]
  },
  {
   "cell_type": "code",
   "execution_count": 37,
   "id": "7c5dcf12",
   "metadata": {},
   "outputs": [
    {
     "name": "stdout",
     "output_type": "stream",
     "text": [
      "900\n"
     ]
    }
   ],
   "source": [
    "for submission in reddit.subreddit('newzealand').top(limit=900):\n",
    "    headlines_newZealand_top.add(submission.title)\n",
    "    display.clear_output()\n",
    "    print(len(headlines_newZealand_top))"
   ]
  },
  {
   "cell_type": "code",
   "execution_count": 38,
   "id": "5b582c03",
   "metadata": {},
   "outputs": [
    {
     "name": "stdout",
     "output_type": "stream",
     "text": [
      "897\n"
     ]
    }
   ],
   "source": [
    "for submission in reddit.subreddit('ireland').top(limit=900):\n",
    "    headlines_ireland_top.add(submission.title)\n",
    "    display.clear_output()\n",
    "    print(len(headlines_ireland_top))"
   ]
  },
  {
   "cell_type": "markdown",
   "id": "e9b8a81c",
   "metadata": {},
   "source": [
    "### Sentiment intensity analysis r/ireland"
   ]
  },
  {
   "cell_type": "code",
   "execution_count": 39,
   "id": "222bbde3",
   "metadata": {},
   "outputs": [
    {
     "name": "stdout",
     "output_type": "stream",
     "text": [
      "[{'compound': 0.3612, 'headline': 'Lads be like', 'neg': 0.0, 'neu': 0.444, 'pos': 0.556},\n",
      " {'compound': -0.5719,\n",
      "  'headline': 'I hate how often this happens',\n",
      "  'neg': 0.481,\n",
      "  'neu': 0.519,\n",
      "  'pos': 0.0},\n",
      " {'compound': -0.7845,\n",
      "  'headline': 'This day 25 years ago – 15 February 1995 – a riot broke out in Lansdowne Road '\n",
      "              'during a football match between Ireland and England, causing it to be cancelled. It '\n",
      "              'was orchestrated by Combat 18, a neo-Nazi group that had infiltrated the English '\n",
      "              'supporters.',\n",
      "  'neg': 0.222,\n",
      "  'neu': 0.719,\n",
      "  'pos': 0.06}]\n"
     ]
    }
   ],
   "source": [
    "results_ireland_top =  sia_function(headlines_ireland_top)\n",
    "pprint(results_ireland_top[:3], width=100)\n"
   ]
  },
  {
   "cell_type": "markdown",
   "id": "19695aec",
   "metadata": {},
   "source": [
    "### Sentiment intensity analysis r/newzealand"
   ]
  },
  {
   "cell_type": "code",
   "execution_count": 40,
   "id": "17f2041d",
   "metadata": {},
   "outputs": [
    {
     "name": "stdout",
     "output_type": "stream",
     "text": [
      "[{'compound': -0.5562,\n",
      "  'headline': \"Let's try a policy that's failed before!\",\n",
      "  'neg': 0.418,\n",
      "  'neu': 0.582,\n",
      "  'pos': 0.0},\n",
      " {'compound': 0.0, 'headline': 'NZ Police coming in hot', 'neg': 0.0, 'neu': 1.0, 'pos': 0.0},\n",
      " {'compound': 0.0,\n",
      "  'headline': 'Population density in New Zealand [map]',\n",
      "  'neg': 0.0,\n",
      "  'neu': 1.0,\n",
      "  'pos': 0.0}]\n"
     ]
    }
   ],
   "source": [
    "results_newzealand_top =  sia_function(headlines_newZealand_top)\n",
    "pprint(results_newzealand_top[:3], width=100)\n"
   ]
  },
  {
   "cell_type": "code",
   "execution_count": 41,
   "id": "cee22016",
   "metadata": {},
   "outputs": [],
   "source": [
    "df_top_ireland = pd.DataFrame.from_records(results_ireland_top)\n",
    "df_top_nz = pd.DataFrame.from_records(results_newzealand_top)\n"
   ]
  },
  {
   "cell_type": "code",
   "execution_count": 42,
   "id": "fd1a39a0",
   "metadata": {},
   "outputs": [
    {
     "data": {
      "text/html": [
       "<div>\n",
       "<style scoped>\n",
       "    .dataframe tbody tr th:only-of-type {\n",
       "        vertical-align: middle;\n",
       "    }\n",
       "\n",
       "    .dataframe tbody tr th {\n",
       "        vertical-align: top;\n",
       "    }\n",
       "\n",
       "    .dataframe thead th {\n",
       "        text-align: right;\n",
       "    }\n",
       "</style>\n",
       "<table border=\"1\" class=\"dataframe\">\n",
       "  <thead>\n",
       "    <tr style=\"text-align: right;\">\n",
       "      <th></th>\n",
       "      <th>neg</th>\n",
       "      <th>neu</th>\n",
       "      <th>pos</th>\n",
       "      <th>compound</th>\n",
       "      <th>headline</th>\n",
       "      <th>label</th>\n",
       "    </tr>\n",
       "  </thead>\n",
       "  <tbody>\n",
       "    <tr>\n",
       "      <th>0</th>\n",
       "      <td>0.000</td>\n",
       "      <td>0.444</td>\n",
       "      <td>0.556</td>\n",
       "      <td>0.3612</td>\n",
       "      <td>Lads be like</td>\n",
       "      <td>1</td>\n",
       "    </tr>\n",
       "    <tr>\n",
       "      <th>1</th>\n",
       "      <td>0.481</td>\n",
       "      <td>0.519</td>\n",
       "      <td>0.000</td>\n",
       "      <td>-0.5719</td>\n",
       "      <td>I hate how often this happens</td>\n",
       "      <td>-1</td>\n",
       "    </tr>\n",
       "    <tr>\n",
       "      <th>2</th>\n",
       "      <td>0.222</td>\n",
       "      <td>0.719</td>\n",
       "      <td>0.060</td>\n",
       "      <td>-0.7845</td>\n",
       "      <td>This day 25 years ago – 15 February 1995 – a r...</td>\n",
       "      <td>-1</td>\n",
       "    </tr>\n",
       "    <tr>\n",
       "      <th>3</th>\n",
       "      <td>0.000</td>\n",
       "      <td>1.000</td>\n",
       "      <td>0.000</td>\n",
       "      <td>0.0000</td>\n",
       "      <td>Second lock down paintings day 1</td>\n",
       "      <td>0</td>\n",
       "    </tr>\n",
       "    <tr>\n",
       "      <th>4</th>\n",
       "      <td>0.000</td>\n",
       "      <td>0.615</td>\n",
       "      <td>0.385</td>\n",
       "      <td>0.3612</td>\n",
       "      <td>Commuting in Dublin be like</td>\n",
       "      <td>1</td>\n",
       "    </tr>\n",
       "    <tr>\n",
       "      <th>...</th>\n",
       "      <td>...</td>\n",
       "      <td>...</td>\n",
       "      <td>...</td>\n",
       "      <td>...</td>\n",
       "      <td>...</td>\n",
       "      <td>...</td>\n",
       "    </tr>\n",
       "    <tr>\n",
       "      <th>892</th>\n",
       "      <td>0.000</td>\n",
       "      <td>0.706</td>\n",
       "      <td>0.294</td>\n",
       "      <td>0.1695</td>\n",
       "      <td>We are not obsessive drinkers</td>\n",
       "      <td>0</td>\n",
       "    </tr>\n",
       "    <tr>\n",
       "      <th>893</th>\n",
       "      <td>0.000</td>\n",
       "      <td>0.900</td>\n",
       "      <td>0.100</td>\n",
       "      <td>0.2500</td>\n",
       "      <td>Richard Bruton: I am proposing to remove the r...</td>\n",
       "      <td>1</td>\n",
       "    </tr>\n",
       "    <tr>\n",
       "      <th>894</th>\n",
       "      <td>0.000</td>\n",
       "      <td>1.000</td>\n",
       "      <td>0.000</td>\n",
       "      <td>0.0000</td>\n",
       "      <td>says the person posting this 😂</td>\n",
       "      <td>0</td>\n",
       "    </tr>\n",
       "    <tr>\n",
       "      <th>895</th>\n",
       "      <td>0.000</td>\n",
       "      <td>0.738</td>\n",
       "      <td>0.262</td>\n",
       "      <td>0.4939</td>\n",
       "      <td>Spotted in Dublin: A graffiti/mural in honor o...</td>\n",
       "      <td>1</td>\n",
       "    </tr>\n",
       "    <tr>\n",
       "      <th>896</th>\n",
       "      <td>0.000</td>\n",
       "      <td>1.000</td>\n",
       "      <td>0.000</td>\n",
       "      <td>0.0000</td>\n",
       "      <td>*eyes narrowing*</td>\n",
       "      <td>0</td>\n",
       "    </tr>\n",
       "  </tbody>\n",
       "</table>\n",
       "<p>897 rows × 6 columns</p>\n",
       "</div>"
      ],
      "text/plain": [
       "       neg    neu    pos  compound  \\\n",
       "0    0.000  0.444  0.556    0.3612   \n",
       "1    0.481  0.519  0.000   -0.5719   \n",
       "2    0.222  0.719  0.060   -0.7845   \n",
       "3    0.000  1.000  0.000    0.0000   \n",
       "4    0.000  0.615  0.385    0.3612   \n",
       "..     ...    ...    ...       ...   \n",
       "892  0.000  0.706  0.294    0.1695   \n",
       "893  0.000  0.900  0.100    0.2500   \n",
       "894  0.000  1.000  0.000    0.0000   \n",
       "895  0.000  0.738  0.262    0.4939   \n",
       "896  0.000  1.000  0.000    0.0000   \n",
       "\n",
       "                                              headline  label  \n",
       "0                                         Lads be like      1  \n",
       "1                        I hate how often this happens     -1  \n",
       "2    This day 25 years ago – 15 February 1995 – a r...     -1  \n",
       "3                     Second lock down paintings day 1      0  \n",
       "4                          Commuting in Dublin be like      1  \n",
       "..                                                 ...    ...  \n",
       "892                      We are not obsessive drinkers      0  \n",
       "893  Richard Bruton: I am proposing to remove the r...      1  \n",
       "894                     says the person posting this 😂      0  \n",
       "895  Spotted in Dublin: A graffiti/mural in honor o...      1  \n",
       "896                                   *eyes narrowing*      0  \n",
       "\n",
       "[897 rows x 6 columns]"
      ]
     },
     "execution_count": 42,
     "metadata": {},
     "output_type": "execute_result"
    }
   ],
   "source": [
    "define_positive(df_top_ireland)"
   ]
  },
  {
   "cell_type": "code",
   "execution_count": 43,
   "id": "79d7d94e",
   "metadata": {},
   "outputs": [
    {
     "data": {
      "text/html": [
       "<div>\n",
       "<style scoped>\n",
       "    .dataframe tbody tr th:only-of-type {\n",
       "        vertical-align: middle;\n",
       "    }\n",
       "\n",
       "    .dataframe tbody tr th {\n",
       "        vertical-align: top;\n",
       "    }\n",
       "\n",
       "    .dataframe thead th {\n",
       "        text-align: right;\n",
       "    }\n",
       "</style>\n",
       "<table border=\"1\" class=\"dataframe\">\n",
       "  <thead>\n",
       "    <tr style=\"text-align: right;\">\n",
       "      <th></th>\n",
       "      <th>neg</th>\n",
       "      <th>neu</th>\n",
       "      <th>pos</th>\n",
       "      <th>compound</th>\n",
       "      <th>headline</th>\n",
       "      <th>label</th>\n",
       "    </tr>\n",
       "  </thead>\n",
       "  <tbody>\n",
       "    <tr>\n",
       "      <th>0</th>\n",
       "      <td>0.418</td>\n",
       "      <td>0.582</td>\n",
       "      <td>0.000</td>\n",
       "      <td>-0.5562</td>\n",
       "      <td>Let's try a policy that's failed before!</td>\n",
       "      <td>-1</td>\n",
       "    </tr>\n",
       "    <tr>\n",
       "      <th>1</th>\n",
       "      <td>0.000</td>\n",
       "      <td>1.000</td>\n",
       "      <td>0.000</td>\n",
       "      <td>0.0000</td>\n",
       "      <td>NZ Police coming in hot</td>\n",
       "      <td>0</td>\n",
       "    </tr>\n",
       "    <tr>\n",
       "      <th>2</th>\n",
       "      <td>0.000</td>\n",
       "      <td>1.000</td>\n",
       "      <td>0.000</td>\n",
       "      <td>0.0000</td>\n",
       "      <td>Population density in New Zealand [map]</td>\n",
       "      <td>0</td>\n",
       "    </tr>\n",
       "    <tr>\n",
       "      <th>3</th>\n",
       "      <td>0.252</td>\n",
       "      <td>0.748</td>\n",
       "      <td>0.000</td>\n",
       "      <td>-0.4019</td>\n",
       "      <td>Anti-vaccine billboard which received 140 comp...</td>\n",
       "      <td>-1</td>\n",
       "    </tr>\n",
       "    <tr>\n",
       "      <th>4</th>\n",
       "      <td>0.241</td>\n",
       "      <td>0.000</td>\n",
       "      <td>0.759</td>\n",
       "      <td>0.4588</td>\n",
       "      <td>Yeah Nah Yeah</td>\n",
       "      <td>1</td>\n",
       "    </tr>\n",
       "    <tr>\n",
       "      <th>...</th>\n",
       "      <td>...</td>\n",
       "      <td>...</td>\n",
       "      <td>...</td>\n",
       "      <td>...</td>\n",
       "      <td>...</td>\n",
       "      <td>...</td>\n",
       "    </tr>\n",
       "    <tr>\n",
       "      <th>895</th>\n",
       "      <td>0.327</td>\n",
       "      <td>0.673</td>\n",
       "      <td>0.000</td>\n",
       "      <td>-0.5267</td>\n",
       "      <td>Seeking revenge against all the maps without NZ</td>\n",
       "      <td>-1</td>\n",
       "    </tr>\n",
       "    <tr>\n",
       "      <th>896</th>\n",
       "      <td>0.000</td>\n",
       "      <td>0.697</td>\n",
       "      <td>0.303</td>\n",
       "      <td>0.5399</td>\n",
       "      <td>It's Here! Good and Naughty Penguin of the Month!</td>\n",
       "      <td>1</td>\n",
       "    </tr>\n",
       "    <tr>\n",
       "      <th>897</th>\n",
       "      <td>0.000</td>\n",
       "      <td>1.000</td>\n",
       "      <td>0.000</td>\n",
       "      <td>0.0000</td>\n",
       "      <td>Māori Battalion performing Haka in Egypt, 1941</td>\n",
       "      <td>0</td>\n",
       "    </tr>\n",
       "    <tr>\n",
       "      <th>898</th>\n",
       "      <td>0.000</td>\n",
       "      <td>1.000</td>\n",
       "      <td>0.000</td>\n",
       "      <td>0.0000</td>\n",
       "      <td>Lego Kakapo I recently finished</td>\n",
       "      <td>0</td>\n",
       "    </tr>\n",
       "    <tr>\n",
       "      <th>899</th>\n",
       "      <td>0.000</td>\n",
       "      <td>1.000</td>\n",
       "      <td>0.000</td>\n",
       "      <td>0.0000</td>\n",
       "      <td>Did a double take when I saw this book and tho...</td>\n",
       "      <td>0</td>\n",
       "    </tr>\n",
       "  </tbody>\n",
       "</table>\n",
       "<p>900 rows × 6 columns</p>\n",
       "</div>"
      ],
      "text/plain": [
       "       neg    neu    pos  compound  \\\n",
       "0    0.418  0.582  0.000   -0.5562   \n",
       "1    0.000  1.000  0.000    0.0000   \n",
       "2    0.000  1.000  0.000    0.0000   \n",
       "3    0.252  0.748  0.000   -0.4019   \n",
       "4    0.241  0.000  0.759    0.4588   \n",
       "..     ...    ...    ...       ...   \n",
       "895  0.327  0.673  0.000   -0.5267   \n",
       "896  0.000  0.697  0.303    0.5399   \n",
       "897  0.000  1.000  0.000    0.0000   \n",
       "898  0.000  1.000  0.000    0.0000   \n",
       "899  0.000  1.000  0.000    0.0000   \n",
       "\n",
       "                                              headline  label  \n",
       "0             Let's try a policy that's failed before!     -1  \n",
       "1                              NZ Police coming in hot      0  \n",
       "2              Population density in New Zealand [map]      0  \n",
       "3    Anti-vaccine billboard which received 140 comp...     -1  \n",
       "4                                        Yeah Nah Yeah      1  \n",
       "..                                                 ...    ...  \n",
       "895    Seeking revenge against all the maps without NZ     -1  \n",
       "896  It's Here! Good and Naughty Penguin of the Month!      1  \n",
       "897     Māori Battalion performing Haka in Egypt, 1941      0  \n",
       "898                    Lego Kakapo I recently finished      0  \n",
       "899  Did a double take when I saw this book and tho...      0  \n",
       "\n",
       "[900 rows x 6 columns]"
      ]
     },
     "execution_count": 43,
     "metadata": {},
     "output_type": "execute_result"
    }
   ],
   "source": [
    "define_positive(df_top_nz)"
   ]
  },
  {
   "cell_type": "code",
   "execution_count": 44,
   "id": "9f0122bd",
   "metadata": {},
   "outputs": [
    {
     "name": "stdout",
     "output_type": "stream",
     "text": [
      "Positive headlines r/ireland:\n",
      "\n",
      "['Lads be like', 'Commuting in Dublin be like', \"A cat with the strongest Cork accent is the best thing you'll see on the internet today. #CorkCat\", 'Very True', 'How’s it different like?']\n",
      "\n",
      "Negative headlines r/ireland:\n",
      "\n",
      "['I hate how often this happens',\n",
      " 'This day 25 years ago – 15 February 1995 – a riot broke out in Lansdowne Road during a football match between Ireland and England, causing it to be cancelled. It was orchestrated by Combat 18, a '\n",
      " 'neo-Nazi group that had infiltrated the English supporters.',\n",
      " 'To celebrate St. Patrick’s Day I decided to take my Miggle D. plushie on a monumental tour of as many of Dublin’s pubs/bars as possible. I initially set a target of 80 but he was a thirsty lil '\n",
      " 'bastard so after 9 hours of cycling we managed to visit a whopping 214 locations!',\n",
      " 'Lads they’ve fucked it.',\n",
      " 'Goddamn it']\n"
     ]
    }
   ],
   "source": [
    "print(\"Positive headlines r/ireland:\\n\")\n",
    "pprint(list(df_top_ireland[df_top_ireland['label'] == 1].headline)[:5], width=200)\n",
    "\n",
    "print(\"\\nNegative headlines r/ireland:\\n\")\n",
    "pprint(list(df_top_ireland[df_top_ireland['label'] == -1].headline)[:5], width=200)"
   ]
  },
  {
   "cell_type": "code",
   "execution_count": 45,
   "id": "d442d3c0",
   "metadata": {},
   "outputs": [
    {
     "name": "stdout",
     "output_type": "stream",
     "text": [
      "Positive headlines r/newzealand:\n",
      "\n",
      "['Yeah Nah Yeah',\n",
      " 'Drew this on a box bound for NZ, hoping it gets a chuckle on its journey.',\n",
      " 'Election 2020: Chlöe Swarbrick wins Auckland Central',\n",
      " 'So grateful for home grown fruit right now',\n",
      " 'Just thought I would share here']\n",
      "\n",
      "Negative headlines r/newzealand:\n",
      "\n",
      "[\"Let's try a policy that's failed before!\",\n",
      " 'Anti-vaccine billboard which received 140 complaints to be pulled',\n",
      " 'Crushing it',\n",
      " \"Fake drinks from a video game I'm making, thought reddit might get a kick out of them\",\n",
      " 'Seriously Massey? This is grossly anti-science, irresponsible, and just embarrassing.']\n"
     ]
    }
   ],
   "source": [
    "print(\"Positive headlines r/newzealand:\\n\")\n",
    "pprint(list(df_top_nz[df_top_nz['label'] == 1].headline)[:5], width=200)\n",
    "\n",
    "print(\"\\nNegative headlines r/newzealand:\\n\")\n",
    "pprint(list(df_top_nz[df_top_nz['label'] == -1].headline)[:5], width=200)"
   ]
  },
  {
   "cell_type": "markdown",
   "id": "c182f196",
   "metadata": {},
   "source": [
    "### looking at value counts"
   ]
  },
  {
   "cell_type": "code",
   "execution_count": 46,
   "id": "1ef9e387",
   "metadata": {},
   "outputs": [
    {
     "name": "stdout",
     "output_type": "stream",
     "text": [
      " 0    482\n",
      " 1    265\n",
      "-1    150\n",
      "Name: label, dtype: int64\n",
      " 0    53.734671\n",
      " 1    29.542921\n",
      "-1    16.722408\n",
      "Name: label, dtype: float64\n"
     ]
    }
   ],
   "source": [
    "print(df_top_ireland.label.value_counts())\n",
    "print(df_top_ireland.label.value_counts(normalize=True) * 100)"
   ]
  },
  {
   "cell_type": "code",
   "execution_count": 47,
   "id": "5bb2684e",
   "metadata": {},
   "outputs": [
    {
     "name": "stdout",
     "output_type": "stream",
     "text": [
      " 0    461\n",
      " 1    282\n",
      "-1    157\n",
      "Name: label, dtype: int64\n",
      " 0    51.222222\n",
      " 1    31.333333\n",
      "-1    17.444444\n",
      "Name: label, dtype: float64\n"
     ]
    }
   ],
   "source": [
    "print(df_top_nz.label.value_counts())\n",
    "print(df_top_nz.label.value_counts(normalize=True) * 100)"
   ]
  },
  {
   "cell_type": "code",
   "execution_count": 48,
   "id": "1a1990e6",
   "metadata": {},
   "outputs": [],
   "source": [
    "counts_ireland_top = df_top_ireland.label.value_counts(normalize=True) * 100\n",
    "counts_nz_top = df_top_nz.label.value_counts(normalize=True) * 100\n"
   ]
  },
  {
   "cell_type": "code",
   "execution_count": 49,
   "id": "1a54663d",
   "metadata": {},
   "outputs": [
    {
     "data": {
      "image/png": "[encoded data removed]",
      "text/plain": [
       "<Figure size 720x360 with 1 Axes>"
      ]
     },
     "metadata": {
      "needs_background": "light"
     },
     "output_type": "display_data"
    }
   ],
   "source": [
    "N = 3\n",
    "\n",
    "blue_bar = (counts_ireland_top)\n",
    "orange_bar = (counts_nz_top)\n",
    "\n",
    "# Position of bars on x-axis\n",
    "ind = np.arange(N)\n",
    "# Figure size\n",
    "plt.figure(figsize=(10,5))\n",
    "\n",
    "# Width of a bar \n",
    "width = 0.3       \n",
    "\n",
    "# Plotting\n",
    "plt.bar(ind, blue_bar , width, label='Ireland')\n",
    "plt.bar(ind + width, orange_bar, width, label='newzealand')\n",
    "\n",
    "plt.ylabel('Percentage')\n",
    "plt.title('Comparing r/ireland and r/newzealand top 900 post titles')\n",
    "\n",
    "plt.xticks(ind + width / 2, ('Neutral', 'Negative', 'Positve'))\n",
    "\n",
    "# Finding the best position for legends and putting it\n",
    "plt.legend(loc='best')\n",
    "plt.show()"
   ]
  },
  {
   "cell_type": "code",
   "execution_count": 50,
   "id": "37d6f167",
   "metadata": {},
   "outputs": [
    {
     "data": {
      "text/html": [
       "<div>\n",
       "<style scoped>\n",
       "    .dataframe tbody tr th:only-of-type {\n",
       "        vertical-align: middle;\n",
       "    }\n",
       "\n",
       "    .dataframe tbody tr th {\n",
       "        vertical-align: top;\n",
       "    }\n",
       "\n",
       "    .dataframe thead th {\n",
       "        text-align: right;\n",
       "    }\n",
       "</style>\n",
       "<table border=\"1\" class=\"dataframe\">\n",
       "  <thead>\n",
       "    <tr style=\"text-align: right;\">\n",
       "      <th></th>\n",
       "      <th>neg</th>\n",
       "      <th>neu</th>\n",
       "      <th>pos</th>\n",
       "      <th>compound</th>\n",
       "      <th>label</th>\n",
       "    </tr>\n",
       "  </thead>\n",
       "  <tbody>\n",
       "    <tr>\n",
       "      <th>count</th>\n",
       "      <td>897.000000</td>\n",
       "      <td>897.000000</td>\n",
       "      <td>897.000000</td>\n",
       "      <td>897.000000</td>\n",
       "      <td>897.000000</td>\n",
       "    </tr>\n",
       "    <tr>\n",
       "      <th>mean</th>\n",
       "      <td>0.063901</td>\n",
       "      <td>0.807204</td>\n",
       "      <td>0.128892</td>\n",
       "      <td>0.064415</td>\n",
       "      <td>0.128205</td>\n",
       "    </tr>\n",
       "    <tr>\n",
       "      <th>std</th>\n",
       "      <td>0.137511</td>\n",
       "      <td>0.239661</td>\n",
       "      <td>0.219157</td>\n",
       "      <td>0.370326</td>\n",
       "      <td>0.668367</td>\n",
       "    </tr>\n",
       "    <tr>\n",
       "      <th>min</th>\n",
       "      <td>0.000000</td>\n",
       "      <td>0.000000</td>\n",
       "      <td>0.000000</td>\n",
       "      <td>-0.926600</td>\n",
       "      <td>-1.000000</td>\n",
       "    </tr>\n",
       "    <tr>\n",
       "      <th>25%</th>\n",
       "      <td>0.000000</td>\n",
       "      <td>0.665000</td>\n",
       "      <td>0.000000</td>\n",
       "      <td>0.000000</td>\n",
       "      <td>0.000000</td>\n",
       "    </tr>\n",
       "    <tr>\n",
       "      <th>50%</th>\n",
       "      <td>0.000000</td>\n",
       "      <td>0.913000</td>\n",
       "      <td>0.000000</td>\n",
       "      <td>0.000000</td>\n",
       "      <td>0.000000</td>\n",
       "    </tr>\n",
       "    <tr>\n",
       "      <th>75%</th>\n",
       "      <td>0.027000</td>\n",
       "      <td>1.000000</td>\n",
       "      <td>0.198000</td>\n",
       "      <td>0.359500</td>\n",
       "      <td>1.000000</td>\n",
       "    </tr>\n",
       "    <tr>\n",
       "      <th>max</th>\n",
       "      <td>0.783000</td>\n",
       "      <td>1.000000</td>\n",
       "      <td>1.000000</td>\n",
       "      <td>0.976900</td>\n",
       "      <td>1.000000</td>\n",
       "    </tr>\n",
       "  </tbody>\n",
       "</table>\n",
       "</div>"
      ],
      "text/plain": [
       "              neg         neu         pos    compound       label\n",
       "count  897.000000  897.000000  897.000000  897.000000  897.000000\n",
       "mean     0.063901    0.807204    0.128892    0.064415    0.128205\n",
       "std      0.137511    0.239661    0.219157    0.370326    0.668367\n",
       "min      0.000000    0.000000    0.000000   -0.926600   -1.000000\n",
       "25%      0.000000    0.665000    0.000000    0.000000    0.000000\n",
       "50%      0.000000    0.913000    0.000000    0.000000    0.000000\n",
       "75%      0.027000    1.000000    0.198000    0.359500    1.000000\n",
       "max      0.783000    1.000000    1.000000    0.976900    1.000000"
      ]
     },
     "execution_count": 50,
     "metadata": {},
     "output_type": "execute_result"
    }
   ],
   "source": [
    "df_top_ireland.describe()"
   ]
  },
  {
   "cell_type": "code",
   "execution_count": 51,
   "id": "5b61f512",
   "metadata": {},
   "outputs": [
    {
     "data": {
      "text/html": [
       "<div>\n",
       "<style scoped>\n",
       "    .dataframe tbody tr th:only-of-type {\n",
       "        vertical-align: middle;\n",
       "    }\n",
       "\n",
       "    .dataframe tbody tr th {\n",
       "        vertical-align: top;\n",
       "    }\n",
       "\n",
       "    .dataframe thead th {\n",
       "        text-align: right;\n",
       "    }\n",
       "</style>\n",
       "<table border=\"1\" class=\"dataframe\">\n",
       "  <thead>\n",
       "    <tr style=\"text-align: right;\">\n",
       "      <th></th>\n",
       "      <th>neg</th>\n",
       "      <th>neu</th>\n",
       "      <th>pos</th>\n",
       "      <th>compound</th>\n",
       "      <th>label</th>\n",
       "    </tr>\n",
       "  </thead>\n",
       "  <tbody>\n",
       "    <tr>\n",
       "      <th>count</th>\n",
       "      <td>900.000000</td>\n",
       "      <td>900.000000</td>\n",
       "      <td>900.000000</td>\n",
       "      <td>900.000000</td>\n",
       "      <td>900.000000</td>\n",
       "    </tr>\n",
       "    <tr>\n",
       "      <th>mean</th>\n",
       "      <td>0.069777</td>\n",
       "      <td>0.810051</td>\n",
       "      <td>0.119064</td>\n",
       "      <td>0.075785</td>\n",
       "      <td>0.138889</td>\n",
       "    </tr>\n",
       "    <tr>\n",
       "      <th>std</th>\n",
       "      <td>0.144751</td>\n",
       "      <td>0.216119</td>\n",
       "      <td>0.181239</td>\n",
       "      <td>0.364761</td>\n",
       "      <td>0.684842</td>\n",
       "    </tr>\n",
       "    <tr>\n",
       "      <th>min</th>\n",
       "      <td>0.000000</td>\n",
       "      <td>0.000000</td>\n",
       "      <td>0.000000</td>\n",
       "      <td>-0.923100</td>\n",
       "      <td>-1.000000</td>\n",
       "    </tr>\n",
       "    <tr>\n",
       "      <th>25%</th>\n",
       "      <td>0.000000</td>\n",
       "      <td>0.667000</td>\n",
       "      <td>0.000000</td>\n",
       "      <td>0.000000</td>\n",
       "      <td>0.000000</td>\n",
       "    </tr>\n",
       "    <tr>\n",
       "      <th>50%</th>\n",
       "      <td>0.000000</td>\n",
       "      <td>0.852000</td>\n",
       "      <td>0.000000</td>\n",
       "      <td>0.000000</td>\n",
       "      <td>0.000000</td>\n",
       "    </tr>\n",
       "    <tr>\n",
       "      <th>75%</th>\n",
       "      <td>0.079250</td>\n",
       "      <td>1.000000</td>\n",
       "      <td>0.216500</td>\n",
       "      <td>0.361200</td>\n",
       "      <td>1.000000</td>\n",
       "    </tr>\n",
       "    <tr>\n",
       "      <th>max</th>\n",
       "      <td>1.000000</td>\n",
       "      <td>1.000000</td>\n",
       "      <td>1.000000</td>\n",
       "      <td>0.973800</td>\n",
       "      <td>1.000000</td>\n",
       "    </tr>\n",
       "  </tbody>\n",
       "</table>\n",
       "</div>"
      ],
      "text/plain": [
       "              neg         neu         pos    compound       label\n",
       "count  900.000000  900.000000  900.000000  900.000000  900.000000\n",
       "mean     0.069777    0.810051    0.119064    0.075785    0.138889\n",
       "std      0.144751    0.216119    0.181239    0.364761    0.684842\n",
       "min      0.000000    0.000000    0.000000   -0.923100   -1.000000\n",
       "25%      0.000000    0.667000    0.000000    0.000000    0.000000\n",
       "50%      0.000000    0.852000    0.000000    0.000000    0.000000\n",
       "75%      0.079250    1.000000    0.216500    0.361200    1.000000\n",
       "max      1.000000    1.000000    1.000000    0.973800    1.000000"
      ]
     },
     "execution_count": 51,
     "metadata": {},
     "output_type": "execute_result"
    }
   ],
   "source": [
    "df_top_nz.describe()"
   ]
  },
  {
   "cell_type": "markdown",
   "id": "9761b211",
   "metadata": {},
   "source": [
    "### visualising compound scores "
   ]
  },
  {
   "cell_type": "code",
   "execution_count": 52,
   "id": "f1c4daf3",
   "metadata": {},
   "outputs": [
    {
     "data": {
      "image/png": "[encoded data removed]",
      "text/plain": [
       "<Figure size 432x288 with 1 Axes>"
      ]
     },
     "metadata": {
      "needs_background": "light"
     },
     "output_type": "display_data"
    }
   ],
   "source": [
    "plt.hist(df_top_ireland[\"compound\"], bins=10)\n",
    "\n",
    "plt.title('histogram of r/ireland top titles compound scores')\n",
    "plt.xlabel('compound score')\n",
    "plt.ylabel('amount of comments')\n",
    "\n",
    "plt.show()"
   ]
  },
  {
   "cell_type": "code",
   "execution_count": 53,
   "id": "ef2676e2",
   "metadata": {},
   "outputs": [
    {
     "data": {
      "image/png": "[encoded data removed]",
      "text/plain": [
       "<Figure size 432x288 with 1 Axes>"
      ]
     },
     "metadata": {
      "needs_background": "light"
     },
     "output_type": "display_data"
    }
   ],
   "source": [
    "plt.hist(df_top_nz[\"compound\"], bins=10)\n",
    "\n",
    "plt.title('histogram of r/newzealand top titles compound scores')\n",
    "plt.xlabel('compound score')\n",
    "plt.ylabel('amount of comments')\n",
    "\n",
    "plt.show()"
   ]
  },
  {
   "cell_type": "markdown",
   "id": "fa91596a",
   "metadata": {},
   "source": [
    "### box plots "
   ]
  },
  {
   "cell_type": "code",
   "execution_count": 54,
   "id": "8bc3caaf",
   "metadata": {},
   "outputs": [
    {
     "data": {
      "image/png": "[encoded data removed]",
      "text/plain": [
       "<Figure size 432x288 with 1 Axes>"
      ]
     },
     "metadata": {
      "needs_background": "light"
     },
     "output_type": "display_data"
    }
   ],
   "source": [
    "plt.boxplot(df_top_ireland[\"compound\"])\n",
    "\n",
    "plt.title('boxplot of r/ireland top titles compound scores')\n",
    "plt.xlabel('compound score')\n",
    "plt.ylabel('amount of comments')\n",
    "\n",
    "plt.show()"
   ]
  },
  {
   "cell_type": "code",
   "execution_count": 55,
   "id": "332f6c4d",
   "metadata": {},
   "outputs": [
    {
     "data": {
      "image/png": "[encoded data removed]",
      "text/plain": [
       "<Figure size 432x288 with 1 Axes>"
      ]
     },
     "metadata": {
      "needs_background": "light"
     },
     "output_type": "display_data"
    }
   ],
   "source": [
    "plt.boxplot(df_top_nz[\"compound\"])\n",
    "\n",
    "plt.title('boxplot of r/newzealand top titles compound scores')\n",
    "plt.xlabel('compound score')\n",
    "plt.ylabel('amount of comments')\n",
    "\n",
    "plt.show()"
   ]
  },
  {
   "cell_type": "markdown",
   "id": "aada6e90",
   "metadata": {},
   "source": [
    "### Looking at top 900 titles counts in more detail. "
   ]
  },
  {
   "cell_type": "code",
   "execution_count": 56,
   "id": "f9a922ee",
   "metadata": {},
   "outputs": [
    {
     "data": {
      "text/plain": [
       "[('ireland', 43),\n",
       " ('irish', 30),\n",
       " ('like', 23),\n",
       " ('lads', 18),\n",
       " ('great', 17),\n",
       " ('years', 12),\n",
       " ('day', 12),\n",
       " ('dublin', 11),\n",
       " ('today', 11),\n",
       " ('one', 11),\n",
       " ('true', 9),\n",
       " ('good', 9),\n",
       " ('year', 9),\n",
       " ('happy', 9),\n",
       " ('think', 8),\n",
       " ('sure', 8),\n",
       " ('time', 8),\n",
       " ('best', 7),\n",
       " ('better', 7),\n",
       " ('last', 7)]"
      ]
     },
     "execution_count": 56,
     "metadata": {},
     "output_type": "execute_result"
    }
   ],
   "source": [
    "pos_lines_ireland = list(df_top_ireland[df_top_ireland.label == 1].headline)\n",
    "\n",
    "pos_tokens_ireland = process_text(pos_lines_ireland)\n",
    "pos_freq_ireland = nltk.FreqDist(pos_tokens_ireland)\n",
    "\n",
    "pos_freq_ireland.most_common(20)"
   ]
  },
  {
   "cell_type": "code",
   "execution_count": 57,
   "id": "7b3db54f",
   "metadata": {},
   "outputs": [
    {
     "name": "stdout",
     "output_type": "stream",
     "text": [
      "frequency plot top positive words from top 900 post title r/ireland\n"
     ]
    },
    {
     "data": {
      "image/png": "[encoded data removed]",
      "text/plain": [
       "<Figure size 432x288 with 1 Axes>"
      ]
     },
     "metadata": {
      "needs_background": "light"
     },
     "output_type": "display_data"
    },
    {
     "data": {
      "text/plain": [
       "<AxesSubplot:xlabel='Samples', ylabel='Counts'>"
      ]
     },
     "execution_count": 57,
     "metadata": {},
     "output_type": "execute_result"
    }
   ],
   "source": [
    "print(\"frequency plot top positive words from top 900 post title r/ireland\")\n",
    "pos_freq_ireland.plot(20)\n"
   ]
  },
  {
   "cell_type": "code",
   "execution_count": 58,
   "id": "1e6d97ac",
   "metadata": {},
   "outputs": [
    {
     "data": {
      "text/plain": [
       "[('new zealand', 35),\n",
       " ('nz', 34),\n",
       " ('like', 29),\n",
       " ('good', 18),\n",
       " ('us', 13),\n",
       " ('new', 12),\n",
       " ('today', 11),\n",
       " ('love', 11),\n",
       " ('country', 11),\n",
       " ('made', 10),\n",
       " ('proud', 10),\n",
       " ('please', 9),\n",
       " ('people', 9),\n",
       " ('thank', 8),\n",
       " ('kiwi', 8),\n",
       " ('free', 8),\n",
       " ('day', 8),\n",
       " ('best', 8),\n",
       " ('time', 8),\n",
       " ('party', 8)]"
      ]
     },
     "execution_count": 58,
     "metadata": {},
     "output_type": "execute_result"
    }
   ],
   "source": [
    "pos_lines_nz = list(df_top_nz[df_top_nz.label == 1].headline)\n",
    "\n",
    "pos_tokens_nz = process_text(pos_lines_nz)\n",
    "pos_freq_nz = nltk.FreqDist(pos_tokens_nz)\n",
    "\n",
    "pos_freq_nz.most_common(20)"
   ]
  },
  {
   "cell_type": "code",
   "execution_count": 59,
   "id": "f2dfc14c",
   "metadata": {},
   "outputs": [
    {
     "data": {
      "image/png": "[encoded data removed]",
      "text/plain": [
       "<Figure size 432x288 with 1 Axes>"
      ]
     },
     "metadata": {
      "needs_background": "light"
     },
     "output_type": "display_data"
    },
    {
     "data": {
      "text/plain": [
       "<AxesSubplot:xlabel='Samples', ylabel='Counts'>"
      ]
     },
     "execution_count": 59,
     "metadata": {},
     "output_type": "execute_result"
    }
   ],
   "source": [
    "pos_freq_nz.plot(20)\n"
   ]
  },
  {
   "cell_type": "code",
   "execution_count": 60,
   "id": "0e5514c7",
   "metadata": {},
   "outputs": [
    {
     "data": {
      "text/plain": [
       "[('irish', 19),\n",
       " ('ireland', 17),\n",
       " ('years', 12),\n",
       " ('dublin', 11),\n",
       " ('today', 11),\n",
       " ('one', 10),\n",
       " ('day', 8),\n",
       " ('ago', 8),\n",
       " ('people', 8),\n",
       " ('lads', 7),\n",
       " ('american', 6),\n",
       " ('get', 6),\n",
       " ('ya', 6),\n",
       " ('shit', 5),\n",
       " ('like', 5),\n",
       " ('think', 5),\n",
       " ('round', 5),\n",
       " ('died', 5),\n",
       " ('war', 5),\n",
       " ('abuse', 5)]"
      ]
     },
     "execution_count": 60,
     "metadata": {},
     "output_type": "execute_result"
    }
   ],
   "source": [
    "neg_lines_ire = list(df_top_ireland[df_top_ireland.label == -1].headline)\n",
    "\n",
    "neg_tokens_ire = process_text(neg_lines_ire)\n",
    "neg_freq_ire = nltk.FreqDist(neg_tokens_ire)\n",
    "\n",
    "neg_freq_ire.most_common(20)"
   ]
  },
  {
   "cell_type": "code",
   "execution_count": 61,
   "id": "247f1a9e",
   "metadata": {},
   "outputs": [
    {
     "name": "stdout",
     "output_type": "stream",
     "text": [
      "frequency plot top negative words from top 900 post title r/ireland\n"
     ]
    },
    {
     "data": {
      "image/png": "[encoded data removed]",
      "text/plain": [
       "<Figure size 432x288 with 1 Axes>"
      ]
     },
     "metadata": {
      "needs_background": "light"
     },
     "output_type": "display_data"
    },
    {
     "data": {
      "text/plain": [
       "<AxesSubplot:xlabel='Samples', ylabel='Counts'>"
      ]
     },
     "execution_count": 61,
     "metadata": {},
     "output_type": "execute_result"
    }
   ],
   "source": [
    "print(\"frequency plot top negative words from top 900 post title r/ireland\")\n",
    "\n",
    "neg_freq_ire.plot(20)\n"
   ]
  },
  {
   "cell_type": "code",
   "execution_count": 62,
   "id": "53c57576",
   "metadata": {},
   "outputs": [
    {
     "data": {
      "text/plain": [
       "[('new zealand', 29),\n",
       " ('nz', 16),\n",
       " ('fuck', 8),\n",
       " ('today', 8),\n",
       " ('world', 7),\n",
       " ('country', 7),\n",
       " ('police', 7),\n",
       " ('people', 6),\n",
       " ('covid', 6),\n",
       " ('shit', 6),\n",
       " ('man', 6),\n",
       " ('auckland', 6),\n",
       " ('get', 5),\n",
       " ('want', 5),\n",
       " ('new', 5),\n",
       " ('bad', 5),\n",
       " ('like', 5),\n",
       " ('crisis', 5),\n",
       " ('much', 5),\n",
       " ('anti', 4)]"
      ]
     },
     "execution_count": 62,
     "metadata": {},
     "output_type": "execute_result"
    }
   ],
   "source": [
    "neg_lines_nz = list(df_top_nz[df_top_nz.label == -1].headline)\n",
    "\n",
    "neg_tokens_nz = process_text(neg_lines_nz)\n",
    "neg_freq_nz = nltk.FreqDist(neg_tokens_nz)\n",
    "\n",
    "neg_freq_nz.most_common(20)"
   ]
  },
  {
   "cell_type": "code",
   "execution_count": 63,
   "id": "9e9ec090",
   "metadata": {},
   "outputs": [
    {
     "data": {
      "image/png": "[encoded data removed]",
      "text/plain": [
       "<Figure size 432x288 with 1 Axes>"
      ]
     },
     "metadata": {
      "needs_background": "light"
     },
     "output_type": "display_data"
    },
    {
     "data": {
      "text/plain": [
       "<AxesSubplot:xlabel='Samples', ylabel='Counts'>"
      ]
     },
     "execution_count": 63,
     "metadata": {},
     "output_type": "execute_result"
    }
   ],
   "source": [
    "neg_freq_nz.plot(20)\n"
   ]
  },
  {
   "cell_type": "markdown",
   "id": "93f61f60",
   "metadata": {},
   "source": [
    "### Looking at comments of top posts "
   ]
  },
  {
   "cell_type": "code",
   "execution_count": 64,
   "id": "5854817f",
   "metadata": {},
   "outputs": [],
   "source": [
    "def sia_function(comments):\n",
    "\n",
    "    sia = SIA()\n",
    "    results = []\n",
    "\n",
    "    for line in comments:\n",
    "        pol_score = sia.polarity_scores(line)\n",
    "        pol_score['comment'] = line\n",
    "        results.append(pol_score)\n",
    "        \n",
    "    return results"
   ]
  },
  {
   "cell_type": "markdown",
   "id": "bd411f20",
   "metadata": {},
   "source": [
    "### gathering comments from r/ireland"
   ]
  },
  {
   "cell_type": "code",
   "execution_count": 65,
   "id": "e656d27e",
   "metadata": {},
   "outputs": [
    {
     "name": "stdout",
     "output_type": "stream",
     "text": [
      "1397\n"
     ]
    }
   ],
   "source": [
    "comments_ireland = set()\n",
    "# r/ireland\n",
    "for submission in reddit.subreddit('ireland').top(limit=10):\n",
    "    for comment in submission.comments:\n",
    "            if isinstance(comment, MoreComments):\n",
    "                continue\n",
    "            comments_ireland.add(comment.body)\n",
    "            display.clear_output()\n",
    "            print(len(comments_ireland))\n",
    "\n",
    "    \n"
   ]
  },
  {
   "cell_type": "markdown",
   "id": "da937e1b",
   "metadata": {},
   "source": [
    "### gathering comments from r/newzeland"
   ]
  },
  {
   "cell_type": "code",
   "execution_count": 66,
   "id": "9c4715f3",
   "metadata": {},
   "outputs": [
    {
     "name": "stdout",
     "output_type": "stream",
     "text": [
      "1510\n"
     ]
    }
   ],
   "source": [
    "comments_nz = set()\n",
    "# r/ireland\n",
    "for submission in reddit.subreddit('newzealand').top(limit=10):\n",
    "    for comment in submission.comments:\n",
    "            if isinstance(comment, MoreComments):\n",
    "                continue\n",
    "            comments_nz.add(comment.body)\n",
    "            display.clear_output()\n",
    "            print(len(comments_nz))\n",
    "\n",
    "    \n"
   ]
  },
  {
   "cell_type": "markdown",
   "id": "d27013cf",
   "metadata": {},
   "source": [
    "#### sentiment intensity analysis for comments r/ireland"
   ]
  },
  {
   "cell_type": "code",
   "execution_count": 67,
   "id": "5e4b8d0d",
   "metadata": {},
   "outputs": [
    {
     "name": "stdout",
     "output_type": "stream",
     "text": [
      "[{'comment': 'So long as I can stay here in safe Ireland I stand with them in a symbolic way.',\n",
      "  'compound': 0.4404,\n",
      "  'neg': 0.0,\n",
      "  'neu': 0.828,\n",
      "  'pos': 0.172},\n",
      " {'comment': 'Another sad news... When is 2020 going to end..',\n",
      "  'compound': -0.4767,\n",
      "  'neg': 0.279,\n",
      "  'neu': 0.721,\n",
      "  'pos': 0.0},\n",
      " {'comment': 'I agree. I will vote blue this time, but I’m nervous we’ll just see a terrible back '\n",
      "             'and forth from now on with each side forcing us to vote for the lesser of evils now '\n",
      "             'that they’ve figured it out this past cycle.',\n",
      "  'compound': -0.9022,\n",
      "  'neg': 0.239,\n",
      "  'neu': 0.726,\n",
      "  'pos': 0.035}]\n"
     ]
    }
   ],
   "source": [
    "comments_results_ireland = sia_function(comments_ireland)\n",
    "pprint(comments_results_ireland[:3], width=100)"
   ]
  },
  {
   "cell_type": "markdown",
   "id": "16da985d",
   "metadata": {},
   "source": [
    "#### sentiment intensity analysis for comments r/newzealand"
   ]
  },
  {
   "cell_type": "code",
   "execution_count": 68,
   "id": "4b227f3f",
   "metadata": {},
   "outputs": [
    {
     "name": "stdout",
     "output_type": "stream",
     "text": [
      "[{'comment': 'I feel so sad today that our beautiful and safe country has come to this. That '\n",
      "             'people who chose our country as their country have been treated like this. To anyone '\n",
      "             \"who is affected please know that I'm sending all of my love, all of my prayers your \"\n",
      "             'way. ',\n",
      "  'compound': 0.8958,\n",
      "  'neg': 0.081,\n",
      "  'neu': 0.664,\n",
      "  'pos': 0.256},\n",
      " {'comment': \"Inna lillahi wa inna ilayhi raji'un.\\n\"\n",
      "             '\\n'\n",
      "             'As a Muslim, this makes my heart hurt. These were innocent people praying on '\n",
      "             \"Juma'a. \",\n",
      "  'compound': 0.128,\n",
      "  'neg': 0.134,\n",
      "  'neu': 0.672,\n",
      "  'pos': 0.194},\n",
      " {'comment': 'I mean if she earns money off those assets (i.e. money is invested in stocks, etc) '\n",
      "             'then she should certainly be taxed on it but if she and her husband worked hard '\n",
      "             'their entire lives to save for their retirement and were taxed on that income while '\n",
      "             'working then why the hell should you be taxing her again on it just because her '\n",
      "             \"husband died? Just because she's wealthy compared to the average person doesn't make \"\n",
      "             'this right. There are much better ways to go about levelling out the playing field '\n",
      "             'then this.',\n",
      "  'compound': 0.1901,\n",
      "  'neg': 0.115,\n",
      "  'neu': 0.737,\n",
      "  'pos': 0.148}]\n"
     ]
    }
   ],
   "source": [
    "comments_results_newzealand = sia_function(comments_nz)\n",
    "pprint(comments_results_newzealand[:3], width=100)"
   ]
  },
  {
   "cell_type": "markdown",
   "id": "9bd1d230",
   "metadata": {},
   "source": [
    "### converting results to dataframes "
   ]
  },
  {
   "cell_type": "code",
   "execution_count": 69,
   "id": "a30026eb",
   "metadata": {},
   "outputs": [
    {
     "data": {
      "text/html": [
       "<div>\n",
       "<style scoped>\n",
       "    .dataframe tbody tr th:only-of-type {\n",
       "        vertical-align: middle;\n",
       "    }\n",
       "\n",
       "    .dataframe tbody tr th {\n",
       "        vertical-align: top;\n",
       "    }\n",
       "\n",
       "    .dataframe thead th {\n",
       "        text-align: right;\n",
       "    }\n",
       "</style>\n",
       "<table border=\"1\" class=\"dataframe\">\n",
       "  <thead>\n",
       "    <tr style=\"text-align: right;\">\n",
       "      <th></th>\n",
       "      <th>neg</th>\n",
       "      <th>neu</th>\n",
       "      <th>pos</th>\n",
       "      <th>compound</th>\n",
       "      <th>comment</th>\n",
       "    </tr>\n",
       "  </thead>\n",
       "  <tbody>\n",
       "    <tr>\n",
       "      <th>0</th>\n",
       "      <td>0.000</td>\n",
       "      <td>0.828</td>\n",
       "      <td>0.172</td>\n",
       "      <td>0.4404</td>\n",
       "      <td>So long as I can stay here in safe Ireland I s...</td>\n",
       "    </tr>\n",
       "    <tr>\n",
       "      <th>1</th>\n",
       "      <td>0.279</td>\n",
       "      <td>0.721</td>\n",
       "      <td>0.000</td>\n",
       "      <td>-0.4767</td>\n",
       "      <td>Another sad news... When is 2020 going to end..</td>\n",
       "    </tr>\n",
       "    <tr>\n",
       "      <th>2</th>\n",
       "      <td>0.239</td>\n",
       "      <td>0.726</td>\n",
       "      <td>0.035</td>\n",
       "      <td>-0.9022</td>\n",
       "      <td>I agree. I will vote blue this time, but I’m n...</td>\n",
       "    </tr>\n",
       "    <tr>\n",
       "      <th>3</th>\n",
       "      <td>0.000</td>\n",
       "      <td>0.577</td>\n",
       "      <td>0.423</td>\n",
       "      <td>0.2960</td>\n",
       "      <td>Can I join you guys?</td>\n",
       "    </tr>\n",
       "    <tr>\n",
       "      <th>4</th>\n",
       "      <td>0.000</td>\n",
       "      <td>1.000</td>\n",
       "      <td>0.000</td>\n",
       "      <td>0.0000</td>\n",
       "      <td>ireland checking how and when the island will ...</td>\n",
       "    </tr>\n",
       "  </tbody>\n",
       "</table>\n",
       "</div>"
      ],
      "text/plain": [
       "     neg    neu    pos  compound  \\\n",
       "0  0.000  0.828  0.172    0.4404   \n",
       "1  0.279  0.721  0.000   -0.4767   \n",
       "2  0.239  0.726  0.035   -0.9022   \n",
       "3  0.000  0.577  0.423    0.2960   \n",
       "4  0.000  1.000  0.000    0.0000   \n",
       "\n",
       "                                             comment  \n",
       "0  So long as I can stay here in safe Ireland I s...  \n",
       "1    Another sad news... When is 2020 going to end..  \n",
       "2  I agree. I will vote blue this time, but I’m n...  \n",
       "3                               Can I join you guys?  \n",
       "4  ireland checking how and when the island will ...  "
      ]
     },
     "execution_count": 69,
     "metadata": {},
     "output_type": "execute_result"
    }
   ],
   "source": [
    "df_comments_ireland = pd.DataFrame.from_records(comments_results_ireland)\n",
    "df_comments_ireland.head()"
   ]
  },
  {
   "cell_type": "code",
   "execution_count": 70,
   "id": "5c126de6",
   "metadata": {},
   "outputs": [
    {
     "data": {
      "text/html": [
       "<div>\n",
       "<style scoped>\n",
       "    .dataframe tbody tr th:only-of-type {\n",
       "        vertical-align: middle;\n",
       "    }\n",
       "\n",
       "    .dataframe tbody tr th {\n",
       "        vertical-align: top;\n",
       "    }\n",
       "\n",
       "    .dataframe thead th {\n",
       "        text-align: right;\n",
       "    }\n",
       "</style>\n",
       "<table border=\"1\" class=\"dataframe\">\n",
       "  <thead>\n",
       "    <tr style=\"text-align: right;\">\n",
       "      <th></th>\n",
       "      <th>neg</th>\n",
       "      <th>neu</th>\n",
       "      <th>pos</th>\n",
       "      <th>compound</th>\n",
       "      <th>comment</th>\n",
       "    </tr>\n",
       "  </thead>\n",
       "  <tbody>\n",
       "    <tr>\n",
       "      <th>0</th>\n",
       "      <td>0.081</td>\n",
       "      <td>0.664</td>\n",
       "      <td>0.256</td>\n",
       "      <td>0.8958</td>\n",
       "      <td>I feel so sad today that our beautiful and saf...</td>\n",
       "    </tr>\n",
       "    <tr>\n",
       "      <th>1</th>\n",
       "      <td>0.134</td>\n",
       "      <td>0.672</td>\n",
       "      <td>0.194</td>\n",
       "      <td>0.1280</td>\n",
       "      <td>Inna lillahi wa inna ilayhi raji'un.\\n\\nAs a M...</td>\n",
       "    </tr>\n",
       "    <tr>\n",
       "      <th>2</th>\n",
       "      <td>0.115</td>\n",
       "      <td>0.737</td>\n",
       "      <td>0.148</td>\n",
       "      <td>0.1901</td>\n",
       "      <td>I mean if she earns money off those assets (i....</td>\n",
       "    </tr>\n",
       "    <tr>\n",
       "      <th>3</th>\n",
       "      <td>0.016</td>\n",
       "      <td>0.905</td>\n",
       "      <td>0.079</td>\n",
       "      <td>0.8296</td>\n",
       "      <td>I wonder what is going to be the exit strategy...</td>\n",
       "    </tr>\n",
       "    <tr>\n",
       "      <th>4</th>\n",
       "      <td>0.116</td>\n",
       "      <td>0.636</td>\n",
       "      <td>0.248</td>\n",
       "      <td>0.9465</td>\n",
       "      <td>Those pieces of shit don't represent us as a n...</td>\n",
       "    </tr>\n",
       "  </tbody>\n",
       "</table>\n",
       "</div>"
      ],
      "text/plain": [
       "     neg    neu    pos  compound  \\\n",
       "0  0.081  0.664  0.256    0.8958   \n",
       "1  0.134  0.672  0.194    0.1280   \n",
       "2  0.115  0.737  0.148    0.1901   \n",
       "3  0.016  0.905  0.079    0.8296   \n",
       "4  0.116  0.636  0.248    0.9465   \n",
       "\n",
       "                                             comment  \n",
       "0  I feel so sad today that our beautiful and saf...  \n",
       "1  Inna lillahi wa inna ilayhi raji'un.\\n\\nAs a M...  \n",
       "2  I mean if she earns money off those assets (i....  \n",
       "3  I wonder what is going to be the exit strategy...  \n",
       "4  Those pieces of shit don't represent us as a n...  "
      ]
     },
     "execution_count": 70,
     "metadata": {},
     "output_type": "execute_result"
    }
   ],
   "source": [
    "df_comments_newzealand = pd.DataFrame.from_records(comments_results_newzealand)\n",
    "df_comments_newzealand.head()"
   ]
  },
  {
   "cell_type": "markdown",
   "id": "ebd7fb06",
   "metadata": {},
   "source": [
    "### defining positive and negative comments based on compound score: "
   ]
  },
  {
   "cell_type": "code",
   "execution_count": 71,
   "id": "9fd1830a",
   "metadata": {},
   "outputs": [
    {
     "data": {
      "text/html": [
       "<div>\n",
       "<style scoped>\n",
       "    .dataframe tbody tr th:only-of-type {\n",
       "        vertical-align: middle;\n",
       "    }\n",
       "\n",
       "    .dataframe tbody tr th {\n",
       "        vertical-align: top;\n",
       "    }\n",
       "\n",
       "    .dataframe thead th {\n",
       "        text-align: right;\n",
       "    }\n",
       "</style>\n",
       "<table border=\"1\" class=\"dataframe\">\n",
       "  <thead>\n",
       "    <tr style=\"text-align: right;\">\n",
       "      <th></th>\n",
       "      <th>neg</th>\n",
       "      <th>neu</th>\n",
       "      <th>pos</th>\n",
       "      <th>compound</th>\n",
       "      <th>comment</th>\n",
       "      <th>label</th>\n",
       "    </tr>\n",
       "  </thead>\n",
       "  <tbody>\n",
       "    <tr>\n",
       "      <th>0</th>\n",
       "      <td>0.000</td>\n",
       "      <td>0.828</td>\n",
       "      <td>0.172</td>\n",
       "      <td>0.4404</td>\n",
       "      <td>So long as I can stay here in safe Ireland I s...</td>\n",
       "      <td>1</td>\n",
       "    </tr>\n",
       "    <tr>\n",
       "      <th>1</th>\n",
       "      <td>0.279</td>\n",
       "      <td>0.721</td>\n",
       "      <td>0.000</td>\n",
       "      <td>-0.4767</td>\n",
       "      <td>Another sad news... When is 2020 going to end..</td>\n",
       "      <td>-1</td>\n",
       "    </tr>\n",
       "    <tr>\n",
       "      <th>2</th>\n",
       "      <td>0.239</td>\n",
       "      <td>0.726</td>\n",
       "      <td>0.035</td>\n",
       "      <td>-0.9022</td>\n",
       "      <td>I agree. I will vote blue this time, but I’m n...</td>\n",
       "      <td>-1</td>\n",
       "    </tr>\n",
       "    <tr>\n",
       "      <th>3</th>\n",
       "      <td>0.000</td>\n",
       "      <td>0.577</td>\n",
       "      <td>0.423</td>\n",
       "      <td>0.2960</td>\n",
       "      <td>Can I join you guys?</td>\n",
       "      <td>1</td>\n",
       "    </tr>\n",
       "    <tr>\n",
       "      <th>4</th>\n",
       "      <td>0.000</td>\n",
       "      <td>1.000</td>\n",
       "      <td>0.000</td>\n",
       "      <td>0.0000</td>\n",
       "      <td>ireland checking how and when the island will ...</td>\n",
       "      <td>0</td>\n",
       "    </tr>\n",
       "  </tbody>\n",
       "</table>\n",
       "</div>"
      ],
      "text/plain": [
       "     neg    neu    pos  compound  \\\n",
       "0  0.000  0.828  0.172    0.4404   \n",
       "1  0.279  0.721  0.000   -0.4767   \n",
       "2  0.239  0.726  0.035   -0.9022   \n",
       "3  0.000  0.577  0.423    0.2960   \n",
       "4  0.000  1.000  0.000    0.0000   \n",
       "\n",
       "                                             comment  label  \n",
       "0  So long as I can stay here in safe Ireland I s...      1  \n",
       "1    Another sad news... When is 2020 going to end..     -1  \n",
       "2  I agree. I will vote blue this time, but I’m n...     -1  \n",
       "3                               Can I join you guys?      1  \n",
       "4  ireland checking how and when the island will ...      0  "
      ]
     },
     "execution_count": 71,
     "metadata": {},
     "output_type": "execute_result"
    }
   ],
   "source": [
    "df_comments_ireland['label'] = 0\n",
    "df_comments_ireland.loc[df_comments_ireland['compound'] > 0.2, 'label'] = 1\n",
    "df_comments_ireland.loc[df_comments_ireland['compound'] < -0.2, 'label'] = -1\n",
    "df_comments_ireland.head()"
   ]
  },
  {
   "cell_type": "code",
   "execution_count": 72,
   "id": "95b63dd4",
   "metadata": {},
   "outputs": [
    {
     "data": {
      "text/html": [
       "<div>\n",
       "<style scoped>\n",
       "    .dataframe tbody tr th:only-of-type {\n",
       "        vertical-align: middle;\n",
       "    }\n",
       "\n",
       "    .dataframe tbody tr th {\n",
       "        vertical-align: top;\n",
       "    }\n",
       "\n",
       "    .dataframe thead th {\n",
       "        text-align: right;\n",
       "    }\n",
       "</style>\n",
       "<table border=\"1\" class=\"dataframe\">\n",
       "  <thead>\n",
       "    <tr style=\"text-align: right;\">\n",
       "      <th></th>\n",
       "      <th>neg</th>\n",
       "      <th>neu</th>\n",
       "      <th>pos</th>\n",
       "      <th>compound</th>\n",
       "      <th>comment</th>\n",
       "      <th>label</th>\n",
       "    </tr>\n",
       "  </thead>\n",
       "  <tbody>\n",
       "    <tr>\n",
       "      <th>0</th>\n",
       "      <td>0.081</td>\n",
       "      <td>0.664</td>\n",
       "      <td>0.256</td>\n",
       "      <td>0.8958</td>\n",
       "      <td>I feel so sad today that our beautiful and saf...</td>\n",
       "      <td>1</td>\n",
       "    </tr>\n",
       "    <tr>\n",
       "      <th>1</th>\n",
       "      <td>0.134</td>\n",
       "      <td>0.672</td>\n",
       "      <td>0.194</td>\n",
       "      <td>0.1280</td>\n",
       "      <td>Inna lillahi wa inna ilayhi raji'un.\\n\\nAs a M...</td>\n",
       "      <td>0</td>\n",
       "    </tr>\n",
       "    <tr>\n",
       "      <th>2</th>\n",
       "      <td>0.115</td>\n",
       "      <td>0.737</td>\n",
       "      <td>0.148</td>\n",
       "      <td>0.1901</td>\n",
       "      <td>I mean if she earns money off those assets (i....</td>\n",
       "      <td>0</td>\n",
       "    </tr>\n",
       "    <tr>\n",
       "      <th>3</th>\n",
       "      <td>0.016</td>\n",
       "      <td>0.905</td>\n",
       "      <td>0.079</td>\n",
       "      <td>0.8296</td>\n",
       "      <td>I wonder what is going to be the exit strategy...</td>\n",
       "      <td>1</td>\n",
       "    </tr>\n",
       "    <tr>\n",
       "      <th>4</th>\n",
       "      <td>0.116</td>\n",
       "      <td>0.636</td>\n",
       "      <td>0.248</td>\n",
       "      <td>0.9465</td>\n",
       "      <td>Those pieces of shit don't represent us as a n...</td>\n",
       "      <td>1</td>\n",
       "    </tr>\n",
       "  </tbody>\n",
       "</table>\n",
       "</div>"
      ],
      "text/plain": [
       "     neg    neu    pos  compound  \\\n",
       "0  0.081  0.664  0.256    0.8958   \n",
       "1  0.134  0.672  0.194    0.1280   \n",
       "2  0.115  0.737  0.148    0.1901   \n",
       "3  0.016  0.905  0.079    0.8296   \n",
       "4  0.116  0.636  0.248    0.9465   \n",
       "\n",
       "                                             comment  label  \n",
       "0  I feel so sad today that our beautiful and saf...      1  \n",
       "1  Inna lillahi wa inna ilayhi raji'un.\\n\\nAs a M...      0  \n",
       "2  I mean if she earns money off those assets (i....      0  \n",
       "3  I wonder what is going to be the exit strategy...      1  \n",
       "4  Those pieces of shit don't represent us as a n...      1  "
      ]
     },
     "execution_count": 72,
     "metadata": {},
     "output_type": "execute_result"
    }
   ],
   "source": [
    "df_comments_newzealand['label'] = 0\n",
    "df_comments_newzealand.loc[df_comments_newzealand['compound'] > 0.2, 'label'] = 1\n",
    "df_comments_newzealand.loc[df_comments_newzealand['compound'] < -0.2, 'label'] = -1\n",
    "df_comments_newzealand.head()"
   ]
  },
  {
   "cell_type": "markdown",
   "id": "3cb06e8b",
   "metadata": {},
   "source": [
    "### example of positive and negative comments  r/ireland"
   ]
  },
  {
   "cell_type": "code",
   "execution_count": 73,
   "id": "5c437ab5",
   "metadata": {},
   "outputs": [
    {
     "name": "stdout",
     "output_type": "stream",
     "text": [
      "Positive comment:\n",
      "\n",
      "['So long as I can stay here in safe Ireland I stand with them in a symbolic way.',\n",
      " 'Can I join you guys?',\n",
      " 'I was in croatia once... its essentially a sandy sunny warm athlone.',\n",
      " \"I'm not trying to jinx it, but it also would be very funny if Brussels, err, the EU, I mean, Belgium could make third place.\",\n",
      " 'You are all the best people in the world!!']\n",
      "\n",
      "Negative comment:\n",
      "\n",
      "['Another sad news... When is 2020 going to end..',\n",
      " 'I agree. I will vote blue this time, but I’m nervous we’ll just see a terrible back and forth from now on with each side forcing us to vote for the lesser of evils now that they’ve figured it out '\n",
      " 'this past cycle.',\n",
      " 'Title reminded me of Shawn of the dead',\n",
      " 'American here. I am 100% in agreement everyone else needs to ban us from your countries!  I’m following mask and social distancing protocols but am so disappointed at the amount of stupidity '\n",
      " 'around me...smh...',\n",
      " 'You know, how would the world be reacting if the Chinese handled this pandemic the same as Americans?  \\n'\n",
      " '\\n'\n",
      " 'There would be fucking uproar. Calls for nuclear bombing. Rampant Chinese racism, the works.']\n"
     ]
    }
   ],
   "source": [
    "print(\"Positive comment:\\n\")\n",
    "pprint(list(df_comments_ireland[df_comments_ireland['label'] == 1].comment)[:5], width=200)\n",
    "\n",
    "print(\"\\nNegative comment:\\n\")\n",
    "pprint(list(df_comments_ireland[df_comments_ireland['label'] == -1].comment)[:5], width=200)"
   ]
  },
  {
   "cell_type": "markdown",
   "id": "f432463c",
   "metadata": {},
   "source": [
    "### example of positive and negative comments  r/newzealand"
   ]
  },
  {
   "cell_type": "code",
   "execution_count": 74,
   "id": "1ef0dc73",
   "metadata": {},
   "outputs": [
    {
     "name": "stdout",
     "output_type": "stream",
     "text": [
      "Positive comment:\n",
      "\n",
      "['I feel so sad today that our beautiful and safe country has come to this. That people who chose our country as their country have been treated like this. To anyone who is affected please know that '\n",
      " \"I'm sending all of my love, all of my prayers your way. \",\n",
      " 'I wonder what is going to be the exit strategy, the lockdown lasted 3 weeks already and people seems to suggest it will end next week.\\n'\n",
      " '\\n'\n",
      " 'Now, what control are in place to reopen safely?\\n'\n",
      " '\\n'\n",
      " \"I hope in these 3 weeks, they thought about how to make sure we don't go back to level 4, because that would be the nail in the coffin for lots of business, then the subsequent level 4 will be \"\n",
      " 'unsustainable. \\n'\n",
      " '\\n'\n",
      " 'We really get one shot to do the level 4 right. If it means it will be extended, so be it, but there is no going back once it is lifted.\\n'\n",
      " '\\n'\n",
      " 'suggestion for an exit strategy:\\n'\n",
      " '\\n'\n",
      " '\\\\-quarantine people who are confirmed so they can control the bubble until they are not contagious anymore.\\n'\n",
      " '\\n'\n",
      " '\\\\-make PPE available for everyone, mainly facemask (does not have to be surgical disposable one). Face covering should be mandatory when out and about.\\n'\n",
      " '\\n'\n",
      " '\\\\-strict quarantine for overseas people travelling in. Test and release once they are confirmed safe.',\n",
      " \"Those pieces of shit don't represent us as a nation AT ALL, to all my Muslim friends reading this, I'm so sorry our once beautiful and all loving country has let you and itself down. Myself and \"\n",
      " 'the other 99.9999999% true kiwis love everyone no matter what colour/race/origin. I hope one day we can look back at today as the day we all band together to have NZ lead as an example for sharing '\n",
      " 'the message of love. (Sorry for the rant, idiots that do this shit really triggers me)',\n",
      " 'WE DID IT\\n\\nGreat post kezza <3',\n",
      " 'So which party am I voting for then?']\n",
      "\n",
      "Negative comment:\n",
      "\n",
      "[\"I'm roughly 20 years out from this, and am just about to finish out another degree, which was required of me to keep my job. I will no longer have that job after next month, but I will have the \"\n",
      " 'tens of thousands of dollars of student loan debt. I am so depressed.',\n",
      " 'After 100 days we are back :(',\n",
      " 'Last time I had enough warning to stock up on liquor... This time they announced it after all the stores closed. This one is going to be rough.',\n",
      " 'People talk about y2k like that now: that it was a lot of panic over no big deal. But the truth is a lot of people worked very hard to make it no big deal.',\n",
      " \"When I first went to NZ (back in Glasgow now), my first day working a dude came in for a pint and after a bit of chat he about where I was from he said (Good on yer mate, glad you're in New \"\n",
      " 'Zealand)\\n'\n",
      " '\\n'\n",
      " \"That's the New Zealand I remember. \\n\"\n",
      " '\\n'\n",
      " \"Fuck this guy and his shitty ideas. You're better than this cunt you glorious kiwi bastards. \\n\"\n",
      " 'Love from Scotland\\n'\n",
      " 'Kia Kaha']\n"
     ]
    }
   ],
   "source": [
    "print(\"Positive comment:\\n\")\n",
    "pprint(list(df_comments_newzealand[df_comments_newzealand['label'] == 1].comment)[:5], width=200)\n",
    "\n",
    "print(\"\\nNegative comment:\\n\")\n",
    "pprint(list(df_comments_newzealand[df_comments_newzealand['label'] == -1].comment)[:5], width=200)"
   ]
  },
  {
   "cell_type": "markdown",
   "id": "04e441a7",
   "metadata": {},
   "source": [
    "### looking at value counts"
   ]
  },
  {
   "cell_type": "code",
   "execution_count": 75,
   "id": "7429dbc2",
   "metadata": {},
   "outputs": [
    {
     "name": "stdout",
     "output_type": "stream",
     "text": [
      " 1    523\n",
      " 0    447\n",
      "-1    427\n",
      "Name: label, dtype: int64\n",
      " 1    37.437366\n",
      " 0    31.997137\n",
      "-1    30.565497\n",
      "Name: label, dtype: float64\n"
     ]
    }
   ],
   "source": [
    "print(df_comments_ireland.label.value_counts())\n",
    "print(df_comments_ireland.label.value_counts(normalize=True) * 100)"
   ]
  },
  {
   "cell_type": "code",
   "execution_count": 76,
   "id": "f6c66d98",
   "metadata": {},
   "outputs": [
    {
     "name": "stdout",
     "output_type": "stream",
     "text": [
      " 1    619\n",
      "-1    448\n",
      " 0    443\n",
      "Name: label, dtype: int64\n",
      " 1    40.993377\n",
      "-1    29.668874\n",
      " 0    29.337748\n",
      "Name: label, dtype: float64\n"
     ]
    }
   ],
   "source": [
    "print(df_comments_newzealand.label.value_counts())\n",
    "print(df_comments_newzealand.label.value_counts(normalize=True) * 100)"
   ]
  },
  {
   "cell_type": "markdown",
   "id": "445f424a",
   "metadata": {},
   "source": [
    "### visualising value counts "
   ]
  },
  {
   "cell_type": "code",
   "execution_count": 77,
   "id": "5dc21cc6",
   "metadata": {},
   "outputs": [
    {
     "data": {
      "image/png": "[encoded data removed]",
      "text/plain": [
       "<Figure size 720x360 with 1 Axes>"
      ]
     },
     "metadata": {
      "needs_background": "light"
     },
     "output_type": "display_data"
    }
   ],
   "source": [
    "comments_counts_nz = df_comments_newzealand.label.value_counts(normalize=True) * 100\n",
    "comments_counts_ireland =  df_comments_ireland.label.value_counts(normalize=True) * 100\n",
    "N = 3\n",
    "\n",
    "blue_bar = (comments_counts_ireland)\n",
    "orange_bar = (comments_counts_nz)\n",
    "\n",
    "# Position of bars on x-axis\n",
    "ind = np.arange(N)\n",
    "# Figure size\n",
    "plt.figure(figsize=(10,5))\n",
    "\n",
    "# Width of a bar \n",
    "width = 0.3       \n",
    "\n",
    "# Plotting\n",
    "plt.bar(ind, blue_bar , width, label='Ireland')\n",
    "plt.bar(ind + width, orange_bar, width, label='newzealand')\n",
    "\n",
    "plt.ylabel('Percentage')\n",
    "plt.title('Comparing r/ireland and r/newzealand comments from top 10 posts')\n",
    "\n",
    "plt.xticks(ind + width / 2, ('Neutral', 'Negative', 'Positve'))\n",
    "\n",
    "# Finding the best position for legends and putting it\n",
    "plt.legend(loc='best')\n",
    "plt.show()"
   ]
  },
  {
   "cell_type": "code",
   "execution_count": 78,
   "id": "c2ab95e8",
   "metadata": {},
   "outputs": [
    {
     "data": {
      "text/html": [
       "<div>\n",
       "<style scoped>\n",
       "    .dataframe tbody tr th:only-of-type {\n",
       "        vertical-align: middle;\n",
       "    }\n",
       "\n",
       "    .dataframe tbody tr th {\n",
       "        vertical-align: top;\n",
       "    }\n",
       "\n",
       "    .dataframe thead th {\n",
       "        text-align: right;\n",
       "    }\n",
       "</style>\n",
       "<table border=\"1\" class=\"dataframe\">\n",
       "  <thead>\n",
       "    <tr style=\"text-align: right;\">\n",
       "      <th></th>\n",
       "      <th>neg</th>\n",
       "      <th>neu</th>\n",
       "      <th>pos</th>\n",
       "      <th>compound</th>\n",
       "      <th>comment</th>\n",
       "      <th>label</th>\n",
       "    </tr>\n",
       "  </thead>\n",
       "  <tbody>\n",
       "    <tr>\n",
       "      <th>0</th>\n",
       "      <td>0.000</td>\n",
       "      <td>0.828</td>\n",
       "      <td>0.172</td>\n",
       "      <td>0.4404</td>\n",
       "      <td>So long as I can stay here in safe Ireland I s...</td>\n",
       "      <td>1</td>\n",
       "    </tr>\n",
       "    <tr>\n",
       "      <th>1</th>\n",
       "      <td>0.279</td>\n",
       "      <td>0.721</td>\n",
       "      <td>0.000</td>\n",
       "      <td>-0.4767</td>\n",
       "      <td>Another sad news... When is 2020 going to end..</td>\n",
       "      <td>-1</td>\n",
       "    </tr>\n",
       "    <tr>\n",
       "      <th>2</th>\n",
       "      <td>0.239</td>\n",
       "      <td>0.726</td>\n",
       "      <td>0.035</td>\n",
       "      <td>-0.9022</td>\n",
       "      <td>I agree. I will vote blue this time, but I’m n...</td>\n",
       "      <td>-1</td>\n",
       "    </tr>\n",
       "    <tr>\n",
       "      <th>3</th>\n",
       "      <td>0.000</td>\n",
       "      <td>0.577</td>\n",
       "      <td>0.423</td>\n",
       "      <td>0.2960</td>\n",
       "      <td>Can I join you guys?</td>\n",
       "      <td>1</td>\n",
       "    </tr>\n",
       "    <tr>\n",
       "      <th>4</th>\n",
       "      <td>0.000</td>\n",
       "      <td>1.000</td>\n",
       "      <td>0.000</td>\n",
       "      <td>0.0000</td>\n",
       "      <td>ireland checking how and when the island will ...</td>\n",
       "      <td>0</td>\n",
       "    </tr>\n",
       "    <tr>\n",
       "      <th>5</th>\n",
       "      <td>0.000</td>\n",
       "      <td>0.630</td>\n",
       "      <td>0.370</td>\n",
       "      <td>0.5719</td>\n",
       "      <td>I was in croatia once... its essentially a san...</td>\n",
       "      <td>1</td>\n",
       "    </tr>\n",
       "    <tr>\n",
       "      <th>6</th>\n",
       "      <td>0.000</td>\n",
       "      <td>0.843</td>\n",
       "      <td>0.157</td>\n",
       "      <td>0.6474</td>\n",
       "      <td>I'm not trying to jinx it, but it also would b...</td>\n",
       "      <td>1</td>\n",
       "    </tr>\n",
       "    <tr>\n",
       "      <th>7</th>\n",
       "      <td>0.000</td>\n",
       "      <td>0.626</td>\n",
       "      <td>0.374</td>\n",
       "      <td>0.6988</td>\n",
       "      <td>You are all the best people in the world!!</td>\n",
       "      <td>1</td>\n",
       "    </tr>\n",
       "    <tr>\n",
       "      <th>8</th>\n",
       "      <td>0.381</td>\n",
       "      <td>0.619</td>\n",
       "      <td>0.000</td>\n",
       "      <td>-0.6486</td>\n",
       "      <td>Title reminded me of Shawn of the dead</td>\n",
       "      <td>-1</td>\n",
       "    </tr>\n",
       "    <tr>\n",
       "      <th>9</th>\n",
       "      <td>0.000</td>\n",
       "      <td>0.872</td>\n",
       "      <td>0.128</td>\n",
       "      <td>0.6908</td>\n",
       "      <td>Croatia is a wild place to be after the Englan...</td>\n",
       "      <td>1</td>\n",
       "    </tr>\n",
       "  </tbody>\n",
       "</table>\n",
       "</div>"
      ],
      "text/plain": [
       "     neg    neu    pos  compound  \\\n",
       "0  0.000  0.828  0.172    0.4404   \n",
       "1  0.279  0.721  0.000   -0.4767   \n",
       "2  0.239  0.726  0.035   -0.9022   \n",
       "3  0.000  0.577  0.423    0.2960   \n",
       "4  0.000  1.000  0.000    0.0000   \n",
       "5  0.000  0.630  0.370    0.5719   \n",
       "6  0.000  0.843  0.157    0.6474   \n",
       "7  0.000  0.626  0.374    0.6988   \n",
       "8  0.381  0.619  0.000   -0.6486   \n",
       "9  0.000  0.872  0.128    0.6908   \n",
       "\n",
       "                                             comment  label  \n",
       "0  So long as I can stay here in safe Ireland I s...      1  \n",
       "1    Another sad news... When is 2020 going to end..     -1  \n",
       "2  I agree. I will vote blue this time, but I’m n...     -1  \n",
       "3                               Can I join you guys?      1  \n",
       "4  ireland checking how and when the island will ...      0  \n",
       "5  I was in croatia once... its essentially a san...      1  \n",
       "6  I'm not trying to jinx it, but it also would b...      1  \n",
       "7         You are all the best people in the world!!      1  \n",
       "8             Title reminded me of Shawn of the dead     -1  \n",
       "9  Croatia is a wild place to be after the Englan...      1  "
      ]
     },
     "execution_count": 78,
     "metadata": {},
     "output_type": "execute_result"
    }
   ],
   "source": [
    "df_comments_ireland.head(10)"
   ]
  },
  {
   "cell_type": "code",
   "execution_count": 79,
   "id": "91eef6bd",
   "metadata": {},
   "outputs": [
    {
     "data": {
      "text/html": [
       "<div>\n",
       "<style scoped>\n",
       "    .dataframe tbody tr th:only-of-type {\n",
       "        vertical-align: middle;\n",
       "    }\n",
       "\n",
       "    .dataframe tbody tr th {\n",
       "        vertical-align: top;\n",
       "    }\n",
       "\n",
       "    .dataframe thead th {\n",
       "        text-align: right;\n",
       "    }\n",
       "</style>\n",
       "<table border=\"1\" class=\"dataframe\">\n",
       "  <thead>\n",
       "    <tr style=\"text-align: right;\">\n",
       "      <th></th>\n",
       "      <th>neg</th>\n",
       "      <th>neu</th>\n",
       "      <th>pos</th>\n",
       "      <th>compound</th>\n",
       "      <th>label</th>\n",
       "    </tr>\n",
       "  </thead>\n",
       "  <tbody>\n",
       "    <tr>\n",
       "      <th>count</th>\n",
       "      <td>1397.000000</td>\n",
       "      <td>1397.000000</td>\n",
       "      <td>1397.000000</td>\n",
       "      <td>1397.000000</td>\n",
       "      <td>1397.000000</td>\n",
       "    </tr>\n",
       "    <tr>\n",
       "      <th>mean</th>\n",
       "      <td>0.110447</td>\n",
       "      <td>0.740560</td>\n",
       "      <td>0.145401</td>\n",
       "      <td>0.042769</td>\n",
       "      <td>0.068719</td>\n",
       "    </tr>\n",
       "    <tr>\n",
       "      <th>std</th>\n",
       "      <td>0.165644</td>\n",
       "      <td>0.221334</td>\n",
       "      <td>0.187063</td>\n",
       "      <td>0.500040</td>\n",
       "      <td>0.822065</td>\n",
       "    </tr>\n",
       "    <tr>\n",
       "      <th>min</th>\n",
       "      <td>0.000000</td>\n",
       "      <td>0.000000</td>\n",
       "      <td>0.000000</td>\n",
       "      <td>-0.986200</td>\n",
       "      <td>-1.000000</td>\n",
       "    </tr>\n",
       "    <tr>\n",
       "      <th>25%</th>\n",
       "      <td>0.000000</td>\n",
       "      <td>0.609000</td>\n",
       "      <td>0.000000</td>\n",
       "      <td>-0.344100</td>\n",
       "      <td>-1.000000</td>\n",
       "    </tr>\n",
       "    <tr>\n",
       "      <th>50%</th>\n",
       "      <td>0.000000</td>\n",
       "      <td>0.769000</td>\n",
       "      <td>0.076000</td>\n",
       "      <td>0.000000</td>\n",
       "      <td>0.000000</td>\n",
       "    </tr>\n",
       "    <tr>\n",
       "      <th>75%</th>\n",
       "      <td>0.165000</td>\n",
       "      <td>0.938000</td>\n",
       "      <td>0.231000</td>\n",
       "      <td>0.440400</td>\n",
       "      <td>1.000000</td>\n",
       "    </tr>\n",
       "    <tr>\n",
       "      <th>max</th>\n",
       "      <td>1.000000</td>\n",
       "      <td>1.000000</td>\n",
       "      <td>1.000000</td>\n",
       "      <td>0.987400</td>\n",
       "      <td>1.000000</td>\n",
       "    </tr>\n",
       "  </tbody>\n",
       "</table>\n",
       "</div>"
      ],
      "text/plain": [
       "               neg          neu          pos     compound        label\n",
       "count  1397.000000  1397.000000  1397.000000  1397.000000  1397.000000\n",
       "mean      0.110447     0.740560     0.145401     0.042769     0.068719\n",
       "std       0.165644     0.221334     0.187063     0.500040     0.822065\n",
       "min       0.000000     0.000000     0.000000    -0.986200    -1.000000\n",
       "25%       0.000000     0.609000     0.000000    -0.344100    -1.000000\n",
       "50%       0.000000     0.769000     0.076000     0.000000     0.000000\n",
       "75%       0.165000     0.938000     0.231000     0.440400     1.000000\n",
       "max       1.000000     1.000000     1.000000     0.987400     1.000000"
      ]
     },
     "execution_count": 79,
     "metadata": {},
     "output_type": "execute_result"
    }
   ],
   "source": [
    "df_comments_ireland.describe()"
   ]
  },
  {
   "cell_type": "code",
   "execution_count": 80,
   "id": "662e241e",
   "metadata": {},
   "outputs": [
    {
     "data": {
      "text/html": [
       "<div>\n",
       "<style scoped>\n",
       "    .dataframe tbody tr th:only-of-type {\n",
       "        vertical-align: middle;\n",
       "    }\n",
       "\n",
       "    .dataframe tbody tr th {\n",
       "        vertical-align: top;\n",
       "    }\n",
       "\n",
       "    .dataframe thead th {\n",
       "        text-align: right;\n",
       "    }\n",
       "</style>\n",
       "<table border=\"1\" class=\"dataframe\">\n",
       "  <thead>\n",
       "    <tr style=\"text-align: right;\">\n",
       "      <th></th>\n",
       "      <th>neg</th>\n",
       "      <th>neu</th>\n",
       "      <th>pos</th>\n",
       "      <th>compound</th>\n",
       "      <th>label</th>\n",
       "    </tr>\n",
       "  </thead>\n",
       "  <tbody>\n",
       "    <tr>\n",
       "      <th>count</th>\n",
       "      <td>1510.000000</td>\n",
       "      <td>1510.000000</td>\n",
       "      <td>1510.000000</td>\n",
       "      <td>1510.000000</td>\n",
       "      <td>1510.000000</td>\n",
       "    </tr>\n",
       "    <tr>\n",
       "      <th>mean</th>\n",
       "      <td>0.107588</td>\n",
       "      <td>0.745454</td>\n",
       "      <td>0.144971</td>\n",
       "      <td>0.071001</td>\n",
       "      <td>0.113245</td>\n",
       "    </tr>\n",
       "    <tr>\n",
       "      <th>std</th>\n",
       "      <td>0.149832</td>\n",
       "      <td>0.198416</td>\n",
       "      <td>0.165832</td>\n",
       "      <td>0.535654</td>\n",
       "      <td>0.833221</td>\n",
       "    </tr>\n",
       "    <tr>\n",
       "      <th>min</th>\n",
       "      <td>0.000000</td>\n",
       "      <td>0.000000</td>\n",
       "      <td>0.000000</td>\n",
       "      <td>-0.991400</td>\n",
       "      <td>-1.000000</td>\n",
       "    </tr>\n",
       "    <tr>\n",
       "      <th>25%</th>\n",
       "      <td>0.000000</td>\n",
       "      <td>0.638250</td>\n",
       "      <td>0.000000</td>\n",
       "      <td>-0.357275</td>\n",
       "      <td>-1.000000</td>\n",
       "    </tr>\n",
       "    <tr>\n",
       "      <th>50%</th>\n",
       "      <td>0.054000</td>\n",
       "      <td>0.763000</td>\n",
       "      <td>0.110000</td>\n",
       "      <td>0.000000</td>\n",
       "      <td>0.000000</td>\n",
       "    </tr>\n",
       "    <tr>\n",
       "      <th>75%</th>\n",
       "      <td>0.170000</td>\n",
       "      <td>0.880000</td>\n",
       "      <td>0.216750</td>\n",
       "      <td>0.533975</td>\n",
       "      <td>1.000000</td>\n",
       "    </tr>\n",
       "    <tr>\n",
       "      <th>max</th>\n",
       "      <td>1.000000</td>\n",
       "      <td>1.000000</td>\n",
       "      <td>1.000000</td>\n",
       "      <td>0.988500</td>\n",
       "      <td>1.000000</td>\n",
       "    </tr>\n",
       "  </tbody>\n",
       "</table>\n",
       "</div>"
      ],
      "text/plain": [
       "               neg          neu          pos     compound        label\n",
       "count  1510.000000  1510.000000  1510.000000  1510.000000  1510.000000\n",
       "mean      0.107588     0.745454     0.144971     0.071001     0.113245\n",
       "std       0.149832     0.198416     0.165832     0.535654     0.833221\n",
       "min       0.000000     0.000000     0.000000    -0.991400    -1.000000\n",
       "25%       0.000000     0.638250     0.000000    -0.357275    -1.000000\n",
       "50%       0.054000     0.763000     0.110000     0.000000     0.000000\n",
       "75%       0.170000     0.880000     0.216750     0.533975     1.000000\n",
       "max       1.000000     1.000000     1.000000     0.988500     1.000000"
      ]
     },
     "execution_count": 80,
     "metadata": {},
     "output_type": "execute_result"
    }
   ],
   "source": [
    "df_comments_newzealand.describe()"
   ]
  },
  {
   "cell_type": "markdown",
   "id": "b042bbdd",
   "metadata": {},
   "source": [
    "### visualising compound scores for the sub reddits"
   ]
  },
  {
   "cell_type": "code",
   "execution_count": 81,
   "id": "17ec8d9f",
   "metadata": {},
   "outputs": [
    {
     "data": {
      "image/png": "[encoded data removed]",
      "text/plain": [
       "<Figure size 432x288 with 1 Axes>"
      ]
     },
     "metadata": {
      "needs_background": "light"
     },
     "output_type": "display_data"
    }
   ],
   "source": [
    "plt.hist(df_comments_ireland[\"compound\"], bins=10)\n",
    "\n",
    "plt.title('histogram of r/ireland comments compound scores')\n",
    "plt.xlabel('compound score')\n",
    "plt.ylabel('amount of comments')\n",
    "\n",
    "plt.show()"
   ]
  },
  {
   "cell_type": "code",
   "execution_count": 82,
   "id": "486d570c",
   "metadata": {},
   "outputs": [
    {
     "data": {
      "image/png": "[encoded data removed]",
      "text/plain": [
       "<Figure size 432x288 with 1 Axes>"
      ]
     },
     "metadata": {
      "needs_background": "light"
     },
     "output_type": "display_data"
    }
   ],
   "source": [
    "plt.hist(df_comments_newzealand[\"compound\"], bins=10)\n",
    "\n",
    "plt.title('histogram of r/newzealand comments compound scores')\n",
    "plt.xlabel('compound score')\n",
    "plt.ylabel('amount of comments')\n",
    "\n",
    "plt.show()"
   ]
  },
  {
   "cell_type": "markdown",
   "id": "425c946d",
   "metadata": {},
   "source": [
    "## box plots "
   ]
  },
  {
   "cell_type": "code",
   "execution_count": 83,
   "id": "bfcd1707",
   "metadata": {},
   "outputs": [
    {
     "data": {
      "image/png": "[encoded data removed]",
      "text/plain": [
       "<Figure size 432x288 with 1 Axes>"
      ]
     },
     "metadata": {
      "needs_background": "light"
     },
     "output_type": "display_data"
    }
   ],
   "source": [
    "plt.boxplot(df_comments_ireland[\"compound\"])\n",
    "\n",
    "plt.title('boxplot of r/ireland comments compound scores')\n",
    "plt.xlabel('compound score')\n",
    "plt.ylabel('amount of comments')\n",
    "\n",
    "plt.show()"
   ]
  },
  {
   "cell_type": "code",
   "execution_count": 84,
   "id": "a8f5c9df",
   "metadata": {},
   "outputs": [
    {
     "data": {
      "image/png": "[encoded data removed]",
      "text/plain": [
       "<Figure size 432x288 with 1 Axes>"
      ]
     },
     "metadata": {
      "needs_background": "light"
     },
     "output_type": "display_data"
    }
   ],
   "source": [
    "plt.boxplot(df_comments_newzealand[\"compound\"])\n",
    "\n",
    "plt.title('boxplot of r/ireland comments compound scores')\n",
    "plt.xlabel('compound score')\n",
    "plt.ylabel('amount of comments')\n",
    "\n",
    "plt.show()"
   ]
  },
  {
   "cell_type": "markdown",
   "id": "3d4ffa9c",
   "metadata": {},
   "source": [
    "### looking at positive comments in more detail"
   ]
  },
  {
   "cell_type": "code",
   "execution_count": 85,
   "id": "e94298ea",
   "metadata": {},
   "outputs": [
    {
     "data": {
      "text/plain": [
       "[('like', 69),\n",
       " ('ireland', 65),\n",
       " ('american', 55),\n",
       " ('love', 54),\n",
       " ('us', 53),\n",
       " ('get', 49),\n",
       " ('people', 41),\n",
       " ('good', 41),\n",
       " ('irish', 38),\n",
       " ('go', 37),\n",
       " ('well', 36),\n",
       " ('time', 34),\n",
       " ('croatia', 33),\n",
       " ('great', 33),\n",
       " ('know', 31),\n",
       " ('deposit', 30),\n",
       " ('house', 30),\n",
       " ('need', 30),\n",
       " ('would', 29),\n",
       " ('back', 29)]"
      ]
     },
     "execution_count": 85,
     "metadata": {},
     "output_type": "execute_result"
    }
   ],
   "source": [
    "pos_comments_ireland = list(df_comments_ireland[df_comments_ireland.label == 1].comment)\n",
    "\n",
    "pos_tokens_comments_ireland = process_text(pos_comments_ireland)\n",
    "pos_freq_comments_ireland = nltk.FreqDist(pos_tokens_comments_ireland)\n",
    "\n",
    "pos_freq_comments_ireland.most_common(20)"
   ]
  },
  {
   "cell_type": "code",
   "execution_count": 86,
   "id": "0d4684f6",
   "metadata": {},
   "outputs": [
    {
     "data": {
      "image/png": "[encoded data removed]",
      "text/plain": [
       "<Figure size 432x288 with 1 Axes>"
      ]
     },
     "metadata": {
      "needs_background": "light"
     },
     "output_type": "display_data"
    },
    {
     "data": {
      "text/plain": [
       "<AxesSubplot:xlabel='Samples', ylabel='Counts'>"
      ]
     },
     "execution_count": 86,
     "metadata": {},
     "output_type": "execute_result"
    }
   ],
   "source": [
    "pos_freq_comments_ireland.plot(20)\n"
   ]
  },
  {
   "cell_type": "code",
   "execution_count": 87,
   "id": "a7867c9a",
   "metadata": {},
   "outputs": [
    {
     "data": {
      "text/plain": [
       "[('people', 139),\n",
       " ('like', 114),\n",
       " ('nz', 92),\n",
       " ('country', 71),\n",
       " ('us', 63),\n",
       " ('good', 63),\n",
       " ('new zealand', 61),\n",
       " ('get', 57),\n",
       " ('well', 56),\n",
       " ('would', 53),\n",
       " ('vote', 49),\n",
       " ('want', 46),\n",
       " ('love', 45),\n",
       " ('make', 44),\n",
       " ('know', 43),\n",
       " ('time', 43),\n",
       " ('much', 41),\n",
       " ('even', 41),\n",
       " ('one', 39),\n",
       " ('free', 39)]"
      ]
     },
     "execution_count": 87,
     "metadata": {},
     "output_type": "execute_result"
    }
   ],
   "source": [
    "pos_comments_nz = list(df_comments_newzealand[df_comments_newzealand.label == 1].comment)\n",
    "\n",
    "pos_tokens_comments_nz = process_text(pos_comments_nz)\n",
    "pos_freq_comments_nz = nltk.FreqDist(pos_tokens_comments_nz)\n",
    "\n",
    "pos_freq_comments_nz.most_common(20)"
   ]
  },
  {
   "cell_type": "code",
   "execution_count": 88,
   "id": "98174746",
   "metadata": {},
   "outputs": [
    {
     "data": {
      "image/png": "[encoded data removed]",
      "text/plain": [
       "<Figure size 432x288 with 1 Axes>"
      ]
     },
     "metadata": {
      "needs_background": "light"
     },
     "output_type": "display_data"
    },
    {
     "data": {
      "text/plain": [
       "<AxesSubplot:xlabel='Samples', ylabel='Counts'>"
      ]
     },
     "execution_count": 88,
     "metadata": {},
     "output_type": "execute_result"
    }
   ],
   "source": [
    "pos_freq_comments_nz.plot(20)\n"
   ]
  },
  {
   "cell_type": "markdown",
   "id": "713b2b2e",
   "metadata": {},
   "source": [
    "### looking at negative comments in more detail"
   ]
  },
  {
   "cell_type": "code",
   "execution_count": 89,
   "id": "636365d1",
   "metadata": {},
   "outputs": [
    {
     "data": {
      "text/plain": [
       "[('us', 76),\n",
       " ('american', 64),\n",
       " ('fuck', 60),\n",
       " ('deposit', 48),\n",
       " ('people', 48),\n",
       " ('back', 45),\n",
       " ('get', 45),\n",
       " ('ban', 39),\n",
       " ('ireland', 37),\n",
       " ('one', 35),\n",
       " ('house', 35),\n",
       " ('shit', 35),\n",
       " ('like', 33),\n",
       " ('country', 33),\n",
       " ('rent', 30),\n",
       " ('going', 27),\n",
       " ('would', 26),\n",
       " ('americans', 26),\n",
       " ('fucking', 26),\n",
       " ('got', 26)]"
      ]
     },
     "execution_count": 89,
     "metadata": {},
     "output_type": "execute_result"
    }
   ],
   "source": [
    "neg_comments_ireland = list(df_comments_ireland[df_comments_ireland.label == -1].comment)\n",
    "\n",
    "neg_tokens_comments_ireland = process_text(neg_comments_ireland)\n",
    "neg_freq_comments_ireland = nltk.FreqDist(neg_tokens_comments_ireland)\n",
    "\n",
    "neg_freq_comments_ireland.most_common(20)"
   ]
  },
  {
   "cell_type": "code",
   "execution_count": 90,
   "id": "a85880d4",
   "metadata": {},
   "outputs": [
    {
     "name": "stdout",
     "output_type": "stream",
     "text": [
      "frequency plot of top 20 'negative' from comments r/ireland \n"
     ]
    },
    {
     "data": {
      "image/png": "[encoded data removed]",
      "text/plain": [
       "<Figure size 432x288 with 1 Axes>"
      ]
     },
     "metadata": {
      "needs_background": "light"
     },
     "output_type": "display_data"
    },
    {
     "data": {
      "text/plain": [
       "<AxesSubplot:xlabel='Samples', ylabel='Counts'>"
      ]
     },
     "execution_count": 90,
     "metadata": {},
     "output_type": "execute_result"
    }
   ],
   "source": [
    "print(\"frequency plot of top 20 'negative' from comments r/ireland \")\n",
    "neg_freq_comments_ireland.plot(20)\n"
   ]
  },
  {
   "cell_type": "code",
   "execution_count": 91,
   "id": "88617fca",
   "metadata": {},
   "outputs": [
    {
     "data": {
      "text/plain": [
       "[('people', 111),\n",
       " ('fuck', 74),\n",
       " ('like', 57),\n",
       " ('shit', 57),\n",
       " ('get', 54),\n",
       " ('nz', 46),\n",
       " ('tipping', 46),\n",
       " ('us', 40),\n",
       " ('one', 39),\n",
       " ('time', 38),\n",
       " ('tip', 38),\n",
       " ('would', 35),\n",
       " ('pay', 34),\n",
       " ('country', 33),\n",
       " ('new zealand', 31),\n",
       " ('know', 31),\n",
       " ('covid', 31),\n",
       " ('going', 30),\n",
       " ('fucking', 30),\n",
       " ('also', 28)]"
      ]
     },
     "execution_count": 91,
     "metadata": {},
     "output_type": "execute_result"
    }
   ],
   "source": [
    "neg_comments_nz = list(df_comments_newzealand[df_comments_newzealand.label == -1].comment)\n",
    "\n",
    "neg_tokens_comments_nz = process_text(neg_comments_nz)\n",
    "neg_freq_comments_nz = nltk.FreqDist(neg_tokens_comments_nz)\n",
    "\n",
    "neg_freq_comments_nz.most_common(20)"
   ]
  },
  {
   "cell_type": "code",
   "execution_count": 92,
   "id": "6270ab97",
   "metadata": {},
   "outputs": [
    {
     "name": "stdout",
     "output_type": "stream",
     "text": [
      "frequency plot of top 20 'negative' from comments r/newzealand \n"
     ]
    },
    {
     "data": {
      "image/png": "[encoded data removed]",
      "text/plain": [
       "<Figure size 432x288 with 1 Axes>"
      ]
     },
     "metadata": {
      "needs_background": "light"
     },
     "output_type": "display_data"
    },
    {
     "data": {
      "text/plain": [
       "<AxesSubplot:xlabel='Samples', ylabel='Counts'>"
      ]
     },
     "execution_count": 92,
     "metadata": {},
     "output_type": "execute_result"
    }
   ],
   "source": [
    "print(\"frequency plot of top 20 'negative' from comments r/newzealand \")\n",
    "\n",
    "neg_freq_comments_nz.plot(20)\n"
   ]
  },
  {
   "cell_type": "code",
   "execution_count": null,
   "id": "a5bf853c",
   "metadata": {},
   "outputs": [],
   "source": []
  }
 ],
 "metadata": {
  "kernelspec": {
   "display_name": "Python 3 (ipykernel)",
   "language": "python",
   "name": "python3"
  },
  "language_info": {
   "codemirror_mode": {
    "name": "ipython",
    "version": 3
   },
   "file_extension": ".py",
   "mimetype": "text/x-python",
   "name": "python",
   "nbconvert_exporter": "python",
   "pygments_lexer": "ipython3",
   "version": "3.8.12"
  }
 },
 "nbformat": 4,
 "nbformat_minor": 5
}
