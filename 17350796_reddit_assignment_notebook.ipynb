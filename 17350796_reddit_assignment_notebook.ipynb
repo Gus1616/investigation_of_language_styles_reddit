{
 "cells": [
  {
   "cell_type": "markdown",
   "id": "226f5ae7",
   "metadata": {},
   "source": [
    "<center><h2>COMP40020: Human Language Technologies\n",
    "Assignment 1 </h2></center>\n"
   ]
  },
  {
   "cell_type": "markdown",
   "id": "6b3866bd",
   "metadata": {},
   "source": [
    "#### imports"
   ]
  },
  {
   "cell_type": "code",
   "execution_count": 1,
   "id": "1d68193c",
   "metadata": {},
   "outputs": [],
   "source": [
    "import nltk\n",
    "import matplotlib\n",
    "import re\n",
    "from nltk.tokenize import word_tokenize\n",
    "from nltk.tag import pos_tag\n",
    "from nltk.chunk import ne_chunk\n",
    "import matplotlib.pyplot as plt\n",
    "import seaborn as sns\n",
    "import emoji\n",
    "from IPython import display\n",
    "import math\n",
    "from pprint import pprint\n",
    "import pandas as pd\n",
    "import numpy as np\n",
    "import praw\n",
    "from praw.models import MoreComments\n",
    "from nltk.sentiment.vader import SentimentIntensityAnalyzer as SIA\n",
    "from nltk.corpus import stopwords\n",
    "from nltk.tokenize import word_tokenize, RegexpTokenizer\n",
    "\n"
   ]
  },
  {
   "cell_type": "markdown",
   "id": "b555e31a",
   "metadata": {},
   "source": [
    "### references:\n",
    "- Code was adapted from the following resources as well as code from the labs:\n",
    "-  https://www.learndatasci.com/tutorials/sentiment-analysis-reddit-headlines-pythons-nltk/\n",
    "- https://medium.com/@kiddojazz/reddit-sentiment-analysis-f8a1a790124a\n",
    "- https://towardsdatascience.com/automate-sentiment-analysis-process-for-reddit-post-textblob-and-vader-8a79c269522f"
   ]
  },
  {
   "cell_type": "code",
   "execution_count": 2,
   "id": "2fdbdc40",
   "metadata": {},
   "outputs": [],
   "source": [
    "ci = \"HLTassignment1999\" #your client id\n",
    "cs = \"p2LFKOI2h6gyQ_Y3A9ilM-hprJGMiA\" #your client secret\n",
    "ua = \"busterorwha\" #your user agent name\n",
    "sub = \"ireland\" #the name of the subreddit (not including the 'r/')"
   ]
  },
  {
   "cell_type": "code",
   "execution_count": 3,
   "id": "adc429b0",
   "metadata": {},
   "outputs": [],
   "source": [
    "\n",
    "reddit = praw.Reddit(client_id='fQeiW15Vp7PWost_U0QkaA',\n",
    "                     client_secret='p2LFKOI2h6gyQ_Y3A9ilM-hprJGMiA',\n",
    "                     user_agent='busterorwha')\n",
    "\n",
    "\n"
   ]
  },
  {
   "cell_type": "markdown",
   "id": "0536144e",
   "metadata": {},
   "source": [
    "### sets to hold headlines"
   ]
  },
  {
   "cell_type": "code",
   "execution_count": 4,
   "id": "e8b7a881",
   "metadata": {},
   "outputs": [],
   "source": [
    "headlines = set()\n",
    "headlines_newZealand = set()"
   ]
  },
  {
   "cell_type": "markdown",
   "id": "ae19b8b0",
   "metadata": {},
   "source": [
    "### Looking at 900 new post titles "
   ]
  },
  {
   "cell_type": "code",
   "execution_count": 5,
   "id": "0d805681",
   "metadata": {},
   "outputs": [
    {
     "name": "stdout",
     "output_type": "stream",
     "text": [
      "965\n"
     ]
    }
   ],
   "source": [
    "# r/ireland\n",
    "for submission in reddit.subreddit('ireland').new(limit=900):\n",
    "    headlines.add(submission.title)\n",
    "    display.clear_output()\n",
    "    print(len(headlines))"
   ]
  },
  {
   "cell_type": "code",
   "execution_count": 6,
   "id": "09180777",
   "metadata": {},
   "outputs": [
    {
     "name": "stdout",
     "output_type": "stream",
     "text": [
      "966\n"
     ]
    }
   ],
   "source": [
    "# r/newzealand\n",
    "for submission in reddit.subreddit('newzealand').new(limit=900):\n",
    "    headlines_newZealand.add(submission.title)\n",
    "    display.clear_output()\n",
    "    print(len(headlines_newZealand))"
   ]
  },
  {
   "cell_type": "markdown",
   "id": "ab1f216c",
   "metadata": {},
   "source": [
    "### r/ireland"
   ]
  },
  {
   "cell_type": "code",
   "execution_count": 68,
   "id": "07fefc1a",
   "metadata": {},
   "outputs": [],
   "source": [
    "# function for sentiment analysis \n",
    "def sia_function(headlines):\n",
    "\n",
    "    sia = SIA()\n",
    "    results = []\n",
    "\n",
    "    for line in headlines:\n",
    "        pol_score = sia.polarity_scores(line)\n",
    "        pol_score['headline'] = line\n",
    "        results.append(pol_score)\n",
    "        \n",
    "    return results\n",
    "\n",
    "    "
   ]
  },
  {
   "cell_type": "code",
   "execution_count": 7,
   "id": "218a60da",
   "metadata": {},
   "outputs": [
    {
     "name": "stdout",
     "output_type": "stream",
     "text": [
      "[{'compound': 0.3182,\n",
      "  'headline': 'Petrol and diesel prices to increase by 2c per litre from today [National Oil '\n",
      "              'Reserves Agency (NORA) levy has been reinstated]',\n",
      "  'neg': 0.0,\n",
      "  'neu': 0.897,\n",
      "  'pos': 0.103},\n",
      " {'compound': 0.0, 'headline': 'Which of ye was it lads?', 'neg': 0.0, 'neu': 1.0, 'pos': 0.0},\n",
      " {'compound': 0.0,\n",
      "  'headline': 'Ireland Thinks/Sunday Indo Dáil Éireann poll, 3 March 2023: SF: 29% (-2), FG: 21% '\n",
      "              '(-1), FG 19% (+1), SD: 9% (+5), GP: 4% (n/c), PBP/S: 2% (-1), LAB: 3% (-1), AON: 3% '\n",
      "              '(-1)',\n",
      "  'neg': 0.0,\n",
      "  'neu': 1.0,\n",
      "  'pos': 0.0}]\n"
     ]
    }
   ],
   "source": [
    "# sentiment intensity analyser \n",
    "\n",
    "sia = SIA()\n",
    "results = []\n",
    "\n",
    "for line in headlines:\n",
    "    pol_score = sia.polarity_scores(line)\n",
    "    pol_score['headline'] = line\n",
    "    results.append(pol_score)\n",
    "\n",
    "pprint(results[:3], width=100)"
   ]
  },
  {
   "cell_type": "markdown",
   "id": "ac6e3bc3",
   "metadata": {},
   "source": [
    "### r/newzealand"
   ]
  },
  {
   "cell_type": "code",
   "execution_count": 8,
   "id": "29cf3551",
   "metadata": {},
   "outputs": [
    {
     "name": "stdout",
     "output_type": "stream",
     "text": [
      "[{'compound': 0.0, 'headline': 'Australian Passport times', 'neg': 0.0, 'neu': 1.0, 'pos': 0.0},\n",
      " {'compound': -0.1298,\n",
      "  'headline': \"Auckland Mayor Wayne Brown's diary almost empty day of the flood\",\n",
      "  'neg': 0.131,\n",
      "  'neu': 0.869,\n",
      "  'pos': 0.0},\n",
      " {'compound': 0.0,\n",
      "  'headline': 'Does anyone know what kind of spider this is?',\n",
      "  'neg': 0.0,\n",
      "  'neu': 1.0,\n",
      "  'pos': 0.0}]\n"
     ]
    }
   ],
   "source": [
    "sia = SIA()\n",
    "results_nz = []\n",
    "\n",
    "for line in headlines_newZealand:\n",
    "    pol_score = sia.polarity_scores(line)\n",
    "    pol_score['headline'] = line\n",
    "    results_nz.append(pol_score)\n",
    "\n",
    "pprint(results_nz[:3], width=100)"
   ]
  },
  {
   "cell_type": "markdown",
   "id": "ce98fdfb",
   "metadata": {},
   "source": [
    "### dataframe r/ireland"
   ]
  },
  {
   "cell_type": "code",
   "execution_count": 9,
   "id": "49b9fde3",
   "metadata": {},
   "outputs": [
    {
     "data": {
      "text/html": [
       "<div>\n",
       "<style scoped>\n",
       "    .dataframe tbody tr th:only-of-type {\n",
       "        vertical-align: middle;\n",
       "    }\n",
       "\n",
       "    .dataframe tbody tr th {\n",
       "        vertical-align: top;\n",
       "    }\n",
       "\n",
       "    .dataframe thead th {\n",
       "        text-align: right;\n",
       "    }\n",
       "</style>\n",
       "<table border=\"1\" class=\"dataframe\">\n",
       "  <thead>\n",
       "    <tr style=\"text-align: right;\">\n",
       "      <th></th>\n",
       "      <th>neg</th>\n",
       "      <th>neu</th>\n",
       "      <th>pos</th>\n",
       "      <th>compound</th>\n",
       "      <th>headline</th>\n",
       "    </tr>\n",
       "  </thead>\n",
       "  <tbody>\n",
       "    <tr>\n",
       "      <th>0</th>\n",
       "      <td>0.0</td>\n",
       "      <td>0.897</td>\n",
       "      <td>0.103</td>\n",
       "      <td>0.3182</td>\n",
       "      <td>Petrol and diesel prices to increase by 2c per...</td>\n",
       "    </tr>\n",
       "    <tr>\n",
       "      <th>1</th>\n",
       "      <td>0.0</td>\n",
       "      <td>1.000</td>\n",
       "      <td>0.000</td>\n",
       "      <td>0.0000</td>\n",
       "      <td>Which of ye was it lads?</td>\n",
       "    </tr>\n",
       "    <tr>\n",
       "      <th>2</th>\n",
       "      <td>0.0</td>\n",
       "      <td>1.000</td>\n",
       "      <td>0.000</td>\n",
       "      <td>0.0000</td>\n",
       "      <td>Ireland Thinks/Sunday Indo Dáil Éireann poll, ...</td>\n",
       "    </tr>\n",
       "    <tr>\n",
       "      <th>3</th>\n",
       "      <td>0.0</td>\n",
       "      <td>1.000</td>\n",
       "      <td>0.000</td>\n",
       "      <td>0.0000</td>\n",
       "      <td>Any tips for a cycling on backroads?</td>\n",
       "    </tr>\n",
       "    <tr>\n",
       "      <th>4</th>\n",
       "      <td>0.0</td>\n",
       "      <td>1.000</td>\n",
       "      <td>0.000</td>\n",
       "      <td>0.0000</td>\n",
       "      <td>Muslim Sisters of Eire on Twitter [People from...</td>\n",
       "    </tr>\n",
       "  </tbody>\n",
       "</table>\n",
       "</div>"
      ],
      "text/plain": [
       "   neg    neu    pos  compound  \\\n",
       "0  0.0  0.897  0.103    0.3182   \n",
       "1  0.0  1.000  0.000    0.0000   \n",
       "2  0.0  1.000  0.000    0.0000   \n",
       "3  0.0  1.000  0.000    0.0000   \n",
       "4  0.0  1.000  0.000    0.0000   \n",
       "\n",
       "                                            headline  \n",
       "0  Petrol and diesel prices to increase by 2c per...  \n",
       "1                           Which of ye was it lads?  \n",
       "2  Ireland Thinks/Sunday Indo Dáil Éireann poll, ...  \n",
       "3               Any tips for a cycling on backroads?  \n",
       "4  Muslim Sisters of Eire on Twitter [People from...  "
      ]
     },
     "execution_count": 9,
     "metadata": {},
     "output_type": "execute_result"
    }
   ],
   "source": [
    "df = pd.DataFrame.from_records(results)\n",
    "df.head()"
   ]
  },
  {
   "cell_type": "markdown",
   "id": "35ac390b",
   "metadata": {},
   "source": [
    "### defining positive and negative label"
   ]
  },
  {
   "cell_type": "code",
   "execution_count": 72,
   "id": "f893302b",
   "metadata": {},
   "outputs": [],
   "source": [
    "def define_positive(df):\n",
    "    df['label'] = 0\n",
    "    df.loc[df['compound'] > 0.2, 'label'] = 1\n",
    "    df.loc[df['compound'] < -0.2, 'label'] = -1\n",
    "    return df\n",
    "    "
   ]
  },
  {
   "cell_type": "code",
   "execution_count": 10,
   "id": "e2660e66",
   "metadata": {},
   "outputs": [
    {
     "data": {
      "text/html": [
       "<div>\n",
       "<style scoped>\n",
       "    .dataframe tbody tr th:only-of-type {\n",
       "        vertical-align: middle;\n",
       "    }\n",
       "\n",
       "    .dataframe tbody tr th {\n",
       "        vertical-align: top;\n",
       "    }\n",
       "\n",
       "    .dataframe thead th {\n",
       "        text-align: right;\n",
       "    }\n",
       "</style>\n",
       "<table border=\"1\" class=\"dataframe\">\n",
       "  <thead>\n",
       "    <tr style=\"text-align: right;\">\n",
       "      <th></th>\n",
       "      <th>neg</th>\n",
       "      <th>neu</th>\n",
       "      <th>pos</th>\n",
       "      <th>compound</th>\n",
       "      <th>headline</th>\n",
       "      <th>label</th>\n",
       "    </tr>\n",
       "  </thead>\n",
       "  <tbody>\n",
       "    <tr>\n",
       "      <th>0</th>\n",
       "      <td>0.0</td>\n",
       "      <td>0.897</td>\n",
       "      <td>0.103</td>\n",
       "      <td>0.3182</td>\n",
       "      <td>Petrol and diesel prices to increase by 2c per...</td>\n",
       "      <td>1</td>\n",
       "    </tr>\n",
       "    <tr>\n",
       "      <th>1</th>\n",
       "      <td>0.0</td>\n",
       "      <td>1.000</td>\n",
       "      <td>0.000</td>\n",
       "      <td>0.0000</td>\n",
       "      <td>Which of ye was it lads?</td>\n",
       "      <td>0</td>\n",
       "    </tr>\n",
       "    <tr>\n",
       "      <th>2</th>\n",
       "      <td>0.0</td>\n",
       "      <td>1.000</td>\n",
       "      <td>0.000</td>\n",
       "      <td>0.0000</td>\n",
       "      <td>Ireland Thinks/Sunday Indo Dáil Éireann poll, ...</td>\n",
       "      <td>0</td>\n",
       "    </tr>\n",
       "    <tr>\n",
       "      <th>3</th>\n",
       "      <td>0.0</td>\n",
       "      <td>1.000</td>\n",
       "      <td>0.000</td>\n",
       "      <td>0.0000</td>\n",
       "      <td>Any tips for a cycling on backroads?</td>\n",
       "      <td>0</td>\n",
       "    </tr>\n",
       "    <tr>\n",
       "      <th>4</th>\n",
       "      <td>0.0</td>\n",
       "      <td>1.000</td>\n",
       "      <td>0.000</td>\n",
       "      <td>0.0000</td>\n",
       "      <td>Muslim Sisters of Eire on Twitter [People from...</td>\n",
       "      <td>0</td>\n",
       "    </tr>\n",
       "  </tbody>\n",
       "</table>\n",
       "</div>"
      ],
      "text/plain": [
       "   neg    neu    pos  compound  \\\n",
       "0  0.0  0.897  0.103    0.3182   \n",
       "1  0.0  1.000  0.000    0.0000   \n",
       "2  0.0  1.000  0.000    0.0000   \n",
       "3  0.0  1.000  0.000    0.0000   \n",
       "4  0.0  1.000  0.000    0.0000   \n",
       "\n",
       "                                            headline  label  \n",
       "0  Petrol and diesel prices to increase by 2c per...      1  \n",
       "1                           Which of ye was it lads?      0  \n",
       "2  Ireland Thinks/Sunday Indo Dáil Éireann poll, ...      0  \n",
       "3               Any tips for a cycling on backroads?      0  \n",
       "4  Muslim Sisters of Eire on Twitter [People from...      0  "
      ]
     },
     "execution_count": 10,
     "metadata": {},
     "output_type": "execute_result"
    }
   ],
   "source": [
    "df['label'] = 0\n",
    "df.loc[df['compound'] > 0.2, 'label'] = 1\n",
    "df.loc[df['compound'] < -0.2, 'label'] = -1\n",
    "df.head()"
   ]
  },
  {
   "cell_type": "markdown",
   "id": "ca45cc10",
   "metadata": {},
   "source": [
    "### dataframe r/newzealand"
   ]
  },
  {
   "cell_type": "code",
   "execution_count": 11,
   "id": "8f997a0d",
   "metadata": {},
   "outputs": [
    {
     "data": {
      "text/html": [
       "<div>\n",
       "<style scoped>\n",
       "    .dataframe tbody tr th:only-of-type {\n",
       "        vertical-align: middle;\n",
       "    }\n",
       "\n",
       "    .dataframe tbody tr th {\n",
       "        vertical-align: top;\n",
       "    }\n",
       "\n",
       "    .dataframe thead th {\n",
       "        text-align: right;\n",
       "    }\n",
       "</style>\n",
       "<table border=\"1\" class=\"dataframe\">\n",
       "  <thead>\n",
       "    <tr style=\"text-align: right;\">\n",
       "      <th></th>\n",
       "      <th>neg</th>\n",
       "      <th>neu</th>\n",
       "      <th>pos</th>\n",
       "      <th>compound</th>\n",
       "      <th>headline</th>\n",
       "    </tr>\n",
       "  </thead>\n",
       "  <tbody>\n",
       "    <tr>\n",
       "      <th>0</th>\n",
       "      <td>0.000</td>\n",
       "      <td>1.000</td>\n",
       "      <td>0.000</td>\n",
       "      <td>0.0000</td>\n",
       "      <td>Australian Passport times</td>\n",
       "    </tr>\n",
       "    <tr>\n",
       "      <th>1</th>\n",
       "      <td>0.131</td>\n",
       "      <td>0.869</td>\n",
       "      <td>0.000</td>\n",
       "      <td>-0.1298</td>\n",
       "      <td>Auckland Mayor Wayne Brown's diary almost empt...</td>\n",
       "    </tr>\n",
       "    <tr>\n",
       "      <th>2</th>\n",
       "      <td>0.000</td>\n",
       "      <td>1.000</td>\n",
       "      <td>0.000</td>\n",
       "      <td>0.0000</td>\n",
       "      <td>Does anyone know what kind of spider this is?</td>\n",
       "    </tr>\n",
       "    <tr>\n",
       "      <th>3</th>\n",
       "      <td>0.000</td>\n",
       "      <td>0.841</td>\n",
       "      <td>0.159</td>\n",
       "      <td>0.1779</td>\n",
       "      <td>Growing momentum for ‘David and Goliath’ offic...</td>\n",
       "    </tr>\n",
       "    <tr>\n",
       "      <th>4</th>\n",
       "      <td>0.000</td>\n",
       "      <td>0.536</td>\n",
       "      <td>0.464</td>\n",
       "      <td>0.3818</td>\n",
       "      <td>Real wage growth 1990-2022</td>\n",
       "    </tr>\n",
       "  </tbody>\n",
       "</table>\n",
       "</div>"
      ],
      "text/plain": [
       "     neg    neu    pos  compound  \\\n",
       "0  0.000  1.000  0.000    0.0000   \n",
       "1  0.131  0.869  0.000   -0.1298   \n",
       "2  0.000  1.000  0.000    0.0000   \n",
       "3  0.000  0.841  0.159    0.1779   \n",
       "4  0.000  0.536  0.464    0.3818   \n",
       "\n",
       "                                            headline  \n",
       "0                          Australian Passport times  \n",
       "1  Auckland Mayor Wayne Brown's diary almost empt...  \n",
       "2      Does anyone know what kind of spider this is?  \n",
       "3  Growing momentum for ‘David and Goliath’ offic...  \n",
       "4                         Real wage growth 1990-2022  "
      ]
     },
     "execution_count": 11,
     "metadata": {},
     "output_type": "execute_result"
    }
   ],
   "source": [
    "df_nz = pd.DataFrame.from_records(results_nz)\n",
    "df_nz.head()"
   ]
  },
  {
   "cell_type": "markdown",
   "id": "8d98f9c7",
   "metadata": {},
   "source": [
    "### defining positive and negative label"
   ]
  },
  {
   "cell_type": "code",
   "execution_count": 12,
   "id": "5519d9fc",
   "metadata": {},
   "outputs": [
    {
     "data": {
      "text/html": [
       "<div>\n",
       "<style scoped>\n",
       "    .dataframe tbody tr th:only-of-type {\n",
       "        vertical-align: middle;\n",
       "    }\n",
       "\n",
       "    .dataframe tbody tr th {\n",
       "        vertical-align: top;\n",
       "    }\n",
       "\n",
       "    .dataframe thead th {\n",
       "        text-align: right;\n",
       "    }\n",
       "</style>\n",
       "<table border=\"1\" class=\"dataframe\">\n",
       "  <thead>\n",
       "    <tr style=\"text-align: right;\">\n",
       "      <th></th>\n",
       "      <th>neg</th>\n",
       "      <th>neu</th>\n",
       "      <th>pos</th>\n",
       "      <th>compound</th>\n",
       "      <th>headline</th>\n",
       "      <th>label</th>\n",
       "    </tr>\n",
       "  </thead>\n",
       "  <tbody>\n",
       "    <tr>\n",
       "      <th>0</th>\n",
       "      <td>0.000</td>\n",
       "      <td>1.000</td>\n",
       "      <td>0.000</td>\n",
       "      <td>0.0000</td>\n",
       "      <td>Australian Passport times</td>\n",
       "      <td>0</td>\n",
       "    </tr>\n",
       "    <tr>\n",
       "      <th>1</th>\n",
       "      <td>0.131</td>\n",
       "      <td>0.869</td>\n",
       "      <td>0.000</td>\n",
       "      <td>-0.1298</td>\n",
       "      <td>Auckland Mayor Wayne Brown's diary almost empt...</td>\n",
       "      <td>0</td>\n",
       "    </tr>\n",
       "    <tr>\n",
       "      <th>2</th>\n",
       "      <td>0.000</td>\n",
       "      <td>1.000</td>\n",
       "      <td>0.000</td>\n",
       "      <td>0.0000</td>\n",
       "      <td>Does anyone know what kind of spider this is?</td>\n",
       "      <td>0</td>\n",
       "    </tr>\n",
       "    <tr>\n",
       "      <th>3</th>\n",
       "      <td>0.000</td>\n",
       "      <td>0.841</td>\n",
       "      <td>0.159</td>\n",
       "      <td>0.1779</td>\n",
       "      <td>Growing momentum for ‘David and Goliath’ offic...</td>\n",
       "      <td>0</td>\n",
       "    </tr>\n",
       "    <tr>\n",
       "      <th>4</th>\n",
       "      <td>0.000</td>\n",
       "      <td>0.536</td>\n",
       "      <td>0.464</td>\n",
       "      <td>0.3818</td>\n",
       "      <td>Real wage growth 1990-2022</td>\n",
       "      <td>1</td>\n",
       "    </tr>\n",
       "  </tbody>\n",
       "</table>\n",
       "</div>"
      ],
      "text/plain": [
       "     neg    neu    pos  compound  \\\n",
       "0  0.000  1.000  0.000    0.0000   \n",
       "1  0.131  0.869  0.000   -0.1298   \n",
       "2  0.000  1.000  0.000    0.0000   \n",
       "3  0.000  0.841  0.159    0.1779   \n",
       "4  0.000  0.536  0.464    0.3818   \n",
       "\n",
       "                                            headline  label  \n",
       "0                          Australian Passport times      0  \n",
       "1  Auckland Mayor Wayne Brown's diary almost empt...      0  \n",
       "2      Does anyone know what kind of spider this is?      0  \n",
       "3  Growing momentum for ‘David and Goliath’ offic...      0  \n",
       "4                         Real wage growth 1990-2022      1  "
      ]
     },
     "execution_count": 12,
     "metadata": {},
     "output_type": "execute_result"
    }
   ],
   "source": [
    "df_nz['label'] = 0\n",
    "df_nz.loc[df_nz['compound'] > 0.2, 'label'] = 1\n",
    "df_nz.loc[df_nz['compound'] < -0.2, 'label'] = -1\n",
    "df_nz.head()"
   ]
  },
  {
   "cell_type": "markdown",
   "id": "187cdf95",
   "metadata": {},
   "source": [
    "### example of positive and neg headlines r/ireland"
   ]
  },
  {
   "cell_type": "code",
   "execution_count": 13,
   "id": "7d31f0b2",
   "metadata": {},
   "outputs": [
    {
     "name": "stdout",
     "output_type": "stream",
     "text": [
      "Positive headlines:\n",
      "\n",
      "['Petrol and diesel prices to increase by 2c per litre from today [National Oil Reserves Agency (NORA) levy has been reinstated]',\n",
      " 'Tesla owners in Ireland: is it a good buy?',\n",
      " 'NCT free test review raises ‘serious questions’, Road Safety Authority told',\n",
      " \"I'm looking to buy a 'live edge' treated wood block to mount a sink on, have found one on Etsy (see below) but would like an Irish one!\",\n",
      " 'Do guys in Ireland enjoy lip filler?']\n",
      "\n",
      "Negative headlines:\n",
      "\n",
      "['Around 2,000 badgers illegally killed every year in NI',\n",
      " 'Domestic economy entered technical recession at end of last year',\n",
      " 'Anyone here travelled to Brazil recently and if so did u need to show negative PCR in Brazilian airport?',\n",
      " 'UPATE--I got Tired of being fat & Ugly. Today I managed a Full Murph for the first time.',\n",
      " 'Ireland vulnerable to Russian espionage with many spy agents ‘likely’ to be across the country already']\n"
     ]
    }
   ],
   "source": [
    "print(\"Positive headlines:\\n\")\n",
    "pprint(list(df[df['label'] == 1].headline)[:5], width=200)\n",
    "\n",
    "print(\"\\nNegative headlines:\\n\")\n",
    "pprint(list(df[df['label'] == -1].headline)[:5], width=200)"
   ]
  },
  {
   "cell_type": "markdown",
   "id": "754b5349",
   "metadata": {},
   "source": [
    "### example of positive and neg headlines r/newzealand"
   ]
  },
  {
   "cell_type": "code",
   "execution_count": 14,
   "id": "bd228362",
   "metadata": {},
   "outputs": [
    {
     "name": "stdout",
     "output_type": "stream",
     "text": [
      "Positive headlines:\n",
      "\n",
      "['Real wage growth 1990-2022',\n",
      " 'Participation award of the week goes to!',\n",
      " 'The amount of New Zealanders who support Russia is concerning',\n",
      " 'New Zealand needs to set up racing tracks for the public free of charge',\n",
      " 'HdPA Security Guards']\n",
      "\n",
      "Negative headlines:\n",
      "\n",
      "[\"NZ's Nightmare Scenario In Ukraine War\",\n",
      " \"Defence Minister Andrew Little says military 'under pressure' as Pacific becomes contested\",\n",
      " 'does the certificate of particulars show if your drivers license is suspended?',\n",
      " 'Rachel Smalley: Campbell’s comments don’t impact the lives of patients. Pharmac’s failings do.',\n",
      " 'Does workplace ostracism & cliquey-ness exist in corporate/white collar New Zealand, and have you experienced it as a shy/socially anxious person?']\n"
     ]
    }
   ],
   "source": [
    "print(\"Positive headlines:\\n\")\n",
    "pprint(list(df_nz[df_nz['label'] == 1].headline)[:5], width=200)\n",
    "\n",
    "print(\"\\nNegative headlines:\\n\")\n",
    "pprint(list(df_nz[df_nz['label'] == -1].headline)[:5], width=200)"
   ]
  },
  {
   "cell_type": "markdown",
   "id": "c95ca0b9",
   "metadata": {},
   "source": [
    "### looking at value counts r/ireland"
   ]
  },
  {
   "cell_type": "code",
   "execution_count": 15,
   "id": "888a8018",
   "metadata": {},
   "outputs": [
    {
     "name": "stdout",
     "output_type": "stream",
     "text": [
      " 0    524\n",
      " 1    235\n",
      "-1    206\n",
      "Name: label, dtype: int64\n",
      " 0    54.300518\n",
      " 1    24.352332\n",
      "-1    21.347150\n",
      "Name: label, dtype: float64\n"
     ]
    }
   ],
   "source": [
    "print(df.label.value_counts())\n",
    "print(df.label.value_counts(normalize=True) * 100)\n"
   ]
  },
  {
   "cell_type": "markdown",
   "id": "68d47574",
   "metadata": {},
   "source": [
    "### looking at value counts r/newzealand"
   ]
  },
  {
   "cell_type": "code",
   "execution_count": 16,
   "id": "df4176f4",
   "metadata": {},
   "outputs": [
    {
     "name": "stdout",
     "output_type": "stream",
     "text": [
      " 0    565\n",
      "-1    214\n",
      " 1    187\n",
      "Name: label, dtype: int64\n",
      " 0    58.488613\n",
      "-1    22.153209\n",
      " 1    19.358178\n",
      "Name: label, dtype: float64\n"
     ]
    }
   ],
   "source": [
    "print(df_nz.label.value_counts())\n",
    "print(df_nz.label.value_counts(normalize=True) * 100)"
   ]
  },
  {
   "cell_type": "markdown",
   "id": "7c5b157a",
   "metadata": {},
   "source": [
    "### graph comparing results "
   ]
  },
  {
   "cell_type": "markdown",
   "id": "35b73f43",
   "metadata": {},
   "source": [
    "code adapted from: https://stackoverflow.com/questions/10369681/how-to-plot-bar-graphs-with-same-x-coordinates-side-by-side-dodged "
   ]
  },
  {
   "cell_type": "code",
   "execution_count": 32,
   "id": "b5ae66d5",
   "metadata": {},
   "outputs": [
    {
     "data": {
      "image/png": "[encoded data removed]",
      "text/plain": [
       "<Figure size 720x360 with 1 Axes>"
      ]
     },
     "metadata": {
      "needs_background": "light"
     },
     "output_type": "display_data"
    }
   ],
   "source": [
    "\n",
    "N = 3\n",
    "\n",
    "blue_bar = (counts_ireland)\n",
    "orange_bar = (counts_nz)\n",
    "\n",
    "# Position of bars on x-axis\n",
    "ind = np.arange(N)\n",
    "# Figure size\n",
    "plt.figure(figsize=(10,5))\n",
    "\n",
    "# Width of a bar \n",
    "width = 0.3       \n",
    "\n",
    "# Plotting\n",
    "plt.bar(ind, blue_bar , width, label='Ireland')\n",
    "plt.bar(ind + width, orange_bar, width, label='newzealand')\n",
    "\n",
    "plt.ylabel('Percentage')\n",
    "plt.title('Comparing r/ireland and r/newzealand')\n",
    "\n",
    "plt.xticks(ind + width / 2, ('Neutral', 'Negative', 'Positve'))\n",
    "\n",
    "# Finding the best position for legends and putting it\n",
    "plt.legend(loc='best')\n",
    "plt.show()"
   ]
  },
  {
   "cell_type": "markdown",
   "id": "4e94b34f",
   "metadata": {},
   "source": [
    "### Newzealand"
   ]
  },
  {
   "cell_type": "code",
   "execution_count": 34,
   "id": "55c5b7bd",
   "metadata": {},
   "outputs": [],
   "source": [
    "# fig, ax = plt.subplots(figsize=(8, 8))\n",
    "\n",
    "# counts_nz = df_nz.label.value_counts(normalize=True) * 100\n",
    "\n",
    "# sns.barplot(x=counts_nz.index, y=counts_nz, ax=ax)\n",
    "\n",
    "# ax.set_xticklabels(['Negative', 'Neutral', 'Positive'])\n",
    "# ax.set_ylabel(\"Percentage\")\n",
    "\n",
    "# plt.show()"
   ]
  },
  {
   "cell_type": "code",
   "execution_count": null,
   "id": "62aadfe0",
   "metadata": {},
   "outputs": [],
   "source": [
    "# fig, ax = plt.subplots(figsize=(8, 8))\n",
    "\n",
    "# counts_ireland = df.label.value_counts(normalize=True) * 100\n",
    "\n",
    "# sns.barplot(x=counts_ireland.index, y=counts_ireland, ax=ax)\n",
    "\n",
    "# ax.set_xticklabels(['Negative', 'Neutral', 'Positive'])\n",
    "# ax.set_ylabel(\"Percentage\")\n",
    "\n",
    "# plt.show()"
   ]
  },
  {
   "cell_type": "markdown",
   "id": "3808e395",
   "metadata": {},
   "source": [
    "### Looking at headlines in more detail:"
   ]
  },
  {
   "cell_type": "code",
   "execution_count": 47,
   "id": "f2f9b4ec",
   "metadata": {},
   "outputs": [],
   "source": [
    "# tokenizer that only looks at works, removes punctuation\n",
    "tokenizer = RegexpTokenizer(r'\\w+')\n",
    "stop_words = stopwords.words('english')\n",
    "\n",
    "def process_text(headlines):\n",
    "    tokens = []\n",
    "    for line in headlines:\n",
    "        toks = tokenizer.tokenize(line)\n",
    "#         removing stop words\n",
    "        toks = [t.lower() for t in toks if t.lower() not in stop_words]\n",
    "        tokens.extend(toks)\n",
    "    \n",
    "    return tokens"
   ]
  },
  {
   "cell_type": "markdown",
   "id": "a4b82c21",
   "metadata": {},
   "source": [
    "### r/newzealand \"positive\" headlines"
   ]
  },
  {
   "cell_type": "code",
   "execution_count": 48,
   "id": "37505077",
   "metadata": {},
   "outputs": [
    {
     "data": {
      "text/plain": [
       "[('best', 19),\n",
       " ('nz', 19),\n",
       " ('new', 18),\n",
       " ('help', 15),\n",
       " ('anyone', 12),\n",
       " ('good', 11),\n",
       " ('zealand', 10),\n",
       " ('looking', 8),\n",
       " ('people', 7),\n",
       " ('increase', 7),\n",
       " ('week', 6),\n",
       " ('auckland', 6),\n",
       " ('free', 5),\n",
       " ('kiwi', 5),\n",
       " ('cyclone', 5),\n",
       " ('like', 5),\n",
       " ('please', 5),\n",
       " ('pay', 5),\n",
       " ('get', 5),\n",
       " ('top', 5)]"
      ]
     },
     "execution_count": 48,
     "metadata": {},
     "output_type": "execute_result"
    }
   ],
   "source": [
    "pos_lines_nz = list(df_nz[df_nz.label == 1].headline)\n",
    "\n",
    "pos_tokens_nz = process_text(pos_lines_nz)\n",
    "pos_freq_nz = nltk.FreqDist(pos_tokens_nz)\n",
    "\n",
    "pos_freq_nz.most_common(20)"
   ]
  },
  {
   "cell_type": "code",
   "execution_count": 53,
   "id": "1a402bb9",
   "metadata": {},
   "outputs": [
    {
     "data": {
      "image/png": "[encoded data removed]",
      "text/plain": [
       "<Figure size 432x288 with 1 Axes>"
      ]
     },
     "metadata": {
      "needs_background": "light"
     },
     "output_type": "display_data"
    },
    {
     "data": {
      "text/plain": [
       "<AxesSubplot:xlabel='Samples', ylabel='Counts'>"
      ]
     },
     "execution_count": 53,
     "metadata": {},
     "output_type": "execute_result"
    }
   ],
   "source": [
    "pos_freq_nz.plot(10)"
   ]
  },
  {
   "cell_type": "markdown",
   "id": "becdab59",
   "metadata": {},
   "source": [
    "### r/ireland - \"positive\" headlines "
   ]
  },
  {
   "cell_type": "code",
   "execution_count": 51,
   "id": "00f1f4ed",
   "metadata": {},
   "outputs": [
    {
     "data": {
      "text/plain": [
       "[('ireland', 32),\n",
       " ('irish', 21),\n",
       " ('like', 20),\n",
       " ('dublin', 16),\n",
       " ('anyone', 15),\n",
       " ('would', 14),\n",
       " ('best', 14),\n",
       " ('good', 12),\n",
       " ('free', 11),\n",
       " ('one', 10),\n",
       " ('looking', 9),\n",
       " ('house', 9),\n",
       " ('help', 9),\n",
       " ('2', 9),\n",
       " ('see', 8),\n",
       " ('new', 8),\n",
       " ('place', 8),\n",
       " ('people', 8),\n",
       " ('lads', 8),\n",
       " ('time', 7)]"
      ]
     },
     "execution_count": 51,
     "metadata": {},
     "output_type": "execute_result"
    }
   ],
   "source": [
    "pos_lines_ireland = list(df[df.label == 1].headline)\n",
    "\n",
    "pos_tokens_ireland = process_text(pos_lines_ireland)\n",
    "pos_freq_ireland = nltk.FreqDist(pos_tokens_ireland)\n",
    "\n",
    "pos_freq_ireland.most_common(20)"
   ]
  },
  {
   "cell_type": "code",
   "execution_count": 52,
   "id": "8f074063",
   "metadata": {},
   "outputs": [
    {
     "data": {
      "image/png": "[encoded data removed]",
      "text/plain": [
       "<Figure size 432x288 with 1 Axes>"
      ]
     },
     "metadata": {
      "needs_background": "light"
     },
     "output_type": "display_data"
    },
    {
     "data": {
      "text/plain": [
       "<AxesSubplot:xlabel='Samples', ylabel='Counts'>"
      ]
     },
     "execution_count": 52,
     "metadata": {},
     "output_type": "execute_result"
    }
   ],
   "source": [
    "pos_freq_ireland.plot(10)"
   ]
  },
  {
   "cell_type": "markdown",
   "id": "016b81bc",
   "metadata": {},
   "source": [
    "### r/newzealand \"negative\" headlines"
   ]
  },
  {
   "cell_type": "code",
   "execution_count": 56,
   "id": "171f428b",
   "metadata": {},
   "outputs": [
    {
     "data": {
      "text/plain": [
       "[('nz', 21),\n",
       " ('new', 15),\n",
       " ('auckland', 15),\n",
       " ('cyclone', 14),\n",
       " ('police', 10),\n",
       " ('wrong', 9),\n",
       " ('murder', 8),\n",
       " ('gabrielle', 8),\n",
       " ('change', 8),\n",
       " ('zealand', 7),\n",
       " ('climate', 7),\n",
       " ('slash', 7),\n",
       " ('says', 6),\n",
       " ('campbell', 6),\n",
       " ('complaint', 6),\n",
       " ('forestry', 6),\n",
       " ('minister', 5),\n",
       " ('pharmac', 5),\n",
       " ('health', 5),\n",
       " ('work', 5)]"
      ]
     },
     "execution_count": 56,
     "metadata": {},
     "output_type": "execute_result"
    }
   ],
   "source": [
    "neg_lines_nz = list(df_nz[df_nz.label == -1].headline)\n",
    "\n",
    "neg_tokens_nz = process_text(neg_lines_nz)\n",
    "neg_freq_nz = nltk.FreqDist(neg_tokens_nz)\n",
    "\n",
    "neg_freq_nz.most_common(20)"
   ]
  },
  {
   "cell_type": "code",
   "execution_count": 60,
   "id": "53a419bc",
   "metadata": {},
   "outputs": [
    {
     "data": {
      "image/png": "[encoded data removed]",
      "text/plain": [
       "<Figure size 432x288 with 1 Axes>"
      ]
     },
     "metadata": {
      "needs_background": "light"
     },
     "output_type": "display_data"
    },
    {
     "data": {
      "text/plain": [
       "<AxesSubplot:xlabel='Samples', ylabel='Counts'>"
      ]
     },
     "execution_count": 60,
     "metadata": {},
     "output_type": "execute_result"
    }
   ],
   "source": [
    "neg_freq_nz.plot(10)"
   ]
  },
  {
   "cell_type": "markdown",
   "id": "455165f0",
   "metadata": {},
   "source": [
    "### r/ireland - \"negative\" headlines "
   ]
  },
  {
   "cell_type": "code",
   "execution_count": 57,
   "id": "9da814a8",
   "metadata": {},
   "outputs": [
    {
     "data": {
      "text/plain": [
       "[('irish', 18),\n",
       " ('ireland', 16),\n",
       " ('ban', 12),\n",
       " ('people', 11),\n",
       " ('dublin', 10),\n",
       " ('year', 9),\n",
       " ('eviction', 9),\n",
       " ('000', 7),\n",
       " ('car', 7),\n",
       " ('man', 7),\n",
       " ('go', 7),\n",
       " ('2', 6),\n",
       " ('end', 6),\n",
       " ('first', 6),\n",
       " ('murder', 6),\n",
       " ('would', 6),\n",
       " ('court', 6),\n",
       " ('u', 5),\n",
       " ('airport', 5),\n",
       " ('got', 5)]"
      ]
     },
     "execution_count": 57,
     "metadata": {},
     "output_type": "execute_result"
    }
   ],
   "source": [
    "neg_lines_ireland = list(df[df.label == -1].headline)\n",
    "\n",
    "neg_tokens_ireland = process_text(neg_lines_ireland)\n",
    "neg_freq_ireland = nltk.FreqDist(neg_tokens_ireland)\n",
    "\n",
    "neg_freq_ireland.most_common(20)"
   ]
  },
  {
   "cell_type": "code",
   "execution_count": 58,
   "id": "98c18054",
   "metadata": {},
   "outputs": [
    {
     "data": {
      "image/png": "[encoded data removed]",
      "text/plain": [
       "<Figure size 432x288 with 1 Axes>"
      ]
     },
     "metadata": {
      "needs_background": "light"
     },
     "output_type": "display_data"
    },
    {
     "data": {
      "text/plain": [
       "<AxesSubplot:xlabel='Samples', ylabel='Counts'>"
      ]
     },
     "execution_count": 58,
     "metadata": {},
     "output_type": "execute_result"
    }
   ],
   "source": [
    "neg_freq_ireland.plot(10)"
   ]
  },
  {
   "cell_type": "markdown",
   "id": "b8f22d9b",
   "metadata": {},
   "source": [
    "### Looking at top 500 post titles "
   ]
  },
  {
   "cell_type": "code",
   "execution_count": 64,
   "id": "6e412bcb",
   "metadata": {},
   "outputs": [],
   "source": [
    "headlines_ireland_top = set()\n",
    "headlines_newZealand_top = set()"
   ]
  },
  {
   "cell_type": "code",
   "execution_count": 65,
   "id": "7c5dcf12",
   "metadata": {},
   "outputs": [
    {
     "name": "stdout",
     "output_type": "stream",
     "text": [
      "900\n"
     ]
    }
   ],
   "source": [
    "for submission in reddit.subreddit('newzealand').top(limit=900):\n",
    "    headlines_newZealand_top.add(submission.title)\n",
    "    display.clear_output()\n",
    "    print(len(headlines_newZealand_top))"
   ]
  },
  {
   "cell_type": "code",
   "execution_count": 66,
   "id": "5b582c03",
   "metadata": {},
   "outputs": [
    {
     "name": "stdout",
     "output_type": "stream",
     "text": [
      "897\n"
     ]
    }
   ],
   "source": [
    "for submission in reddit.subreddit('ireland').top(limit=900):\n",
    "    headlines_ireland_top.add(submission.title)\n",
    "    display.clear_output()\n",
    "    print(len(headlines_ireland_top))"
   ]
  },
  {
   "cell_type": "markdown",
   "id": "e9b8a81c",
   "metadata": {},
   "source": [
    "### Sentiment intensity analysis r/ireland"
   ]
  },
  {
   "cell_type": "code",
   "execution_count": 69,
   "id": "222bbde3",
   "metadata": {},
   "outputs": [
    {
     "name": "stdout",
     "output_type": "stream",
     "text": [
      "[{'compound': 0.0,\n",
      "  'headline': 'Irish people who use American political terms such as \"Liberals\" and \"Snowflakes\" '\n",
      "              'should be referred to as East Yanks.',\n",
      "  'neg': 0.0,\n",
      "  'neu': 1.0,\n",
      "  'pos': 0.0},\n",
      " {'compound': 0.0, 'headline': 'Frankie at it again', 'neg': 0.0, 'neu': 1.0, 'pos': 0.0},\n",
      " {'compound': 0.0, 'headline': 'OOF', 'neg': 0.0, 'neu': 1.0, 'pos': 0.0}]\n"
     ]
    }
   ],
   "source": [
    "results_ireland_top =  sia_function(headlines_ireland_top)\n",
    "pprint(results_ireland_top[:3], width=100)\n"
   ]
  },
  {
   "cell_type": "markdown",
   "id": "19695aec",
   "metadata": {},
   "source": [
    "### Sentiment intensity analysis r/newzealand"
   ]
  },
  {
   "cell_type": "code",
   "execution_count": 70,
   "id": "17f2041d",
   "metadata": {},
   "outputs": [
    {
     "name": "stdout",
     "output_type": "stream",
     "text": [
      "[{'compound': -0.3818,\n",
      "  'headline': 'Epic Pukeko battle captured by Martin Sanders. So much going on here.',\n",
      "  'neg': 0.191,\n",
      "  'neu': 0.809,\n",
      "  'pos': 0.0},\n",
      " {'compound': 0.0,\n",
      "  'headline': \"Last year during lockdown I wrote and illustrated my first ever children's book. \"\n",
      "              \"This week, it was in the front window of Little Unity. (it's the 'my cat can see \"\n",
      "              \"ghosts' one!)\",\n",
      "  'neg': 0.0,\n",
      "  'neu': 1.0,\n",
      "  'pos': 0.0},\n",
      " {'compound': 0.2263,\n",
      "  'headline': 'The high speed rail network I would construct if I had more money than sense ft. a '\n",
      "              'tunnel under Cook Straight maybe?',\n",
      "  'neg': 0.0,\n",
      "  'neu': 0.905,\n",
      "  'pos': 0.095}]\n"
     ]
    }
   ],
   "source": [
    "results_newzealand_top =  sia_function(headlines_newZealand_top)\n",
    "pprint(results_newzealand_top[:3], width=100)\n"
   ]
  },
  {
   "cell_type": "code",
   "execution_count": 71,
   "id": "cee22016",
   "metadata": {},
   "outputs": [],
   "source": [
    "df_top_ireland = pd.DataFrame.from_records(results_ireland_top)\n",
    "df_top_nz = pd.DataFrame.from_records(results_newzealand_top)\n"
   ]
  },
  {
   "cell_type": "code",
   "execution_count": 73,
   "id": "fd1a39a0",
   "metadata": {},
   "outputs": [
    {
     "data": {
      "text/html": [
       "<div>\n",
       "<style scoped>\n",
       "    .dataframe tbody tr th:only-of-type {\n",
       "        vertical-align: middle;\n",
       "    }\n",
       "\n",
       "    .dataframe tbody tr th {\n",
       "        vertical-align: top;\n",
       "    }\n",
       "\n",
       "    .dataframe thead th {\n",
       "        text-align: right;\n",
       "    }\n",
       "</style>\n",
       "<table border=\"1\" class=\"dataframe\">\n",
       "  <thead>\n",
       "    <tr style=\"text-align: right;\">\n",
       "      <th></th>\n",
       "      <th>neg</th>\n",
       "      <th>neu</th>\n",
       "      <th>pos</th>\n",
       "      <th>compound</th>\n",
       "      <th>headline</th>\n",
       "      <th>label</th>\n",
       "    </tr>\n",
       "  </thead>\n",
       "  <tbody>\n",
       "    <tr>\n",
       "      <th>0</th>\n",
       "      <td>0.000</td>\n",
       "      <td>1.000</td>\n",
       "      <td>0.000</td>\n",
       "      <td>0.0000</td>\n",
       "      <td>Irish people who use American political terms ...</td>\n",
       "      <td>0</td>\n",
       "    </tr>\n",
       "    <tr>\n",
       "      <th>1</th>\n",
       "      <td>0.000</td>\n",
       "      <td>1.000</td>\n",
       "      <td>0.000</td>\n",
       "      <td>0.0000</td>\n",
       "      <td>Frankie at it again</td>\n",
       "      <td>0</td>\n",
       "    </tr>\n",
       "    <tr>\n",
       "      <th>2</th>\n",
       "      <td>0.000</td>\n",
       "      <td>1.000</td>\n",
       "      <td>0.000</td>\n",
       "      <td>0.0000</td>\n",
       "      <td>OOF</td>\n",
       "      <td>0</td>\n",
       "    </tr>\n",
       "    <tr>\n",
       "      <th>3</th>\n",
       "      <td>0.000</td>\n",
       "      <td>0.887</td>\n",
       "      <td>0.113</td>\n",
       "      <td>0.6801</td>\n",
       "      <td>This aerial shot of Achill Island in Co. Mayo ...</td>\n",
       "      <td>1</td>\n",
       "    </tr>\n",
       "    <tr>\n",
       "      <th>4</th>\n",
       "      <td>0.000</td>\n",
       "      <td>0.880</td>\n",
       "      <td>0.120</td>\n",
       "      <td>0.1280</td>\n",
       "      <td>Sandwiches in Subway 'too sugary to meet legal...</td>\n",
       "      <td>0</td>\n",
       "    </tr>\n",
       "    <tr>\n",
       "      <th>...</th>\n",
       "      <td>...</td>\n",
       "      <td>...</td>\n",
       "      <td>...</td>\n",
       "      <td>...</td>\n",
       "      <td>...</td>\n",
       "      <td>...</td>\n",
       "    </tr>\n",
       "    <tr>\n",
       "      <th>892</th>\n",
       "      <td>0.259</td>\n",
       "      <td>0.741</td>\n",
       "      <td>0.000</td>\n",
       "      <td>-0.4215</td>\n",
       "      <td>Under 35’s experiencing their second “once in ...</td>\n",
       "      <td>-1</td>\n",
       "    </tr>\n",
       "    <tr>\n",
       "      <th>893</th>\n",
       "      <td>0.000</td>\n",
       "      <td>0.545</td>\n",
       "      <td>0.455</td>\n",
       "      <td>0.3612</td>\n",
       "      <td>It be like that</td>\n",
       "      <td>1</td>\n",
       "    </tr>\n",
       "    <tr>\n",
       "      <th>894</th>\n",
       "      <td>0.000</td>\n",
       "      <td>1.000</td>\n",
       "      <td>0.000</td>\n",
       "      <td>0.0000</td>\n",
       "      <td>After hours of extensive research and data ana...</td>\n",
       "      <td>0</td>\n",
       "    </tr>\n",
       "    <tr>\n",
       "      <th>895</th>\n",
       "      <td>0.202</td>\n",
       "      <td>0.721</td>\n",
       "      <td>0.077</td>\n",
       "      <td>-0.8460</td>\n",
       "      <td>On This Day in 1922 A bomb was thrown into a g...</td>\n",
       "      <td>-1</td>\n",
       "    </tr>\n",
       "    <tr>\n",
       "      <th>896</th>\n",
       "      <td>0.202</td>\n",
       "      <td>0.526</td>\n",
       "      <td>0.272</td>\n",
       "      <td>0.2023</td>\n",
       "      <td>Wise words from Wexford Corporation on anti ma...</td>\n",
       "      <td>1</td>\n",
       "    </tr>\n",
       "  </tbody>\n",
       "</table>\n",
       "<p>897 rows × 6 columns</p>\n",
       "</div>"
      ],
      "text/plain": [
       "       neg    neu    pos  compound  \\\n",
       "0    0.000  1.000  0.000    0.0000   \n",
       "1    0.000  1.000  0.000    0.0000   \n",
       "2    0.000  1.000  0.000    0.0000   \n",
       "3    0.000  0.887  0.113    0.6801   \n",
       "4    0.000  0.880  0.120    0.1280   \n",
       "..     ...    ...    ...       ...   \n",
       "892  0.259  0.741  0.000   -0.4215   \n",
       "893  0.000  0.545  0.455    0.3612   \n",
       "894  0.000  1.000  0.000    0.0000   \n",
       "895  0.202  0.721  0.077   -0.8460   \n",
       "896  0.202  0.526  0.272    0.2023   \n",
       "\n",
       "                                              headline  label  \n",
       "0    Irish people who use American political terms ...      0  \n",
       "1                                  Frankie at it again      0  \n",
       "2                                                  OOF      0  \n",
       "3    This aerial shot of Achill Island in Co. Mayo ...      1  \n",
       "4    Sandwiches in Subway 'too sugary to meet legal...      0  \n",
       "..                                                 ...    ...  \n",
       "892  Under 35’s experiencing their second “once in ...     -1  \n",
       "893                                    It be like that      1  \n",
       "894  After hours of extensive research and data ana...      0  \n",
       "895  On This Day in 1922 A bomb was thrown into a g...     -1  \n",
       "896  Wise words from Wexford Corporation on anti ma...      1  \n",
       "\n",
       "[897 rows x 6 columns]"
      ]
     },
     "execution_count": 73,
     "metadata": {},
     "output_type": "execute_result"
    }
   ],
   "source": [
    "define_positive(df_top_ireland)"
   ]
  },
  {
   "cell_type": "code",
   "execution_count": 74,
   "id": "79d7d94e",
   "metadata": {},
   "outputs": [
    {
     "data": {
      "text/html": [
       "<div>\n",
       "<style scoped>\n",
       "    .dataframe tbody tr th:only-of-type {\n",
       "        vertical-align: middle;\n",
       "    }\n",
       "\n",
       "    .dataframe tbody tr th {\n",
       "        vertical-align: top;\n",
       "    }\n",
       "\n",
       "    .dataframe thead th {\n",
       "        text-align: right;\n",
       "    }\n",
       "</style>\n",
       "<table border=\"1\" class=\"dataframe\">\n",
       "  <thead>\n",
       "    <tr style=\"text-align: right;\">\n",
       "      <th></th>\n",
       "      <th>neg</th>\n",
       "      <th>neu</th>\n",
       "      <th>pos</th>\n",
       "      <th>compound</th>\n",
       "      <th>headline</th>\n",
       "      <th>label</th>\n",
       "    </tr>\n",
       "  </thead>\n",
       "  <tbody>\n",
       "    <tr>\n",
       "      <th>0</th>\n",
       "      <td>0.191</td>\n",
       "      <td>0.809</td>\n",
       "      <td>0.000</td>\n",
       "      <td>-0.3818</td>\n",
       "      <td>Epic Pukeko battle captured by Martin Sanders....</td>\n",
       "      <td>-1</td>\n",
       "    </tr>\n",
       "    <tr>\n",
       "      <th>1</th>\n",
       "      <td>0.000</td>\n",
       "      <td>1.000</td>\n",
       "      <td>0.000</td>\n",
       "      <td>0.0000</td>\n",
       "      <td>Last year during lockdown I wrote and illustra...</td>\n",
       "      <td>0</td>\n",
       "    </tr>\n",
       "    <tr>\n",
       "      <th>2</th>\n",
       "      <td>0.000</td>\n",
       "      <td>0.905</td>\n",
       "      <td>0.095</td>\n",
       "      <td>0.2263</td>\n",
       "      <td>The high speed rail network I would construct ...</td>\n",
       "      <td>1</td>\n",
       "    </tr>\n",
       "    <tr>\n",
       "      <th>3</th>\n",
       "      <td>0.000</td>\n",
       "      <td>0.580</td>\n",
       "      <td>0.420</td>\n",
       "      <td>0.4404</td>\n",
       "      <td>Per day bank profits 😮‍💨</td>\n",
       "      <td>1</td>\n",
       "    </tr>\n",
       "    <tr>\n",
       "      <th>4</th>\n",
       "      <td>0.000</td>\n",
       "      <td>1.000</td>\n",
       "      <td>0.000</td>\n",
       "      <td>0.0000</td>\n",
       "      <td>People of New Zealand: 6.30am Flight to Sydney...</td>\n",
       "      <td>0</td>\n",
       "    </tr>\n",
       "    <tr>\n",
       "      <th>...</th>\n",
       "      <td>...</td>\n",
       "      <td>...</td>\n",
       "      <td>...</td>\n",
       "      <td>...</td>\n",
       "      <td>...</td>\n",
       "      <td>...</td>\n",
       "    </tr>\n",
       "    <tr>\n",
       "      <th>895</th>\n",
       "      <td>0.000</td>\n",
       "      <td>0.828</td>\n",
       "      <td>0.172</td>\n",
       "      <td>0.3612</td>\n",
       "      <td>NZ Meme Pages Telling It Like It Is | We're al...</td>\n",
       "      <td>1</td>\n",
       "    </tr>\n",
       "    <tr>\n",
       "      <th>896</th>\n",
       "      <td>0.000</td>\n",
       "      <td>0.802</td>\n",
       "      <td>0.198</td>\n",
       "      <td>0.5719</td>\n",
       "      <td>Update to previous thread: I won my Consumer G...</td>\n",
       "      <td>1</td>\n",
       "    </tr>\n",
       "    <tr>\n",
       "      <th>897</th>\n",
       "      <td>0.000</td>\n",
       "      <td>0.748</td>\n",
       "      <td>0.252</td>\n",
       "      <td>0.4019</td>\n",
       "      <td>Remember to support them when this is all over</td>\n",
       "      <td>1</td>\n",
       "    </tr>\n",
       "    <tr>\n",
       "      <th>898</th>\n",
       "      <td>0.000</td>\n",
       "      <td>1.000</td>\n",
       "      <td>0.000</td>\n",
       "      <td>0.0000</td>\n",
       "      <td>Puts it into perspective of what was achieved ...</td>\n",
       "      <td>0</td>\n",
       "    </tr>\n",
       "    <tr>\n",
       "      <th>899</th>\n",
       "      <td>0.000</td>\n",
       "      <td>0.850</td>\n",
       "      <td>0.150</td>\n",
       "      <td>0.3182</td>\n",
       "      <td>The original kiwi version of the McDonald's Ma...</td>\n",
       "      <td>1</td>\n",
       "    </tr>\n",
       "  </tbody>\n",
       "</table>\n",
       "<p>900 rows × 6 columns</p>\n",
       "</div>"
      ],
      "text/plain": [
       "       neg    neu    pos  compound  \\\n",
       "0    0.191  0.809  0.000   -0.3818   \n",
       "1    0.000  1.000  0.000    0.0000   \n",
       "2    0.000  0.905  0.095    0.2263   \n",
       "3    0.000  0.580  0.420    0.4404   \n",
       "4    0.000  1.000  0.000    0.0000   \n",
       "..     ...    ...    ...       ...   \n",
       "895  0.000  0.828  0.172    0.3612   \n",
       "896  0.000  0.802  0.198    0.5719   \n",
       "897  0.000  0.748  0.252    0.4019   \n",
       "898  0.000  1.000  0.000    0.0000   \n",
       "899  0.000  0.850  0.150    0.3182   \n",
       "\n",
       "                                              headline  label  \n",
       "0    Epic Pukeko battle captured by Martin Sanders....     -1  \n",
       "1    Last year during lockdown I wrote and illustra...      0  \n",
       "2    The high speed rail network I would construct ...      1  \n",
       "3                             Per day bank profits 😮‍💨      1  \n",
       "4    People of New Zealand: 6.30am Flight to Sydney...      0  \n",
       "..                                                 ...    ...  \n",
       "895  NZ Meme Pages Telling It Like It Is | We're al...      1  \n",
       "896  Update to previous thread: I won my Consumer G...      1  \n",
       "897     Remember to support them when this is all over      1  \n",
       "898  Puts it into perspective of what was achieved ...      0  \n",
       "899  The original kiwi version of the McDonald's Ma...      1  \n",
       "\n",
       "[900 rows x 6 columns]"
      ]
     },
     "execution_count": 74,
     "metadata": {},
     "output_type": "execute_result"
    }
   ],
   "source": [
    "define_positive(df_top_nz)"
   ]
  },
  {
   "cell_type": "code",
   "execution_count": 75,
   "id": "9f0122bd",
   "metadata": {},
   "outputs": [
    {
     "name": "stdout",
     "output_type": "stream",
     "text": [
      "Positive headlines :\n",
      "\n",
      "['This aerial shot of Achill Island in Co. Mayo is one of the most outstanding photos of Ireland I’ve ever seen. Martin Maguire is the man behind the 📸. His website is www.091pix.com + IG is 091pix '\n",
      " 'if you want to have a look at his other stuff.',\n",
      " 'Sharon congrats 😊',\n",
      " \"Now I'm not sure if you celebrate this day or not but might as well. Greetings from Montenegro, we wanted to wish you a happy April 24th and of course, good health for the entire year and more to \"\n",
      " 'come!',\n",
      " \"Opinion: The gym is great, but please don't insult us by suggesting it's the answer to mental illness\",\n",
      " 'As an American I’ve never heard of an immersion heater. I think I’ve hit a milestone after living in Ireland for 2 years when I shouted up to my wife to make sure the immersion was off.']\n",
      "\n",
      "Negative headlines:\n",
      "\n",
      "['What a fucking disaster!', 'Some people lads, what be wrong with them', 'Licence to kill', 'Dublin fucked forever.', 'Ever been on the way to work and just think “Ah, fuck it.”']\n"
     ]
    }
   ],
   "source": [
    "print(\"Positive headlines r/ireland:\\n\")\n",
    "pprint(list(df_top_ireland[df_top_ireland['label'] == 1].headline)[:5], width=200)\n",
    "\n",
    "print(\"\\nNegative headlines r/ireland:\\n\")\n",
    "pprint(list(df_top_ireland[df_top_ireland['label'] == -1].headline)[:5], width=200)"
   ]
  },
  {
   "cell_type": "code",
   "execution_count": 76,
   "id": "d442d3c0",
   "metadata": {},
   "outputs": [
    {
     "name": "stdout",
     "output_type": "stream",
     "text": [
      "Positive headlines r/newzealand:\n",
      "\n",
      "['The high speed rail network I would construct if I had more money than sense ft. a tunnel under Cook Straight maybe?',\n",
      " 'Per day bank profits 😮\\u200d💨',\n",
      " 'Cool as a cucumber.',\n",
      " 'Seconds fossil prep of the lockdown: a nice tumidocarcinus crab I collected on the South Island. I prepped BOTH sides this time',\n",
      " 'Before last year I was lucky if I could run on the treadmill for 10 mins. Moving to New Zealand was the best decision of my life. Every day that I live here I’m am motivated by this country and '\n",
      " 'its people. Today I finished my first half marathon.']\n",
      "\n",
      "Negative headlines r/newzealand:\n",
      "\n",
      "['Epic Pukeko battle captured by Martin Sanders. So much going on here.',\n",
      " 'Anyone else find it sad that essential workers are minimum wage at the supermarket, risking their safety and being abused while the supermarkets are making bank?',\n",
      " 'And another crazy sunrise in Christchurch',\n",
      " 'Never felt luckier than today to live in this country',\n",
      " 'Arrests as police begin operation to end protest at Parliament']\n"
     ]
    }
   ],
   "source": [
    "print(\"Positive headlines r/newzealand:\\n\")\n",
    "pprint(list(df_top_nz[df_top_nz['label'] == 1].headline)[:5], width=200)\n",
    "\n",
    "print(\"\\nNegative headlines r/newzealand:\\n\")\n",
    "pprint(list(df_top_nz[df_top_nz['label'] == -1].headline)[:5], width=200)"
   ]
  },
  {
   "cell_type": "markdown",
   "id": "c182f196",
   "metadata": {},
   "source": [
    "### looking at value counts"
   ]
  },
  {
   "cell_type": "code",
   "execution_count": 77,
   "id": "1ef9e387",
   "metadata": {},
   "outputs": [
    {
     "name": "stdout",
     "output_type": "stream",
     "text": [
      " 0    481\n",
      " 1    266\n",
      "-1    150\n",
      "Name: label, dtype: int64\n",
      " 0    53.623188\n",
      " 1    29.654404\n",
      "-1    16.722408\n",
      "Name: label, dtype: float64\n"
     ]
    }
   ],
   "source": [
    "print(df_top_ireland.label.value_counts())\n",
    "print(df_top_ireland.label.value_counts(normalize=True) * 100)"
   ]
  },
  {
   "cell_type": "code",
   "execution_count": 78,
   "id": "5bb2684e",
   "metadata": {},
   "outputs": [
    {
     "name": "stdout",
     "output_type": "stream",
     "text": [
      " 0    461\n",
      " 1    282\n",
      "-1    157\n",
      "Name: label, dtype: int64\n",
      " 0    51.222222\n",
      " 1    31.333333\n",
      "-1    17.444444\n",
      "Name: label, dtype: float64\n"
     ]
    }
   ],
   "source": [
    "print(df_top_nz.label.value_counts())\n",
    "print(df_top_nz.label.value_counts(normalize=True) * 100)"
   ]
  },
  {
   "cell_type": "code",
   "execution_count": 80,
   "id": "1a1990e6",
   "metadata": {},
   "outputs": [],
   "source": [
    "counts_ireland_top = df_top_ireland.label.value_counts(normalize=True) * 100\n",
    "counts_nz_top = df_top_nz.label.value_counts(normalize=True) * 100\n"
   ]
  },
  {
   "cell_type": "code",
   "execution_count": 81,
   "id": "1a54663d",
   "metadata": {},
   "outputs": [
    {
     "data": {
      "image/png": "[encoded data removed]",
      "text/plain": [
       "<Figure size 720x360 with 1 Axes>"
      ]
     },
     "metadata": {
      "needs_background": "light"
     },
     "output_type": "display_data"
    }
   ],
   "source": [
    "N = 3\n",
    "\n",
    "blue_bar = (counts_ireland_top)\n",
    "orange_bar = (counts_nz_top)\n",
    "\n",
    "# Position of bars on x-axis\n",
    "ind = np.arange(N)\n",
    "# Figure size\n",
    "plt.figure(figsize=(10,5))\n",
    "\n",
    "# Width of a bar \n",
    "width = 0.3       \n",
    "\n",
    "# Plotting\n",
    "plt.bar(ind, blue_bar , width, label='Ireland')\n",
    "plt.bar(ind + width, orange_bar, width, label='newzealand')\n",
    "\n",
    "plt.ylabel('Percentage')\n",
    "plt.title('Comparing r/ireland and r/newzealand top 900 post titles')\n",
    "\n",
    "plt.xticks(ind + width / 2, ('Neutral', 'Negative', 'Positve'))\n",
    "\n",
    "# Finding the best position for legends and putting it\n",
    "plt.legend(loc='best')\n",
    "plt.show()"
   ]
  },
  {
   "cell_type": "code",
   "execution_count": 82,
   "id": "f9a922ee",
   "metadata": {},
   "outputs": [
    {
     "data": {
      "text/plain": [
       "[('ireland', 43),\n",
       " ('irish', 31),\n",
       " ('like', 23),\n",
       " ('great', 18),\n",
       " ('lads', 18),\n",
       " ('day', 12),\n",
       " ('years', 12),\n",
       " ('today', 12),\n",
       " ('one', 11),\n",
       " ('dublin', 11),\n",
       " ('happy', 9),\n",
       " ('good', 9),\n",
       " ('year', 9),\n",
       " ('true', 9),\n",
       " ('sure', 8),\n",
       " ('think', 8),\n",
       " ('time', 8),\n",
       " ('well', 7),\n",
       " ('best', 7),\n",
       " ('better', 7)]"
      ]
     },
     "execution_count": 82,
     "metadata": {},
     "output_type": "execute_result"
    }
   ],
   "source": [
    "pos_lines_ireland = list(df_top_ireland[df_top_ireland.label == 1].headline)\n",
    "\n",
    "pos_tokens_ireland = process_text(pos_lines_ireland)\n",
    "pos_freq_ireland = nltk.FreqDist(pos_tokens_ireland)\n",
    "\n",
    "pos_freq_ireland.most_common(20)"
   ]
  },
  {
   "cell_type": "code",
   "execution_count": 88,
   "id": "7b3db54f",
   "metadata": {},
   "outputs": [
    {
     "data": {
      "image/png": "[encoded data removed]",
      "text/plain": [
       "<Figure size 432x288 with 1 Axes>"
      ]
     },
     "metadata": {
      "needs_background": "light"
     },
     "output_type": "display_data"
    },
    {
     "data": {
      "text/plain": [
       "<AxesSubplot:xlabel='Samples', ylabel='Counts'>"
      ]
     },
     "execution_count": 88,
     "metadata": {},
     "output_type": "execute_result"
    }
   ],
   "source": [
    "pos_freq_ireland.plot(20)\n"
   ]
  },
  {
   "cell_type": "code",
   "execution_count": 83,
   "id": "1e6d97ac",
   "metadata": {},
   "outputs": [
    {
     "data": {
      "text/plain": [
       "[('new', 47),\n",
       " ('zealand', 36),\n",
       " ('nz', 34),\n",
       " ('like', 29),\n",
       " ('good', 18),\n",
       " ('us', 13),\n",
       " ('country', 11),\n",
       " ('today', 11),\n",
       " ('love', 11),\n",
       " ('made', 10),\n",
       " ('proud', 10),\n",
       " ('people', 9),\n",
       " ('please', 9),\n",
       " ('day', 8),\n",
       " ('time', 8),\n",
       " ('best', 8),\n",
       " ('party', 8),\n",
       " ('free', 8),\n",
       " ('thank', 8),\n",
       " ('kiwi', 8)]"
      ]
     },
     "execution_count": 83,
     "metadata": {},
     "output_type": "execute_result"
    }
   ],
   "source": [
    "pos_lines_nz = list(df_top_nz[df_top_nz.label == 1].headline)\n",
    "\n",
    "pos_tokens_nz = process_text(pos_lines_nz)\n",
    "pos_freq_nz = nltk.FreqDist(pos_tokens_nz)\n",
    "\n",
    "pos_freq_nz.most_common(20)"
   ]
  },
  {
   "cell_type": "code",
   "execution_count": 89,
   "id": "f2dfc14c",
   "metadata": {},
   "outputs": [
    {
     "data": {
      "image/png": "[encoded data removed]",
      "text/plain": [
       "<Figure size 432x288 with 1 Axes>"
      ]
     },
     "metadata": {
      "needs_background": "light"
     },
     "output_type": "display_data"
    },
    {
     "data": {
      "text/plain": [
       "<AxesSubplot:xlabel='Samples', ylabel='Counts'>"
      ]
     },
     "execution_count": 89,
     "metadata": {},
     "output_type": "execute_result"
    }
   ],
   "source": [
    "pos_freq_nz.plot(20)\n"
   ]
  },
  {
   "cell_type": "code",
   "execution_count": 84,
   "id": "0e5514c7",
   "metadata": {},
   "outputs": [
    {
     "data": {
      "text/plain": [
       "[('irish', 19),\n",
       " ('ireland', 17),\n",
       " ('years', 12),\n",
       " ('dublin', 11),\n",
       " ('today', 11),\n",
       " ('one', 10),\n",
       " ('people', 8),\n",
       " ('ago', 8),\n",
       " ('day', 8),\n",
       " ('lads', 7),\n",
       " ('american', 6),\n",
       " ('get', 6),\n",
       " ('ya', 6),\n",
       " ('think', 5),\n",
       " ('like', 5),\n",
       " ('stop', 5),\n",
       " ('shit', 5),\n",
       " ('war', 5),\n",
       " ('got', 5),\n",
       " ('new', 5)]"
      ]
     },
     "execution_count": 84,
     "metadata": {},
     "output_type": "execute_result"
    }
   ],
   "source": [
    "neg_lines_ire = list(df_top_ireland[df_top_ireland.label == -1].headline)\n",
    "\n",
    "neg_tokens_ire = process_text(neg_lines_ire)\n",
    "neg_freq_ire = nltk.FreqDist(neg_tokens_ire)\n",
    "\n",
    "neg_freq_ire.most_common(20)"
   ]
  },
  {
   "cell_type": "code",
   "execution_count": 87,
   "id": "247f1a9e",
   "metadata": {},
   "outputs": [
    {
     "data": {
      "image/png": "[encoded data removed]",
      "text/plain": [
       "<Figure size 432x288 with 1 Axes>"
      ]
     },
     "metadata": {
      "needs_background": "light"
     },
     "output_type": "display_data"
    },
    {
     "data": {
      "text/plain": [
       "<AxesSubplot:xlabel='Samples', ylabel='Counts'>"
      ]
     },
     "execution_count": 87,
     "metadata": {},
     "output_type": "execute_result"
    }
   ],
   "source": [
    "neg_freq_ire.plot(20)\n"
   ]
  },
  {
   "cell_type": "code",
   "execution_count": 85,
   "id": "53c57576",
   "metadata": {},
   "outputs": [
    {
     "data": {
      "text/plain": [
       "[('new', 34),\n",
       " ('zealand', 29),\n",
       " ('nz', 16),\n",
       " ('today', 8),\n",
       " ('fuck', 8),\n",
       " ('country', 7),\n",
       " ('police', 7),\n",
       " ('world', 7),\n",
       " ('people', 6),\n",
       " ('covid', 6),\n",
       " ('auckland', 6),\n",
       " ('shit', 6),\n",
       " ('man', 6),\n",
       " ('much', 5),\n",
       " ('like', 5),\n",
       " ('get', 5),\n",
       " ('bad', 5),\n",
       " ('want', 5),\n",
       " ('crisis', 5),\n",
       " ('take', 4)]"
      ]
     },
     "execution_count": 85,
     "metadata": {},
     "output_type": "execute_result"
    }
   ],
   "source": [
    "neg_lines_nz = list(df_top_nz[df_top_nz.label == -1].headline)\n",
    "\n",
    "neg_tokens_nz = process_text(neg_lines_nz)\n",
    "neg_freq_nz = nltk.FreqDist(neg_tokens_nz)\n",
    "\n",
    "neg_freq_nz.most_common(20)"
   ]
  },
  {
   "cell_type": "code",
   "execution_count": 90,
   "id": "9e9ec090",
   "metadata": {},
   "outputs": [
    {
     "data": {
      "image/png": "[encoded data removed]",
      "text/plain": [
       "<Figure size 432x288 with 1 Axes>"
      ]
     },
     "metadata": {
      "needs_background": "light"
     },
     "output_type": "display_data"
    },
    {
     "data": {
      "text/plain": [
       "<AxesSubplot:xlabel='Samples', ylabel='Counts'>"
      ]
     },
     "execution_count": 90,
     "metadata": {},
     "output_type": "execute_result"
    }
   ],
   "source": [
    "neg_freq_nz.plot(20)\n"
   ]
  },
  {
   "cell_type": "markdown",
   "id": "93f61f60",
   "metadata": {},
   "source": [
    "### Emoji Analysis "
   ]
  },
  {
   "cell_type": "code",
   "execution_count": 96,
   "id": "e656d27e",
   "metadata": {},
   "outputs": [],
   "source": [
    "\n",
    "def extract_emojis(s):\n",
    "  return ''.join(c for c in s if c in emoji.UNICODE_EMOJI['en'])"
   ]
  },
  {
   "cell_type": "code",
   "execution_count": null,
   "id": "516990fb",
   "metadata": {},
   "outputs": [],
   "source": []
  },
  {
   "cell_type": "code",
   "execution_count": null,
   "id": "5e4b8d0d",
   "metadata": {},
   "outputs": [],
   "source": []
  },
  {
   "cell_type": "code",
   "execution_count": null,
   "id": "a30026eb",
   "metadata": {},
   "outputs": [],
   "source": []
  }
 ],
 "metadata": {
  "kernelspec": {
   "display_name": "Python 3 (ipykernel)",
   "language": "python",
   "name": "python3"
  },
  "language_info": {
   "codemirror_mode": {
    "name": "ipython",
    "version": 3
   },
   "file_extension": ".py",
   "mimetype": "text/x-python",
   "name": "python",
   "nbconvert_exporter": "python",
   "pygments_lexer": "ipython3",
   "version": "3.8.12"
  }
 },
 "nbformat": 4,
 "nbformat_minor": 5
}
